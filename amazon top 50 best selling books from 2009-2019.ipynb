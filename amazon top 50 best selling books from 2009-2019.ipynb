{
 "cells": [
  {
   "cell_type": "markdown",
   "id": "dda43ace",
   "metadata": {},
   "source": [
    "<p id=\"part0\"></p>\n",
    "​\n",
    "<p style=\"font-family: Arials; line-height: 2; font-size: 24px; font-weight: bold; letter-spacing: 2px; text-align: center; color: #FF8C00\">EDA dataset Amazon's Top 50 bestselling books from 2009 to 2019</p>\n",
    "​\n",
    "<img src=\"https://specials-images.forbesimg.com/imageserve/1194545635/960x0.jpg?cropX1=0&cropX2=5196&cropY1=507&cropY2=2943\" width=\"100%\" align=\"center\" hspace=\"5%\" vspace=\"5%\"/>\n",
    "​\n",
    "<p style=\"font-family: Arials; font-size: 20px; font-style: normal; font-weight: bold; letter-spacing: 3px; color: #808080; line-height:1.0\">TABLE OF CONTENT</p>\n",
    "​\n",
    "<p style=\"font-family: Arials; font-size: 16px; font-style: normal; font-weight: bold; letter-spacing: 2px; color: #808080; line-height:1.3\"><a href=\"#part1\" style=\"color:#808080\">0 PROLOGUE</a></p>\n",
    "​\n",
    "<p style=\"font-family: Arials; font-size: 16px; font-style: normal; font-weight: bold; letter-spacing: 2px; color: #808080; line-height:1.3\"><a href=\"#part2\" style=\"color:#808080\">1 IMPORTING LIBRARIES</a></p>\n",
    "​\n",
    "<p style=\"font-family: Arials; font-size: 16px; font-style: normal; font-weight: bold; letter-spacing: 2px; color: #808080; line-height:1.3\"><a href=\"#part3\" style=\"color:#808080\">2 DATA DESCRIPTION AND DATA CLEANING</a></p>\n",
    "​\n",
    "<p style=\"text-indent: 1vw; font-family: Arials; font-size: 14px; font-style: normal; font-weight: bold; letter-spacing: 2px; color: #808080; line-height:1.3\">\n",
    "<a href=\"#part4\" style=\"color:#808080\">2.1 Data types</a></p>\n",
    "​\n",
    "<p style=\"text-indent: 1vw; font-family: Arials; font-size: 14px; font-style: normal; font-weight: bold; letter-spacing: 2px; color: #808080; line-height:1.3\">\n",
    "<a href=\"#part5\" style=\"color:#808080\">2.2 Missing values</a></p>\n",
    "​\n",
    "<p style=\"text-indent: 1vw; font-family: Arials; font-size: 14px; font-style: normal; font-weight: bold; letter-spacing: 2px; color: #808080; line-height:1.3\">\n",
    "<a href=\"#part6\" style=\"color:#808080\">2.3 Duplicates</a></p>\n",
    "​\n",
    "<p style=\"text-indent: 1vw; font-family: Arials; font-size: 14px; font-style: normal; font-weight: bold; letter-spacing: 2px; color: #808080; line-height:1.3\">\n",
    "<a href=\"#part7\" style=\"color:#808080\">2.4 Categorical data</a></p>\n",
    "​\n",
    "<p style=\"text-indent: 1vw; font-family: Arials; font-size: 14px; font-style: normal; font-weight: bold; letter-spacing: 2px; color: #808080; line-height:1.3\">\n",
    "<a href=\"#part8\" style=\"color:#808080\">2.5 Numeric data</a></p>\n",
    "​\n",
    "<p style=\"font-family: Arials; font-size: 16px; font-style: normal; font-weight: bold; letter-spacing: 2px; color: #808080; line-height:1.3\"><a href=\"#part9\" style=\"color:#808080\">3 TESTING HYPOTHESES</a></p>\n",
    "​\n",
    "<p style=\"font-family: Arials; font-size: 16px; font-style: normal; font-weight: bold; letter-spacing: 2px; color: #808080; line-height:1.3\"><a href=\"#part10\" style=\"color:#808080\">4 FINAL CONCLUSIONS</a></p>"
   ]
  },
  {
   "cell_type": "markdown",
   "id": "de7ee93f",
   "metadata": {},
   "source": [
    "<p id=\"part1\"></p>\n",
    "\n",
    "<p style=\"font-family: Arials; font-size: 16px; font-style: bold; font-weight: bold; letter-spacing: 3px; color: #FF8C00\">0 PROLOGUE</p>\n",
    "<hr style=\"height: 0.5px; border: 0; background-color: #808080\">\n",
    "\n",
    "<p style=\"font-family: Arials, sans-serif; font-size: 14px; color: rgba(0,0,0,.7)\">In that work, exploratory data analysis has been carried out dataset Amazon's Top 50 bestselling books from 2009 to 2019.</p>\n",
    "\n",
    "<p style=\"font-family: Arials, sans-serif; font-size: 14px; color: rgba(0,0,0,.7)\"><strong>FEATURES:</strong></p>\n",
    "\n",
    "<ol style=\"font-family: Arials, sans-serif; font-size: 14px; line-height:1.5; color: rgba(0,0,0,.7)\">\n",
    "<li><strong>Name</strong> - Name of the Book</li>\n",
    "<p></p>    \n",
    "<li><strong>Author</strong> - The author of the Book</li>\n",
    "<p></p>\n",
    "<li><strong>User Rating</strong> - Amazon User Rating</li>\n",
    "<p></p>    \n",
    "<li><strong>Reviews</strong> - Number of written reviews on amazon</li>   \n",
    "<p></p>    \n",
    "<li><strong>Price</strong> - The price of the book (As at 13/10/2020)</li>   \n",
    "<p></p>    \n",
    "<li><strong>Year</strong> - The Year(s) it ranked on the bestseller</li>    \n",
    "<p></p>    \n",
    "<li><strong>Genre</strong> - Whether fiction or non-fiction</li>      \n",
    "<p></p>    \n",
    "</ol>\n",
    "\n",
    "<p style=\"font-family: Arials, sans-serif; font-size: 14px; line-height:1.0; color: rgba(0,0,0,.7)\"><strong>ANSWER TO THE FOLLOWING QUESTIONS ARE GIVEN:</strong></p>\n",
    "\n",
    "<ol style=\"font-family: Arials, sans-serif; font-size: 14px; line-height:1.5; color: rgba(0,0,0,.7)\">\n",
    "<li>Which author's books receive the highest average rating (top authors).</li>\n",
    "<p></p>\n",
    "<li>Which author has written the most bestsellers (top authors).</li>\n",
    "<p></p>\n",
    "<li>Which book has the most reviews (top books).</li>\n",
    "<p></p>\n",
    "<li>Which genres become bestsellers more often.</li>\n",
    "<p></p>\n",
    "<li>Are genres different by rating.</li>\n",
    "</ol>"
   ]
  },
  {
   "cell_type": "markdown",
   "id": "8c462078",
   "metadata": {},
   "source": [
    "<p id=\"part2\"></p>\n",
    "\n",
    "# <span style=\"font-family: Arials; font-size: 16px; font-style: normal; font-weight: bold; letter-spacing: 3px; color: #FF8C00\">1 IMPORTING LIBRARIES</span>\n",
    "<hr style=\"height: 0.5px; border: 0; background-color: #808080\">\n",
    "\n",
    "<p style=\"font-family: Arials, sans-serif; font-size: 14px; line-height:1.0; color: rgba(0,0,0,.7)\"><strong>LIBRARIES:</strong></p>\n",
    "\n",
    "<ol style=\"font-family: Arials, sans-serif; font-size: 14px; line-height:1.5; color: rgba(0,0,0,.7)\">\n",
    "<li>Library <strong>pandas</strong> will be required to work with data in tabular representation.</li>\n",
    "<p></p>\n",
    "<li>Library <strong>numpy</strong> will be required to round the data in the correlation matrix.</li>\n",
    "<p></p>\n",
    "<li>Library <strong>fuzzywuzzy</strong> will be needed to replace the same values but different in writing.</li>\n",
    "<p></p>\n",
    "<li>Library <strong>missingno</strong> will be required to visualize missing values in the data.</li>\n",
    "<p></p>\n",
    "<li>Library <strong>collections</strong> will be required to count the values in the list.</li>\n",
    "<p></p>    \n",
    "<li>Library <strong>matplotlib, seaborn, plotly</strong> required for data visualization.</li>\n",
    "<p></p>\n",
    "<li>Library <strong>scipy</strong> will be required to test hypotheses.</li>\n",
    "<p></p>\n",
    "</ol>"
   ]
  },
  {
   "cell_type": "code",
   "execution_count": 9,
   "id": "e65a8f82",
   "metadata": {},
   "outputs": [
    {
     "name": "stdout",
     "output_type": "stream",
     "text": [
      "Requirement already satisfied: fuzzywuzzy in c:\\users\\moin\\anconda\\lib\\site-packages (0.18.0)\n",
      "Note: you may need to restart the kernel to use updated packages.\n"
     ]
    }
   ],
   "source": [
    "pip install fuzzywuzzy"
   ]
  },
  {
   "cell_type": "code",
   "execution_count": 1,
   "id": "7e60df06",
   "metadata": {},
   "outputs": [
    {
     "name": "stdout",
     "output_type": "stream",
     "text": [
      "Requirement already satisfied: missingno in c:\\users\\moin\\anconda\\lib\\site-packages (0.4.2)\n",
      "Requirement already satisfied: scipy in c:\\users\\moin\\anconda\\lib\\site-packages (from missingno) (1.6.2)\n",
      "Requirement already satisfied: seaborn in c:\\users\\moin\\anconda\\lib\\site-packages (from missingno) (0.11.1)\n",
      "Requirement already satisfied: matplotlib in c:\\users\\moin\\anconda\\lib\\site-packages (from missingno) (3.3.4)\n",
      "Requirement already satisfied: numpy in c:\\users\\moin\\anconda\\lib\\site-packages (from missingno) (1.19.2)\n",
      "Requirement already satisfied: python-dateutil>=2.1 in c:\\users\\moin\\anconda\\lib\\site-packages (from matplotlib->missingno) (2.8.1)\n",
      "Requirement already satisfied: pyparsing!=2.0.4,!=2.1.2,!=2.1.6,>=2.0.3 in c:\\users\\moin\\anconda\\lib\\site-packages (from matplotlib->missingno) (2.4.7)\n",
      "Requirement already satisfied: pillow>=6.2.0 in c:\\users\\moin\\anconda\\lib\\site-packages (from matplotlib->missingno) (8.2.0)\n",
      "Requirement already satisfied: kiwisolver>=1.0.1 in c:\\users\\moin\\anconda\\lib\\site-packages (from matplotlib->missingno) (1.3.1)\n",
      "Requirement already satisfied: cycler>=0.10 in c:\\users\\moin\\anconda\\lib\\site-packages (from matplotlib->missingno) (0.10.0)\n",
      "Requirement already satisfied: six in c:\\users\\moin\\anconda\\lib\\site-packages (from cycler>=0.10->matplotlib->missingno) (1.15.0)\n",
      "Requirement already satisfied: pandas>=0.23 in c:\\users\\moin\\anconda\\lib\\site-packages (from seaborn->missingno) (1.2.4)\n",
      "Requirement already satisfied: pytz>=2017.3 in c:\\users\\moin\\anconda\\lib\\site-packages (from pandas>=0.23->seaborn->missingno) (2021.1)\n",
      "Note: you may need to restart the kernel to use updated packages.\n"
     ]
    }
   ],
   "source": [
    "pip install missingno"
   ]
  },
  {
   "cell_type": "code",
   "execution_count": 2,
   "id": "24fdd43c",
   "metadata": {},
   "outputs": [
    {
     "name": "stdout",
     "output_type": "stream",
     "text": [
      "Note: you may need to restart the kernel to use updated packages.\n"
     ]
    },
    {
     "name": "stderr",
     "output_type": "stream",
     "text": [
      "ERROR: Could not find a version that satisfies the requirement collections\n",
      "ERROR: No matching distribution found for collections\n"
     ]
    }
   ],
   "source": [
    "pip install collections"
   ]
  },
  {
   "cell_type": "code",
   "execution_count": 2,
   "id": "d0f926cb",
   "metadata": {},
   "outputs": [
    {
     "name": "stdout",
     "output_type": "stream",
     "text": [
      "Requirement already satisfied: plotly in c:\\users\\moin\\anconda\\lib\\site-packages (4.14.3)\n",
      "Requirement already satisfied: retrying>=1.3.3 in c:\\users\\moin\\anconda\\lib\\site-packages (from plotly) (1.3.3)\n",
      "Requirement already satisfied: six in c:\\users\\moin\\anconda\\lib\\site-packages (from plotly) (1.15.0)\n",
      "Note: you may need to restart the kernel to use updated packages.\n"
     ]
    }
   ],
   "source": [
    "pip install plotly\n"
   ]
  },
  {
   "cell_type": "code",
   "execution_count": 58,
   "id": "ee3f17cf",
   "metadata": {},
   "outputs": [],
   "source": [
    "# importing the libraries\n",
    "import pandas as pd\n",
    "import numpy as np\n",
    "import seaborn as sns\n",
    "import matplotlib.pyplot as plt\n",
    "import fuzzywuzzy\n",
    "from fuzzywuzzy import process\n",
    "from plotly.subplots import make_subplots\n",
    "import plotly.graph_objects as go\n",
    "import plotly.figure_factory as ff\n",
    "from scipy.stats import shapiro\n",
    "from scipy.stats import mannwhitneyu\n",
    "import missingno\n",
    "import collections"
   ]
  },
  {
   "cell_type": "code",
   "execution_count": 59,
   "id": "ed4e9a16",
   "metadata": {},
   "outputs": [
    {
     "data": {
      "text/html": [
       "<div>\n",
       "<style scoped>\n",
       "    .dataframe tbody tr th:only-of-type {\n",
       "        vertical-align: middle;\n",
       "    }\n",
       "\n",
       "    .dataframe tbody tr th {\n",
       "        vertical-align: top;\n",
       "    }\n",
       "\n",
       "    .dataframe thead th {\n",
       "        text-align: right;\n",
       "    }\n",
       "</style>\n",
       "<table border=\"1\" class=\"dataframe\">\n",
       "  <thead>\n",
       "    <tr style=\"text-align: right;\">\n",
       "      <th></th>\n",
       "      <th>Name</th>\n",
       "      <th>Author</th>\n",
       "      <th>User Rating</th>\n",
       "      <th>Reviews</th>\n",
       "      <th>Price</th>\n",
       "      <th>Year</th>\n",
       "      <th>Genre</th>\n",
       "    </tr>\n",
       "  </thead>\n",
       "  <tbody>\n",
       "    <tr>\n",
       "      <th>0</th>\n",
       "      <td>10-Day Green Smoothie Cleanse</td>\n",
       "      <td>JJ Smith</td>\n",
       "      <td>4.7</td>\n",
       "      <td>17350</td>\n",
       "      <td>8</td>\n",
       "      <td>2016</td>\n",
       "      <td>Non Fiction</td>\n",
       "    </tr>\n",
       "    <tr>\n",
       "      <th>1</th>\n",
       "      <td>11/22/63: A Novel</td>\n",
       "      <td>Stephen King</td>\n",
       "      <td>4.6</td>\n",
       "      <td>2052</td>\n",
       "      <td>22</td>\n",
       "      <td>2011</td>\n",
       "      <td>Fiction</td>\n",
       "    </tr>\n",
       "    <tr>\n",
       "      <th>2</th>\n",
       "      <td>12 Rules for Life: An Antidote to Chaos</td>\n",
       "      <td>Jordan B. Peterson</td>\n",
       "      <td>4.7</td>\n",
       "      <td>18979</td>\n",
       "      <td>15</td>\n",
       "      <td>2018</td>\n",
       "      <td>Non Fiction</td>\n",
       "    </tr>\n",
       "    <tr>\n",
       "      <th>3</th>\n",
       "      <td>1984 (Signet Classics)</td>\n",
       "      <td>George Orwell</td>\n",
       "      <td>4.7</td>\n",
       "      <td>21424</td>\n",
       "      <td>6</td>\n",
       "      <td>2017</td>\n",
       "      <td>Fiction</td>\n",
       "    </tr>\n",
       "    <tr>\n",
       "      <th>4</th>\n",
       "      <td>5,000 Awesome Facts (About Everything!) (Natio...</td>\n",
       "      <td>National Geographic Kids</td>\n",
       "      <td>4.8</td>\n",
       "      <td>7665</td>\n",
       "      <td>12</td>\n",
       "      <td>2019</td>\n",
       "      <td>Non Fiction</td>\n",
       "    </tr>\n",
       "  </tbody>\n",
       "</table>\n",
       "</div>"
      ],
      "text/plain": [
       "                                                Name  \\\n",
       "0                      10-Day Green Smoothie Cleanse   \n",
       "1                                  11/22/63: A Novel   \n",
       "2            12 Rules for Life: An Antidote to Chaos   \n",
       "3                             1984 (Signet Classics)   \n",
       "4  5,000 Awesome Facts (About Everything!) (Natio...   \n",
       "\n",
       "                     Author  User Rating  Reviews  Price  Year        Genre  \n",
       "0                  JJ Smith          4.7    17350      8  2016  Non Fiction  \n",
       "1              Stephen King          4.6     2052     22  2011      Fiction  \n",
       "2        Jordan B. Peterson          4.7    18979     15  2018  Non Fiction  \n",
       "3             George Orwell          4.7    21424      6  2017      Fiction  \n",
       "4  National Geographic Kids          4.8     7665     12  2019  Non Fiction  "
      ]
     },
     "execution_count": 59,
     "metadata": {},
     "output_type": "execute_result"
    }
   ],
   "source": [
    "## load the data set using pandas libraries\n",
    "bestseller = pd.read_csv(\"bestsellers with categories.csv\")\n",
    "bestseller.head()\n"
   ]
  },
  {
   "cell_type": "code",
   "execution_count": 60,
   "id": "51915b33",
   "metadata": {},
   "outputs": [
    {
     "name": "stdout",
     "output_type": "stream",
     "text": [
      "the number of rows and columns are (550, 7)\n"
     ]
    }
   ],
   "source": [
    "#let us check how many columns and row are there\n",
    "print(f'the number of rows and columns are {bestseller.shape[0] , bestseller.shape[1]}')"
   ]
  },
  {
   "cell_type": "markdown",
   "id": "32b972e8",
   "metadata": {},
   "source": [
    "<p id=\"part3\"></p>\n",
    "\n",
    "# <span style=\"font-family: Arials; font-size: 16px; font-style: normal; font-weight: bold; letter-spacing: 3px; color: #FF8C00\">2 DATA DESCRIPTION AND DATA CLEANING</span>\n",
    "<hr style=\"height: 0.5px; border: 0; background-color: #808080\">\n",
    "\n",
    "<p style=\"font-family: Arials, sans-serif; font-size: 14px; color: rgba(0,0,0,.7)\">In this block, exploratory data analysis will be carried out, data types, missing values, duplicates, measures of the central trend, and also the relationship between variables will be described.</p\""
   ]
  },
  {
   "cell_type": "markdown",
   "id": "385a642c",
   "metadata": {},
   "source": [
    "<p id=p\"art4\"></p>\n",
    "\n",
    "# <span style= \"font-family: Arials; font-size: 16pxl;  font-style: normal; font-weight: normal; letter-spacing: 3px; color: #FF8C00; line-height:1.0\">2.1 Data types</p> "
   ]
  },
  {
   "cell_type": "code",
   "execution_count": 61,
   "id": "38fe4157",
   "metadata": {},
   "outputs": [
    {
     "data": {
      "text/plain": [
       "Name            object\n",
       "Author          object\n",
       "User Rating    float64\n",
       "Reviews          int64\n",
       "Price            int64\n",
       "Year             int64\n",
       "Genre           object\n",
       "dtype: object"
      ]
     },
     "execution_count": 61,
     "metadata": {},
     "output_type": "execute_result"
    }
   ],
   "source": [
    "bestseller.dtypes"
   ]
  },
  {
   "cell_type": "markdown",
   "id": "cf6ef16e",
   "metadata": {},
   "source": [
    "\n",
    "\n",
    "####  Data contains 3 categorical columns and 4 columns contains numeric values. Let's convert the genre to the category data type, leaving the year as a number."
   ]
  },
  {
   "cell_type": "code",
   "execution_count": 62,
   "id": "5011fe20",
   "metadata": {},
   "outputs": [],
   "source": [
    "## change the data type\n",
    "bestseller.Genre = bestseller.Genre.astype(\"category\")"
   ]
  },
  {
   "cell_type": "markdown",
   "id": "eae55766",
   "metadata": {},
   "source": [
    "<p id=\"part5\"></p>\n",
    "\n",
    "<p style=\"font-family: Arials; font-size: 16px; font-style: normal; font-weight: normal; letter-spacing: 3px; color: #FF8C00; line-height:1.0\">2.2 Missing values</p>"
   ]
  },
  {
   "cell_type": "markdown",
   "id": "56cb39ca",
   "metadata": {},
   "source": [
    "<p style = \"font-family: Inter, sans-serif; font-size: 14px; color: rgba(0,0,0,.7)\"> Let's calculate the percentage of blanks and filled values for all columns.</p>"
   ]
  },
  {
   "cell_type": "code",
   "execution_count": 63,
   "id": "f9572932",
   "metadata": {},
   "outputs": [
    {
     "name": "stdout",
     "output_type": "stream",
     "text": [
      "Name-0.0%,\n",
      "Author-0.0%,\n",
      "User Rating-0.0%,\n",
      "Reviews-0.0%,\n",
      "Price-0.0%,\n",
      "Year-0.0%,\n",
      "Genre-0.0%,\n"
     ]
    }
   ],
   "source": [
    "for col in bestseller.columns:\n",
    "    missing_values = bestseller[col].isnull().mean()\n",
    "    print(f'{col}-{missing_values:.1%},')"
   ]
  },
  {
   "cell_type": "code",
   "execution_count": 64,
   "id": "c6b19f89",
   "metadata": {},
   "outputs": [
    {
     "data": {
      "image/png": "[encoded data removed]",
      "text/plain": [
       "<Figure size 1800x720 with 2 Axes>"
      ]
     },
     "metadata": {
      "needs_background": "light"
     },
     "output_type": "display_data"
    }
   ],
   "source": [
    "# bulid a matrix of the missing values and plot those values for easy understanding\n",
    "missingno.matrix(bestseller , fontsize = 20)\n",
    "plt.show()"
   ]
  },
  {
   "cell_type": "markdown",
   "id": "1cc2f3ae",
   "metadata": {},
   "source": [
    "## Conclusin:   there are no missing values in data so no futher transformations are required "
   ]
  },
  {
   "cell_type": "markdown",
   "id": "e65c3738",
   "metadata": {},
   "source": [
    "<p id=\"part6\"></p>\n",
    "\n",
    "<p style=\"font-family: Arials; font-size: 16px; font-style: normal; font-weight: normal; letter-spacing: 3px; color: #FF8C00; line-height:1.0\">2.3 Duplicates</p>"
   ]
  },
  {
   "cell_type": "code",
   "execution_count": 65,
   "id": "4beb8a73",
   "metadata": {},
   "outputs": [
    {
     "name": "stdout",
     "output_type": "stream",
     "text": [
      "Сolumns without numeric data: Name, Author, Reviews, Price, Year, Genre.\n"
     ]
    }
   ],
   "source": [
    "# Forming categorical columns\n",
    "col_name_without_numeric_data = list(bestseller.select_dtypes(exclude=('int', 'float')).columns)\n",
    "print(f'Сolumns without numeric data: {\", \".join(col_name_without_numeric_data)}.')"
   ]
  },
  {
   "cell_type": "code",
   "execution_count": 66,
   "id": "8716e434",
   "metadata": {},
   "outputs": [
    {
     "name": "stdout",
     "output_type": "stream",
     "text": [
      "Colunms Name contains duplicate.\n",
      "Colunms Author contains duplicate.\n",
      "Colunms Reviews contains duplicate.\n",
      "Colunms Price contains duplicate.\n",
      "Colunms Year contains duplicate.\n",
      "Colunms Genre contains duplicate.\n"
     ]
    }
   ],
   "source": [
    "#let us if there are any duplicate columns\n",
    "for col in col_name_without_numeric_data:\n",
    "    if bestseller[col].duplicated().any()  == True:\n",
    "        print(f'Colunms {col} contains duplicate.')\n",
    "    else:\n",
    "        print(f'Columns {col} have no duplicate.')"
   ]
  },
  {
   "cell_type": "code",
   "execution_count": 67,
   "id": "c6cc2519",
   "metadata": {},
   "outputs": [
    {
     "name": "stdout",
     "output_type": "stream",
     "text": [
      "Before Name:351 After Name:351.\n",
      "Before Author:248 After Author:248.\n",
      "Before Reviews:346 After Reviews:346.\n",
      "Before Price:40 After Price:40.\n",
      "Before Year:11 After Year:11.\n",
      "Before Genre:2 After Genre:2.\n"
     ]
    }
   ],
   "source": [
    "#check if there are any spelling mistakes on data\n",
    "for col in col_name_without_numerical_data:\n",
    "    print(f'Before {col}:{len(set(bestseller[col]))} After {col}:{len(set(bestseller[col]))}.')"
   ]
  },
  {
   "cell_type": "markdown",
   "id": "15e54c71",
   "metadata": {},
   "source": [
    "<p style=\"font-family: Arials, sans-serif; font-size: 14px; color: rgba(0,0,0,.7)\">Let's check if there are the same author names but with different spellings.</p>"
   ]
  },
  {
   "cell_type": "code",
   "execution_count": 68,
   "id": "166bc435",
   "metadata": {},
   "outputs": [
    {
     "data": {
      "text/plain": [
       "array(['Abraham Verghese', 'Adam Gasiewski', 'Adam Mansbach', 'Adir Levy',\n",
       "       'Admiral William H. McRaven', 'Adult Coloring Book Designs',\n",
       "       'Alan Moore', 'Alex Michaelides', 'Alice Schertle', 'Allie Brosh',\n",
       "       'American Psychiatric Association',\n",
       "       'American Psychological Association', 'Amor Towles', 'Amy Ramos',\n",
       "       'Amy Shields', 'Andy Weir', 'Angie Grace', 'Angie Thomas',\n",
       "       'Ann Voskamp', 'Ann Whitford Paul', 'Anthony Bourdain',\n",
       "       'Anthony Doerr', 'Atul Gawande', 'Audrey Niffenegger',\n",
       "       'B. J. Novak', 'Bessel van der Kolk M.D.', 'Bill Martin Jr.',\n",
       "       \"Bill O'Reilly\", 'Bill Simmons', 'Blue Star Coloring',\n",
       "       'Bob Woodward', 'Brandon Stanton', 'Brené Brown',\n",
       "       'Brian Kilmeade', 'Bruce Springsteen', 'Carol S. Dweck',\n",
       "       'Celeste Ng', 'Charlaine Harris', 'Charles Duhigg',\n",
       "       'Charles Krauthammer', 'Cheryl Strayed', 'Chip Gaines',\n",
       "       'Chip Heath', 'Chris Cleave', 'Chris Kyle', 'Chrissy Teigen',\n",
       "       'Christina Baker Kline', 'Christopher Paolini',\n",
       "       'Coloring Books for Adults', 'Craig Smith', 'Crispin Boyer', 'DK',\n",
       "       'Dale Carnegie', 'Dan Brown', 'Daniel H. Pink',\n",
       "       'Daniel James Brown', 'Daniel Kahneman', 'Daniel Lipkowitz',\n",
       "       'Dav Pilkey', 'Dave Ramsey', 'David Goggins', 'David Grann',\n",
       "       'David McCullough', 'David Perlmutter MD', 'David Platt',\n",
       "       'David Zinczenko', 'Deborah Diesen',\n",
       "       'Delegates of the Constitutional\\x85', 'Delia Owens',\n",
       "       'Dinah Bucholz', 'Don Miguel Ruiz', 'Donna Tartt', 'Doug Lemov',\n",
       "       'Dr. Seuss', 'Dr. Steven R Gundry MD', 'Drew Daywalt', 'E L James',\n",
       "       'Eben Alexander', 'Edward Klein', 'Edward M. Kennedy',\n",
       "       'Elie Wiesel', 'Elizabeth Strout', 'Emily Winfield Martin',\n",
       "       'Eric Carle', 'Eric Larson', 'Ernest Cline', 'F. A. Hayek',\n",
       "       'F. Scott Fitzgerald', 'Francis Chan', 'Fredrik Backman', 'Gallup',\n",
       "       'Garth Stein', 'Gary Chapman', 'Gayle Forman', 'Geneen Roth',\n",
       "       'George Orwell', 'George R. R. Martin', 'George R.R. Martin',\n",
       "       'George W. Bush', 'Giles Andreae', 'Gillian Flynn', 'Glenn Beck',\n",
       "       'Golden Books', 'Greg Mortenson', 'Harper Lee', 'Heidi Murkoff',\n",
       "       'Hillary Rodham Clinton', 'Hopscotch Girls', 'Howard Stern',\n",
       "       'Ian K. Smith M.D.', 'Ina Garten', 'J. D. Vance', 'J. K. Rowling',\n",
       "       'J.K. Rowling', 'JJ Smith', 'James Comey', 'James Dashner',\n",
       "       'James Patterson', 'Jay Asher', 'Jaycee Dugard', 'Jeff Kinney',\n",
       "       'Jen Sincero', 'Jennifer Smith', 'Jill Twiss', 'Jim Collins',\n",
       "       'Joanna Gaines', 'Joel Fuhrman MD', 'Johanna Basford',\n",
       "       'John Green', 'John Grisham', 'John Heilemann', 'Jon Meacham',\n",
       "       'Jon Stewart', 'Jonathan Cahn', 'Jordan B. Peterson',\n",
       "       'Julia Child', 'Justin Halpern', 'Kathryn Stockett',\n",
       "       'Keith Richards', 'Ken Follett', 'Kevin Kwan', 'Khaled Hosseini',\n",
       "       'Kristin Hannah', 'Larry Schweikart', 'Laura Hillenbrand',\n",
       "       'Laurel Randolph', 'Lin-Manuel Miranda', 'Lysa TerKeurst',\n",
       "       'M Prefontaine', \"Madeleine L'Engle\", 'Malcolm Gladwell',\n",
       "       'Margaret Atwood', 'Margaret Wise Brown', 'Marie Kondō',\n",
       "       'Marjorie Sarnat', 'Mark Hyman M.D.', 'Mark Manson', 'Mark Owen',\n",
       "       'Mark R. Levin', 'Mark Twain', 'Markus Zusak', 'Marty Noble',\n",
       "       'Mary Ann Shaffer', 'Maurice Sendak', 'Melissa Hartwig Urban',\n",
       "       'Michael Lewis', 'Michael Pollan', 'Michael Wolff',\n",
       "       'Michelle Obama', 'Mike Moreno', 'Mitch Albom', 'Muriel Barbery',\n",
       "       'Naomi Kleinberg', 'Nathan W. Pyle', 'National Geographic Kids',\n",
       "       'Neil deGrasse Tyson', 'Paper Peony Press', 'Patrick Lencioni',\n",
       "       'Patrick Thorpe', 'Paul Kalanithi', 'Paula Hawkins',\n",
       "       'Paula McLain', 'Paulo Coelho', 'Pete Souza', 'Peter A. Lillback',\n",
       "       'Phil Robertson', 'Pierre Dukan', 'Pretty Simple Press',\n",
       "       'R. J. Palacio', 'RH Disney', 'Rachel Hollis', 'Raina Telgemeier',\n",
       "       'Randall Munroe', 'Randy Pausch', 'Ray Bradbury', 'Rebecca Skloot',\n",
       "       'Ree Drummond', 'Rick Riordan', 'Rob Bell', 'Rob Elliott',\n",
       "       'Robert Jordan', 'Robert Munsch', 'Rod Campbell', 'Roger Priddy',\n",
       "       'Ron Chernow', 'Rupi Kaur', 'Rush Limbaugh', 'Samin Nosrat',\n",
       "       'Sandra Boynton', 'Sara Gruen', 'Sarah Palin', 'Sarah Young',\n",
       "       \"Sasha O'Hara\", 'Scholastic', 'School Zone',\n",
       "       'Sherri Duskey Rinker', 'Sheryl Sandberg', 'Silly Bear',\n",
       "       'Stephen Kendrick', 'Stephen King', 'Stephen R. Covey',\n",
       "       'Stephenie Meyer', 'Steve Harvey', 'Steven D. Levitt',\n",
       "       'Stieg Larsson', 'Susan Cain', 'Suzanne Collins',\n",
       "       'Ta-Nehisi Coates', 'Tara Westover', 'Tatiana de Rosnay',\n",
       "       'The College Board', 'The Staff of The Late Show with\\x85',\n",
       "       'The Washington Post', 'Thomas Campbell', 'Thomas Piketty',\n",
       "       'Thug Kitchen', 'Timothy Ferriss', 'Tina Fey', 'Todd Burpo',\n",
       "       'Tony Hsieh', 'Tucker Carlson', 'Veronica Roth',\n",
       "       'W. Cleon Skousen', 'Walter Isaacson', 'William Davis',\n",
       "       'William P. Young', 'Wizards RPG Team', 'Zhi Gang Sha'],\n",
       "      dtype=object)"
      ]
     },
     "execution_count": 68,
     "metadata": {},
     "output_type": "execute_result"
    }
   ],
   "source": [
    "authors = bestseller.Author.sort_values().unique()\n",
    "authors"
   ]
  },
  {
   "cell_type": "markdown",
   "id": "5e7c34f9",
   "metadata": {},
   "source": [
    "<p style=\"font-family: Arials, sans-serif; font-size: 14px; color: rgba(0,0,0,.7)\">Names of authors George R. R. Martin, George R.R. Martin and J. K. Rowling, J.K. Rowling have different spellings although they are the same authors. Let's fix it.</p>"
   ]
  },
  {
   "cell_type": "code",
   "execution_count": 69,
   "id": "3f8c3557",
   "metadata": {},
   "outputs": [
    {
     "data": {
      "text/plain": [
       "[('George R. R. Martin', 100),\n",
       " ('George R.R. Martin', 100),\n",
       " ('George Orwell', 53),\n",
       " ('Bill Martin Jr.', 52),\n",
       " ('Mark R. Levin', 48)]"
      ]
     },
     "execution_count": 69,
     "metadata": {},
     "output_type": "execute_result"
    }
   ],
   "source": [
    "#let's a build a list of most similar spellings\n",
    "match_author_name = fuzzywuzzy.process.extract('George R.R. Martin', authors, limit=5, scorer=fuzzywuzzy.fuzz.token_sort_ratio)\n",
    "match_author_name"
   ]
  },
  {
   "cell_type": "code",
   "execution_count": 70,
   "id": "2b0c901a",
   "metadata": {},
   "outputs": [],
   "source": [
    "#let's replace the author names with correct ones\n",
    "bestseller = bestseller.replace('George R. R. Martin', 'George R.R. Martin')\n",
    "bestseller = bestseller.replace('J. K. Rowling', 'J.K. Rowling')"
   ]
  },
  {
   "cell_type": "code",
   "execution_count": 71,
   "id": "3e9d785c",
   "metadata": {},
   "outputs": [
    {
     "name": "stdout",
     "output_type": "stream",
     "text": [
      "Before Name: 351 After Name: 351.\n",
      "Before Author: 246 After Author: 246.\n",
      "Before Reviews: 346 After Reviews: 346.\n",
      "Before Price: 40 After Price: 40.\n",
      "Before Year: 11 After Year: 11.\n",
      "Before Genre: 2 After Genre: 2.\n"
     ]
    }
   ],
   "source": [
    "#check the changes are passed\n",
    "for col in col_name_without_numeric_data:\n",
    "    print(f'Before {col}: {len(set(bestseller[col]))} After {col}: {len(set(bestseller[col]))}.')"
   ]
  },
  {
   "cell_type": "code",
   "execution_count": 72,
   "id": "096c479d",
   "metadata": {},
   "outputs": [
    {
     "data": {
      "text/plain": [
       "['Non Fiction', 'Fiction']\n",
       "Categories (2, object): ['Non Fiction', 'Fiction']"
      ]
     },
     "execution_count": 72,
     "metadata": {},
     "output_type": "execute_result"
    }
   ],
   "source": [
    "# let us check the column genere\n",
    "genre = bestseller.Genre.unique()\n",
    "genre"
   ]
  },
  {
   "cell_type": "markdown",
   "id": "ebd020cb",
   "metadata": {},
   "source": [
    "<p style=\"font-family: Arials, sans-serif; font-size: 14px; color: rgba(0,0,0,.7)\">Everything is fine with genres.</p>"
   ]
  },
  {
   "cell_type": "code",
   "execution_count": 73,
   "id": "951753bf",
   "metadata": {},
   "outputs": [
    {
     "data": {
      "text/plain": [
       "[2009, 2010, 2011, 2012, 2013, 2014, 2015, 2016, 2017, 2018, 2019]"
      ]
     },
     "execution_count": 73,
     "metadata": {},
     "output_type": "execute_result"
    }
   ],
   "source": [
    "#check years coulumn\n",
    "years = list(bestseller.Year.unique())\n",
    "sorted(years)"
   ]
  },
  {
   "cell_type": "markdown",
   "id": "e66eb4c2",
   "metadata": {},
   "source": [
    "<p style=\"font-family: Arials, sans-serif; font-size: 14px; color: rgba(0,0,0,.7)\">Everything is fine with years.</p>"
   ]
  },
  {
   "cell_type": "markdown",
   "id": "718a54d8",
   "metadata": {},
   "source": [
    "<p style=\"font-family: Arials, sans-serif; font-size: 14px; color: rgba(0,0,0,.7)\">In addition, there may be duplicate rows in the data. Let's display the last 5 lines of the dataframe.</p>"
   ]
  },
  {
   "cell_type": "code",
   "execution_count": 74,
   "id": "8fdc4b60",
   "metadata": {},
   "outputs": [
    {
     "data": {
      "text/html": [
       "<div>\n",
       "<style scoped>\n",
       "    .dataframe tbody tr th:only-of-type {\n",
       "        vertical-align: middle;\n",
       "    }\n",
       "\n",
       "    .dataframe tbody tr th {\n",
       "        vertical-align: top;\n",
       "    }\n",
       "\n",
       "    .dataframe thead th {\n",
       "        text-align: right;\n",
       "    }\n",
       "</style>\n",
       "<table border=\"1\" class=\"dataframe\">\n",
       "  <thead>\n",
       "    <tr style=\"text-align: right;\">\n",
       "      <th></th>\n",
       "      <th>Name</th>\n",
       "      <th>Author</th>\n",
       "      <th>User Rating</th>\n",
       "      <th>Reviews</th>\n",
       "      <th>Price</th>\n",
       "      <th>Year</th>\n",
       "      <th>Genre</th>\n",
       "    </tr>\n",
       "  </thead>\n",
       "  <tbody>\n",
       "    <tr>\n",
       "      <th>545</th>\n",
       "      <td>Wrecking Ball (Diary of a Wimpy Kid Book 14)</td>\n",
       "      <td>Jeff Kinney</td>\n",
       "      <td>4.9</td>\n",
       "      <td>9413</td>\n",
       "      <td>8</td>\n",
       "      <td>2019</td>\n",
       "      <td>Fiction</td>\n",
       "    </tr>\n",
       "    <tr>\n",
       "      <th>546</th>\n",
       "      <td>You Are a Badass: How to Stop Doubting Your Gr...</td>\n",
       "      <td>Jen Sincero</td>\n",
       "      <td>4.7</td>\n",
       "      <td>14331</td>\n",
       "      <td>8</td>\n",
       "      <td>2016</td>\n",
       "      <td>Non Fiction</td>\n",
       "    </tr>\n",
       "    <tr>\n",
       "      <th>547</th>\n",
       "      <td>You Are a Badass: How to Stop Doubting Your Gr...</td>\n",
       "      <td>Jen Sincero</td>\n",
       "      <td>4.7</td>\n",
       "      <td>14331</td>\n",
       "      <td>8</td>\n",
       "      <td>2017</td>\n",
       "      <td>Non Fiction</td>\n",
       "    </tr>\n",
       "    <tr>\n",
       "      <th>548</th>\n",
       "      <td>You Are a Badass: How to Stop Doubting Your Gr...</td>\n",
       "      <td>Jen Sincero</td>\n",
       "      <td>4.7</td>\n",
       "      <td>14331</td>\n",
       "      <td>8</td>\n",
       "      <td>2018</td>\n",
       "      <td>Non Fiction</td>\n",
       "    </tr>\n",
       "    <tr>\n",
       "      <th>549</th>\n",
       "      <td>You Are a Badass: How to Stop Doubting Your Gr...</td>\n",
       "      <td>Jen Sincero</td>\n",
       "      <td>4.7</td>\n",
       "      <td>14331</td>\n",
       "      <td>8</td>\n",
       "      <td>2019</td>\n",
       "      <td>Non Fiction</td>\n",
       "    </tr>\n",
       "  </tbody>\n",
       "</table>\n",
       "</div>"
      ],
      "text/plain": [
       "                                                  Name       Author  \\\n",
       "545       Wrecking Ball (Diary of a Wimpy Kid Book 14)  Jeff Kinney   \n",
       "546  You Are a Badass: How to Stop Doubting Your Gr...  Jen Sincero   \n",
       "547  You Are a Badass: How to Stop Doubting Your Gr...  Jen Sincero   \n",
       "548  You Are a Badass: How to Stop Doubting Your Gr...  Jen Sincero   \n",
       "549  You Are a Badass: How to Stop Doubting Your Gr...  Jen Sincero   \n",
       "\n",
       "     User Rating  Reviews  Price  Year        Genre  \n",
       "545          4.9     9413      8  2019      Fiction  \n",
       "546          4.7    14331      8  2016  Non Fiction  \n",
       "547          4.7    14331      8  2017  Non Fiction  \n",
       "548          4.7    14331      8  2018  Non Fiction  \n",
       "549          4.7    14331      8  2019  Non Fiction  "
      ]
     },
     "execution_count": 74,
     "metadata": {},
     "output_type": "execute_result"
    }
   ],
   "source": [
    "##let's display the last 5 line of the dataset\n",
    "bestseller.tail()"
   ]
  },
  {
   "cell_type": "markdown",
   "id": "bc5a3fbb",
   "metadata": {},
   "source": [
    "<p style=\"font-family: Arials, sans-serif; font-size: 14px; color: rgba(0,0,0,.7)\">In addition, it is worth noting that there are duplicate rows in the data, but with different years. Let's remove duplicates. Let's leave the data without years for later analysis.</p>"
   ]
  },
  {
   "cell_type": "code",
   "execution_count": 75,
   "id": "cdf568fd",
   "metadata": {},
   "outputs": [],
   "source": [
    "# let us remove the years column\n",
    "del bestseller['Year']"
   ]
  },
  {
   "cell_type": "code",
   "execution_count": 76,
   "id": "0f1daa5c",
   "metadata": {},
   "outputs": [
    {
     "name": "stdout",
     "output_type": "stream",
     "text": [
      "<class 'pandas.core.frame.DataFrame'>\n",
      "Int64Index: 361 entries, 0 to 546\n",
      "Data columns (total 6 columns):\n",
      " #   Column       Non-Null Count  Dtype   \n",
      "---  ------       --------------  -----   \n",
      " 0   Name         361 non-null    object  \n",
      " 1   Author       361 non-null    object  \n",
      " 2   User Rating  361 non-null    float64 \n",
      " 3   Reviews      361 non-null    int64   \n",
      " 4   Price        361 non-null    int64   \n",
      " 5   Genre        361 non-null    category\n",
      "dtypes: category(1), float64(1), int64(2), object(2)\n",
      "memory usage: 14.5+ KB\n"
     ]
    }
   ],
   "source": [
    "#Remove duplicates and check how many books leaft in the data \n",
    "bestseller = bestseller.drop_duplicates(keep='first')\n",
    "bestseller.info()"
   ]
  },
  {
   "cell_type": "markdown",
   "id": "34d58124",
   "metadata": {},
   "source": [
    "<p style=\"font-family: Arials, sans-serif; font-size: 14px; color: rgba(0,0,0,.7)\">We received 11 more books than they actually have. Let's see why duplication occurs.</p>"
   ]
  },
  {
   "cell_type": "code",
   "execution_count": 78,
   "id": "942c9d02",
   "metadata": {},
   "outputs": [
    {
     "name": "stdout",
     "output_type": "stream",
     "text": [
      "[('The Help', 3), ('Gone Girl', 2), (\"Quiet: The Power of Introverts in a World That Can't Stop Talking\", 2), ('The 7 Habits of Highly Effective People: Powerful Lessons in Personal Change', 2), ('The Fault in Our Stars', 2), ('The Girl on the Train', 2), ('The Immortal Life of Henrietta Lacks', 2), ('To Kill a Mockingbird', 2), ('Unbroken: A World War II Story of Survival, Resilience, and Redemption', 2), ('10-Day Green Smoothie Cleanse', 1), ('11/22/63: A Novel', 1)]\n"
     ]
    }
   ],
   "source": [
    "#let us count no.of books in each data\n",
    "count_books = collections.Counter(bestseller.Name.to_list())\n",
    "print(count_books.most_common(11))"
   ]
  },
  {
   "cell_type": "markdown",
   "id": "f07ca929",
   "metadata": {},
   "source": [
    "<p style=\"font-family: Arials, sans-serif; font-size: 14px; color: rgba(0,0,0,.7)\">Сheck with the example of a book <strong>The Help</strong>.</p>\n"
   ]
  },
  {
   "cell_type": "code",
   "execution_count": 80,
   "id": "5cb962b4",
   "metadata": {},
   "outputs": [
    {
     "data": {
      "text/html": [
       "<div>\n",
       "<style scoped>\n",
       "    .dataframe tbody tr th:only-of-type {\n",
       "        vertical-align: middle;\n",
       "    }\n",
       "\n",
       "    .dataframe tbody tr th {\n",
       "        vertical-align: top;\n",
       "    }\n",
       "\n",
       "    .dataframe thead th {\n",
       "        text-align: right;\n",
       "    }\n",
       "</style>\n",
       "<table border=\"1\" class=\"dataframe\">\n",
       "  <thead>\n",
       "    <tr style=\"text-align: right;\">\n",
       "      <th></th>\n",
       "      <th>Name</th>\n",
       "      <th>Author</th>\n",
       "      <th>User Rating</th>\n",
       "      <th>Reviews</th>\n",
       "      <th>Price</th>\n",
       "      <th>Genre</th>\n",
       "    </tr>\n",
       "  </thead>\n",
       "  <tbody>\n",
       "    <tr>\n",
       "      <th>402</th>\n",
       "      <td>The Help</td>\n",
       "      <td>Kathryn Stockett</td>\n",
       "      <td>4.8</td>\n",
       "      <td>13871</td>\n",
       "      <td>6</td>\n",
       "      <td>Fiction</td>\n",
       "    </tr>\n",
       "    <tr>\n",
       "      <th>404</th>\n",
       "      <td>The Help</td>\n",
       "      <td>Kathryn Stockett</td>\n",
       "      <td>4.8</td>\n",
       "      <td>13871</td>\n",
       "      <td>8</td>\n",
       "      <td>Fiction</td>\n",
       "    </tr>\n",
       "    <tr>\n",
       "      <th>405</th>\n",
       "      <td>The Help</td>\n",
       "      <td>Kathryn Stockett</td>\n",
       "      <td>4.8</td>\n",
       "      <td>13871</td>\n",
       "      <td>7</td>\n",
       "      <td>Fiction</td>\n",
       "    </tr>\n",
       "  </tbody>\n",
       "</table>\n",
       "</div>"
      ],
      "text/plain": [
       "         Name            Author  User Rating  Reviews  Price    Genre\n",
       "402  The Help  Kathryn Stockett          4.8    13871      6  Fiction\n",
       "404  The Help  Kathryn Stockett          4.8    13871      8  Fiction\n",
       "405  The Help  Kathryn Stockett          4.8    13871      7  Fiction"
      ]
     },
     "execution_count": 80,
     "metadata": {},
     "output_type": "execute_result"
    }
   ],
   "source": [
    "# display the information with the help of the book \"The Help\"\n",
    "bestseller[bestseller['Name']=='The Help']\n"
   ]
  },
  {
   "cell_type": "markdown",
   "id": "79258943",
   "metadata": {},
   "source": [
    "<p style=\"font-family: Arials, sans-serif; font-size: 14px; color: rgba(0,0,0,.7)\">Records are duplicated by price. Apparently, in different years the book costs differently, which is quite logical taking into account inflation, demand, etc. Let's leave only the last entries.</p>"
   ]
  },
  {
   "cell_type": "code",
   "execution_count": 82,
   "id": "68a3af2f",
   "metadata": {},
   "outputs": [
    {
     "data": {
      "text/html": [
       "<div>\n",
       "<style scoped>\n",
       "    .dataframe tbody tr th:only-of-type {\n",
       "        vertical-align: middle;\n",
       "    }\n",
       "\n",
       "    .dataframe tbody tr th {\n",
       "        vertical-align: top;\n",
       "    }\n",
       "\n",
       "    .dataframe thead th {\n",
       "        text-align: right;\n",
       "    }\n",
       "</style>\n",
       "<table border=\"1\" class=\"dataframe\">\n",
       "  <thead>\n",
       "    <tr style=\"text-align: right;\">\n",
       "      <th></th>\n",
       "      <th>Name</th>\n",
       "      <th>Author</th>\n",
       "      <th>User Rating</th>\n",
       "      <th>Reviews</th>\n",
       "      <th>Price</th>\n",
       "      <th>Genre</th>\n",
       "    </tr>\n",
       "  </thead>\n",
       "  <tbody>\n",
       "    <tr>\n",
       "      <th>0</th>\n",
       "      <td>10-Day Green Smoothie Cleanse</td>\n",
       "      <td>JJ Smith</td>\n",
       "      <td>4.7</td>\n",
       "      <td>17350</td>\n",
       "      <td>8</td>\n",
       "      <td>Non Fiction</td>\n",
       "    </tr>\n",
       "    <tr>\n",
       "      <th>1</th>\n",
       "      <td>11/22/63: A Novel</td>\n",
       "      <td>Stephen King</td>\n",
       "      <td>4.6</td>\n",
       "      <td>2052</td>\n",
       "      <td>22</td>\n",
       "      <td>Fiction</td>\n",
       "    </tr>\n",
       "    <tr>\n",
       "      <th>2</th>\n",
       "      <td>12 Rules for Life: An Antidote to Chaos</td>\n",
       "      <td>Jordan B. Peterson</td>\n",
       "      <td>4.7</td>\n",
       "      <td>18979</td>\n",
       "      <td>15</td>\n",
       "      <td>Non Fiction</td>\n",
       "    </tr>\n",
       "    <tr>\n",
       "      <th>3</th>\n",
       "      <td>1984 (Signet Classics)</td>\n",
       "      <td>George Orwell</td>\n",
       "      <td>4.7</td>\n",
       "      <td>21424</td>\n",
       "      <td>6</td>\n",
       "      <td>Fiction</td>\n",
       "    </tr>\n",
       "    <tr>\n",
       "      <th>4</th>\n",
       "      <td>5,000 Awesome Facts (About Everything!) (Natio...</td>\n",
       "      <td>National Geographic Kids</td>\n",
       "      <td>4.8</td>\n",
       "      <td>7665</td>\n",
       "      <td>12</td>\n",
       "      <td>Non Fiction</td>\n",
       "    </tr>\n",
       "    <tr>\n",
       "      <th>...</th>\n",
       "      <td>...</td>\n",
       "      <td>...</td>\n",
       "      <td>...</td>\n",
       "      <td>...</td>\n",
       "      <td>...</td>\n",
       "      <td>...</td>\n",
       "    </tr>\n",
       "    <tr>\n",
       "      <th>538</th>\n",
       "      <td>Winter of the World: Book Two of the Century T...</td>\n",
       "      <td>Ken Follett</td>\n",
       "      <td>4.5</td>\n",
       "      <td>10760</td>\n",
       "      <td>15</td>\n",
       "      <td>Fiction</td>\n",
       "    </tr>\n",
       "    <tr>\n",
       "      <th>539</th>\n",
       "      <td>Women Food and God: An Unexpected Path to Almo...</td>\n",
       "      <td>Geneen Roth</td>\n",
       "      <td>4.2</td>\n",
       "      <td>1302</td>\n",
       "      <td>11</td>\n",
       "      <td>Non Fiction</td>\n",
       "    </tr>\n",
       "    <tr>\n",
       "      <th>540</th>\n",
       "      <td>Wonder</td>\n",
       "      <td>R. J. Palacio</td>\n",
       "      <td>4.8</td>\n",
       "      <td>21625</td>\n",
       "      <td>9</td>\n",
       "      <td>Fiction</td>\n",
       "    </tr>\n",
       "    <tr>\n",
       "      <th>545</th>\n",
       "      <td>Wrecking Ball (Diary of a Wimpy Kid Book 14)</td>\n",
       "      <td>Jeff Kinney</td>\n",
       "      <td>4.9</td>\n",
       "      <td>9413</td>\n",
       "      <td>8</td>\n",
       "      <td>Fiction</td>\n",
       "    </tr>\n",
       "    <tr>\n",
       "      <th>546</th>\n",
       "      <td>You Are a Badass: How to Stop Doubting Your Gr...</td>\n",
       "      <td>Jen Sincero</td>\n",
       "      <td>4.7</td>\n",
       "      <td>14331</td>\n",
       "      <td>8</td>\n",
       "      <td>Non Fiction</td>\n",
       "    </tr>\n",
       "  </tbody>\n",
       "</table>\n",
       "<p>351 rows × 6 columns</p>\n",
       "</div>"
      ],
      "text/plain": [
       "                                                  Name  \\\n",
       "0                        10-Day Green Smoothie Cleanse   \n",
       "1                                    11/22/63: A Novel   \n",
       "2              12 Rules for Life: An Antidote to Chaos   \n",
       "3                               1984 (Signet Classics)   \n",
       "4    5,000 Awesome Facts (About Everything!) (Natio...   \n",
       "..                                                 ...   \n",
       "538  Winter of the World: Book Two of the Century T...   \n",
       "539  Women Food and God: An Unexpected Path to Almo...   \n",
       "540                                             Wonder   \n",
       "545       Wrecking Ball (Diary of a Wimpy Kid Book 14)   \n",
       "546  You Are a Badass: How to Stop Doubting Your Gr...   \n",
       "\n",
       "                       Author  User Rating  Reviews  Price        Genre  \n",
       "0                    JJ Smith          4.7    17350      8  Non Fiction  \n",
       "1                Stephen King          4.6     2052     22      Fiction  \n",
       "2          Jordan B. Peterson          4.7    18979     15  Non Fiction  \n",
       "3               George Orwell          4.7    21424      6      Fiction  \n",
       "4    National Geographic Kids          4.8     7665     12  Non Fiction  \n",
       "..                        ...          ...      ...    ...          ...  \n",
       "538               Ken Follett          4.5    10760     15      Fiction  \n",
       "539               Geneen Roth          4.2     1302     11  Non Fiction  \n",
       "540             R. J. Palacio          4.8    21625      9      Fiction  \n",
       "545               Jeff Kinney          4.9     9413      8      Fiction  \n",
       "546               Jen Sincero          4.7    14331      8  Non Fiction  \n",
       "\n",
       "[351 rows x 6 columns]"
      ]
     },
     "execution_count": 82,
     "metadata": {},
     "output_type": "execute_result"
    }
   ],
   "source": [
    "bestseller = bestseller.drop_duplicates(subset='Name',  keep='last')\n",
    "bestseller"
   ]
  },
  {
   "cell_type": "markdown",
   "id": "2ed16086",
   "metadata": {},
   "source": [
    "<div style=\"background: #DCDCDC\"><p style=\"font-family: Arials, sans-serif; font-size: 16px; color: #000000\"><strong>CONCLUSION:</strong> Thus, the data contains 350 different books written by 246 authors. All books are presented in two categories (Non Fiction, Fiction).</p></div>"
   ]
  },
  {
   "cell_type": "markdown",
   "id": "4732e3eb",
   "metadata": {},
   "source": [
    "<p id=\"part7\"></p>\n",
    "\n",
    "<p style=\"font-family: Arials; font-size: 16px; font-style: normal; font-weight: normal; letter-spacing: 3px; color: #FF8C00; line-height:1.0\">2.4 Categorical data</p>\n",
    "<p style=\"font-family: Arials, sans-serif; font-size: 14px; color: rgba(0,0,0,.7)\">In this section, we will analyze categorical data and answer the following questions:</p>\n",
    "<ol style=\"font-family: Arials, sans-serif; font-size: 14px; line-height:1.5; color: rgba(0,0,0,.7)\">\n",
    "<li>Which author's books receive the highest average rating (top authors).</li>\n",
    "<p></p>\n",
    "<li>Which author has written the most bestsellers (top authors).</li>\n",
    "<p></p>\n",
    "<li>Which genres become bestsellers more often.</li>\n",
    "<p></p>\n",
    "<li>Which book has the most reviews (top books).</li>\n",
    "<p></p>\n",
    "</ol>"
   ]
  },
  {
   "cell_type": "markdown",
   "id": "106f46ac",
   "metadata": {},
   "source": [
    "<p style=\"font-family: Arials, sans-serif; font-size: 14px; color: rgba(0,0,0,.7)\">Let's create new dataframes based on the average rating of authors, the number of books written by authors, the number of reviews for books and the number of books by genre. We visualize the received information.</p>"
   ]
  },
  {
   "cell_type": "code",
   "execution_count": 83,
   "id": "25159f28",
   "metadata": {},
   "outputs": [],
   "source": [
    "# We take all authors with the highest average rating\n",
    "top_13_autors = bestseller.groupby('Author')[['User Rating']].mean()\\\n",
    "                                                              .sort_values('User Rating', ascending=False)\\\n",
    "                                                              .head(13)\\\n",
    "                                                              .reset_index()\n",
    "# We take the authors who have written the most bestsellers\n",
    "number_of_books_written = bestseller.groupby('Author')[['Name']].count()\\\n",
    "                                                                 .sort_values('Name', ascending=False)\\\n",
    "                                                                 .head(10)\\\n",
    "                                                                 .reset_index()\n",
    "\n",
    "# We take books with the number of reviews\n",
    "books_with_the_number_of_reviews = bestseller.groupby('Name')[['Reviews']].sum()\\\n",
    "                                                                           .sort_values('Reviews', ascending=False)\\\n",
    "                                                                           .head(5)\\\n",
    "                                                                           .reset_index()\n",
    "\n",
    "# We take the number of books by genre\n",
    "number_of_books_by_genre = bestseller.groupby('Genre')[['Name']].count()\\\n",
    "                                                                 .sort_values('Name', ascending=False)\\\n",
    "                                                                 .head(10)\\\n",
    "                                                                 .reset_index()"
   ]
  },
  {
   "cell_type": "code",
   "execution_count": 88,
   "id": "0844145e",
   "metadata": {},
   "outputs": [
    {
     "data": {
      "application/vnd.plotly.v1+json": {
       "config": {
        "plotlyServerURL": "https://plot.ly"
       },
       "data": [
        {
         "cells": {
          "fill": {
           "color": "White"
          },
          "line": {
           "color": "darkslategray"
          },
          "values": [
           [
            "Nathan W. Pyle",
            "Patrick Thorpe",
            "Eric Carle",
            "Emily Winfield Martin",
            "Chip Gaines",
            "Jill Twiss",
            "Rush Limbaugh",
            "Sherri Duskey Rinker",
            "Alice Schertle",
            "Pete Souza",
            "Sarah Young",
            "Lin-Manuel Miranda",
            "Bill Martin Jr."
           ],
           [
            4.9,
            4.9,
            4.9,
            4.9,
            4.9,
            4.9,
            4.9,
            4.9,
            4.9,
            4.9,
            4.9,
            4.9,
            4.9
           ]
          ]
         },
         "columnorder": [
          1,
          2
         ],
         "columnwidth": [
          100,
          50
         ],
         "header": {
          "fill": {
           "color": "Salmon"
          },
          "height": 30,
          "line": {
           "color": "darkslategray"
          },
          "values": [
           "Author",
           "User Rating"
          ]
         },
         "type": "table"
        }
       ],
       "layout": {
        "font": {
         "color": "black",
         "family": "Arial",
         "size": 12
        },
        "showlegend": false,
        "template": {
         "data": {
          "bar": [
           {
            "error_x": {
             "color": "#2a3f5f"
            },
            "error_y": {
             "color": "#2a3f5f"
            },
            "marker": {
             "line": {
              "color": "#E5ECF6",
              "width": 0.5
             }
            },
            "type": "bar"
           }
          ],
          "barpolar": [
           {
            "marker": {
             "line": {
              "color": "#E5ECF6",
              "width": 0.5
             }
            },
            "type": "barpolar"
           }
          ],
          "carpet": [
           {
            "aaxis": {
             "endlinecolor": "#2a3f5f",
             "gridcolor": "white",
             "linecolor": "white",
             "minorgridcolor": "white",
             "startlinecolor": "#2a3f5f"
            },
            "baxis": {
             "endlinecolor": "#2a3f5f",
             "gridcolor": "white",
             "linecolor": "white",
             "minorgridcolor": "white",
             "startlinecolor": "#2a3f5f"
            },
            "type": "carpet"
           }
          ],
          "choropleth": [
           {
            "colorbar": {
             "outlinewidth": 0,
             "ticks": ""
            },
            "type": "choropleth"
           }
          ],
          "contour": [
           {
            "colorbar": {
             "outlinewidth": 0,
             "ticks": ""
            },
            "colorscale": [
             [
              0,
              "#0d0887"
             ],
             [
              0.1111111111111111,
              "#46039f"
             ],
             [
              0.2222222222222222,
              "#7201a8"
             ],
             [
              0.3333333333333333,
              "#9c179e"
             ],
             [
              0.4444444444444444,
              "#bd3786"
             ],
             [
              0.5555555555555556,
              "#d8576b"
             ],
             [
              0.6666666666666666,
              "#ed7953"
             ],
             [
              0.7777777777777778,
              "#fb9f3a"
             ],
             [
              0.8888888888888888,
              "#fdca26"
             ],
             [
              1,
              "#f0f921"
             ]
            ],
            "type": "contour"
           }
          ],
          "contourcarpet": [
           {
            "colorbar": {
             "outlinewidth": 0,
             "ticks": ""
            },
            "type": "contourcarpet"
           }
          ],
          "heatmap": [
           {
            "colorbar": {
             "outlinewidth": 0,
             "ticks": ""
            },
            "colorscale": [
             [
              0,
              "#0d0887"
             ],
             [
              0.1111111111111111,
              "#46039f"
             ],
             [
              0.2222222222222222,
              "#7201a8"
             ],
             [
              0.3333333333333333,
              "#9c179e"
             ],
             [
              0.4444444444444444,
              "#bd3786"
             ],
             [
              0.5555555555555556,
              "#d8576b"
             ],
             [
              0.6666666666666666,
              "#ed7953"
             ],
             [
              0.7777777777777778,
              "#fb9f3a"
             ],
             [
              0.8888888888888888,
              "#fdca26"
             ],
             [
              1,
              "#f0f921"
             ]
            ],
            "type": "heatmap"
           }
          ],
          "heatmapgl": [
           {
            "colorbar": {
             "outlinewidth": 0,
             "ticks": ""
            },
            "colorscale": [
             [
              0,
              "#0d0887"
             ],
             [
              0.1111111111111111,
              "#46039f"
             ],
             [
              0.2222222222222222,
              "#7201a8"
             ],
             [
              0.3333333333333333,
              "#9c179e"
             ],
             [
              0.4444444444444444,
              "#bd3786"
             ],
             [
              0.5555555555555556,
              "#d8576b"
             ],
             [
              0.6666666666666666,
              "#ed7953"
             ],
             [
              0.7777777777777778,
              "#fb9f3a"
             ],
             [
              0.8888888888888888,
              "#fdca26"
             ],
             [
              1,
              "#f0f921"
             ]
            ],
            "type": "heatmapgl"
           }
          ],
          "histogram": [
           {
            "marker": {
             "colorbar": {
              "outlinewidth": 0,
              "ticks": ""
             }
            },
            "type": "histogram"
           }
          ],
          "histogram2d": [
           {
            "colorbar": {
             "outlinewidth": 0,
             "ticks": ""
            },
            "colorscale": [
             [
              0,
              "#0d0887"
             ],
             [
              0.1111111111111111,
              "#46039f"
             ],
             [
              0.2222222222222222,
              "#7201a8"
             ],
             [
              0.3333333333333333,
              "#9c179e"
             ],
             [
              0.4444444444444444,
              "#bd3786"
             ],
             [
              0.5555555555555556,
              "#d8576b"
             ],
             [
              0.6666666666666666,
              "#ed7953"
             ],
             [
              0.7777777777777778,
              "#fb9f3a"
             ],
             [
              0.8888888888888888,
              "#fdca26"
             ],
             [
              1,
              "#f0f921"
             ]
            ],
            "type": "histogram2d"
           }
          ],
          "histogram2dcontour": [
           {
            "colorbar": {
             "outlinewidth": 0,
             "ticks": ""
            },
            "colorscale": [
             [
              0,
              "#0d0887"
             ],
             [
              0.1111111111111111,
              "#46039f"
             ],
             [
              0.2222222222222222,
              "#7201a8"
             ],
             [
              0.3333333333333333,
              "#9c179e"
             ],
             [
              0.4444444444444444,
              "#bd3786"
             ],
             [
              0.5555555555555556,
              "#d8576b"
             ],
             [
              0.6666666666666666,
              "#ed7953"
             ],
             [
              0.7777777777777778,
              "#fb9f3a"
             ],
             [
              0.8888888888888888,
              "#fdca26"
             ],
             [
              1,
              "#f0f921"
             ]
            ],
            "type": "histogram2dcontour"
           }
          ],
          "mesh3d": [
           {
            "colorbar": {
             "outlinewidth": 0,
             "ticks": ""
            },
            "type": "mesh3d"
           }
          ],
          "parcoords": [
           {
            "line": {
             "colorbar": {
              "outlinewidth": 0,
              "ticks": ""
             }
            },
            "type": "parcoords"
           }
          ],
          "pie": [
           {
            "automargin": true,
            "type": "pie"
           }
          ],
          "scatter": [
           {
            "marker": {
             "colorbar": {
              "outlinewidth": 0,
              "ticks": ""
             }
            },
            "type": "scatter"
           }
          ],
          "scatter3d": [
           {
            "line": {
             "colorbar": {
              "outlinewidth": 0,
              "ticks": ""
             }
            },
            "marker": {
             "colorbar": {
              "outlinewidth": 0,
              "ticks": ""
             }
            },
            "type": "scatter3d"
           }
          ],
          "scattercarpet": [
           {
            "marker": {
             "colorbar": {
              "outlinewidth": 0,
              "ticks": ""
             }
            },
            "type": "scattercarpet"
           }
          ],
          "scattergeo": [
           {
            "marker": {
             "colorbar": {
              "outlinewidth": 0,
              "ticks": ""
             }
            },
            "type": "scattergeo"
           }
          ],
          "scattergl": [
           {
            "marker": {
             "colorbar": {
              "outlinewidth": 0,
              "ticks": ""
             }
            },
            "type": "scattergl"
           }
          ],
          "scattermapbox": [
           {
            "marker": {
             "colorbar": {
              "outlinewidth": 0,
              "ticks": ""
             }
            },
            "type": "scattermapbox"
           }
          ],
          "scatterpolar": [
           {
            "marker": {
             "colorbar": {
              "outlinewidth": 0,
              "ticks": ""
             }
            },
            "type": "scatterpolar"
           }
          ],
          "scatterpolargl": [
           {
            "marker": {
             "colorbar": {
              "outlinewidth": 0,
              "ticks": ""
             }
            },
            "type": "scatterpolargl"
           }
          ],
          "scatterternary": [
           {
            "marker": {
             "colorbar": {
              "outlinewidth": 0,
              "ticks": ""
             }
            },
            "type": "scatterternary"
           }
          ],
          "surface": [
           {
            "colorbar": {
             "outlinewidth": 0,
             "ticks": ""
            },
            "colorscale": [
             [
              0,
              "#0d0887"
             ],
             [
              0.1111111111111111,
              "#46039f"
             ],
             [
              0.2222222222222222,
              "#7201a8"
             ],
             [
              0.3333333333333333,
              "#9c179e"
             ],
             [
              0.4444444444444444,
              "#bd3786"
             ],
             [
              0.5555555555555556,
              "#d8576b"
             ],
             [
              0.6666666666666666,
              "#ed7953"
             ],
             [
              0.7777777777777778,
              "#fb9f3a"
             ],
             [
              0.8888888888888888,
              "#fdca26"
             ],
             [
              1,
              "#f0f921"
             ]
            ],
            "type": "surface"
           }
          ],
          "table": [
           {
            "cells": {
             "fill": {
              "color": "#EBF0F8"
             },
             "line": {
              "color": "white"
             }
            },
            "header": {
             "fill": {
              "color": "#C8D4E3"
             },
             "line": {
              "color": "white"
             }
            },
            "type": "table"
           }
          ]
         },
         "layout": {
          "annotationdefaults": {
           "arrowcolor": "#2a3f5f",
           "arrowhead": 0,
           "arrowwidth": 1
          },
          "autotypenumbers": "strict",
          "coloraxis": {
           "colorbar": {
            "outlinewidth": 0,
            "ticks": ""
           }
          },
          "colorscale": {
           "diverging": [
            [
             0,
             "#8e0152"
            ],
            [
             0.1,
             "#c51b7d"
            ],
            [
             0.2,
             "#de77ae"
            ],
            [
             0.3,
             "#f1b6da"
            ],
            [
             0.4,
             "#fde0ef"
            ],
            [
             0.5,
             "#f7f7f7"
            ],
            [
             0.6,
             "#e6f5d0"
            ],
            [
             0.7,
             "#b8e186"
            ],
            [
             0.8,
             "#7fbc41"
            ],
            [
             0.9,
             "#4d9221"
            ],
            [
             1,
             "#276419"
            ]
           ],
           "sequential": [
            [
             0,
             "#0d0887"
            ],
            [
             0.1111111111111111,
             "#46039f"
            ],
            [
             0.2222222222222222,
             "#7201a8"
            ],
            [
             0.3333333333333333,
             "#9c179e"
            ],
            [
             0.4444444444444444,
             "#bd3786"
            ],
            [
             0.5555555555555556,
             "#d8576b"
            ],
            [
             0.6666666666666666,
             "#ed7953"
            ],
            [
             0.7777777777777778,
             "#fb9f3a"
            ],
            [
             0.8888888888888888,
             "#fdca26"
            ],
            [
             1,
             "#f0f921"
            ]
           ],
           "sequentialminus": [
            [
             0,
             "#0d0887"
            ],
            [
             0.1111111111111111,
             "#46039f"
            ],
            [
             0.2222222222222222,
             "#7201a8"
            ],
            [
             0.3333333333333333,
             "#9c179e"
            ],
            [
             0.4444444444444444,
             "#bd3786"
            ],
            [
             0.5555555555555556,
             "#d8576b"
            ],
            [
             0.6666666666666666,
             "#ed7953"
            ],
            [
             0.7777777777777778,
             "#fb9f3a"
            ],
            [
             0.8888888888888888,
             "#fdca26"
            ],
            [
             1,
             "#f0f921"
            ]
           ]
          },
          "colorway": [
           "#636efa",
           "#EF553B",
           "#00cc96",
           "#ab63fa",
           "#FFA15A",
           "#19d3f3",
           "#FF6692",
           "#B6E880",
           "#FF97FF",
           "#FECB52"
          ],
          "font": {
           "color": "#2a3f5f"
          },
          "geo": {
           "bgcolor": "white",
           "lakecolor": "white",
           "landcolor": "#E5ECF6",
           "showlakes": true,
           "showland": true,
           "subunitcolor": "white"
          },
          "hoverlabel": {
           "align": "left"
          },
          "hovermode": "closest",
          "mapbox": {
           "style": "light"
          },
          "paper_bgcolor": "white",
          "plot_bgcolor": "#E5ECF6",
          "polar": {
           "angularaxis": {
            "gridcolor": "white",
            "linecolor": "white",
            "ticks": ""
           },
           "bgcolor": "#E5ECF6",
           "radialaxis": {
            "gridcolor": "white",
            "linecolor": "white",
            "ticks": ""
           }
          },
          "scene": {
           "xaxis": {
            "backgroundcolor": "#E5ECF6",
            "gridcolor": "white",
            "gridwidth": 2,
            "linecolor": "white",
            "showbackground": true,
            "ticks": "",
            "zerolinecolor": "white"
           },
           "yaxis": {
            "backgroundcolor": "#E5ECF6",
            "gridcolor": "white",
            "gridwidth": 2,
            "linecolor": "white",
            "showbackground": true,
            "ticks": "",
            "zerolinecolor": "white"
           },
           "zaxis": {
            "backgroundcolor": "#E5ECF6",
            "gridcolor": "white",
            "gridwidth": 2,
            "linecolor": "white",
            "showbackground": true,
            "ticks": "",
            "zerolinecolor": "white"
           }
          },
          "shapedefaults": {
           "line": {
            "color": "#2a3f5f"
           }
          },
          "ternary": {
           "aaxis": {
            "gridcolor": "white",
            "linecolor": "white",
            "ticks": ""
           },
           "baxis": {
            "gridcolor": "white",
            "linecolor": "white",
            "ticks": ""
           },
           "bgcolor": "#E5ECF6",
           "caxis": {
            "gridcolor": "white",
            "linecolor": "white",
            "ticks": ""
           }
          },
          "title": {
           "x": 0.05
          },
          "xaxis": {
           "automargin": true,
           "gridcolor": "white",
           "linecolor": "white",
           "ticks": "",
           "title": {
            "standoff": 15
           },
           "zerolinecolor": "white",
           "zerolinewidth": 2
          },
          "yaxis": {
           "automargin": true,
           "gridcolor": "white",
           "linecolor": "white",
           "ticks": "",
           "title": {
            "standoff": 15
           },
           "zerolinecolor": "white",
           "zerolinewidth": 2
          }
         }
        },
        "title": {
         "font": {
          "family": "Arial",
          "size": 16
         },
         "text": "Top 13 best authors",
         "x": 0.5
        },
        "xaxis": {
         "anchor": "y",
         "domain": [
          0,
          1
         ]
        },
        "yaxis": {
         "anchor": "x",
         "domain": [
          0,
          1
         ]
        }
       }
      },
      "text/html": [
       "<div>                            <div id=\"80d3e81d-f227-4306-acc0-19d8d63e682f\" class=\"plotly-graph-div\" style=\"height:525px; width:100%;\"></div>            <script type=\"text/javascript\">                require([\"plotly\"], function(Plotly) {                    window.PLOTLYENV=window.PLOTLYENV || {};                                    if (document.getElementById(\"80d3e81d-f227-4306-acc0-19d8d63e682f\")) {                    Plotly.newPlot(                        \"80d3e81d-f227-4306-acc0-19d8d63e682f\",                        [{\"cells\": {\"fill\": {\"color\": \"White\"}, \"line\": {\"color\": \"darkslategray\"}, \"values\": [[\"Nathan W. Pyle\", \"Patrick Thorpe\", \"Eric Carle\", \"Emily Winfield Martin\", \"Chip Gaines\", \"Jill Twiss\", \"Rush Limbaugh\", \"Sherri Duskey Rinker\", \"Alice Schertle\", \"Pete Souza\", \"Sarah Young\", \"Lin-Manuel Miranda\", \"Bill Martin Jr.\"], [4.9, 4.9, 4.9, 4.9, 4.9, 4.9, 4.9, 4.9, 4.9, 4.9, 4.9, 4.9, 4.9]]}, \"columnorder\": [1, 2], \"columnwidth\": [100, 50], \"header\": {\"fill\": {\"color\": \"Salmon\"}, \"height\": 30, \"line\": {\"color\": \"darkslategray\"}, \"values\": [\"Author\", \"User Rating\"]}, \"type\": \"table\"}],                        {\"font\": {\"color\": \"black\", \"family\": \"Arial\", \"size\": 12}, \"showlegend\": false, \"template\": {\"data\": {\"bar\": [{\"error_x\": {\"color\": \"#2a3f5f\"}, \"error_y\": {\"color\": \"#2a3f5f\"}, \"marker\": {\"line\": {\"color\": \"#E5ECF6\", \"width\": 0.5}}, \"type\": \"bar\"}], \"barpolar\": [{\"marker\": {\"line\": {\"color\": \"#E5ECF6\", \"width\": 0.5}}, \"type\": \"barpolar\"}], \"carpet\": [{\"aaxis\": {\"endlinecolor\": \"#2a3f5f\", \"gridcolor\": \"white\", \"linecolor\": \"white\", \"minorgridcolor\": \"white\", \"startlinecolor\": \"#2a3f5f\"}, \"baxis\": {\"endlinecolor\": \"#2a3f5f\", \"gridcolor\": \"white\", \"linecolor\": \"white\", \"minorgridcolor\": \"white\", \"startlinecolor\": \"#2a3f5f\"}, \"type\": \"carpet\"}], \"choropleth\": [{\"colorbar\": {\"outlinewidth\": 0, \"ticks\": \"\"}, \"type\": \"choropleth\"}], \"contour\": [{\"colorbar\": {\"outlinewidth\": 0, \"ticks\": \"\"}, \"colorscale\": [[0.0, \"#0d0887\"], [0.1111111111111111, \"#46039f\"], [0.2222222222222222, \"#7201a8\"], [0.3333333333333333, \"#9c179e\"], [0.4444444444444444, \"#bd3786\"], [0.5555555555555556, \"#d8576b\"], [0.6666666666666666, \"#ed7953\"], [0.7777777777777778, \"#fb9f3a\"], [0.8888888888888888, \"#fdca26\"], [1.0, \"#f0f921\"]], \"type\": \"contour\"}], \"contourcarpet\": [{\"colorbar\": {\"outlinewidth\": 0, \"ticks\": \"\"}, \"type\": \"contourcarpet\"}], \"heatmap\": [{\"colorbar\": {\"outlinewidth\": 0, \"ticks\": \"\"}, \"colorscale\": [[0.0, \"#0d0887\"], [0.1111111111111111, \"#46039f\"], [0.2222222222222222, \"#7201a8\"], [0.3333333333333333, \"#9c179e\"], [0.4444444444444444, \"#bd3786\"], [0.5555555555555556, \"#d8576b\"], [0.6666666666666666, \"#ed7953\"], [0.7777777777777778, \"#fb9f3a\"], [0.8888888888888888, \"#fdca26\"], [1.0, \"#f0f921\"]], \"type\": \"heatmap\"}], \"heatmapgl\": [{\"colorbar\": {\"outlinewidth\": 0, \"ticks\": \"\"}, \"colorscale\": [[0.0, \"#0d0887\"], [0.1111111111111111, \"#46039f\"], [0.2222222222222222, \"#7201a8\"], [0.3333333333333333, \"#9c179e\"], [0.4444444444444444, \"#bd3786\"], [0.5555555555555556, \"#d8576b\"], [0.6666666666666666, \"#ed7953\"], [0.7777777777777778, \"#fb9f3a\"], [0.8888888888888888, \"#fdca26\"], [1.0, \"#f0f921\"]], \"type\": \"heatmapgl\"}], \"histogram\": [{\"marker\": {\"colorbar\": {\"outlinewidth\": 0, \"ticks\": \"\"}}, \"type\": \"histogram\"}], \"histogram2d\": [{\"colorbar\": {\"outlinewidth\": 0, \"ticks\": \"\"}, \"colorscale\": [[0.0, \"#0d0887\"], [0.1111111111111111, \"#46039f\"], [0.2222222222222222, \"#7201a8\"], [0.3333333333333333, \"#9c179e\"], [0.4444444444444444, \"#bd3786\"], [0.5555555555555556, \"#d8576b\"], [0.6666666666666666, \"#ed7953\"], [0.7777777777777778, \"#fb9f3a\"], [0.8888888888888888, \"#fdca26\"], [1.0, \"#f0f921\"]], \"type\": \"histogram2d\"}], \"histogram2dcontour\": [{\"colorbar\": {\"outlinewidth\": 0, \"ticks\": \"\"}, \"colorscale\": [[0.0, \"#0d0887\"], [0.1111111111111111, \"#46039f\"], [0.2222222222222222, \"#7201a8\"], [0.3333333333333333, \"#9c179e\"], [0.4444444444444444, \"#bd3786\"], [0.5555555555555556, \"#d8576b\"], [0.6666666666666666, \"#ed7953\"], [0.7777777777777778, \"#fb9f3a\"], [0.8888888888888888, \"#fdca26\"], [1.0, \"#f0f921\"]], \"type\": \"histogram2dcontour\"}], \"mesh3d\": [{\"colorbar\": {\"outlinewidth\": 0, \"ticks\": \"\"}, \"type\": \"mesh3d\"}], \"parcoords\": [{\"line\": {\"colorbar\": {\"outlinewidth\": 0, \"ticks\": \"\"}}, \"type\": \"parcoords\"}], \"pie\": [{\"automargin\": true, \"type\": \"pie\"}], \"scatter\": [{\"marker\": {\"colorbar\": {\"outlinewidth\": 0, \"ticks\": \"\"}}, \"type\": \"scatter\"}], \"scatter3d\": [{\"line\": {\"colorbar\": {\"outlinewidth\": 0, \"ticks\": \"\"}}, \"marker\": {\"colorbar\": {\"outlinewidth\": 0, \"ticks\": \"\"}}, \"type\": \"scatter3d\"}], \"scattercarpet\": [{\"marker\": {\"colorbar\": {\"outlinewidth\": 0, \"ticks\": \"\"}}, \"type\": \"scattercarpet\"}], \"scattergeo\": [{\"marker\": {\"colorbar\": {\"outlinewidth\": 0, \"ticks\": \"\"}}, \"type\": \"scattergeo\"}], \"scattergl\": [{\"marker\": {\"colorbar\": {\"outlinewidth\": 0, \"ticks\": \"\"}}, \"type\": \"scattergl\"}], \"scattermapbox\": [{\"marker\": {\"colorbar\": {\"outlinewidth\": 0, \"ticks\": \"\"}}, \"type\": \"scattermapbox\"}], \"scatterpolar\": [{\"marker\": {\"colorbar\": {\"outlinewidth\": 0, \"ticks\": \"\"}}, \"type\": \"scatterpolar\"}], \"scatterpolargl\": [{\"marker\": {\"colorbar\": {\"outlinewidth\": 0, \"ticks\": \"\"}}, \"type\": \"scatterpolargl\"}], \"scatterternary\": [{\"marker\": {\"colorbar\": {\"outlinewidth\": 0, \"ticks\": \"\"}}, \"type\": \"scatterternary\"}], \"surface\": [{\"colorbar\": {\"outlinewidth\": 0, \"ticks\": \"\"}, \"colorscale\": [[0.0, \"#0d0887\"], [0.1111111111111111, \"#46039f\"], [0.2222222222222222, \"#7201a8\"], [0.3333333333333333, \"#9c179e\"], [0.4444444444444444, \"#bd3786\"], [0.5555555555555556, \"#d8576b\"], [0.6666666666666666, \"#ed7953\"], [0.7777777777777778, \"#fb9f3a\"], [0.8888888888888888, \"#fdca26\"], [1.0, \"#f0f921\"]], \"type\": \"surface\"}], \"table\": [{\"cells\": {\"fill\": {\"color\": \"#EBF0F8\"}, \"line\": {\"color\": \"white\"}}, \"header\": {\"fill\": {\"color\": \"#C8D4E3\"}, \"line\": {\"color\": \"white\"}}, \"type\": \"table\"}]}, \"layout\": {\"annotationdefaults\": {\"arrowcolor\": \"#2a3f5f\", \"arrowhead\": 0, \"arrowwidth\": 1}, \"autotypenumbers\": \"strict\", \"coloraxis\": {\"colorbar\": {\"outlinewidth\": 0, \"ticks\": \"\"}}, \"colorscale\": {\"diverging\": [[0, \"#8e0152\"], [0.1, \"#c51b7d\"], [0.2, \"#de77ae\"], [0.3, \"#f1b6da\"], [0.4, \"#fde0ef\"], [0.5, \"#f7f7f7\"], [0.6, \"#e6f5d0\"], [0.7, \"#b8e186\"], [0.8, \"#7fbc41\"], [0.9, \"#4d9221\"], [1, \"#276419\"]], \"sequential\": [[0.0, \"#0d0887\"], [0.1111111111111111, \"#46039f\"], [0.2222222222222222, \"#7201a8\"], [0.3333333333333333, \"#9c179e\"], [0.4444444444444444, \"#bd3786\"], [0.5555555555555556, \"#d8576b\"], [0.6666666666666666, \"#ed7953\"], [0.7777777777777778, \"#fb9f3a\"], [0.8888888888888888, \"#fdca26\"], [1.0, \"#f0f921\"]], \"sequentialminus\": [[0.0, \"#0d0887\"], [0.1111111111111111, \"#46039f\"], [0.2222222222222222, \"#7201a8\"], [0.3333333333333333, \"#9c179e\"], [0.4444444444444444, \"#bd3786\"], [0.5555555555555556, \"#d8576b\"], [0.6666666666666666, \"#ed7953\"], [0.7777777777777778, \"#fb9f3a\"], [0.8888888888888888, \"#fdca26\"], [1.0, \"#f0f921\"]]}, \"colorway\": [\"#636efa\", \"#EF553B\", \"#00cc96\", \"#ab63fa\", \"#FFA15A\", \"#19d3f3\", \"#FF6692\", \"#B6E880\", \"#FF97FF\", \"#FECB52\"], \"font\": {\"color\": \"#2a3f5f\"}, \"geo\": {\"bgcolor\": \"white\", \"lakecolor\": \"white\", \"landcolor\": \"#E5ECF6\", \"showlakes\": true, \"showland\": true, \"subunitcolor\": \"white\"}, \"hoverlabel\": {\"align\": \"left\"}, \"hovermode\": \"closest\", \"mapbox\": {\"style\": \"light\"}, \"paper_bgcolor\": \"white\", \"plot_bgcolor\": \"#E5ECF6\", \"polar\": {\"angularaxis\": {\"gridcolor\": \"white\", \"linecolor\": \"white\", \"ticks\": \"\"}, \"bgcolor\": \"#E5ECF6\", \"radialaxis\": {\"gridcolor\": \"white\", \"linecolor\": \"white\", \"ticks\": \"\"}}, \"scene\": {\"xaxis\": {\"backgroundcolor\": \"#E5ECF6\", \"gridcolor\": \"white\", \"gridwidth\": 2, \"linecolor\": \"white\", \"showbackground\": true, \"ticks\": \"\", \"zerolinecolor\": \"white\"}, \"yaxis\": {\"backgroundcolor\": \"#E5ECF6\", \"gridcolor\": \"white\", \"gridwidth\": 2, \"linecolor\": \"white\", \"showbackground\": true, \"ticks\": \"\", \"zerolinecolor\": \"white\"}, \"zaxis\": {\"backgroundcolor\": \"#E5ECF6\", \"gridcolor\": \"white\", \"gridwidth\": 2, \"linecolor\": \"white\", \"showbackground\": true, \"ticks\": \"\", \"zerolinecolor\": \"white\"}}, \"shapedefaults\": {\"line\": {\"color\": \"#2a3f5f\"}}, \"ternary\": {\"aaxis\": {\"gridcolor\": \"white\", \"linecolor\": \"white\", \"ticks\": \"\"}, \"baxis\": {\"gridcolor\": \"white\", \"linecolor\": \"white\", \"ticks\": \"\"}, \"bgcolor\": \"#E5ECF6\", \"caxis\": {\"gridcolor\": \"white\", \"linecolor\": \"white\", \"ticks\": \"\"}}, \"title\": {\"x\": 0.05}, \"xaxis\": {\"automargin\": true, \"gridcolor\": \"white\", \"linecolor\": \"white\", \"ticks\": \"\", \"title\": {\"standoff\": 15}, \"zerolinecolor\": \"white\", \"zerolinewidth\": 2}, \"yaxis\": {\"automargin\": true, \"gridcolor\": \"white\", \"linecolor\": \"white\", \"ticks\": \"\", \"title\": {\"standoff\": 15}, \"zerolinecolor\": \"white\", \"zerolinewidth\": 2}}}, \"title\": {\"font\": {\"family\": \"Arial\", \"size\": 16}, \"text\": \"Top 13 best authors\", \"x\": 0.5}, \"xaxis\": {\"anchor\": \"y\", \"domain\": [0.0, 1.0]}, \"yaxis\": {\"anchor\": \"x\", \"domain\": [0.0, 1.0]}},                        {\"responsive\": true}                    ).then(function(){\n",
       "                            \n",
       "var gd = document.getElementById('80d3e81d-f227-4306-acc0-19d8d63e682f');\n",
       "var x = new MutationObserver(function (mutations, observer) {{\n",
       "        var display = window.getComputedStyle(gd).display;\n",
       "        if (!display || display === 'none') {{\n",
       "            console.log([gd, 'removed!']);\n",
       "            Plotly.purge(gd);\n",
       "            observer.disconnect();\n",
       "        }}\n",
       "}});\n",
       "\n",
       "// Listen for the removal of the full notebook cells\n",
       "var notebookContainer = gd.closest('#notebook-container');\n",
       "if (notebookContainer) {{\n",
       "    x.observe(notebookContainer, {childList: true});\n",
       "}}\n",
       "\n",
       "// Listen for the clearing of the current output cell\n",
       "var outputEl = gd.closest('.output');\n",
       "if (outputEl) {{\n",
       "    x.observe(outputEl, {childList: true});\n",
       "}}\n",
       "\n",
       "                        })                };                });            </script>        </div>"
      ]
     },
     "metadata": {},
     "output_type": "display_data"
    },
    {
     "data": {
      "application/vnd.plotly.v1+json": {
       "config": {
        "plotlyServerURL": "https://plot.ly"
       },
       "data": [
        {
         "marker": {
          "color": [
           "#ff6666",
           "#f76e6e",
           "#f07575",
           "#e87d7d",
           "#e08585",
           "#d98c8c",
           "#d19494",
           "#c99c9c",
           "#c2a3a3",
           "#baabab"
          ],
          "line": {
           "color": "Gray",
           "width": 1
          }
         },
         "name": "Count books",
         "type": "bar",
         "x": [
          "Jeff Kinney",
          "Rick Riordan",
          "J.K. Rowling",
          "Stephenie Meyer",
          "Bill O'Reilly",
          "Dav Pilkey",
          "E L James",
          "Suzanne Collins",
          "John Grisham",
          "Stieg Larsson"
         ],
         "xaxis": "x",
         "y": [
          12,
          10,
          8,
          7,
          6,
          6,
          5,
          5,
          5,
          4
         ],
         "yaxis": "y"
        },
        {
         "marker": {
          "color": [
           "#ff6666",
           "#f47171",
           "#e87d7d",
           "#dd8888",
           "#d19494"
          ],
          "line": {
           "color": "Gray",
           "width": 1
          }
         },
         "name": "Reviews",
         "type": "bar",
         "x": [
          "Where the Crawdads Sing",
          "The Girl on the Train",
          "Becoming",
          "Gone Girl",
          "The Fault in Our Stars"
         ],
         "xaxis": "x2",
         "y": [
          87841,
          79446,
          61133,
          57271,
          50482
         ],
         "yaxis": "y2"
        }
       ],
       "layout": {
        "annotations": [
         {
          "font": {
           "size": 16
          },
          "showarrow": false,
          "text": "Top 10 authors by number of bestsellers",
          "x": 0.225,
          "xanchor": "center",
          "xref": "paper",
          "y": 1,
          "yanchor": "bottom",
          "yref": "paper"
         },
         {
          "font": {
           "size": 16
          },
          "showarrow": false,
          "text": "Top 5 books by number of reviews",
          "x": 0.775,
          "xanchor": "center",
          "xref": "paper",
          "y": 1,
          "yanchor": "bottom",
          "yref": "paper"
         }
        ],
        "font": {
         "color": "black",
         "family": "Arial",
         "size": 12
        },
        "plot_bgcolor": "rgba(0,0,0,0)",
        "showlegend": false,
        "template": {
         "data": {
          "bar": [
           {
            "error_x": {
             "color": "#2a3f5f"
            },
            "error_y": {
             "color": "#2a3f5f"
            },
            "marker": {
             "line": {
              "color": "#E5ECF6",
              "width": 0.5
             }
            },
            "type": "bar"
           }
          ],
          "barpolar": [
           {
            "marker": {
             "line": {
              "color": "#E5ECF6",
              "width": 0.5
             }
            },
            "type": "barpolar"
           }
          ],
          "carpet": [
           {
            "aaxis": {
             "endlinecolor": "#2a3f5f",
             "gridcolor": "white",
             "linecolor": "white",
             "minorgridcolor": "white",
             "startlinecolor": "#2a3f5f"
            },
            "baxis": {
             "endlinecolor": "#2a3f5f",
             "gridcolor": "white",
             "linecolor": "white",
             "minorgridcolor": "white",
             "startlinecolor": "#2a3f5f"
            },
            "type": "carpet"
           }
          ],
          "choropleth": [
           {
            "colorbar": {
             "outlinewidth": 0,
             "ticks": ""
            },
            "type": "choropleth"
           }
          ],
          "contour": [
           {
            "colorbar": {
             "outlinewidth": 0,
             "ticks": ""
            },
            "colorscale": [
             [
              0,
              "#0d0887"
             ],
             [
              0.1111111111111111,
              "#46039f"
             ],
             [
              0.2222222222222222,
              "#7201a8"
             ],
             [
              0.3333333333333333,
              "#9c179e"
             ],
             [
              0.4444444444444444,
              "#bd3786"
             ],
             [
              0.5555555555555556,
              "#d8576b"
             ],
             [
              0.6666666666666666,
              "#ed7953"
             ],
             [
              0.7777777777777778,
              "#fb9f3a"
             ],
             [
              0.8888888888888888,
              "#fdca26"
             ],
             [
              1,
              "#f0f921"
             ]
            ],
            "type": "contour"
           }
          ],
          "contourcarpet": [
           {
            "colorbar": {
             "outlinewidth": 0,
             "ticks": ""
            },
            "type": "contourcarpet"
           }
          ],
          "heatmap": [
           {
            "colorbar": {
             "outlinewidth": 0,
             "ticks": ""
            },
            "colorscale": [
             [
              0,
              "#0d0887"
             ],
             [
              0.1111111111111111,
              "#46039f"
             ],
             [
              0.2222222222222222,
              "#7201a8"
             ],
             [
              0.3333333333333333,
              "#9c179e"
             ],
             [
              0.4444444444444444,
              "#bd3786"
             ],
             [
              0.5555555555555556,
              "#d8576b"
             ],
             [
              0.6666666666666666,
              "#ed7953"
             ],
             [
              0.7777777777777778,
              "#fb9f3a"
             ],
             [
              0.8888888888888888,
              "#fdca26"
             ],
             [
              1,
              "#f0f921"
             ]
            ],
            "type": "heatmap"
           }
          ],
          "heatmapgl": [
           {
            "colorbar": {
             "outlinewidth": 0,
             "ticks": ""
            },
            "colorscale": [
             [
              0,
              "#0d0887"
             ],
             [
              0.1111111111111111,
              "#46039f"
             ],
             [
              0.2222222222222222,
              "#7201a8"
             ],
             [
              0.3333333333333333,
              "#9c179e"
             ],
             [
              0.4444444444444444,
              "#bd3786"
             ],
             [
              0.5555555555555556,
              "#d8576b"
             ],
             [
              0.6666666666666666,
              "#ed7953"
             ],
             [
              0.7777777777777778,
              "#fb9f3a"
             ],
             [
              0.8888888888888888,
              "#fdca26"
             ],
             [
              1,
              "#f0f921"
             ]
            ],
            "type": "heatmapgl"
           }
          ],
          "histogram": [
           {
            "marker": {
             "colorbar": {
              "outlinewidth": 0,
              "ticks": ""
             }
            },
            "type": "histogram"
           }
          ],
          "histogram2d": [
           {
            "colorbar": {
             "outlinewidth": 0,
             "ticks": ""
            },
            "colorscale": [
             [
              0,
              "#0d0887"
             ],
             [
              0.1111111111111111,
              "#46039f"
             ],
             [
              0.2222222222222222,
              "#7201a8"
             ],
             [
              0.3333333333333333,
              "#9c179e"
             ],
             [
              0.4444444444444444,
              "#bd3786"
             ],
             [
              0.5555555555555556,
              "#d8576b"
             ],
             [
              0.6666666666666666,
              "#ed7953"
             ],
             [
              0.7777777777777778,
              "#fb9f3a"
             ],
             [
              0.8888888888888888,
              "#fdca26"
             ],
             [
              1,
              "#f0f921"
             ]
            ],
            "type": "histogram2d"
           }
          ],
          "histogram2dcontour": [
           {
            "colorbar": {
             "outlinewidth": 0,
             "ticks": ""
            },
            "colorscale": [
             [
              0,
              "#0d0887"
             ],
             [
              0.1111111111111111,
              "#46039f"
             ],
             [
              0.2222222222222222,
              "#7201a8"
             ],
             [
              0.3333333333333333,
              "#9c179e"
             ],
             [
              0.4444444444444444,
              "#bd3786"
             ],
             [
              0.5555555555555556,
              "#d8576b"
             ],
             [
              0.6666666666666666,
              "#ed7953"
             ],
             [
              0.7777777777777778,
              "#fb9f3a"
             ],
             [
              0.8888888888888888,
              "#fdca26"
             ],
             [
              1,
              "#f0f921"
             ]
            ],
            "type": "histogram2dcontour"
           }
          ],
          "mesh3d": [
           {
            "colorbar": {
             "outlinewidth": 0,
             "ticks": ""
            },
            "type": "mesh3d"
           }
          ],
          "parcoords": [
           {
            "line": {
             "colorbar": {
              "outlinewidth": 0,
              "ticks": ""
             }
            },
            "type": "parcoords"
           }
          ],
          "pie": [
           {
            "automargin": true,
            "type": "pie"
           }
          ],
          "scatter": [
           {
            "marker": {
             "colorbar": {
              "outlinewidth": 0,
              "ticks": ""
             }
            },
            "type": "scatter"
           }
          ],
          "scatter3d": [
           {
            "line": {
             "colorbar": {
              "outlinewidth": 0,
              "ticks": ""
             }
            },
            "marker": {
             "colorbar": {
              "outlinewidth": 0,
              "ticks": ""
             }
            },
            "type": "scatter3d"
           }
          ],
          "scattercarpet": [
           {
            "marker": {
             "colorbar": {
              "outlinewidth": 0,
              "ticks": ""
             }
            },
            "type": "scattercarpet"
           }
          ],
          "scattergeo": [
           {
            "marker": {
             "colorbar": {
              "outlinewidth": 0,
              "ticks": ""
             }
            },
            "type": "scattergeo"
           }
          ],
          "scattergl": [
           {
            "marker": {
             "colorbar": {
              "outlinewidth": 0,
              "ticks": ""
             }
            },
            "type": "scattergl"
           }
          ],
          "scattermapbox": [
           {
            "marker": {
             "colorbar": {
              "outlinewidth": 0,
              "ticks": ""
             }
            },
            "type": "scattermapbox"
           }
          ],
          "scatterpolar": [
           {
            "marker": {
             "colorbar": {
              "outlinewidth": 0,
              "ticks": ""
             }
            },
            "type": "scatterpolar"
           }
          ],
          "scatterpolargl": [
           {
            "marker": {
             "colorbar": {
              "outlinewidth": 0,
              "ticks": ""
             }
            },
            "type": "scatterpolargl"
           }
          ],
          "scatterternary": [
           {
            "marker": {
             "colorbar": {
              "outlinewidth": 0,
              "ticks": ""
             }
            },
            "type": "scatterternary"
           }
          ],
          "surface": [
           {
            "colorbar": {
             "outlinewidth": 0,
             "ticks": ""
            },
            "colorscale": [
             [
              0,
              "#0d0887"
             ],
             [
              0.1111111111111111,
              "#46039f"
             ],
             [
              0.2222222222222222,
              "#7201a8"
             ],
             [
              0.3333333333333333,
              "#9c179e"
             ],
             [
              0.4444444444444444,
              "#bd3786"
             ],
             [
              0.5555555555555556,
              "#d8576b"
             ],
             [
              0.6666666666666666,
              "#ed7953"
             ],
             [
              0.7777777777777778,
              "#fb9f3a"
             ],
             [
              0.8888888888888888,
              "#fdca26"
             ],
             [
              1,
              "#f0f921"
             ]
            ],
            "type": "surface"
           }
          ],
          "table": [
           {
            "cells": {
             "fill": {
              "color": "#EBF0F8"
             },
             "line": {
              "color": "white"
             }
            },
            "header": {
             "fill": {
              "color": "#C8D4E3"
             },
             "line": {
              "color": "white"
             }
            },
            "type": "table"
           }
          ]
         },
         "layout": {
          "annotationdefaults": {
           "arrowcolor": "#2a3f5f",
           "arrowhead": 0,
           "arrowwidth": 1
          },
          "autotypenumbers": "strict",
          "coloraxis": {
           "colorbar": {
            "outlinewidth": 0,
            "ticks": ""
           }
          },
          "colorscale": {
           "diverging": [
            [
             0,
             "#8e0152"
            ],
            [
             0.1,
             "#c51b7d"
            ],
            [
             0.2,
             "#de77ae"
            ],
            [
             0.3,
             "#f1b6da"
            ],
            [
             0.4,
             "#fde0ef"
            ],
            [
             0.5,
             "#f7f7f7"
            ],
            [
             0.6,
             "#e6f5d0"
            ],
            [
             0.7,
             "#b8e186"
            ],
            [
             0.8,
             "#7fbc41"
            ],
            [
             0.9,
             "#4d9221"
            ],
            [
             1,
             "#276419"
            ]
           ],
           "sequential": [
            [
             0,
             "#0d0887"
            ],
            [
             0.1111111111111111,
             "#46039f"
            ],
            [
             0.2222222222222222,
             "#7201a8"
            ],
            [
             0.3333333333333333,
             "#9c179e"
            ],
            [
             0.4444444444444444,
             "#bd3786"
            ],
            [
             0.5555555555555556,
             "#d8576b"
            ],
            [
             0.6666666666666666,
             "#ed7953"
            ],
            [
             0.7777777777777778,
             "#fb9f3a"
            ],
            [
             0.8888888888888888,
             "#fdca26"
            ],
            [
             1,
             "#f0f921"
            ]
           ],
           "sequentialminus": [
            [
             0,
             "#0d0887"
            ],
            [
             0.1111111111111111,
             "#46039f"
            ],
            [
             0.2222222222222222,
             "#7201a8"
            ],
            [
             0.3333333333333333,
             "#9c179e"
            ],
            [
             0.4444444444444444,
             "#bd3786"
            ],
            [
             0.5555555555555556,
             "#d8576b"
            ],
            [
             0.6666666666666666,
             "#ed7953"
            ],
            [
             0.7777777777777778,
             "#fb9f3a"
            ],
            [
             0.8888888888888888,
             "#fdca26"
            ],
            [
             1,
             "#f0f921"
            ]
           ]
          },
          "colorway": [
           "#636efa",
           "#EF553B",
           "#00cc96",
           "#ab63fa",
           "#FFA15A",
           "#19d3f3",
           "#FF6692",
           "#B6E880",
           "#FF97FF",
           "#FECB52"
          ],
          "font": {
           "color": "#2a3f5f"
          },
          "geo": {
           "bgcolor": "white",
           "lakecolor": "white",
           "landcolor": "#E5ECF6",
           "showlakes": true,
           "showland": true,
           "subunitcolor": "white"
          },
          "hoverlabel": {
           "align": "left"
          },
          "hovermode": "closest",
          "mapbox": {
           "style": "light"
          },
          "paper_bgcolor": "white",
          "plot_bgcolor": "#E5ECF6",
          "polar": {
           "angularaxis": {
            "gridcolor": "white",
            "linecolor": "white",
            "ticks": ""
           },
           "bgcolor": "#E5ECF6",
           "radialaxis": {
            "gridcolor": "white",
            "linecolor": "white",
            "ticks": ""
           }
          },
          "scene": {
           "xaxis": {
            "backgroundcolor": "#E5ECF6",
            "gridcolor": "white",
            "gridwidth": 2,
            "linecolor": "white",
            "showbackground": true,
            "ticks": "",
            "zerolinecolor": "white"
           },
           "yaxis": {
            "backgroundcolor": "#E5ECF6",
            "gridcolor": "white",
            "gridwidth": 2,
            "linecolor": "white",
            "showbackground": true,
            "ticks": "",
            "zerolinecolor": "white"
           },
           "zaxis": {
            "backgroundcolor": "#E5ECF6",
            "gridcolor": "white",
            "gridwidth": 2,
            "linecolor": "white",
            "showbackground": true,
            "ticks": "",
            "zerolinecolor": "white"
           }
          },
          "shapedefaults": {
           "line": {
            "color": "#2a3f5f"
           }
          },
          "ternary": {
           "aaxis": {
            "gridcolor": "white",
            "linecolor": "white",
            "ticks": ""
           },
           "baxis": {
            "gridcolor": "white",
            "linecolor": "white",
            "ticks": ""
           },
           "bgcolor": "#E5ECF6",
           "caxis": {
            "gridcolor": "white",
            "linecolor": "white",
            "ticks": ""
           }
          },
          "title": {
           "x": 0.05
          },
          "xaxis": {
           "automargin": true,
           "gridcolor": "white",
           "linecolor": "white",
           "ticks": "",
           "title": {
            "standoff": 15
           },
           "zerolinecolor": "white",
           "zerolinewidth": 2
          },
          "yaxis": {
           "automargin": true,
           "gridcolor": "white",
           "linecolor": "white",
           "ticks": "",
           "title": {
            "standoff": 15
           },
           "zerolinecolor": "white",
           "zerolinewidth": 2
          }
         }
        },
        "xaxis": {
         "anchor": "y",
         "domain": [
          0,
          0.45
         ]
        },
        "xaxis2": {
         "anchor": "y2",
         "domain": [
          0.55,
          1
         ]
        },
        "yaxis": {
         "anchor": "x",
         "domain": [
          0,
          1
         ]
        },
        "yaxis2": {
         "anchor": "x2",
         "domain": [
          0,
          1
         ]
        }
       }
      },
      "text/html": [
       "<div>                            <div id=\"761c25d0-43df-473c-be6f-e5437ee8bb02\" class=\"plotly-graph-div\" style=\"height:525px; width:100%;\"></div>            <script type=\"text/javascript\">                require([\"plotly\"], function(Plotly) {                    window.PLOTLYENV=window.PLOTLYENV || {};                                    if (document.getElementById(\"761c25d0-43df-473c-be6f-e5437ee8bb02\")) {                    Plotly.newPlot(                        \"761c25d0-43df-473c-be6f-e5437ee8bb02\",                        [{\"marker\": {\"color\": [\"#ff6666\", \"#f76e6e\", \"#f07575\", \"#e87d7d\", \"#e08585\", \"#d98c8c\", \"#d19494\", \"#c99c9c\", \"#c2a3a3\", \"#baabab\"], \"line\": {\"color\": \"Gray\", \"width\": 1}}, \"name\": \"Count books\", \"type\": \"bar\", \"x\": [\"Jeff Kinney\", \"Rick Riordan\", \"J.K. Rowling\", \"Stephenie Meyer\", \"Bill O'Reilly\", \"Dav Pilkey\", \"E L James\", \"Suzanne Collins\", \"John Grisham\", \"Stieg Larsson\"], \"xaxis\": \"x\", \"y\": [12, 10, 8, 7, 6, 6, 5, 5, 5, 4], \"yaxis\": \"y\"}, {\"marker\": {\"color\": [\"#ff6666\", \"#f47171\", \"#e87d7d\", \"#dd8888\", \"#d19494\"], \"line\": {\"color\": \"Gray\", \"width\": 1}}, \"name\": \"Reviews\", \"type\": \"bar\", \"x\": [\"Where the Crawdads Sing\", \"The Girl on the Train\", \"Becoming\", \"Gone Girl\", \"The Fault in Our Stars\"], \"xaxis\": \"x2\", \"y\": [87841, 79446, 61133, 57271, 50482], \"yaxis\": \"y2\"}],                        {\"annotations\": [{\"font\": {\"size\": 16}, \"showarrow\": false, \"text\": \"Top 10 authors by number of bestsellers\", \"x\": 0.225, \"xanchor\": \"center\", \"xref\": \"paper\", \"y\": 1.0, \"yanchor\": \"bottom\", \"yref\": \"paper\"}, {\"font\": {\"size\": 16}, \"showarrow\": false, \"text\": \"Top 5 books by number of reviews\", \"x\": 0.775, \"xanchor\": \"center\", \"xref\": \"paper\", \"y\": 1.0, \"yanchor\": \"bottom\", \"yref\": \"paper\"}], \"font\": {\"color\": \"black\", \"family\": \"Arial\", \"size\": 12}, \"plot_bgcolor\": \"rgba(0,0,0,0)\", \"showlegend\": false, \"template\": {\"data\": {\"bar\": [{\"error_x\": {\"color\": \"#2a3f5f\"}, \"error_y\": {\"color\": \"#2a3f5f\"}, \"marker\": {\"line\": {\"color\": \"#E5ECF6\", \"width\": 0.5}}, \"type\": \"bar\"}], \"barpolar\": [{\"marker\": {\"line\": {\"color\": \"#E5ECF6\", \"width\": 0.5}}, \"type\": \"barpolar\"}], \"carpet\": [{\"aaxis\": {\"endlinecolor\": \"#2a3f5f\", \"gridcolor\": \"white\", \"linecolor\": \"white\", \"minorgridcolor\": \"white\", \"startlinecolor\": \"#2a3f5f\"}, \"baxis\": {\"endlinecolor\": \"#2a3f5f\", \"gridcolor\": \"white\", \"linecolor\": \"white\", \"minorgridcolor\": \"white\", \"startlinecolor\": \"#2a3f5f\"}, \"type\": \"carpet\"}], \"choropleth\": [{\"colorbar\": {\"outlinewidth\": 0, \"ticks\": \"\"}, \"type\": \"choropleth\"}], \"contour\": [{\"colorbar\": {\"outlinewidth\": 0, \"ticks\": \"\"}, \"colorscale\": [[0.0, \"#0d0887\"], [0.1111111111111111, \"#46039f\"], [0.2222222222222222, \"#7201a8\"], [0.3333333333333333, \"#9c179e\"], [0.4444444444444444, \"#bd3786\"], [0.5555555555555556, \"#d8576b\"], [0.6666666666666666, \"#ed7953\"], [0.7777777777777778, \"#fb9f3a\"], [0.8888888888888888, \"#fdca26\"], [1.0, \"#f0f921\"]], \"type\": \"contour\"}], \"contourcarpet\": [{\"colorbar\": {\"outlinewidth\": 0, \"ticks\": \"\"}, \"type\": \"contourcarpet\"}], \"heatmap\": [{\"colorbar\": {\"outlinewidth\": 0, \"ticks\": \"\"}, \"colorscale\": [[0.0, \"#0d0887\"], [0.1111111111111111, \"#46039f\"], [0.2222222222222222, \"#7201a8\"], [0.3333333333333333, \"#9c179e\"], [0.4444444444444444, \"#bd3786\"], [0.5555555555555556, \"#d8576b\"], [0.6666666666666666, \"#ed7953\"], [0.7777777777777778, \"#fb9f3a\"], [0.8888888888888888, \"#fdca26\"], [1.0, \"#f0f921\"]], \"type\": \"heatmap\"}], \"heatmapgl\": [{\"colorbar\": {\"outlinewidth\": 0, \"ticks\": \"\"}, \"colorscale\": [[0.0, \"#0d0887\"], [0.1111111111111111, \"#46039f\"], [0.2222222222222222, \"#7201a8\"], [0.3333333333333333, \"#9c179e\"], [0.4444444444444444, \"#bd3786\"], [0.5555555555555556, \"#d8576b\"], [0.6666666666666666, \"#ed7953\"], [0.7777777777777778, \"#fb9f3a\"], [0.8888888888888888, \"#fdca26\"], [1.0, \"#f0f921\"]], \"type\": \"heatmapgl\"}], \"histogram\": [{\"marker\": {\"colorbar\": {\"outlinewidth\": 0, \"ticks\": \"\"}}, \"type\": \"histogram\"}], \"histogram2d\": [{\"colorbar\": {\"outlinewidth\": 0, \"ticks\": \"\"}, \"colorscale\": [[0.0, \"#0d0887\"], [0.1111111111111111, \"#46039f\"], [0.2222222222222222, \"#7201a8\"], [0.3333333333333333, \"#9c179e\"], [0.4444444444444444, \"#bd3786\"], [0.5555555555555556, \"#d8576b\"], [0.6666666666666666, \"#ed7953\"], [0.7777777777777778, \"#fb9f3a\"], [0.8888888888888888, \"#fdca26\"], [1.0, \"#f0f921\"]], \"type\": \"histogram2d\"}], \"histogram2dcontour\": [{\"colorbar\": {\"outlinewidth\": 0, \"ticks\": \"\"}, \"colorscale\": [[0.0, \"#0d0887\"], [0.1111111111111111, \"#46039f\"], [0.2222222222222222, \"#7201a8\"], [0.3333333333333333, \"#9c179e\"], [0.4444444444444444, \"#bd3786\"], [0.5555555555555556, \"#d8576b\"], [0.6666666666666666, \"#ed7953\"], [0.7777777777777778, \"#fb9f3a\"], [0.8888888888888888, \"#fdca26\"], [1.0, \"#f0f921\"]], \"type\": \"histogram2dcontour\"}], \"mesh3d\": [{\"colorbar\": {\"outlinewidth\": 0, \"ticks\": \"\"}, \"type\": \"mesh3d\"}], \"parcoords\": [{\"line\": {\"colorbar\": {\"outlinewidth\": 0, \"ticks\": \"\"}}, \"type\": \"parcoords\"}], \"pie\": [{\"automargin\": true, \"type\": \"pie\"}], \"scatter\": [{\"marker\": {\"colorbar\": {\"outlinewidth\": 0, \"ticks\": \"\"}}, \"type\": \"scatter\"}], \"scatter3d\": [{\"line\": {\"colorbar\": {\"outlinewidth\": 0, \"ticks\": \"\"}}, \"marker\": {\"colorbar\": {\"outlinewidth\": 0, \"ticks\": \"\"}}, \"type\": \"scatter3d\"}], \"scattercarpet\": [{\"marker\": {\"colorbar\": {\"outlinewidth\": 0, \"ticks\": \"\"}}, \"type\": \"scattercarpet\"}], \"scattergeo\": [{\"marker\": {\"colorbar\": {\"outlinewidth\": 0, \"ticks\": \"\"}}, \"type\": \"scattergeo\"}], \"scattergl\": [{\"marker\": {\"colorbar\": {\"outlinewidth\": 0, \"ticks\": \"\"}}, \"type\": \"scattergl\"}], \"scattermapbox\": [{\"marker\": {\"colorbar\": {\"outlinewidth\": 0, \"ticks\": \"\"}}, \"type\": \"scattermapbox\"}], \"scatterpolar\": [{\"marker\": {\"colorbar\": {\"outlinewidth\": 0, \"ticks\": \"\"}}, \"type\": \"scatterpolar\"}], \"scatterpolargl\": [{\"marker\": {\"colorbar\": {\"outlinewidth\": 0, \"ticks\": \"\"}}, \"type\": \"scatterpolargl\"}], \"scatterternary\": [{\"marker\": {\"colorbar\": {\"outlinewidth\": 0, \"ticks\": \"\"}}, \"type\": \"scatterternary\"}], \"surface\": [{\"colorbar\": {\"outlinewidth\": 0, \"ticks\": \"\"}, \"colorscale\": [[0.0, \"#0d0887\"], [0.1111111111111111, \"#46039f\"], [0.2222222222222222, \"#7201a8\"], [0.3333333333333333, \"#9c179e\"], [0.4444444444444444, \"#bd3786\"], [0.5555555555555556, \"#d8576b\"], [0.6666666666666666, \"#ed7953\"], [0.7777777777777778, \"#fb9f3a\"], [0.8888888888888888, \"#fdca26\"], [1.0, \"#f0f921\"]], \"type\": \"surface\"}], \"table\": [{\"cells\": {\"fill\": {\"color\": \"#EBF0F8\"}, \"line\": {\"color\": \"white\"}}, \"header\": {\"fill\": {\"color\": \"#C8D4E3\"}, \"line\": {\"color\": \"white\"}}, \"type\": \"table\"}]}, \"layout\": {\"annotationdefaults\": {\"arrowcolor\": \"#2a3f5f\", \"arrowhead\": 0, \"arrowwidth\": 1}, \"autotypenumbers\": \"strict\", \"coloraxis\": {\"colorbar\": {\"outlinewidth\": 0, \"ticks\": \"\"}}, \"colorscale\": {\"diverging\": [[0, \"#8e0152\"], [0.1, \"#c51b7d\"], [0.2, \"#de77ae\"], [0.3, \"#f1b6da\"], [0.4, \"#fde0ef\"], [0.5, \"#f7f7f7\"], [0.6, \"#e6f5d0\"], [0.7, \"#b8e186\"], [0.8, \"#7fbc41\"], [0.9, \"#4d9221\"], [1, \"#276419\"]], \"sequential\": [[0.0, \"#0d0887\"], [0.1111111111111111, \"#46039f\"], [0.2222222222222222, \"#7201a8\"], [0.3333333333333333, \"#9c179e\"], [0.4444444444444444, \"#bd3786\"], [0.5555555555555556, \"#d8576b\"], [0.6666666666666666, \"#ed7953\"], [0.7777777777777778, \"#fb9f3a\"], [0.8888888888888888, \"#fdca26\"], [1.0, \"#f0f921\"]], \"sequentialminus\": [[0.0, \"#0d0887\"], [0.1111111111111111, \"#46039f\"], [0.2222222222222222, \"#7201a8\"], [0.3333333333333333, \"#9c179e\"], [0.4444444444444444, \"#bd3786\"], [0.5555555555555556, \"#d8576b\"], [0.6666666666666666, \"#ed7953\"], [0.7777777777777778, \"#fb9f3a\"], [0.8888888888888888, \"#fdca26\"], [1.0, \"#f0f921\"]]}, \"colorway\": [\"#636efa\", \"#EF553B\", \"#00cc96\", \"#ab63fa\", \"#FFA15A\", \"#19d3f3\", \"#FF6692\", \"#B6E880\", \"#FF97FF\", \"#FECB52\"], \"font\": {\"color\": \"#2a3f5f\"}, \"geo\": {\"bgcolor\": \"white\", \"lakecolor\": \"white\", \"landcolor\": \"#E5ECF6\", \"showlakes\": true, \"showland\": true, \"subunitcolor\": \"white\"}, \"hoverlabel\": {\"align\": \"left\"}, \"hovermode\": \"closest\", \"mapbox\": {\"style\": \"light\"}, \"paper_bgcolor\": \"white\", \"plot_bgcolor\": \"#E5ECF6\", \"polar\": {\"angularaxis\": {\"gridcolor\": \"white\", \"linecolor\": \"white\", \"ticks\": \"\"}, \"bgcolor\": \"#E5ECF6\", \"radialaxis\": {\"gridcolor\": \"white\", \"linecolor\": \"white\", \"ticks\": \"\"}}, \"scene\": {\"xaxis\": {\"backgroundcolor\": \"#E5ECF6\", \"gridcolor\": \"white\", \"gridwidth\": 2, \"linecolor\": \"white\", \"showbackground\": true, \"ticks\": \"\", \"zerolinecolor\": \"white\"}, \"yaxis\": {\"backgroundcolor\": \"#E5ECF6\", \"gridcolor\": \"white\", \"gridwidth\": 2, \"linecolor\": \"white\", \"showbackground\": true, \"ticks\": \"\", \"zerolinecolor\": \"white\"}, \"zaxis\": {\"backgroundcolor\": \"#E5ECF6\", \"gridcolor\": \"white\", \"gridwidth\": 2, \"linecolor\": \"white\", \"showbackground\": true, \"ticks\": \"\", \"zerolinecolor\": \"white\"}}, \"shapedefaults\": {\"line\": {\"color\": \"#2a3f5f\"}}, \"ternary\": {\"aaxis\": {\"gridcolor\": \"white\", \"linecolor\": \"white\", \"ticks\": \"\"}, \"baxis\": {\"gridcolor\": \"white\", \"linecolor\": \"white\", \"ticks\": \"\"}, \"bgcolor\": \"#E5ECF6\", \"caxis\": {\"gridcolor\": \"white\", \"linecolor\": \"white\", \"ticks\": \"\"}}, \"title\": {\"x\": 0.05}, \"xaxis\": {\"automargin\": true, \"gridcolor\": \"white\", \"linecolor\": \"white\", \"ticks\": \"\", \"title\": {\"standoff\": 15}, \"zerolinecolor\": \"white\", \"zerolinewidth\": 2}, \"yaxis\": {\"automargin\": true, \"gridcolor\": \"white\", \"linecolor\": \"white\", \"ticks\": \"\", \"title\": {\"standoff\": 15}, \"zerolinecolor\": \"white\", \"zerolinewidth\": 2}}}, \"xaxis\": {\"anchor\": \"y\", \"domain\": [0.0, 0.45]}, \"xaxis2\": {\"anchor\": \"y2\", \"domain\": [0.55, 1.0]}, \"yaxis\": {\"anchor\": \"x\", \"domain\": [0.0, 1.0]}, \"yaxis2\": {\"anchor\": \"x2\", \"domain\": [0.0, 1.0]}},                        {\"responsive\": true}                    ).then(function(){\n",
       "                            \n",
       "var gd = document.getElementById('761c25d0-43df-473c-be6f-e5437ee8bb02');\n",
       "var x = new MutationObserver(function (mutations, observer) {{\n",
       "        var display = window.getComputedStyle(gd).display;\n",
       "        if (!display || display === 'none') {{\n",
       "            console.log([gd, 'removed!']);\n",
       "            Plotly.purge(gd);\n",
       "            observer.disconnect();\n",
       "        }}\n",
       "}});\n",
       "\n",
       "// Listen for the removal of the full notebook cells\n",
       "var notebookContainer = gd.closest('#notebook-container');\n",
       "if (notebookContainer) {{\n",
       "    x.observe(notebookContainer, {childList: true});\n",
       "}}\n",
       "\n",
       "// Listen for the clearing of the current output cell\n",
       "var outputEl = gd.closest('.output');\n",
       "if (outputEl) {{\n",
       "    x.observe(outputEl, {childList: true});\n",
       "}}\n",
       "\n",
       "                        })                };                });            </script>        </div>"
      ]
     },
     "metadata": {},
     "output_type": "display_data"
    },
    {
     "data": {
      "application/vnd.plotly.v1+json": {
       "config": {
        "plotlyServerURL": "https://plot.ly"
       },
       "data": [
        {
         "hole": 0.3,
         "insidetextorientation": "radial",
         "labels": [
          "Non Fiction",
          "Fiction"
         ],
         "marker": {
          "colors": [
           "Gray",
           "Salmon"
          ],
          "line": {
           "color": "Gray",
           "width": 1
          }
         },
         "textfont": {
          "color": "#FFFFFF",
          "size": 12
         },
         "textinfo": "label+percent",
         "title": {
          "text": "Genre"
         },
         "type": "pie",
         "values": [
          191,
          160
         ]
        }
       ],
       "layout": {
        "font": {
         "color": "black",
         "family": "Arial",
         "size": 12
        },
        "margin": {
         "t": 30
        },
        "showlegend": false,
        "template": {
         "data": {
          "bar": [
           {
            "error_x": {
             "color": "#2a3f5f"
            },
            "error_y": {
             "color": "#2a3f5f"
            },
            "marker": {
             "line": {
              "color": "#E5ECF6",
              "width": 0.5
             }
            },
            "type": "bar"
           }
          ],
          "barpolar": [
           {
            "marker": {
             "line": {
              "color": "#E5ECF6",
              "width": 0.5
             }
            },
            "type": "barpolar"
           }
          ],
          "carpet": [
           {
            "aaxis": {
             "endlinecolor": "#2a3f5f",
             "gridcolor": "white",
             "linecolor": "white",
             "minorgridcolor": "white",
             "startlinecolor": "#2a3f5f"
            },
            "baxis": {
             "endlinecolor": "#2a3f5f",
             "gridcolor": "white",
             "linecolor": "white",
             "minorgridcolor": "white",
             "startlinecolor": "#2a3f5f"
            },
            "type": "carpet"
           }
          ],
          "choropleth": [
           {
            "colorbar": {
             "outlinewidth": 0,
             "ticks": ""
            },
            "type": "choropleth"
           }
          ],
          "contour": [
           {
            "colorbar": {
             "outlinewidth": 0,
             "ticks": ""
            },
            "colorscale": [
             [
              0,
              "#0d0887"
             ],
             [
              0.1111111111111111,
              "#46039f"
             ],
             [
              0.2222222222222222,
              "#7201a8"
             ],
             [
              0.3333333333333333,
              "#9c179e"
             ],
             [
              0.4444444444444444,
              "#bd3786"
             ],
             [
              0.5555555555555556,
              "#d8576b"
             ],
             [
              0.6666666666666666,
              "#ed7953"
             ],
             [
              0.7777777777777778,
              "#fb9f3a"
             ],
             [
              0.8888888888888888,
              "#fdca26"
             ],
             [
              1,
              "#f0f921"
             ]
            ],
            "type": "contour"
           }
          ],
          "contourcarpet": [
           {
            "colorbar": {
             "outlinewidth": 0,
             "ticks": ""
            },
            "type": "contourcarpet"
           }
          ],
          "heatmap": [
           {
            "colorbar": {
             "outlinewidth": 0,
             "ticks": ""
            },
            "colorscale": [
             [
              0,
              "#0d0887"
             ],
             [
              0.1111111111111111,
              "#46039f"
             ],
             [
              0.2222222222222222,
              "#7201a8"
             ],
             [
              0.3333333333333333,
              "#9c179e"
             ],
             [
              0.4444444444444444,
              "#bd3786"
             ],
             [
              0.5555555555555556,
              "#d8576b"
             ],
             [
              0.6666666666666666,
              "#ed7953"
             ],
             [
              0.7777777777777778,
              "#fb9f3a"
             ],
             [
              0.8888888888888888,
              "#fdca26"
             ],
             [
              1,
              "#f0f921"
             ]
            ],
            "type": "heatmap"
           }
          ],
          "heatmapgl": [
           {
            "colorbar": {
             "outlinewidth": 0,
             "ticks": ""
            },
            "colorscale": [
             [
              0,
              "#0d0887"
             ],
             [
              0.1111111111111111,
              "#46039f"
             ],
             [
              0.2222222222222222,
              "#7201a8"
             ],
             [
              0.3333333333333333,
              "#9c179e"
             ],
             [
              0.4444444444444444,
              "#bd3786"
             ],
             [
              0.5555555555555556,
              "#d8576b"
             ],
             [
              0.6666666666666666,
              "#ed7953"
             ],
             [
              0.7777777777777778,
              "#fb9f3a"
             ],
             [
              0.8888888888888888,
              "#fdca26"
             ],
             [
              1,
              "#f0f921"
             ]
            ],
            "type": "heatmapgl"
           }
          ],
          "histogram": [
           {
            "marker": {
             "colorbar": {
              "outlinewidth": 0,
              "ticks": ""
             }
            },
            "type": "histogram"
           }
          ],
          "histogram2d": [
           {
            "colorbar": {
             "outlinewidth": 0,
             "ticks": ""
            },
            "colorscale": [
             [
              0,
              "#0d0887"
             ],
             [
              0.1111111111111111,
              "#46039f"
             ],
             [
              0.2222222222222222,
              "#7201a8"
             ],
             [
              0.3333333333333333,
              "#9c179e"
             ],
             [
              0.4444444444444444,
              "#bd3786"
             ],
             [
              0.5555555555555556,
              "#d8576b"
             ],
             [
              0.6666666666666666,
              "#ed7953"
             ],
             [
              0.7777777777777778,
              "#fb9f3a"
             ],
             [
              0.8888888888888888,
              "#fdca26"
             ],
             [
              1,
              "#f0f921"
             ]
            ],
            "type": "histogram2d"
           }
          ],
          "histogram2dcontour": [
           {
            "colorbar": {
             "outlinewidth": 0,
             "ticks": ""
            },
            "colorscale": [
             [
              0,
              "#0d0887"
             ],
             [
              0.1111111111111111,
              "#46039f"
             ],
             [
              0.2222222222222222,
              "#7201a8"
             ],
             [
              0.3333333333333333,
              "#9c179e"
             ],
             [
              0.4444444444444444,
              "#bd3786"
             ],
             [
              0.5555555555555556,
              "#d8576b"
             ],
             [
              0.6666666666666666,
              "#ed7953"
             ],
             [
              0.7777777777777778,
              "#fb9f3a"
             ],
             [
              0.8888888888888888,
              "#fdca26"
             ],
             [
              1,
              "#f0f921"
             ]
            ],
            "type": "histogram2dcontour"
           }
          ],
          "mesh3d": [
           {
            "colorbar": {
             "outlinewidth": 0,
             "ticks": ""
            },
            "type": "mesh3d"
           }
          ],
          "parcoords": [
           {
            "line": {
             "colorbar": {
              "outlinewidth": 0,
              "ticks": ""
             }
            },
            "type": "parcoords"
           }
          ],
          "pie": [
           {
            "automargin": true,
            "type": "pie"
           }
          ],
          "scatter": [
           {
            "marker": {
             "colorbar": {
              "outlinewidth": 0,
              "ticks": ""
             }
            },
            "type": "scatter"
           }
          ],
          "scatter3d": [
           {
            "line": {
             "colorbar": {
              "outlinewidth": 0,
              "ticks": ""
             }
            },
            "marker": {
             "colorbar": {
              "outlinewidth": 0,
              "ticks": ""
             }
            },
            "type": "scatter3d"
           }
          ],
          "scattercarpet": [
           {
            "marker": {
             "colorbar": {
              "outlinewidth": 0,
              "ticks": ""
             }
            },
            "type": "scattercarpet"
           }
          ],
          "scattergeo": [
           {
            "marker": {
             "colorbar": {
              "outlinewidth": 0,
              "ticks": ""
             }
            },
            "type": "scattergeo"
           }
          ],
          "scattergl": [
           {
            "marker": {
             "colorbar": {
              "outlinewidth": 0,
              "ticks": ""
             }
            },
            "type": "scattergl"
           }
          ],
          "scattermapbox": [
           {
            "marker": {
             "colorbar": {
              "outlinewidth": 0,
              "ticks": ""
             }
            },
            "type": "scattermapbox"
           }
          ],
          "scatterpolar": [
           {
            "marker": {
             "colorbar": {
              "outlinewidth": 0,
              "ticks": ""
             }
            },
            "type": "scatterpolar"
           }
          ],
          "scatterpolargl": [
           {
            "marker": {
             "colorbar": {
              "outlinewidth": 0,
              "ticks": ""
             }
            },
            "type": "scatterpolargl"
           }
          ],
          "scatterternary": [
           {
            "marker": {
             "colorbar": {
              "outlinewidth": 0,
              "ticks": ""
             }
            },
            "type": "scatterternary"
           }
          ],
          "surface": [
           {
            "colorbar": {
             "outlinewidth": 0,
             "ticks": ""
            },
            "colorscale": [
             [
              0,
              "#0d0887"
             ],
             [
              0.1111111111111111,
              "#46039f"
             ],
             [
              0.2222222222222222,
              "#7201a8"
             ],
             [
              0.3333333333333333,
              "#9c179e"
             ],
             [
              0.4444444444444444,
              "#bd3786"
             ],
             [
              0.5555555555555556,
              "#d8576b"
             ],
             [
              0.6666666666666666,
              "#ed7953"
             ],
             [
              0.7777777777777778,
              "#fb9f3a"
             ],
             [
              0.8888888888888888,
              "#fdca26"
             ],
             [
              1,
              "#f0f921"
             ]
            ],
            "type": "surface"
           }
          ],
          "table": [
           {
            "cells": {
             "fill": {
              "color": "#EBF0F8"
             },
             "line": {
              "color": "white"
             }
            },
            "header": {
             "fill": {
              "color": "#C8D4E3"
             },
             "line": {
              "color": "white"
             }
            },
            "type": "table"
           }
          ]
         },
         "layout": {
          "annotationdefaults": {
           "arrowcolor": "#2a3f5f",
           "arrowhead": 0,
           "arrowwidth": 1
          },
          "autotypenumbers": "strict",
          "coloraxis": {
           "colorbar": {
            "outlinewidth": 0,
            "ticks": ""
           }
          },
          "colorscale": {
           "diverging": [
            [
             0,
             "#8e0152"
            ],
            [
             0.1,
             "#c51b7d"
            ],
            [
             0.2,
             "#de77ae"
            ],
            [
             0.3,
             "#f1b6da"
            ],
            [
             0.4,
             "#fde0ef"
            ],
            [
             0.5,
             "#f7f7f7"
            ],
            [
             0.6,
             "#e6f5d0"
            ],
            [
             0.7,
             "#b8e186"
            ],
            [
             0.8,
             "#7fbc41"
            ],
            [
             0.9,
             "#4d9221"
            ],
            [
             1,
             "#276419"
            ]
           ],
           "sequential": [
            [
             0,
             "#0d0887"
            ],
            [
             0.1111111111111111,
             "#46039f"
            ],
            [
             0.2222222222222222,
             "#7201a8"
            ],
            [
             0.3333333333333333,
             "#9c179e"
            ],
            [
             0.4444444444444444,
             "#bd3786"
            ],
            [
             0.5555555555555556,
             "#d8576b"
            ],
            [
             0.6666666666666666,
             "#ed7953"
            ],
            [
             0.7777777777777778,
             "#fb9f3a"
            ],
            [
             0.8888888888888888,
             "#fdca26"
            ],
            [
             1,
             "#f0f921"
            ]
           ],
           "sequentialminus": [
            [
             0,
             "#0d0887"
            ],
            [
             0.1111111111111111,
             "#46039f"
            ],
            [
             0.2222222222222222,
             "#7201a8"
            ],
            [
             0.3333333333333333,
             "#9c179e"
            ],
            [
             0.4444444444444444,
             "#bd3786"
            ],
            [
             0.5555555555555556,
             "#d8576b"
            ],
            [
             0.6666666666666666,
             "#ed7953"
            ],
            [
             0.7777777777777778,
             "#fb9f3a"
            ],
            [
             0.8888888888888888,
             "#fdca26"
            ],
            [
             1,
             "#f0f921"
            ]
           ]
          },
          "colorway": [
           "#636efa",
           "#EF553B",
           "#00cc96",
           "#ab63fa",
           "#FFA15A",
           "#19d3f3",
           "#FF6692",
           "#B6E880",
           "#FF97FF",
           "#FECB52"
          ],
          "font": {
           "color": "#2a3f5f"
          },
          "geo": {
           "bgcolor": "white",
           "lakecolor": "white",
           "landcolor": "#E5ECF6",
           "showlakes": true,
           "showland": true,
           "subunitcolor": "white"
          },
          "hoverlabel": {
           "align": "left"
          },
          "hovermode": "closest",
          "mapbox": {
           "style": "light"
          },
          "paper_bgcolor": "white",
          "plot_bgcolor": "#E5ECF6",
          "polar": {
           "angularaxis": {
            "gridcolor": "white",
            "linecolor": "white",
            "ticks": ""
           },
           "bgcolor": "#E5ECF6",
           "radialaxis": {
            "gridcolor": "white",
            "linecolor": "white",
            "ticks": ""
           }
          },
          "scene": {
           "xaxis": {
            "backgroundcolor": "#E5ECF6",
            "gridcolor": "white",
            "gridwidth": 2,
            "linecolor": "white",
            "showbackground": true,
            "ticks": "",
            "zerolinecolor": "white"
           },
           "yaxis": {
            "backgroundcolor": "#E5ECF6",
            "gridcolor": "white",
            "gridwidth": 2,
            "linecolor": "white",
            "showbackground": true,
            "ticks": "",
            "zerolinecolor": "white"
           },
           "zaxis": {
            "backgroundcolor": "#E5ECF6",
            "gridcolor": "white",
            "gridwidth": 2,
            "linecolor": "white",
            "showbackground": true,
            "ticks": "",
            "zerolinecolor": "white"
           }
          },
          "shapedefaults": {
           "line": {
            "color": "#2a3f5f"
           }
          },
          "ternary": {
           "aaxis": {
            "gridcolor": "white",
            "linecolor": "white",
            "ticks": ""
           },
           "baxis": {
            "gridcolor": "white",
            "linecolor": "white",
            "ticks": ""
           },
           "bgcolor": "#E5ECF6",
           "caxis": {
            "gridcolor": "white",
            "linecolor": "white",
            "ticks": ""
           }
          },
          "title": {
           "x": 0.05
          },
          "xaxis": {
           "automargin": true,
           "gridcolor": "white",
           "linecolor": "white",
           "ticks": "",
           "title": {
            "standoff": 15
           },
           "zerolinecolor": "white",
           "zerolinewidth": 2
          },
          "yaxis": {
           "automargin": true,
           "gridcolor": "white",
           "linecolor": "white",
           "ticks": "",
           "title": {
            "standoff": 15
           },
           "zerolinecolor": "white",
           "zerolinewidth": 2
          }
         }
        },
        "title": {
         "text": "Count of books genre",
         "x": 0.5
        }
       }
      },
      "text/html": [
       "<div>                            <div id=\"0fec3ced-3a54-45a1-a4a1-f69907d27801\" class=\"plotly-graph-div\" style=\"height:525px; width:100%;\"></div>            <script type=\"text/javascript\">                require([\"plotly\"], function(Plotly) {                    window.PLOTLYENV=window.PLOTLYENV || {};                                    if (document.getElementById(\"0fec3ced-3a54-45a1-a4a1-f69907d27801\")) {                    Plotly.newPlot(                        \"0fec3ced-3a54-45a1-a4a1-f69907d27801\",                        [{\"hole\": 0.3, \"insidetextorientation\": \"radial\", \"labels\": [\"Non Fiction\", \"Fiction\"], \"marker\": {\"colors\": [\"Gray\", \"Salmon\"], \"line\": {\"color\": \"Gray\", \"width\": 1}}, \"textfont\": {\"color\": \"#FFFFFF\", \"size\": 12}, \"textinfo\": \"label+percent\", \"title\": {\"text\": \"Genre\"}, \"type\": \"pie\", \"values\": [191, 160]}],                        {\"font\": {\"color\": \"black\", \"family\": \"Arial\", \"size\": 12}, \"margin\": {\"t\": 30}, \"showlegend\": false, \"template\": {\"data\": {\"bar\": [{\"error_x\": {\"color\": \"#2a3f5f\"}, \"error_y\": {\"color\": \"#2a3f5f\"}, \"marker\": {\"line\": {\"color\": \"#E5ECF6\", \"width\": 0.5}}, \"type\": \"bar\"}], \"barpolar\": [{\"marker\": {\"line\": {\"color\": \"#E5ECF6\", \"width\": 0.5}}, \"type\": \"barpolar\"}], \"carpet\": [{\"aaxis\": {\"endlinecolor\": \"#2a3f5f\", \"gridcolor\": \"white\", \"linecolor\": \"white\", \"minorgridcolor\": \"white\", \"startlinecolor\": \"#2a3f5f\"}, \"baxis\": {\"endlinecolor\": \"#2a3f5f\", \"gridcolor\": \"white\", \"linecolor\": \"white\", \"minorgridcolor\": \"white\", \"startlinecolor\": \"#2a3f5f\"}, \"type\": \"carpet\"}], \"choropleth\": [{\"colorbar\": {\"outlinewidth\": 0, \"ticks\": \"\"}, \"type\": \"choropleth\"}], \"contour\": [{\"colorbar\": {\"outlinewidth\": 0, \"ticks\": \"\"}, \"colorscale\": [[0.0, \"#0d0887\"], [0.1111111111111111, \"#46039f\"], [0.2222222222222222, \"#7201a8\"], [0.3333333333333333, \"#9c179e\"], [0.4444444444444444, \"#bd3786\"], [0.5555555555555556, \"#d8576b\"], [0.6666666666666666, \"#ed7953\"], [0.7777777777777778, \"#fb9f3a\"], [0.8888888888888888, \"#fdca26\"], [1.0, \"#f0f921\"]], \"type\": \"contour\"}], \"contourcarpet\": [{\"colorbar\": {\"outlinewidth\": 0, \"ticks\": \"\"}, \"type\": \"contourcarpet\"}], \"heatmap\": [{\"colorbar\": {\"outlinewidth\": 0, \"ticks\": \"\"}, \"colorscale\": [[0.0, \"#0d0887\"], [0.1111111111111111, \"#46039f\"], [0.2222222222222222, \"#7201a8\"], [0.3333333333333333, \"#9c179e\"], [0.4444444444444444, \"#bd3786\"], [0.5555555555555556, \"#d8576b\"], [0.6666666666666666, \"#ed7953\"], [0.7777777777777778, \"#fb9f3a\"], [0.8888888888888888, \"#fdca26\"], [1.0, \"#f0f921\"]], \"type\": \"heatmap\"}], \"heatmapgl\": [{\"colorbar\": {\"outlinewidth\": 0, \"ticks\": \"\"}, \"colorscale\": [[0.0, \"#0d0887\"], [0.1111111111111111, \"#46039f\"], [0.2222222222222222, \"#7201a8\"], [0.3333333333333333, \"#9c179e\"], [0.4444444444444444, \"#bd3786\"], [0.5555555555555556, \"#d8576b\"], [0.6666666666666666, \"#ed7953\"], [0.7777777777777778, \"#fb9f3a\"], [0.8888888888888888, \"#fdca26\"], [1.0, \"#f0f921\"]], \"type\": \"heatmapgl\"}], \"histogram\": [{\"marker\": {\"colorbar\": {\"outlinewidth\": 0, \"ticks\": \"\"}}, \"type\": \"histogram\"}], \"histogram2d\": [{\"colorbar\": {\"outlinewidth\": 0, \"ticks\": \"\"}, \"colorscale\": [[0.0, \"#0d0887\"], [0.1111111111111111, \"#46039f\"], [0.2222222222222222, \"#7201a8\"], [0.3333333333333333, \"#9c179e\"], [0.4444444444444444, \"#bd3786\"], [0.5555555555555556, \"#d8576b\"], [0.6666666666666666, \"#ed7953\"], [0.7777777777777778, \"#fb9f3a\"], [0.8888888888888888, \"#fdca26\"], [1.0, \"#f0f921\"]], \"type\": \"histogram2d\"}], \"histogram2dcontour\": [{\"colorbar\": {\"outlinewidth\": 0, \"ticks\": \"\"}, \"colorscale\": [[0.0, \"#0d0887\"], [0.1111111111111111, \"#46039f\"], [0.2222222222222222, \"#7201a8\"], [0.3333333333333333, \"#9c179e\"], [0.4444444444444444, \"#bd3786\"], [0.5555555555555556, \"#d8576b\"], [0.6666666666666666, \"#ed7953\"], [0.7777777777777778, \"#fb9f3a\"], [0.8888888888888888, \"#fdca26\"], [1.0, \"#f0f921\"]], \"type\": \"histogram2dcontour\"}], \"mesh3d\": [{\"colorbar\": {\"outlinewidth\": 0, \"ticks\": \"\"}, \"type\": \"mesh3d\"}], \"parcoords\": [{\"line\": {\"colorbar\": {\"outlinewidth\": 0, \"ticks\": \"\"}}, \"type\": \"parcoords\"}], \"pie\": [{\"automargin\": true, \"type\": \"pie\"}], \"scatter\": [{\"marker\": {\"colorbar\": {\"outlinewidth\": 0, \"ticks\": \"\"}}, \"type\": \"scatter\"}], \"scatter3d\": [{\"line\": {\"colorbar\": {\"outlinewidth\": 0, \"ticks\": \"\"}}, \"marker\": {\"colorbar\": {\"outlinewidth\": 0, \"ticks\": \"\"}}, \"type\": \"scatter3d\"}], \"scattercarpet\": [{\"marker\": {\"colorbar\": {\"outlinewidth\": 0, \"ticks\": \"\"}}, \"type\": \"scattercarpet\"}], \"scattergeo\": [{\"marker\": {\"colorbar\": {\"outlinewidth\": 0, \"ticks\": \"\"}}, \"type\": \"scattergeo\"}], \"scattergl\": [{\"marker\": {\"colorbar\": {\"outlinewidth\": 0, \"ticks\": \"\"}}, \"type\": \"scattergl\"}], \"scattermapbox\": [{\"marker\": {\"colorbar\": {\"outlinewidth\": 0, \"ticks\": \"\"}}, \"type\": \"scattermapbox\"}], \"scatterpolar\": [{\"marker\": {\"colorbar\": {\"outlinewidth\": 0, \"ticks\": \"\"}}, \"type\": \"scatterpolar\"}], \"scatterpolargl\": [{\"marker\": {\"colorbar\": {\"outlinewidth\": 0, \"ticks\": \"\"}}, \"type\": \"scatterpolargl\"}], \"scatterternary\": [{\"marker\": {\"colorbar\": {\"outlinewidth\": 0, \"ticks\": \"\"}}, \"type\": \"scatterternary\"}], \"surface\": [{\"colorbar\": {\"outlinewidth\": 0, \"ticks\": \"\"}, \"colorscale\": [[0.0, \"#0d0887\"], [0.1111111111111111, \"#46039f\"], [0.2222222222222222, \"#7201a8\"], [0.3333333333333333, \"#9c179e\"], [0.4444444444444444, \"#bd3786\"], [0.5555555555555556, \"#d8576b\"], [0.6666666666666666, \"#ed7953\"], [0.7777777777777778, \"#fb9f3a\"], [0.8888888888888888, \"#fdca26\"], [1.0, \"#f0f921\"]], \"type\": \"surface\"}], \"table\": [{\"cells\": {\"fill\": {\"color\": \"#EBF0F8\"}, \"line\": {\"color\": \"white\"}}, \"header\": {\"fill\": {\"color\": \"#C8D4E3\"}, \"line\": {\"color\": \"white\"}}, \"type\": \"table\"}]}, \"layout\": {\"annotationdefaults\": {\"arrowcolor\": \"#2a3f5f\", \"arrowhead\": 0, \"arrowwidth\": 1}, \"autotypenumbers\": \"strict\", \"coloraxis\": {\"colorbar\": {\"outlinewidth\": 0, \"ticks\": \"\"}}, \"colorscale\": {\"diverging\": [[0, \"#8e0152\"], [0.1, \"#c51b7d\"], [0.2, \"#de77ae\"], [0.3, \"#f1b6da\"], [0.4, \"#fde0ef\"], [0.5, \"#f7f7f7\"], [0.6, \"#e6f5d0\"], [0.7, \"#b8e186\"], [0.8, \"#7fbc41\"], [0.9, \"#4d9221\"], [1, \"#276419\"]], \"sequential\": [[0.0, \"#0d0887\"], [0.1111111111111111, \"#46039f\"], [0.2222222222222222, \"#7201a8\"], [0.3333333333333333, \"#9c179e\"], [0.4444444444444444, \"#bd3786\"], [0.5555555555555556, \"#d8576b\"], [0.6666666666666666, \"#ed7953\"], [0.7777777777777778, \"#fb9f3a\"], [0.8888888888888888, \"#fdca26\"], [1.0, \"#f0f921\"]], \"sequentialminus\": [[0.0, \"#0d0887\"], [0.1111111111111111, \"#46039f\"], [0.2222222222222222, \"#7201a8\"], [0.3333333333333333, \"#9c179e\"], [0.4444444444444444, \"#bd3786\"], [0.5555555555555556, \"#d8576b\"], [0.6666666666666666, \"#ed7953\"], [0.7777777777777778, \"#fb9f3a\"], [0.8888888888888888, \"#fdca26\"], [1.0, \"#f0f921\"]]}, \"colorway\": [\"#636efa\", \"#EF553B\", \"#00cc96\", \"#ab63fa\", \"#FFA15A\", \"#19d3f3\", \"#FF6692\", \"#B6E880\", \"#FF97FF\", \"#FECB52\"], \"font\": {\"color\": \"#2a3f5f\"}, \"geo\": {\"bgcolor\": \"white\", \"lakecolor\": \"white\", \"landcolor\": \"#E5ECF6\", \"showlakes\": true, \"showland\": true, \"subunitcolor\": \"white\"}, \"hoverlabel\": {\"align\": \"left\"}, \"hovermode\": \"closest\", \"mapbox\": {\"style\": \"light\"}, \"paper_bgcolor\": \"white\", \"plot_bgcolor\": \"#E5ECF6\", \"polar\": {\"angularaxis\": {\"gridcolor\": \"white\", \"linecolor\": \"white\", \"ticks\": \"\"}, \"bgcolor\": \"#E5ECF6\", \"radialaxis\": {\"gridcolor\": \"white\", \"linecolor\": \"white\", \"ticks\": \"\"}}, \"scene\": {\"xaxis\": {\"backgroundcolor\": \"#E5ECF6\", \"gridcolor\": \"white\", \"gridwidth\": 2, \"linecolor\": \"white\", \"showbackground\": true, \"ticks\": \"\", \"zerolinecolor\": \"white\"}, \"yaxis\": {\"backgroundcolor\": \"#E5ECF6\", \"gridcolor\": \"white\", \"gridwidth\": 2, \"linecolor\": \"white\", \"showbackground\": true, \"ticks\": \"\", \"zerolinecolor\": \"white\"}, \"zaxis\": {\"backgroundcolor\": \"#E5ECF6\", \"gridcolor\": \"white\", \"gridwidth\": 2, \"linecolor\": \"white\", \"showbackground\": true, \"ticks\": \"\", \"zerolinecolor\": \"white\"}}, \"shapedefaults\": {\"line\": {\"color\": \"#2a3f5f\"}}, \"ternary\": {\"aaxis\": {\"gridcolor\": \"white\", \"linecolor\": \"white\", \"ticks\": \"\"}, \"baxis\": {\"gridcolor\": \"white\", \"linecolor\": \"white\", \"ticks\": \"\"}, \"bgcolor\": \"#E5ECF6\", \"caxis\": {\"gridcolor\": \"white\", \"linecolor\": \"white\", \"ticks\": \"\"}}, \"title\": {\"x\": 0.05}, \"xaxis\": {\"automargin\": true, \"gridcolor\": \"white\", \"linecolor\": \"white\", \"ticks\": \"\", \"title\": {\"standoff\": 15}, \"zerolinecolor\": \"white\", \"zerolinewidth\": 2}, \"yaxis\": {\"automargin\": true, \"gridcolor\": \"white\", \"linecolor\": \"white\", \"ticks\": \"\", \"title\": {\"standoff\": 15}, \"zerolinecolor\": \"white\", \"zerolinewidth\": 2}}}, \"title\": {\"text\": \"Count of books genre\", \"x\": 0.5}},                        {\"responsive\": true}                    ).then(function(){\n",
       "                            \n",
       "var gd = document.getElementById('0fec3ced-3a54-45a1-a4a1-f69907d27801');\n",
       "var x = new MutationObserver(function (mutations, observer) {{\n",
       "        var display = window.getComputedStyle(gd).display;\n",
       "        if (!display || display === 'none') {{\n",
       "            console.log([gd, 'removed!']);\n",
       "            Plotly.purge(gd);\n",
       "            observer.disconnect();\n",
       "        }}\n",
       "}});\n",
       "\n",
       "// Listen for the removal of the full notebook cells\n",
       "var notebookContainer = gd.closest('#notebook-container');\n",
       "if (notebookContainer) {{\n",
       "    x.observe(notebookContainer, {childList: true});\n",
       "}}\n",
       "\n",
       "// Listen for the clearing of the current output cell\n",
       "var outputEl = gd.closest('.output');\n",
       "if (outputEl) {{\n",
       "    x.observe(outputEl, {childList: true});\n",
       "}}\n",
       "\n",
       "                        })                };                });            </script>        </div>"
      ]
     },
     "metadata": {},
     "output_type": "display_data"
    }
   ],
   "source": [
    "# Let's set the visualization parameters\n",
    "fig_1 = make_subplots(rows=1, cols=1, subplot_titles=(\"\")) # Let's set the number of rows and columns\n",
    "\n",
    "\n",
    "# Setting table parameters\n",
    "fig_1.add_trace(go.Table(columnorder = [1,2],\n",
    "                         columnwidth = [100,50],\n",
    "                         header=dict(values=top_13_autors.columns, \n",
    "                                     line_color='darkslategray',\n",
    "                                     fill_color='Salmon',\n",
    "                                     height=30),\n",
    "                         cells=dict(values=[top_13_autors['Author'],\n",
    "                                    top_13_autors['User Rating']], \n",
    "                                    line_color='darkslategray',\n",
    "                                    fill_color='White')))\n",
    "\n",
    "# Setting the parameters of the chart when displaying\n",
    "fig_1.update_layout(showlegend=False, \n",
    "                    title_text='Top 13 best authors', \n",
    "                    title_font_size=16, \n",
    "                    title_font_family='Arial', \n",
    "                    title_x=0.5,\n",
    "                    font=dict(family='Arial', \n",
    "                              size=12, \n",
    "                              color='black'))\n",
    "\n",
    "# Displaying the graph\n",
    "fig_1.show()\n",
    "\n",
    "# Let's set the visualization parameters\n",
    "fig_2 = make_subplots(rows=1, cols=2,\n",
    "                      specs=[[{'type': 'xy'}, {\"type\": \"xy\"}]],\n",
    "                      subplot_titles=(\"Top 10 authors by number of bestsellers\", \n",
    "                                      \"Top 5 books by number of reviews\"))\n",
    "\n",
    "# Setting Bar parameters\n",
    "fig_2.add_trace(go.Bar(x=number_of_books_written['Author'], \n",
    "                       y=number_of_books_written['Name'],\n",
    "                       name ='Count books',\n",
    "                       marker_color=['#ff6666','#f76e6e', '#f07575', '#e87d7d', '#e08585',\n",
    "                                     '#d98c8c', '#d19494', '#c99c9c', '#c2a3a3', '#baabab']),\n",
    "                       row=1, col=1)\n",
    "\n",
    "# Setting Bar parameters\n",
    "fig_2.add_trace(go.Bar(x=books_with_the_number_of_reviews['Name'], \n",
    "                       y=books_with_the_number_of_reviews['Reviews'],\n",
    "                       marker_color=['#ff6666','#f47171', '#e87d7d', '#dd8888', '#d19494'],\n",
    "                       name ='Reviews'),\n",
    "                       row=1, col=2)\n",
    "\n",
    "# Setting the parameters of the chart when displaying\n",
    "fig_2.update_traces(marker_line_color='Gray',\n",
    "                    marker_line_width=1)\n",
    "\n",
    "# Setting the parameters of the chart when displaying\n",
    "fig_2.update_layout(showlegend=False, \n",
    "                    plot_bgcolor='rgba(0,0,0,0)',\n",
    "                    font=dict(family='Arial', \n",
    "                              size=12, \n",
    "                              color='black'))\n",
    "\n",
    "# Displaying the graph\n",
    "fig_2.show()\n",
    "\n",
    "# Let's set the visualization parameters\n",
    "fig_3 = make_subplots(rows=1, cols=1,\n",
    "                      specs=[[{'type': 'domain'}]],\n",
    "                      subplot_titles=(\"\"))\n",
    "\n",
    "# Setting Pie parameters\n",
    "fig_3.add_trace(go.Pie(values=number_of_books_by_genre['Name'],\n",
    "                       title='Genre',\n",
    "                       labels=['Non Fiction', 'Fiction'],\n",
    "                       textinfo='label+percent',\n",
    "                       insidetextorientation='radial',\n",
    "                       hole=0.3,\n",
    "                       marker=dict(colors=['Gray','Salmon'], \n",
    "                                   line_color='Gray', \n",
    "                                   line_width=1),\n",
    "                       textfont={'color': '#FFFFFF', 'size': 12},\n",
    "                       textfont_size=12))\n",
    "\n",
    "# Setting the parameters of the chart when displaying\n",
    "fig_3.update_layout(margin_t=30, \n",
    "                    showlegend=False, \n",
    "                    title_text='Count of books genre', \n",
    "                    title_x=0.5, \n",
    "                    font=dict(family='Arial', \n",
    "                              size=12, \n",
    "                              color='black'))\n",
    "\n",
    "# Displaying the graph\n",
    "fig_3.show()"
   ]
  },
  {
   "cell_type": "markdown",
   "id": "f6cf0de1",
   "metadata": {},
   "source": [
    "<div style=\"background: #DCDCDC\">\n",
    "<p style=\"font-family: Arials, sans-serif; font-size: 16px; color: #000000\"><strong>INSIGHT:</strong> By analyzing the categorical data, it is established:</p>\n",
    "<ol style=\"font-family: Arials, sans-serif; font-size: 14px; line-height:1.5; color: rgba(0,0,0,.7)\">\n",
    "<li>The following 13 authors have the highest rating: Nathan W. Pyle, Patrick Thorpe, Eric Carle, Emily Winfield Martin, Chip Gaines, Jill Twiss, Rush Limbaugh, Sherri Duskey Rinker, Alice Schertle, Pete Souza, Sarah Young, Lin-Manuel Miranda, Bill Martin Jr., Dav Pilkey. The average rating for their works was 4.9. When buying a new book, you should pay attention to these authors.</li>\n",
    "<p></p>\n",
    "<li>Authors who have written more bestsellers: Jeff Kinney - 12 books, Rick Riordan - 10 books, J.K. Rowling - 8 books, Stephenie Meyer - 7 books, Dav Pilkey - 6 books, Bill O'Reilly - 6 books, John Grisham - 5 books, E L James - 5 books, Suzanne Collins - 5 books, Charlaine Harris - 4 books. These authors always have something to read.</li>\n",
    "<p></p>\n",
    "<li>Books with the most reviews: Where The Crawdads Sing - 87841 Reviews, The Girl On The Train - 79446 Reviews, Becoming - 61133 Reviews, Gone Girl - 57271 Reviews, The Fault In Our Stars - 50482 Reviews. It's definitely worth reading the book Where The Crawdads Sing, it's not for nothing that it is the most talked about.</li>\n",
    "<p></p>\n",
    "<li>Non-fiction is more likely to become a bestseller. Later we will find out how users relate to these genres.</li>\n",
    "<p></p>\n",
    "</ol>        \n",
    "</div>"
   ]
  },
  {
   "cell_type": "markdown",
   "id": "c9cfec33",
   "metadata": {},
   "source": [
    "<p id=\"part8\"></p>\n",
    "\n",
    "<p style=\"font-family: Arials; font-size: 16px; font-style: normal; font-weight: normal; letter-spacing: 3px; color: #FF8C00; line-height:1.0\">2.5 Numeric data</p>"
   ]
  },
  {
   "cell_type": "markdown",
   "id": "6c9db2b7",
   "metadata": {},
   "source": [
    "<p style=\"font-family: Arials, sans-serif; font-size: 14px; color: rgba(0,0,0,.7)\">Let's look at the measures of the central trend that characterize the distribution of numerical values in the data. We render a box-plot for each numeric variable.</p>"
   ]
  },
  {
   "cell_type": "code",
   "execution_count": 89,
   "id": "d70faba6",
   "metadata": {},
   "outputs": [
    {
     "data": {
      "text/html": [
       "<div>\n",
       "<style scoped>\n",
       "    .dataframe tbody tr th:only-of-type {\n",
       "        vertical-align: middle;\n",
       "    }\n",
       "\n",
       "    .dataframe tbody tr th {\n",
       "        vertical-align: top;\n",
       "    }\n",
       "\n",
       "    .dataframe thead th {\n",
       "        text-align: right;\n",
       "    }\n",
       "</style>\n",
       "<table border=\"1\" class=\"dataframe\">\n",
       "  <thead>\n",
       "    <tr style=\"text-align: right;\">\n",
       "      <th></th>\n",
       "      <th>count</th>\n",
       "      <th>mean</th>\n",
       "      <th>std</th>\n",
       "      <th>min</th>\n",
       "      <th>25%</th>\n",
       "      <th>50%</th>\n",
       "      <th>75%</th>\n",
       "      <th>max</th>\n",
       "    </tr>\n",
       "  </thead>\n",
       "  <tbody>\n",
       "    <tr>\n",
       "      <th>User Rating</th>\n",
       "      <td>351.0</td>\n",
       "      <td>4.609117</td>\n",
       "      <td>0.226721</td>\n",
       "      <td>3.3</td>\n",
       "      <td>4.5</td>\n",
       "      <td>4.6</td>\n",
       "      <td>4.8</td>\n",
       "      <td>4.9</td>\n",
       "    </tr>\n",
       "    <tr>\n",
       "      <th>Reviews</th>\n",
       "      <td>351.0</td>\n",
       "      <td>9786.578348</td>\n",
       "      <td>10874.702548</td>\n",
       "      <td>37.0</td>\n",
       "      <td>3442.5</td>\n",
       "      <td>6310.0</td>\n",
       "      <td>11470.5</td>\n",
       "      <td>87841.0</td>\n",
       "    </tr>\n",
       "    <tr>\n",
       "      <th>Price</th>\n",
       "      <td>351.0</td>\n",
       "      <td>12.968661</td>\n",
       "      <td>10.021214</td>\n",
       "      <td>0.0</td>\n",
       "      <td>7.5</td>\n",
       "      <td>11.0</td>\n",
       "      <td>16.0</td>\n",
       "      <td>105.0</td>\n",
       "    </tr>\n",
       "  </tbody>\n",
       "</table>\n",
       "</div>"
      ],
      "text/plain": [
       "             count         mean           std   min     25%     50%      75%  \\\n",
       "User Rating  351.0     4.609117      0.226721   3.3     4.5     4.6      4.8   \n",
       "Reviews      351.0  9786.578348  10874.702548  37.0  3442.5  6310.0  11470.5   \n",
       "Price        351.0    12.968661     10.021214   0.0     7.5    11.0     16.0   \n",
       "\n",
       "                 max  \n",
       "User Rating      4.9  \n",
       "Reviews      87841.0  \n",
       "Price          105.0  "
      ]
     },
     "execution_count": 89,
     "metadata": {},
     "output_type": "execute_result"
    }
   ],
   "source": [
    "# Displaying measures of the central trend\n",
    "bestseller.describe().T"
   ]
  },
  {
   "cell_type": "code",
   "execution_count": 93,
   "id": "4381afe7",
   "metadata": {},
   "outputs": [
    {
     "data": {
      "application/vnd.plotly.v1+json": {
       "config": {
        "plotlyServerURL": "https://plot.ly"
       },
       "data": [
        {
         "marker": {
          "color": "Salmon"
         },
         "name": "User Rating",
         "type": "box",
         "x": [
          4.7,
          4.6,
          4.7,
          4.7,
          4.8,
          4.4,
          4.7,
          4.7,
          4.7,
          4.6,
          4.6,
          4.6,
          4.5,
          4.6,
          4.5,
          4.6,
          4.4,
          4.5,
          4.8,
          4.6,
          3.9,
          4.6,
          4.3,
          4.6,
          4.7,
          4.2,
          4.6,
          4.6,
          4.8,
          4.7,
          4.8,
          4.8,
          4.7,
          4.7,
          4.6,
          4.5,
          4.9,
          4.8,
          4.6,
          4.8,
          4.5,
          4.7,
          4.7,
          4.7,
          4.3,
          4.8,
          4.8,
          4.6,
          4.8,
          4.4,
          4.6,
          4.3,
          4.2,
          4.8,
          4.6,
          4.6,
          4.5,
          4.8,
          4.8,
          4.8,
          4.6,
          4.6,
          4.5,
          4.6,
          4.7,
          4.8,
          4.9,
          4.9,
          4.9,
          4.9,
          4.9,
          4.9,
          4.8,
          4.6,
          4.5,
          4.5,
          4.3,
          4.5,
          4.7,
          4.7,
          4.7,
          4.7,
          4.6,
          4.7,
          4.4,
          4.4,
          4.5,
          3.8,
          4.5,
          4.2,
          4.7,
          4.4,
          4.7,
          4.4,
          4.6,
          4.5,
          4.6,
          4.8,
          4.6,
          4.6,
          4.6,
          3.6,
          4.8,
          4.6,
          4,
          4.6,
          4.5,
          4.8,
          4.9,
          4.6,
          4.4,
          4.8,
          4.9,
          4.8,
          4.9,
          4,
          4.9,
          4.9,
          4.9,
          4.7,
          4.8,
          4.8,
          4.7,
          4.4,
          4.8,
          4.7,
          4.3,
          4.8,
          4.9,
          4.7,
          4.8,
          4.6,
          4.8,
          4.3,
          4.4,
          4.1,
          4.6,
          4.4,
          4.8,
          4.9,
          4.6,
          4.5,
          4.6,
          4.5,
          4.6,
          4.7,
          4.6,
          4.6,
          4.8,
          4.8,
          4.5,
          4.9,
          4.6,
          4.5,
          4.5,
          4.4,
          4.8,
          4.5,
          4.1,
          4.9,
          4.5,
          4.5,
          4.2,
          4.8,
          4.8,
          4.5,
          4.7,
          4.8,
          4.7,
          4.4,
          4.6,
          4.5,
          4.8,
          4.8,
          4.6,
          4.7,
          4.6,
          4.9,
          4.9,
          4.8,
          4.2,
          4.6,
          4.5,
          4.3,
          4.6,
          4.6,
          4.7,
          4.8,
          4.8,
          4.7,
          4.3,
          4.5,
          4.8,
          4.6,
          4.7,
          4.6,
          4.9,
          4.9,
          4.8,
          4.6,
          4.8,
          4.7,
          4.7,
          4.8,
          4.1,
          4.7,
          4.6,
          4.6,
          4.9,
          4,
          4.5,
          4.6,
          4.5,
          4.4,
          4.3,
          4.3,
          4.7,
          4.8,
          4.8,
          4.7,
          4.7,
          4.6,
          4.7,
          4.7,
          4.8,
          4.2,
          4.8,
          4.7,
          4.6,
          4.8,
          4.8,
          3.3,
          4.7,
          4.3,
          4.3,
          4.8,
          4.4,
          4.8,
          4.1,
          4,
          4.7,
          4.6,
          4.6,
          4.7,
          4.8,
          4.1,
          4.7,
          4.7,
          4.7,
          4.4,
          4.8,
          3.9,
          4.4,
          4.5,
          4.7,
          4.3,
          4.6,
          4.8,
          4.8,
          4.8,
          4.7,
          4.7,
          4.8,
          4.7,
          4.3,
          4.7,
          4.8,
          4.9,
          4.4,
          4.5,
          4.4,
          4.8,
          4.2,
          4.8,
          4.9,
          4.8,
          4.7,
          4.5,
          4.8,
          4.6,
          4.8,
          4.4,
          4.3,
          4.3,
          4.8,
          4.8,
          4.8,
          4.5,
          4.4,
          4.8,
          4.6,
          4.3,
          4.3,
          4.6,
          4.6,
          4.8,
          4.6,
          4.6,
          4.5,
          4.8,
          4.6,
          4.7,
          4.7,
          4.7,
          4.4,
          4.4,
          4.7,
          4.7,
          4.8,
          4.7,
          4.9,
          4.6,
          4.9,
          4.8,
          4.7,
          4.7,
          4.6,
          4.5,
          4.5,
          4.3,
          4.6,
          4.3,
          4.8,
          4.6,
          4.8,
          4.5,
          4.7,
          4.5,
          4.8,
          4.3,
          4.9,
          4.8,
          4.7,
          4.8,
          4.5,
          4.6,
          4.7,
          4.7,
          4.8,
          4.4,
          4.4,
          4.8,
          4.8,
          4.8,
          4.6,
          4.4,
          4.5,
          4.2,
          4.8,
          4.9,
          4.7
         ]
        }
       ],
       "layout": {
        "font": {
         "color": "black",
         "family": "Arial",
         "size": 12
        },
        "showlegend": false,
        "template": {
         "data": {
          "bar": [
           {
            "error_x": {
             "color": "rgb(36,36,36)"
            },
            "error_y": {
             "color": "rgb(36,36,36)"
            },
            "marker": {
             "line": {
              "color": "white",
              "width": 0.5
             }
            },
            "type": "bar"
           }
          ],
          "barpolar": [
           {
            "marker": {
             "line": {
              "color": "white",
              "width": 0.5
             }
            },
            "type": "barpolar"
           }
          ],
          "carpet": [
           {
            "aaxis": {
             "endlinecolor": "rgb(36,36,36)",
             "gridcolor": "white",
             "linecolor": "white",
             "minorgridcolor": "white",
             "startlinecolor": "rgb(36,36,36)"
            },
            "baxis": {
             "endlinecolor": "rgb(36,36,36)",
             "gridcolor": "white",
             "linecolor": "white",
             "minorgridcolor": "white",
             "startlinecolor": "rgb(36,36,36)"
            },
            "type": "carpet"
           }
          ],
          "choropleth": [
           {
            "colorbar": {
             "outlinewidth": 1,
             "tickcolor": "rgb(36,36,36)",
             "ticks": "outside"
            },
            "type": "choropleth"
           }
          ],
          "contour": [
           {
            "colorbar": {
             "outlinewidth": 1,
             "tickcolor": "rgb(36,36,36)",
             "ticks": "outside"
            },
            "colorscale": [
             [
              0,
              "#440154"
             ],
             [
              0.1111111111111111,
              "#482878"
             ],
             [
              0.2222222222222222,
              "#3e4989"
             ],
             [
              0.3333333333333333,
              "#31688e"
             ],
             [
              0.4444444444444444,
              "#26828e"
             ],
             [
              0.5555555555555556,
              "#1f9e89"
             ],
             [
              0.6666666666666666,
              "#35b779"
             ],
             [
              0.7777777777777778,
              "#6ece58"
             ],
             [
              0.8888888888888888,
              "#b5de2b"
             ],
             [
              1,
              "#fde725"
             ]
            ],
            "type": "contour"
           }
          ],
          "contourcarpet": [
           {
            "colorbar": {
             "outlinewidth": 1,
             "tickcolor": "rgb(36,36,36)",
             "ticks": "outside"
            },
            "type": "contourcarpet"
           }
          ],
          "heatmap": [
           {
            "colorbar": {
             "outlinewidth": 1,
             "tickcolor": "rgb(36,36,36)",
             "ticks": "outside"
            },
            "colorscale": [
             [
              0,
              "#440154"
             ],
             [
              0.1111111111111111,
              "#482878"
             ],
             [
              0.2222222222222222,
              "#3e4989"
             ],
             [
              0.3333333333333333,
              "#31688e"
             ],
             [
              0.4444444444444444,
              "#26828e"
             ],
             [
              0.5555555555555556,
              "#1f9e89"
             ],
             [
              0.6666666666666666,
              "#35b779"
             ],
             [
              0.7777777777777778,
              "#6ece58"
             ],
             [
              0.8888888888888888,
              "#b5de2b"
             ],
             [
              1,
              "#fde725"
             ]
            ],
            "type": "heatmap"
           }
          ],
          "heatmapgl": [
           {
            "colorbar": {
             "outlinewidth": 1,
             "tickcolor": "rgb(36,36,36)",
             "ticks": "outside"
            },
            "colorscale": [
             [
              0,
              "#440154"
             ],
             [
              0.1111111111111111,
              "#482878"
             ],
             [
              0.2222222222222222,
              "#3e4989"
             ],
             [
              0.3333333333333333,
              "#31688e"
             ],
             [
              0.4444444444444444,
              "#26828e"
             ],
             [
              0.5555555555555556,
              "#1f9e89"
             ],
             [
              0.6666666666666666,
              "#35b779"
             ],
             [
              0.7777777777777778,
              "#6ece58"
             ],
             [
              0.8888888888888888,
              "#b5de2b"
             ],
             [
              1,
              "#fde725"
             ]
            ],
            "type": "heatmapgl"
           }
          ],
          "histogram": [
           {
            "marker": {
             "line": {
              "color": "white",
              "width": 0.6
             }
            },
            "type": "histogram"
           }
          ],
          "histogram2d": [
           {
            "colorbar": {
             "outlinewidth": 1,
             "tickcolor": "rgb(36,36,36)",
             "ticks": "outside"
            },
            "colorscale": [
             [
              0,
              "#440154"
             ],
             [
              0.1111111111111111,
              "#482878"
             ],
             [
              0.2222222222222222,
              "#3e4989"
             ],
             [
              0.3333333333333333,
              "#31688e"
             ],
             [
              0.4444444444444444,
              "#26828e"
             ],
             [
              0.5555555555555556,
              "#1f9e89"
             ],
             [
              0.6666666666666666,
              "#35b779"
             ],
             [
              0.7777777777777778,
              "#6ece58"
             ],
             [
              0.8888888888888888,
              "#b5de2b"
             ],
             [
              1,
              "#fde725"
             ]
            ],
            "type": "histogram2d"
           }
          ],
          "histogram2dcontour": [
           {
            "colorbar": {
             "outlinewidth": 1,
             "tickcolor": "rgb(36,36,36)",
             "ticks": "outside"
            },
            "colorscale": [
             [
              0,
              "#440154"
             ],
             [
              0.1111111111111111,
              "#482878"
             ],
             [
              0.2222222222222222,
              "#3e4989"
             ],
             [
              0.3333333333333333,
              "#31688e"
             ],
             [
              0.4444444444444444,
              "#26828e"
             ],
             [
              0.5555555555555556,
              "#1f9e89"
             ],
             [
              0.6666666666666666,
              "#35b779"
             ],
             [
              0.7777777777777778,
              "#6ece58"
             ],
             [
              0.8888888888888888,
              "#b5de2b"
             ],
             [
              1,
              "#fde725"
             ]
            ],
            "type": "histogram2dcontour"
           }
          ],
          "mesh3d": [
           {
            "colorbar": {
             "outlinewidth": 1,
             "tickcolor": "rgb(36,36,36)",
             "ticks": "outside"
            },
            "type": "mesh3d"
           }
          ],
          "parcoords": [
           {
            "line": {
             "colorbar": {
              "outlinewidth": 1,
              "tickcolor": "rgb(36,36,36)",
              "ticks": "outside"
             }
            },
            "type": "parcoords"
           }
          ],
          "pie": [
           {
            "automargin": true,
            "type": "pie"
           }
          ],
          "scatter": [
           {
            "marker": {
             "colorbar": {
              "outlinewidth": 1,
              "tickcolor": "rgb(36,36,36)",
              "ticks": "outside"
             }
            },
            "type": "scatter"
           }
          ],
          "scatter3d": [
           {
            "line": {
             "colorbar": {
              "outlinewidth": 1,
              "tickcolor": "rgb(36,36,36)",
              "ticks": "outside"
             }
            },
            "marker": {
             "colorbar": {
              "outlinewidth": 1,
              "tickcolor": "rgb(36,36,36)",
              "ticks": "outside"
             }
            },
            "type": "scatter3d"
           }
          ],
          "scattercarpet": [
           {
            "marker": {
             "colorbar": {
              "outlinewidth": 1,
              "tickcolor": "rgb(36,36,36)",
              "ticks": "outside"
             }
            },
            "type": "scattercarpet"
           }
          ],
          "scattergeo": [
           {
            "marker": {
             "colorbar": {
              "outlinewidth": 1,
              "tickcolor": "rgb(36,36,36)",
              "ticks": "outside"
             }
            },
            "type": "scattergeo"
           }
          ],
          "scattergl": [
           {
            "marker": {
             "colorbar": {
              "outlinewidth": 1,
              "tickcolor": "rgb(36,36,36)",
              "ticks": "outside"
             }
            },
            "type": "scattergl"
           }
          ],
          "scattermapbox": [
           {
            "marker": {
             "colorbar": {
              "outlinewidth": 1,
              "tickcolor": "rgb(36,36,36)",
              "ticks": "outside"
             }
            },
            "type": "scattermapbox"
           }
          ],
          "scatterpolar": [
           {
            "marker": {
             "colorbar": {
              "outlinewidth": 1,
              "tickcolor": "rgb(36,36,36)",
              "ticks": "outside"
             }
            },
            "type": "scatterpolar"
           }
          ],
          "scatterpolargl": [
           {
            "marker": {
             "colorbar": {
              "outlinewidth": 1,
              "tickcolor": "rgb(36,36,36)",
              "ticks": "outside"
             }
            },
            "type": "scatterpolargl"
           }
          ],
          "scatterternary": [
           {
            "marker": {
             "colorbar": {
              "outlinewidth": 1,
              "tickcolor": "rgb(36,36,36)",
              "ticks": "outside"
             }
            },
            "type": "scatterternary"
           }
          ],
          "surface": [
           {
            "colorbar": {
             "outlinewidth": 1,
             "tickcolor": "rgb(36,36,36)",
             "ticks": "outside"
            },
            "colorscale": [
             [
              0,
              "#440154"
             ],
             [
              0.1111111111111111,
              "#482878"
             ],
             [
              0.2222222222222222,
              "#3e4989"
             ],
             [
              0.3333333333333333,
              "#31688e"
             ],
             [
              0.4444444444444444,
              "#26828e"
             ],
             [
              0.5555555555555556,
              "#1f9e89"
             ],
             [
              0.6666666666666666,
              "#35b779"
             ],
             [
              0.7777777777777778,
              "#6ece58"
             ],
             [
              0.8888888888888888,
              "#b5de2b"
             ],
             [
              1,
              "#fde725"
             ]
            ],
            "type": "surface"
           }
          ],
          "table": [
           {
            "cells": {
             "fill": {
              "color": "rgb(237,237,237)"
             },
             "line": {
              "color": "white"
             }
            },
            "header": {
             "fill": {
              "color": "rgb(217,217,217)"
             },
             "line": {
              "color": "white"
             }
            },
            "type": "table"
           }
          ]
         },
         "layout": {
          "annotationdefaults": {
           "arrowhead": 0,
           "arrowwidth": 1
          },
          "autotypenumbers": "strict",
          "coloraxis": {
           "colorbar": {
            "outlinewidth": 1,
            "tickcolor": "rgb(36,36,36)",
            "ticks": "outside"
           }
          },
          "colorscale": {
           "diverging": [
            [
             0,
             "rgb(103,0,31)"
            ],
            [
             0.1,
             "rgb(178,24,43)"
            ],
            [
             0.2,
             "rgb(214,96,77)"
            ],
            [
             0.3,
             "rgb(244,165,130)"
            ],
            [
             0.4,
             "rgb(253,219,199)"
            ],
            [
             0.5,
             "rgb(247,247,247)"
            ],
            [
             0.6,
             "rgb(209,229,240)"
            ],
            [
             0.7,
             "rgb(146,197,222)"
            ],
            [
             0.8,
             "rgb(67,147,195)"
            ],
            [
             0.9,
             "rgb(33,102,172)"
            ],
            [
             1,
             "rgb(5,48,97)"
            ]
           ],
           "sequential": [
            [
             0,
             "#440154"
            ],
            [
             0.1111111111111111,
             "#482878"
            ],
            [
             0.2222222222222222,
             "#3e4989"
            ],
            [
             0.3333333333333333,
             "#31688e"
            ],
            [
             0.4444444444444444,
             "#26828e"
            ],
            [
             0.5555555555555556,
             "#1f9e89"
            ],
            [
             0.6666666666666666,
             "#35b779"
            ],
            [
             0.7777777777777778,
             "#6ece58"
            ],
            [
             0.8888888888888888,
             "#b5de2b"
            ],
            [
             1,
             "#fde725"
            ]
           ],
           "sequentialminus": [
            [
             0,
             "#440154"
            ],
            [
             0.1111111111111111,
             "#482878"
            ],
            [
             0.2222222222222222,
             "#3e4989"
            ],
            [
             0.3333333333333333,
             "#31688e"
            ],
            [
             0.4444444444444444,
             "#26828e"
            ],
            [
             0.5555555555555556,
             "#1f9e89"
            ],
            [
             0.6666666666666666,
             "#35b779"
            ],
            [
             0.7777777777777778,
             "#6ece58"
            ],
            [
             0.8888888888888888,
             "#b5de2b"
            ],
            [
             1,
             "#fde725"
            ]
           ]
          },
          "colorway": [
           "#1F77B4",
           "#FF7F0E",
           "#2CA02C",
           "#D62728",
           "#9467BD",
           "#8C564B",
           "#E377C2",
           "#7F7F7F",
           "#BCBD22",
           "#17BECF"
          ],
          "font": {
           "color": "rgb(36,36,36)"
          },
          "geo": {
           "bgcolor": "white",
           "lakecolor": "white",
           "landcolor": "white",
           "showlakes": true,
           "showland": true,
           "subunitcolor": "white"
          },
          "hoverlabel": {
           "align": "left"
          },
          "hovermode": "closest",
          "mapbox": {
           "style": "light"
          },
          "paper_bgcolor": "white",
          "plot_bgcolor": "white",
          "polar": {
           "angularaxis": {
            "gridcolor": "rgb(232,232,232)",
            "linecolor": "rgb(36,36,36)",
            "showgrid": false,
            "showline": true,
            "ticks": "outside"
           },
           "bgcolor": "white",
           "radialaxis": {
            "gridcolor": "rgb(232,232,232)",
            "linecolor": "rgb(36,36,36)",
            "showgrid": false,
            "showline": true,
            "ticks": "outside"
           }
          },
          "scene": {
           "xaxis": {
            "backgroundcolor": "white",
            "gridcolor": "rgb(232,232,232)",
            "gridwidth": 2,
            "linecolor": "rgb(36,36,36)",
            "showbackground": true,
            "showgrid": false,
            "showline": true,
            "ticks": "outside",
            "zeroline": false,
            "zerolinecolor": "rgb(36,36,36)"
           },
           "yaxis": {
            "backgroundcolor": "white",
            "gridcolor": "rgb(232,232,232)",
            "gridwidth": 2,
            "linecolor": "rgb(36,36,36)",
            "showbackground": true,
            "showgrid": false,
            "showline": true,
            "ticks": "outside",
            "zeroline": false,
            "zerolinecolor": "rgb(36,36,36)"
           },
           "zaxis": {
            "backgroundcolor": "white",
            "gridcolor": "rgb(232,232,232)",
            "gridwidth": 2,
            "linecolor": "rgb(36,36,36)",
            "showbackground": true,
            "showgrid": false,
            "showline": true,
            "ticks": "outside",
            "zeroline": false,
            "zerolinecolor": "rgb(36,36,36)"
           }
          },
          "shapedefaults": {
           "fillcolor": "black",
           "line": {
            "width": 0
           },
           "opacity": 0.3
          },
          "ternary": {
           "aaxis": {
            "gridcolor": "rgb(232,232,232)",
            "linecolor": "rgb(36,36,36)",
            "showgrid": false,
            "showline": true,
            "ticks": "outside"
           },
           "baxis": {
            "gridcolor": "rgb(232,232,232)",
            "linecolor": "rgb(36,36,36)",
            "showgrid": false,
            "showline": true,
            "ticks": "outside"
           },
           "bgcolor": "white",
           "caxis": {
            "gridcolor": "rgb(232,232,232)",
            "linecolor": "rgb(36,36,36)",
            "showgrid": false,
            "showline": true,
            "ticks": "outside"
           }
          },
          "title": {
           "x": 0.05
          },
          "xaxis": {
           "automargin": true,
           "gridcolor": "rgb(232,232,232)",
           "linecolor": "rgb(36,36,36)",
           "showgrid": false,
           "showline": true,
           "ticks": "outside",
           "title": {
            "standoff": 15
           },
           "zeroline": false,
           "zerolinecolor": "rgb(36,36,36)"
          },
          "yaxis": {
           "automargin": true,
           "gridcolor": "rgb(232,232,232)",
           "linecolor": "rgb(36,36,36)",
           "showgrid": false,
           "showline": true,
           "ticks": "outside",
           "title": {
            "standoff": 15
           },
           "zeroline": false,
           "zerolinecolor": "rgb(36,36,36)"
          }
         }
        },
        "xaxis": {
         "anchor": "y",
         "domain": [
          0,
          1
         ]
        },
        "yaxis": {
         "anchor": "x",
         "domain": [
          0,
          1
         ]
        }
       }
      },
      "text/html": [
       "<div>                            <div id=\"257dfa1f-528a-406d-91fe-317b48dc79fb\" class=\"plotly-graph-div\" style=\"height:525px; width:100%;\"></div>            <script type=\"text/javascript\">                require([\"plotly\"], function(Plotly) {                    window.PLOTLYENV=window.PLOTLYENV || {};                                    if (document.getElementById(\"257dfa1f-528a-406d-91fe-317b48dc79fb\")) {                    Plotly.newPlot(                        \"257dfa1f-528a-406d-91fe-317b48dc79fb\",                        [{\"marker\": {\"color\": \"Salmon\"}, \"name\": \"User Rating\", \"type\": \"box\", \"x\": [4.7, 4.6, 4.7, 4.7, 4.8, 4.4, 4.7, 4.7, 4.7, 4.6, 4.6, 4.6, 4.5, 4.6, 4.5, 4.6, 4.4, 4.5, 4.8, 4.6, 3.9, 4.6, 4.3, 4.6, 4.7, 4.2, 4.6, 4.6, 4.8, 4.7, 4.8, 4.8, 4.7, 4.7, 4.6, 4.5, 4.9, 4.8, 4.6, 4.8, 4.5, 4.7, 4.7, 4.7, 4.3, 4.8, 4.8, 4.6, 4.8, 4.4, 4.6, 4.3, 4.2, 4.8, 4.6, 4.6, 4.5, 4.8, 4.8, 4.8, 4.6, 4.6, 4.5, 4.6, 4.7, 4.8, 4.9, 4.9, 4.9, 4.9, 4.9, 4.9, 4.8, 4.6, 4.5, 4.5, 4.3, 4.5, 4.7, 4.7, 4.7, 4.7, 4.6, 4.7, 4.4, 4.4, 4.5, 3.8, 4.5, 4.2, 4.7, 4.4, 4.7, 4.4, 4.6, 4.5, 4.6, 4.8, 4.6, 4.6, 4.6, 3.6, 4.8, 4.6, 4.0, 4.6, 4.5, 4.8, 4.9, 4.6, 4.4, 4.8, 4.9, 4.8, 4.9, 4.0, 4.9, 4.9, 4.9, 4.7, 4.8, 4.8, 4.7, 4.4, 4.8, 4.7, 4.3, 4.8, 4.9, 4.7, 4.8, 4.6, 4.8, 4.3, 4.4, 4.1, 4.6, 4.4, 4.8, 4.9, 4.6, 4.5, 4.6, 4.5, 4.6, 4.7, 4.6, 4.6, 4.8, 4.8, 4.5, 4.9, 4.6, 4.5, 4.5, 4.4, 4.8, 4.5, 4.1, 4.9, 4.5, 4.5, 4.2, 4.8, 4.8, 4.5, 4.7, 4.8, 4.7, 4.4, 4.6, 4.5, 4.8, 4.8, 4.6, 4.7, 4.6, 4.9, 4.9, 4.8, 4.2, 4.6, 4.5, 4.3, 4.6, 4.6, 4.7, 4.8, 4.8, 4.7, 4.3, 4.5, 4.8, 4.6, 4.7, 4.6, 4.9, 4.9, 4.8, 4.6, 4.8, 4.7, 4.7, 4.8, 4.1, 4.7, 4.6, 4.6, 4.9, 4.0, 4.5, 4.6, 4.5, 4.4, 4.3, 4.3, 4.7, 4.8, 4.8, 4.7, 4.7, 4.6, 4.7, 4.7, 4.8, 4.2, 4.8, 4.7, 4.6, 4.8, 4.8, 3.3, 4.7, 4.3, 4.3, 4.8, 4.4, 4.8, 4.1, 4.0, 4.7, 4.6, 4.6, 4.7, 4.8, 4.1, 4.7, 4.7, 4.7, 4.4, 4.8, 3.9, 4.4, 4.5, 4.7, 4.3, 4.6, 4.8, 4.8, 4.8, 4.7, 4.7, 4.8, 4.7, 4.3, 4.7, 4.8, 4.9, 4.4, 4.5, 4.4, 4.8, 4.2, 4.8, 4.9, 4.8, 4.7, 4.5, 4.8, 4.6, 4.8, 4.4, 4.3, 4.3, 4.8, 4.8, 4.8, 4.5, 4.4, 4.8, 4.6, 4.3, 4.3, 4.6, 4.6, 4.8, 4.6, 4.6, 4.5, 4.8, 4.6, 4.7, 4.7, 4.7, 4.4, 4.4, 4.7, 4.7, 4.8, 4.7, 4.9, 4.6, 4.9, 4.8, 4.7, 4.7, 4.6, 4.5, 4.5, 4.3, 4.6, 4.3, 4.8, 4.6, 4.8, 4.5, 4.7, 4.5, 4.8, 4.3, 4.9, 4.8, 4.7, 4.8, 4.5, 4.6, 4.7, 4.7, 4.8, 4.4, 4.4, 4.8, 4.8, 4.8, 4.6, 4.4, 4.5, 4.2, 4.8, 4.9, 4.7]}],                        {\"font\": {\"color\": \"black\", \"family\": \"Arial\", \"size\": 12}, \"showlegend\": false, \"template\": {\"data\": {\"bar\": [{\"error_x\": {\"color\": \"rgb(36,36,36)\"}, \"error_y\": {\"color\": \"rgb(36,36,36)\"}, \"marker\": {\"line\": {\"color\": \"white\", \"width\": 0.5}}, \"type\": \"bar\"}], \"barpolar\": [{\"marker\": {\"line\": {\"color\": \"white\", \"width\": 0.5}}, \"type\": \"barpolar\"}], \"carpet\": [{\"aaxis\": {\"endlinecolor\": \"rgb(36,36,36)\", \"gridcolor\": \"white\", \"linecolor\": \"white\", \"minorgridcolor\": \"white\", \"startlinecolor\": \"rgb(36,36,36)\"}, \"baxis\": {\"endlinecolor\": \"rgb(36,36,36)\", \"gridcolor\": \"white\", \"linecolor\": \"white\", \"minorgridcolor\": \"white\", \"startlinecolor\": \"rgb(36,36,36)\"}, \"type\": \"carpet\"}], \"choropleth\": [{\"colorbar\": {\"outlinewidth\": 1, \"tickcolor\": \"rgb(36,36,36)\", \"ticks\": \"outside\"}, \"type\": \"choropleth\"}], \"contour\": [{\"colorbar\": {\"outlinewidth\": 1, \"tickcolor\": \"rgb(36,36,36)\", \"ticks\": \"outside\"}, \"colorscale\": [[0.0, \"#440154\"], [0.1111111111111111, \"#482878\"], [0.2222222222222222, \"#3e4989\"], [0.3333333333333333, \"#31688e\"], [0.4444444444444444, \"#26828e\"], [0.5555555555555556, \"#1f9e89\"], [0.6666666666666666, \"#35b779\"], [0.7777777777777778, \"#6ece58\"], [0.8888888888888888, \"#b5de2b\"], [1.0, \"#fde725\"]], \"type\": \"contour\"}], \"contourcarpet\": [{\"colorbar\": {\"outlinewidth\": 1, \"tickcolor\": \"rgb(36,36,36)\", \"ticks\": \"outside\"}, \"type\": \"contourcarpet\"}], \"heatmap\": [{\"colorbar\": {\"outlinewidth\": 1, \"tickcolor\": \"rgb(36,36,36)\", \"ticks\": \"outside\"}, \"colorscale\": [[0.0, \"#440154\"], [0.1111111111111111, \"#482878\"], [0.2222222222222222, \"#3e4989\"], [0.3333333333333333, \"#31688e\"], [0.4444444444444444, \"#26828e\"], [0.5555555555555556, \"#1f9e89\"], [0.6666666666666666, \"#35b779\"], [0.7777777777777778, \"#6ece58\"], [0.8888888888888888, \"#b5de2b\"], [1.0, \"#fde725\"]], \"type\": \"heatmap\"}], \"heatmapgl\": [{\"colorbar\": {\"outlinewidth\": 1, \"tickcolor\": \"rgb(36,36,36)\", \"ticks\": \"outside\"}, \"colorscale\": [[0.0, \"#440154\"], [0.1111111111111111, \"#482878\"], [0.2222222222222222, \"#3e4989\"], [0.3333333333333333, \"#31688e\"], [0.4444444444444444, \"#26828e\"], [0.5555555555555556, \"#1f9e89\"], [0.6666666666666666, \"#35b779\"], [0.7777777777777778, \"#6ece58\"], [0.8888888888888888, \"#b5de2b\"], [1.0, \"#fde725\"]], \"type\": \"heatmapgl\"}], \"histogram\": [{\"marker\": {\"line\": {\"color\": \"white\", \"width\": 0.6}}, \"type\": \"histogram\"}], \"histogram2d\": [{\"colorbar\": {\"outlinewidth\": 1, \"tickcolor\": \"rgb(36,36,36)\", \"ticks\": \"outside\"}, \"colorscale\": [[0.0, \"#440154\"], [0.1111111111111111, \"#482878\"], [0.2222222222222222, \"#3e4989\"], [0.3333333333333333, \"#31688e\"], [0.4444444444444444, \"#26828e\"], [0.5555555555555556, \"#1f9e89\"], [0.6666666666666666, \"#35b779\"], [0.7777777777777778, \"#6ece58\"], [0.8888888888888888, \"#b5de2b\"], [1.0, \"#fde725\"]], \"type\": \"histogram2d\"}], \"histogram2dcontour\": [{\"colorbar\": {\"outlinewidth\": 1, \"tickcolor\": \"rgb(36,36,36)\", \"ticks\": \"outside\"}, \"colorscale\": [[0.0, \"#440154\"], [0.1111111111111111, \"#482878\"], [0.2222222222222222, \"#3e4989\"], [0.3333333333333333, \"#31688e\"], [0.4444444444444444, \"#26828e\"], [0.5555555555555556, \"#1f9e89\"], [0.6666666666666666, \"#35b779\"], [0.7777777777777778, \"#6ece58\"], [0.8888888888888888, \"#b5de2b\"], [1.0, \"#fde725\"]], \"type\": \"histogram2dcontour\"}], \"mesh3d\": [{\"colorbar\": {\"outlinewidth\": 1, \"tickcolor\": \"rgb(36,36,36)\", \"ticks\": \"outside\"}, \"type\": \"mesh3d\"}], \"parcoords\": [{\"line\": {\"colorbar\": {\"outlinewidth\": 1, \"tickcolor\": \"rgb(36,36,36)\", \"ticks\": \"outside\"}}, \"type\": \"parcoords\"}], \"pie\": [{\"automargin\": true, \"type\": \"pie\"}], \"scatter\": [{\"marker\": {\"colorbar\": {\"outlinewidth\": 1, \"tickcolor\": \"rgb(36,36,36)\", \"ticks\": \"outside\"}}, \"type\": \"scatter\"}], \"scatter3d\": [{\"line\": {\"colorbar\": {\"outlinewidth\": 1, \"tickcolor\": \"rgb(36,36,36)\", \"ticks\": \"outside\"}}, \"marker\": {\"colorbar\": {\"outlinewidth\": 1, \"tickcolor\": \"rgb(36,36,36)\", \"ticks\": \"outside\"}}, \"type\": \"scatter3d\"}], \"scattercarpet\": [{\"marker\": {\"colorbar\": {\"outlinewidth\": 1, \"tickcolor\": \"rgb(36,36,36)\", \"ticks\": \"outside\"}}, \"type\": \"scattercarpet\"}], \"scattergeo\": [{\"marker\": {\"colorbar\": {\"outlinewidth\": 1, \"tickcolor\": \"rgb(36,36,36)\", \"ticks\": \"outside\"}}, \"type\": \"scattergeo\"}], \"scattergl\": [{\"marker\": {\"colorbar\": {\"outlinewidth\": 1, \"tickcolor\": \"rgb(36,36,36)\", \"ticks\": \"outside\"}}, \"type\": \"scattergl\"}], \"scattermapbox\": [{\"marker\": {\"colorbar\": {\"outlinewidth\": 1, \"tickcolor\": \"rgb(36,36,36)\", \"ticks\": \"outside\"}}, \"type\": \"scattermapbox\"}], \"scatterpolar\": [{\"marker\": {\"colorbar\": {\"outlinewidth\": 1, \"tickcolor\": \"rgb(36,36,36)\", \"ticks\": \"outside\"}}, \"type\": \"scatterpolar\"}], \"scatterpolargl\": [{\"marker\": {\"colorbar\": {\"outlinewidth\": 1, \"tickcolor\": \"rgb(36,36,36)\", \"ticks\": \"outside\"}}, \"type\": \"scatterpolargl\"}], \"scatterternary\": [{\"marker\": {\"colorbar\": {\"outlinewidth\": 1, \"tickcolor\": \"rgb(36,36,36)\", \"ticks\": \"outside\"}}, \"type\": \"scatterternary\"}], \"surface\": [{\"colorbar\": {\"outlinewidth\": 1, \"tickcolor\": \"rgb(36,36,36)\", \"ticks\": \"outside\"}, \"colorscale\": [[0.0, \"#440154\"], [0.1111111111111111, \"#482878\"], [0.2222222222222222, \"#3e4989\"], [0.3333333333333333, \"#31688e\"], [0.4444444444444444, \"#26828e\"], [0.5555555555555556, \"#1f9e89\"], [0.6666666666666666, \"#35b779\"], [0.7777777777777778, \"#6ece58\"], [0.8888888888888888, \"#b5de2b\"], [1.0, \"#fde725\"]], \"type\": \"surface\"}], \"table\": [{\"cells\": {\"fill\": {\"color\": \"rgb(237,237,237)\"}, \"line\": {\"color\": \"white\"}}, \"header\": {\"fill\": {\"color\": \"rgb(217,217,217)\"}, \"line\": {\"color\": \"white\"}}, \"type\": \"table\"}]}, \"layout\": {\"annotationdefaults\": {\"arrowhead\": 0, \"arrowwidth\": 1}, \"autotypenumbers\": \"strict\", \"coloraxis\": {\"colorbar\": {\"outlinewidth\": 1, \"tickcolor\": \"rgb(36,36,36)\", \"ticks\": \"outside\"}}, \"colorscale\": {\"diverging\": [[0.0, \"rgb(103,0,31)\"], [0.1, \"rgb(178,24,43)\"], [0.2, \"rgb(214,96,77)\"], [0.3, \"rgb(244,165,130)\"], [0.4, \"rgb(253,219,199)\"], [0.5, \"rgb(247,247,247)\"], [0.6, \"rgb(209,229,240)\"], [0.7, \"rgb(146,197,222)\"], [0.8, \"rgb(67,147,195)\"], [0.9, \"rgb(33,102,172)\"], [1.0, \"rgb(5,48,97)\"]], \"sequential\": [[0.0, \"#440154\"], [0.1111111111111111, \"#482878\"], [0.2222222222222222, \"#3e4989\"], [0.3333333333333333, \"#31688e\"], [0.4444444444444444, \"#26828e\"], [0.5555555555555556, \"#1f9e89\"], [0.6666666666666666, \"#35b779\"], [0.7777777777777778, \"#6ece58\"], [0.8888888888888888, \"#b5de2b\"], [1.0, \"#fde725\"]], \"sequentialminus\": [[0.0, \"#440154\"], [0.1111111111111111, \"#482878\"], [0.2222222222222222, \"#3e4989\"], [0.3333333333333333, \"#31688e\"], [0.4444444444444444, \"#26828e\"], [0.5555555555555556, \"#1f9e89\"], [0.6666666666666666, \"#35b779\"], [0.7777777777777778, \"#6ece58\"], [0.8888888888888888, \"#b5de2b\"], [1.0, \"#fde725\"]]}, \"colorway\": [\"#1F77B4\", \"#FF7F0E\", \"#2CA02C\", \"#D62728\", \"#9467BD\", \"#8C564B\", \"#E377C2\", \"#7F7F7F\", \"#BCBD22\", \"#17BECF\"], \"font\": {\"color\": \"rgb(36,36,36)\"}, \"geo\": {\"bgcolor\": \"white\", \"lakecolor\": \"white\", \"landcolor\": \"white\", \"showlakes\": true, \"showland\": true, \"subunitcolor\": \"white\"}, \"hoverlabel\": {\"align\": \"left\"}, \"hovermode\": \"closest\", \"mapbox\": {\"style\": \"light\"}, \"paper_bgcolor\": \"white\", \"plot_bgcolor\": \"white\", \"polar\": {\"angularaxis\": {\"gridcolor\": \"rgb(232,232,232)\", \"linecolor\": \"rgb(36,36,36)\", \"showgrid\": false, \"showline\": true, \"ticks\": \"outside\"}, \"bgcolor\": \"white\", \"radialaxis\": {\"gridcolor\": \"rgb(232,232,232)\", \"linecolor\": \"rgb(36,36,36)\", \"showgrid\": false, \"showline\": true, \"ticks\": \"outside\"}}, \"scene\": {\"xaxis\": {\"backgroundcolor\": \"white\", \"gridcolor\": \"rgb(232,232,232)\", \"gridwidth\": 2, \"linecolor\": \"rgb(36,36,36)\", \"showbackground\": true, \"showgrid\": false, \"showline\": true, \"ticks\": \"outside\", \"zeroline\": false, \"zerolinecolor\": \"rgb(36,36,36)\"}, \"yaxis\": {\"backgroundcolor\": \"white\", \"gridcolor\": \"rgb(232,232,232)\", \"gridwidth\": 2, \"linecolor\": \"rgb(36,36,36)\", \"showbackground\": true, \"showgrid\": false, \"showline\": true, \"ticks\": \"outside\", \"zeroline\": false, \"zerolinecolor\": \"rgb(36,36,36)\"}, \"zaxis\": {\"backgroundcolor\": \"white\", \"gridcolor\": \"rgb(232,232,232)\", \"gridwidth\": 2, \"linecolor\": \"rgb(36,36,36)\", \"showbackground\": true, \"showgrid\": false, \"showline\": true, \"ticks\": \"outside\", \"zeroline\": false, \"zerolinecolor\": \"rgb(36,36,36)\"}}, \"shapedefaults\": {\"fillcolor\": \"black\", \"line\": {\"width\": 0}, \"opacity\": 0.3}, \"ternary\": {\"aaxis\": {\"gridcolor\": \"rgb(232,232,232)\", \"linecolor\": \"rgb(36,36,36)\", \"showgrid\": false, \"showline\": true, \"ticks\": \"outside\"}, \"baxis\": {\"gridcolor\": \"rgb(232,232,232)\", \"linecolor\": \"rgb(36,36,36)\", \"showgrid\": false, \"showline\": true, \"ticks\": \"outside\"}, \"bgcolor\": \"white\", \"caxis\": {\"gridcolor\": \"rgb(232,232,232)\", \"linecolor\": \"rgb(36,36,36)\", \"showgrid\": false, \"showline\": true, \"ticks\": \"outside\"}}, \"title\": {\"x\": 0.05}, \"xaxis\": {\"automargin\": true, \"gridcolor\": \"rgb(232,232,232)\", \"linecolor\": \"rgb(36,36,36)\", \"showgrid\": false, \"showline\": true, \"ticks\": \"outside\", \"title\": {\"standoff\": 15}, \"zeroline\": false, \"zerolinecolor\": \"rgb(36,36,36)\"}, \"yaxis\": {\"automargin\": true, \"gridcolor\": \"rgb(232,232,232)\", \"linecolor\": \"rgb(36,36,36)\", \"showgrid\": false, \"showline\": true, \"ticks\": \"outside\", \"title\": {\"standoff\": 15}, \"zeroline\": false, \"zerolinecolor\": \"rgb(36,36,36)\"}}}, \"xaxis\": {\"anchor\": \"y\", \"domain\": [0.0, 1.0]}, \"yaxis\": {\"anchor\": \"x\", \"domain\": [0.0, 1.0]}},                        {\"responsive\": true}                    ).then(function(){\n",
       "                            \n",
       "var gd = document.getElementById('257dfa1f-528a-406d-91fe-317b48dc79fb');\n",
       "var x = new MutationObserver(function (mutations, observer) {{\n",
       "        var display = window.getComputedStyle(gd).display;\n",
       "        if (!display || display === 'none') {{\n",
       "            console.log([gd, 'removed!']);\n",
       "            Plotly.purge(gd);\n",
       "            observer.disconnect();\n",
       "        }}\n",
       "}});\n",
       "\n",
       "// Listen for the removal of the full notebook cells\n",
       "var notebookContainer = gd.closest('#notebook-container');\n",
       "if (notebookContainer) {{\n",
       "    x.observe(notebookContainer, {childList: true});\n",
       "}}\n",
       "\n",
       "// Listen for the clearing of the current output cell\n",
       "var outputEl = gd.closest('.output');\n",
       "if (outputEl) {{\n",
       "    x.observe(outputEl, {childList: true});\n",
       "}}\n",
       "\n",
       "                        })                };                });            </script>        </div>"
      ]
     },
     "metadata": {},
     "output_type": "display_data"
    },
    {
     "data": {
      "application/vnd.plotly.v1+json": {
       "config": {
        "plotlyServerURL": "https://plot.ly"
       },
       "data": [
        {
         "marker": {
          "color": "Salmon"
         },
         "name": "Reviews",
         "type": "box",
         "x": [
          17350,
          2052,
          18979,
          21424,
          7665,
          12643,
          19735,
          19699,
          5983,
          23848,
          460,
          4149,
          5153,
          5013,
          2313,
          2925,
          2951,
          2426,
          9198,
          36348,
          6310,
          15921,
          12159,
          798,
          9374,
          491,
          5360,
          1909,
          1296,
          615,
          61133,
          11113,
          10070,
          3729,
          9769,
          471,
          14344,
          4505,
          10369,
          16244,
          2884,
          22614,
          4761,
          1542,
          6143,
          4022,
          3871,
          4866,
          1329,
          4642,
          1541,
          1924,
          2094,
          10922,
          2137,
          1651,
          6679,
          6812,
          3837,
          6540,
          7955,
          27098,
          17684,
          37,
          15845,
          3181,
          5062,
          4786,
          7235,
          12619,
          9089,
          5470,
          5118,
          2134,
          2525,
          720,
          956,
          6346,
          5505,
          5505,
          28729,
          5413,
          10721,
          4370,
          6042,
          23631,
          20262,
          47265,
          13964,
          13677,
          17323,
          1555,
          3642,
          1215,
          5594,
          408,
          4799,
          14038,
          7660,
          22288,
          1365,
          14982,
          9568,
          1636,
          57271,
          10141,
          3457,
          8837,
          7038,
          5972,
          25624,
          5476,
          5867,
          4148,
          19622,
          23973,
          7758,
          3146,
          10052,
          3564,
          13471,
          1930,
          15779,
          15526,
          3776,
          25001,
          5272,
          3490,
          2812,
          4896,
          9737,
          1320,
          16643,
          7153,
          4571,
          29651,
          5299,
          7396,
          7062,
          19576,
          978,
          4748,
          8393,
          11391,
          8634,
          9342,
          10927,
          5235,
          8916,
          2507,
          3673,
          11881,
          6990,
          6132,
          3014,
          7550,
          3828,
          2752,
          1467,
          1884,
          25706,
          8491,
          1649,
          18613,
          9867,
          1386,
          10199,
          2926,
          17739,
          3113,
          5542,
          26741,
          5347,
          7866,
          5680,
          5178,
          8093,
          3192,
          21834,
          6169,
          4519,
          3163,
          1831,
          18904,
          21930,
          10426,
          10820,
          548,
          16990,
          3503,
          13616,
          8580,
          4757,
          10009,
          1985,
          22536,
          7150,
          3836,
          7802,
          3619,
          23047,
          9366,
          1265,
          3923,
          2272,
          973,
          220,
          7827,
          9382,
          5069,
          1583,
          1907,
          23114,
          637,
          2314,
          4587,
          3477,
          25554,
          1680,
          4725,
          35799,
          2580,
          11813,
          3536,
          6600,
          1789,
          12361,
          858,
          23148,
          8081,
          23358,
          9372,
          4633,
          13061,
          3523,
          2774,
          440,
          8922,
          2023,
          1859,
          50482,
          3207,
          803,
          23308,
          5836,
          79446,
          7747,
          7251,
          7251,
          10559,
          5249,
          33844,
          11616,
          13609,
          8587,
          29442,
          11098,
          9947,
          13871,
          6982,
          32122,
          32122,
          16949,
          9289,
          7368,
          4028,
          4628,
          5396,
          4247,
          22641,
          6222,
          4506,
          8747,
          1655,
          7861,
          6247,
          39459,
          10101,
          5898,
          2744,
          49288,
          1201,
          807,
          3759,
          2663,
          3428,
          2876,
          3601,
          7058,
          9784,
          10795,
          10191,
          14493,
          2186,
          1204,
          2091,
          19720,
          2122,
          27536,
          4290,
          26490,
          5487,
          6377,
          1463,
          3759,
          3503,
          11550,
          3801,
          3796,
          9030,
          19546,
          7508,
          8842,
          30183,
          6169,
          7034,
          11034,
          7932,
          1904,
          3319,
          11128,
          5977,
          26234,
          4360,
          2282,
          438,
          11676,
          2586,
          29673,
          6740,
          5956,
          6108,
          4585,
          3829,
          8958,
          5492,
          9292,
          1873,
          8170,
          3341,
          7497,
          13779,
          87841,
          9967,
          6669,
          17044,
          10760,
          1302,
          21625,
          9413,
          14331
         ]
        }
       ],
       "layout": {
        "font": {
         "color": "black",
         "family": "Arial",
         "size": 12
        },
        "showlegend": false,
        "template": {
         "data": {
          "bar": [
           {
            "error_x": {
             "color": "rgb(36,36,36)"
            },
            "error_y": {
             "color": "rgb(36,36,36)"
            },
            "marker": {
             "line": {
              "color": "white",
              "width": 0.5
             }
            },
            "type": "bar"
           }
          ],
          "barpolar": [
           {
            "marker": {
             "line": {
              "color": "white",
              "width": 0.5
             }
            },
            "type": "barpolar"
           }
          ],
          "carpet": [
           {
            "aaxis": {
             "endlinecolor": "rgb(36,36,36)",
             "gridcolor": "white",
             "linecolor": "white",
             "minorgridcolor": "white",
             "startlinecolor": "rgb(36,36,36)"
            },
            "baxis": {
             "endlinecolor": "rgb(36,36,36)",
             "gridcolor": "white",
             "linecolor": "white",
             "minorgridcolor": "white",
             "startlinecolor": "rgb(36,36,36)"
            },
            "type": "carpet"
           }
          ],
          "choropleth": [
           {
            "colorbar": {
             "outlinewidth": 1,
             "tickcolor": "rgb(36,36,36)",
             "ticks": "outside"
            },
            "type": "choropleth"
           }
          ],
          "contour": [
           {
            "colorbar": {
             "outlinewidth": 1,
             "tickcolor": "rgb(36,36,36)",
             "ticks": "outside"
            },
            "colorscale": [
             [
              0,
              "#440154"
             ],
             [
              0.1111111111111111,
              "#482878"
             ],
             [
              0.2222222222222222,
              "#3e4989"
             ],
             [
              0.3333333333333333,
              "#31688e"
             ],
             [
              0.4444444444444444,
              "#26828e"
             ],
             [
              0.5555555555555556,
              "#1f9e89"
             ],
             [
              0.6666666666666666,
              "#35b779"
             ],
             [
              0.7777777777777778,
              "#6ece58"
             ],
             [
              0.8888888888888888,
              "#b5de2b"
             ],
             [
              1,
              "#fde725"
             ]
            ],
            "type": "contour"
           }
          ],
          "contourcarpet": [
           {
            "colorbar": {
             "outlinewidth": 1,
             "tickcolor": "rgb(36,36,36)",
             "ticks": "outside"
            },
            "type": "contourcarpet"
           }
          ],
          "heatmap": [
           {
            "colorbar": {
             "outlinewidth": 1,
             "tickcolor": "rgb(36,36,36)",
             "ticks": "outside"
            },
            "colorscale": [
             [
              0,
              "#440154"
             ],
             [
              0.1111111111111111,
              "#482878"
             ],
             [
              0.2222222222222222,
              "#3e4989"
             ],
             [
              0.3333333333333333,
              "#31688e"
             ],
             [
              0.4444444444444444,
              "#26828e"
             ],
             [
              0.5555555555555556,
              "#1f9e89"
             ],
             [
              0.6666666666666666,
              "#35b779"
             ],
             [
              0.7777777777777778,
              "#6ece58"
             ],
             [
              0.8888888888888888,
              "#b5de2b"
             ],
             [
              1,
              "#fde725"
             ]
            ],
            "type": "heatmap"
           }
          ],
          "heatmapgl": [
           {
            "colorbar": {
             "outlinewidth": 1,
             "tickcolor": "rgb(36,36,36)",
             "ticks": "outside"
            },
            "colorscale": [
             [
              0,
              "#440154"
             ],
             [
              0.1111111111111111,
              "#482878"
             ],
             [
              0.2222222222222222,
              "#3e4989"
             ],
             [
              0.3333333333333333,
              "#31688e"
             ],
             [
              0.4444444444444444,
              "#26828e"
             ],
             [
              0.5555555555555556,
              "#1f9e89"
             ],
             [
              0.6666666666666666,
              "#35b779"
             ],
             [
              0.7777777777777778,
              "#6ece58"
             ],
             [
              0.8888888888888888,
              "#b5de2b"
             ],
             [
              1,
              "#fde725"
             ]
            ],
            "type": "heatmapgl"
           }
          ],
          "histogram": [
           {
            "marker": {
             "line": {
              "color": "white",
              "width": 0.6
             }
            },
            "type": "histogram"
           }
          ],
          "histogram2d": [
           {
            "colorbar": {
             "outlinewidth": 1,
             "tickcolor": "rgb(36,36,36)",
             "ticks": "outside"
            },
            "colorscale": [
             [
              0,
              "#440154"
             ],
             [
              0.1111111111111111,
              "#482878"
             ],
             [
              0.2222222222222222,
              "#3e4989"
             ],
             [
              0.3333333333333333,
              "#31688e"
             ],
             [
              0.4444444444444444,
              "#26828e"
             ],
             [
              0.5555555555555556,
              "#1f9e89"
             ],
             [
              0.6666666666666666,
              "#35b779"
             ],
             [
              0.7777777777777778,
              "#6ece58"
             ],
             [
              0.8888888888888888,
              "#b5de2b"
             ],
             [
              1,
              "#fde725"
             ]
            ],
            "type": "histogram2d"
           }
          ],
          "histogram2dcontour": [
           {
            "colorbar": {
             "outlinewidth": 1,
             "tickcolor": "rgb(36,36,36)",
             "ticks": "outside"
            },
            "colorscale": [
             [
              0,
              "#440154"
             ],
             [
              0.1111111111111111,
              "#482878"
             ],
             [
              0.2222222222222222,
              "#3e4989"
             ],
             [
              0.3333333333333333,
              "#31688e"
             ],
             [
              0.4444444444444444,
              "#26828e"
             ],
             [
              0.5555555555555556,
              "#1f9e89"
             ],
             [
              0.6666666666666666,
              "#35b779"
             ],
             [
              0.7777777777777778,
              "#6ece58"
             ],
             [
              0.8888888888888888,
              "#b5de2b"
             ],
             [
              1,
              "#fde725"
             ]
            ],
            "type": "histogram2dcontour"
           }
          ],
          "mesh3d": [
           {
            "colorbar": {
             "outlinewidth": 1,
             "tickcolor": "rgb(36,36,36)",
             "ticks": "outside"
            },
            "type": "mesh3d"
           }
          ],
          "parcoords": [
           {
            "line": {
             "colorbar": {
              "outlinewidth": 1,
              "tickcolor": "rgb(36,36,36)",
              "ticks": "outside"
             }
            },
            "type": "parcoords"
           }
          ],
          "pie": [
           {
            "automargin": true,
            "type": "pie"
           }
          ],
          "scatter": [
           {
            "marker": {
             "colorbar": {
              "outlinewidth": 1,
              "tickcolor": "rgb(36,36,36)",
              "ticks": "outside"
             }
            },
            "type": "scatter"
           }
          ],
          "scatter3d": [
           {
            "line": {
             "colorbar": {
              "outlinewidth": 1,
              "tickcolor": "rgb(36,36,36)",
              "ticks": "outside"
             }
            },
            "marker": {
             "colorbar": {
              "outlinewidth": 1,
              "tickcolor": "rgb(36,36,36)",
              "ticks": "outside"
             }
            },
            "type": "scatter3d"
           }
          ],
          "scattercarpet": [
           {
            "marker": {
             "colorbar": {
              "outlinewidth": 1,
              "tickcolor": "rgb(36,36,36)",
              "ticks": "outside"
             }
            },
            "type": "scattercarpet"
           }
          ],
          "scattergeo": [
           {
            "marker": {
             "colorbar": {
              "outlinewidth": 1,
              "tickcolor": "rgb(36,36,36)",
              "ticks": "outside"
             }
            },
            "type": "scattergeo"
           }
          ],
          "scattergl": [
           {
            "marker": {
             "colorbar": {
              "outlinewidth": 1,
              "tickcolor": "rgb(36,36,36)",
              "ticks": "outside"
             }
            },
            "type": "scattergl"
           }
          ],
          "scattermapbox": [
           {
            "marker": {
             "colorbar": {
              "outlinewidth": 1,
              "tickcolor": "rgb(36,36,36)",
              "ticks": "outside"
             }
            },
            "type": "scattermapbox"
           }
          ],
          "scatterpolar": [
           {
            "marker": {
             "colorbar": {
              "outlinewidth": 1,
              "tickcolor": "rgb(36,36,36)",
              "ticks": "outside"
             }
            },
            "type": "scatterpolar"
           }
          ],
          "scatterpolargl": [
           {
            "marker": {
             "colorbar": {
              "outlinewidth": 1,
              "tickcolor": "rgb(36,36,36)",
              "ticks": "outside"
             }
            },
            "type": "scatterpolargl"
           }
          ],
          "scatterternary": [
           {
            "marker": {
             "colorbar": {
              "outlinewidth": 1,
              "tickcolor": "rgb(36,36,36)",
              "ticks": "outside"
             }
            },
            "type": "scatterternary"
           }
          ],
          "surface": [
           {
            "colorbar": {
             "outlinewidth": 1,
             "tickcolor": "rgb(36,36,36)",
             "ticks": "outside"
            },
            "colorscale": [
             [
              0,
              "#440154"
             ],
             [
              0.1111111111111111,
              "#482878"
             ],
             [
              0.2222222222222222,
              "#3e4989"
             ],
             [
              0.3333333333333333,
              "#31688e"
             ],
             [
              0.4444444444444444,
              "#26828e"
             ],
             [
              0.5555555555555556,
              "#1f9e89"
             ],
             [
              0.6666666666666666,
              "#35b779"
             ],
             [
              0.7777777777777778,
              "#6ece58"
             ],
             [
              0.8888888888888888,
              "#b5de2b"
             ],
             [
              1,
              "#fde725"
             ]
            ],
            "type": "surface"
           }
          ],
          "table": [
           {
            "cells": {
             "fill": {
              "color": "rgb(237,237,237)"
             },
             "line": {
              "color": "white"
             }
            },
            "header": {
             "fill": {
              "color": "rgb(217,217,217)"
             },
             "line": {
              "color": "white"
             }
            },
            "type": "table"
           }
          ]
         },
         "layout": {
          "annotationdefaults": {
           "arrowhead": 0,
           "arrowwidth": 1
          },
          "autotypenumbers": "strict",
          "coloraxis": {
           "colorbar": {
            "outlinewidth": 1,
            "tickcolor": "rgb(36,36,36)",
            "ticks": "outside"
           }
          },
          "colorscale": {
           "diverging": [
            [
             0,
             "rgb(103,0,31)"
            ],
            [
             0.1,
             "rgb(178,24,43)"
            ],
            [
             0.2,
             "rgb(214,96,77)"
            ],
            [
             0.3,
             "rgb(244,165,130)"
            ],
            [
             0.4,
             "rgb(253,219,199)"
            ],
            [
             0.5,
             "rgb(247,247,247)"
            ],
            [
             0.6,
             "rgb(209,229,240)"
            ],
            [
             0.7,
             "rgb(146,197,222)"
            ],
            [
             0.8,
             "rgb(67,147,195)"
            ],
            [
             0.9,
             "rgb(33,102,172)"
            ],
            [
             1,
             "rgb(5,48,97)"
            ]
           ],
           "sequential": [
            [
             0,
             "#440154"
            ],
            [
             0.1111111111111111,
             "#482878"
            ],
            [
             0.2222222222222222,
             "#3e4989"
            ],
            [
             0.3333333333333333,
             "#31688e"
            ],
            [
             0.4444444444444444,
             "#26828e"
            ],
            [
             0.5555555555555556,
             "#1f9e89"
            ],
            [
             0.6666666666666666,
             "#35b779"
            ],
            [
             0.7777777777777778,
             "#6ece58"
            ],
            [
             0.8888888888888888,
             "#b5de2b"
            ],
            [
             1,
             "#fde725"
            ]
           ],
           "sequentialminus": [
            [
             0,
             "#440154"
            ],
            [
             0.1111111111111111,
             "#482878"
            ],
            [
             0.2222222222222222,
             "#3e4989"
            ],
            [
             0.3333333333333333,
             "#31688e"
            ],
            [
             0.4444444444444444,
             "#26828e"
            ],
            [
             0.5555555555555556,
             "#1f9e89"
            ],
            [
             0.6666666666666666,
             "#35b779"
            ],
            [
             0.7777777777777778,
             "#6ece58"
            ],
            [
             0.8888888888888888,
             "#b5de2b"
            ],
            [
             1,
             "#fde725"
            ]
           ]
          },
          "colorway": [
           "#1F77B4",
           "#FF7F0E",
           "#2CA02C",
           "#D62728",
           "#9467BD",
           "#8C564B",
           "#E377C2",
           "#7F7F7F",
           "#BCBD22",
           "#17BECF"
          ],
          "font": {
           "color": "rgb(36,36,36)"
          },
          "geo": {
           "bgcolor": "white",
           "lakecolor": "white",
           "landcolor": "white",
           "showlakes": true,
           "showland": true,
           "subunitcolor": "white"
          },
          "hoverlabel": {
           "align": "left"
          },
          "hovermode": "closest",
          "mapbox": {
           "style": "light"
          },
          "paper_bgcolor": "white",
          "plot_bgcolor": "white",
          "polar": {
           "angularaxis": {
            "gridcolor": "rgb(232,232,232)",
            "linecolor": "rgb(36,36,36)",
            "showgrid": false,
            "showline": true,
            "ticks": "outside"
           },
           "bgcolor": "white",
           "radialaxis": {
            "gridcolor": "rgb(232,232,232)",
            "linecolor": "rgb(36,36,36)",
            "showgrid": false,
            "showline": true,
            "ticks": "outside"
           }
          },
          "scene": {
           "xaxis": {
            "backgroundcolor": "white",
            "gridcolor": "rgb(232,232,232)",
            "gridwidth": 2,
            "linecolor": "rgb(36,36,36)",
            "showbackground": true,
            "showgrid": false,
            "showline": true,
            "ticks": "outside",
            "zeroline": false,
            "zerolinecolor": "rgb(36,36,36)"
           },
           "yaxis": {
            "backgroundcolor": "white",
            "gridcolor": "rgb(232,232,232)",
            "gridwidth": 2,
            "linecolor": "rgb(36,36,36)",
            "showbackground": true,
            "showgrid": false,
            "showline": true,
            "ticks": "outside",
            "zeroline": false,
            "zerolinecolor": "rgb(36,36,36)"
           },
           "zaxis": {
            "backgroundcolor": "white",
            "gridcolor": "rgb(232,232,232)",
            "gridwidth": 2,
            "linecolor": "rgb(36,36,36)",
            "showbackground": true,
            "showgrid": false,
            "showline": true,
            "ticks": "outside",
            "zeroline": false,
            "zerolinecolor": "rgb(36,36,36)"
           }
          },
          "shapedefaults": {
           "fillcolor": "black",
           "line": {
            "width": 0
           },
           "opacity": 0.3
          },
          "ternary": {
           "aaxis": {
            "gridcolor": "rgb(232,232,232)",
            "linecolor": "rgb(36,36,36)",
            "showgrid": false,
            "showline": true,
            "ticks": "outside"
           },
           "baxis": {
            "gridcolor": "rgb(232,232,232)",
            "linecolor": "rgb(36,36,36)",
            "showgrid": false,
            "showline": true,
            "ticks": "outside"
           },
           "bgcolor": "white",
           "caxis": {
            "gridcolor": "rgb(232,232,232)",
            "linecolor": "rgb(36,36,36)",
            "showgrid": false,
            "showline": true,
            "ticks": "outside"
           }
          },
          "title": {
           "x": 0.05
          },
          "xaxis": {
           "automargin": true,
           "gridcolor": "rgb(232,232,232)",
           "linecolor": "rgb(36,36,36)",
           "showgrid": false,
           "showline": true,
           "ticks": "outside",
           "title": {
            "standoff": 15
           },
           "zeroline": false,
           "zerolinecolor": "rgb(36,36,36)"
          },
          "yaxis": {
           "automargin": true,
           "gridcolor": "rgb(232,232,232)",
           "linecolor": "rgb(36,36,36)",
           "showgrid": false,
           "showline": true,
           "ticks": "outside",
           "title": {
            "standoff": 15
           },
           "zeroline": false,
           "zerolinecolor": "rgb(36,36,36)"
          }
         }
        },
        "xaxis": {
         "anchor": "y",
         "domain": [
          0,
          1
         ]
        },
        "yaxis": {
         "anchor": "x",
         "domain": [
          0,
          1
         ]
        }
       }
      },
      "text/html": [
       "<div>                            <div id=\"a2df473d-dce6-4657-bc23-bf2db32e5823\" class=\"plotly-graph-div\" style=\"height:525px; width:100%;\"></div>            <script type=\"text/javascript\">                require([\"plotly\"], function(Plotly) {                    window.PLOTLYENV=window.PLOTLYENV || {};                                    if (document.getElementById(\"a2df473d-dce6-4657-bc23-bf2db32e5823\")) {                    Plotly.newPlot(                        \"a2df473d-dce6-4657-bc23-bf2db32e5823\",                        [{\"marker\": {\"color\": \"Salmon\"}, \"name\": \"Reviews\", \"type\": \"box\", \"x\": [17350, 2052, 18979, 21424, 7665, 12643, 19735, 19699, 5983, 23848, 460, 4149, 5153, 5013, 2313, 2925, 2951, 2426, 9198, 36348, 6310, 15921, 12159, 798, 9374, 491, 5360, 1909, 1296, 615, 61133, 11113, 10070, 3729, 9769, 471, 14344, 4505, 10369, 16244, 2884, 22614, 4761, 1542, 6143, 4022, 3871, 4866, 1329, 4642, 1541, 1924, 2094, 10922, 2137, 1651, 6679, 6812, 3837, 6540, 7955, 27098, 17684, 37, 15845, 3181, 5062, 4786, 7235, 12619, 9089, 5470, 5118, 2134, 2525, 720, 956, 6346, 5505, 5505, 28729, 5413, 10721, 4370, 6042, 23631, 20262, 47265, 13964, 13677, 17323, 1555, 3642, 1215, 5594, 408, 4799, 14038, 7660, 22288, 1365, 14982, 9568, 1636, 57271, 10141, 3457, 8837, 7038, 5972, 25624, 5476, 5867, 4148, 19622, 23973, 7758, 3146, 10052, 3564, 13471, 1930, 15779, 15526, 3776, 25001, 5272, 3490, 2812, 4896, 9737, 1320, 16643, 7153, 4571, 29651, 5299, 7396, 7062, 19576, 978, 4748, 8393, 11391, 8634, 9342, 10927, 5235, 8916, 2507, 3673, 11881, 6990, 6132, 3014, 7550, 3828, 2752, 1467, 1884, 25706, 8491, 1649, 18613, 9867, 1386, 10199, 2926, 17739, 3113, 5542, 26741, 5347, 7866, 5680, 5178, 8093, 3192, 21834, 6169, 4519, 3163, 1831, 18904, 21930, 10426, 10820, 548, 16990, 3503, 13616, 8580, 4757, 10009, 1985, 22536, 7150, 3836, 7802, 3619, 23047, 9366, 1265, 3923, 2272, 973, 220, 7827, 9382, 5069, 1583, 1907, 23114, 637, 2314, 4587, 3477, 25554, 1680, 4725, 35799, 2580, 11813, 3536, 6600, 1789, 12361, 858, 23148, 8081, 23358, 9372, 4633, 13061, 3523, 2774, 440, 8922, 2023, 1859, 50482, 3207, 803, 23308, 5836, 79446, 7747, 7251, 7251, 10559, 5249, 33844, 11616, 13609, 8587, 29442, 11098, 9947, 13871, 6982, 32122, 32122, 16949, 9289, 7368, 4028, 4628, 5396, 4247, 22641, 6222, 4506, 8747, 1655, 7861, 6247, 39459, 10101, 5898, 2744, 49288, 1201, 807, 3759, 2663, 3428, 2876, 3601, 7058, 9784, 10795, 10191, 14493, 2186, 1204, 2091, 19720, 2122, 27536, 4290, 26490, 5487, 6377, 1463, 3759, 3503, 11550, 3801, 3796, 9030, 19546, 7508, 8842, 30183, 6169, 7034, 11034, 7932, 1904, 3319, 11128, 5977, 26234, 4360, 2282, 438, 11676, 2586, 29673, 6740, 5956, 6108, 4585, 3829, 8958, 5492, 9292, 1873, 8170, 3341, 7497, 13779, 87841, 9967, 6669, 17044, 10760, 1302, 21625, 9413, 14331]}],                        {\"font\": {\"color\": \"black\", \"family\": \"Arial\", \"size\": 12}, \"showlegend\": false, \"template\": {\"data\": {\"bar\": [{\"error_x\": {\"color\": \"rgb(36,36,36)\"}, \"error_y\": {\"color\": \"rgb(36,36,36)\"}, \"marker\": {\"line\": {\"color\": \"white\", \"width\": 0.5}}, \"type\": \"bar\"}], \"barpolar\": [{\"marker\": {\"line\": {\"color\": \"white\", \"width\": 0.5}}, \"type\": \"barpolar\"}], \"carpet\": [{\"aaxis\": {\"endlinecolor\": \"rgb(36,36,36)\", \"gridcolor\": \"white\", \"linecolor\": \"white\", \"minorgridcolor\": \"white\", \"startlinecolor\": \"rgb(36,36,36)\"}, \"baxis\": {\"endlinecolor\": \"rgb(36,36,36)\", \"gridcolor\": \"white\", \"linecolor\": \"white\", \"minorgridcolor\": \"white\", \"startlinecolor\": \"rgb(36,36,36)\"}, \"type\": \"carpet\"}], \"choropleth\": [{\"colorbar\": {\"outlinewidth\": 1, \"tickcolor\": \"rgb(36,36,36)\", \"ticks\": \"outside\"}, \"type\": \"choropleth\"}], \"contour\": [{\"colorbar\": {\"outlinewidth\": 1, \"tickcolor\": \"rgb(36,36,36)\", \"ticks\": \"outside\"}, \"colorscale\": [[0.0, \"#440154\"], [0.1111111111111111, \"#482878\"], [0.2222222222222222, \"#3e4989\"], [0.3333333333333333, \"#31688e\"], [0.4444444444444444, \"#26828e\"], [0.5555555555555556, \"#1f9e89\"], [0.6666666666666666, \"#35b779\"], [0.7777777777777778, \"#6ece58\"], [0.8888888888888888, \"#b5de2b\"], [1.0, \"#fde725\"]], \"type\": \"contour\"}], \"contourcarpet\": [{\"colorbar\": {\"outlinewidth\": 1, \"tickcolor\": \"rgb(36,36,36)\", \"ticks\": \"outside\"}, \"type\": \"contourcarpet\"}], \"heatmap\": [{\"colorbar\": {\"outlinewidth\": 1, \"tickcolor\": \"rgb(36,36,36)\", \"ticks\": \"outside\"}, \"colorscale\": [[0.0, \"#440154\"], [0.1111111111111111, \"#482878\"], [0.2222222222222222, \"#3e4989\"], [0.3333333333333333, \"#31688e\"], [0.4444444444444444, \"#26828e\"], [0.5555555555555556, \"#1f9e89\"], [0.6666666666666666, \"#35b779\"], [0.7777777777777778, \"#6ece58\"], [0.8888888888888888, \"#b5de2b\"], [1.0, \"#fde725\"]], \"type\": \"heatmap\"}], \"heatmapgl\": [{\"colorbar\": {\"outlinewidth\": 1, \"tickcolor\": \"rgb(36,36,36)\", \"ticks\": \"outside\"}, \"colorscale\": [[0.0, \"#440154\"], [0.1111111111111111, \"#482878\"], [0.2222222222222222, \"#3e4989\"], [0.3333333333333333, \"#31688e\"], [0.4444444444444444, \"#26828e\"], [0.5555555555555556, \"#1f9e89\"], [0.6666666666666666, \"#35b779\"], [0.7777777777777778, \"#6ece58\"], [0.8888888888888888, \"#b5de2b\"], [1.0, \"#fde725\"]], \"type\": \"heatmapgl\"}], \"histogram\": [{\"marker\": {\"line\": {\"color\": \"white\", \"width\": 0.6}}, \"type\": \"histogram\"}], \"histogram2d\": [{\"colorbar\": {\"outlinewidth\": 1, \"tickcolor\": \"rgb(36,36,36)\", \"ticks\": \"outside\"}, \"colorscale\": [[0.0, \"#440154\"], [0.1111111111111111, \"#482878\"], [0.2222222222222222, \"#3e4989\"], [0.3333333333333333, \"#31688e\"], [0.4444444444444444, \"#26828e\"], [0.5555555555555556, \"#1f9e89\"], [0.6666666666666666, \"#35b779\"], [0.7777777777777778, \"#6ece58\"], [0.8888888888888888, \"#b5de2b\"], [1.0, \"#fde725\"]], \"type\": \"histogram2d\"}], \"histogram2dcontour\": [{\"colorbar\": {\"outlinewidth\": 1, \"tickcolor\": \"rgb(36,36,36)\", \"ticks\": \"outside\"}, \"colorscale\": [[0.0, \"#440154\"], [0.1111111111111111, \"#482878\"], [0.2222222222222222, \"#3e4989\"], [0.3333333333333333, \"#31688e\"], [0.4444444444444444, \"#26828e\"], [0.5555555555555556, \"#1f9e89\"], [0.6666666666666666, \"#35b779\"], [0.7777777777777778, \"#6ece58\"], [0.8888888888888888, \"#b5de2b\"], [1.0, \"#fde725\"]], \"type\": \"histogram2dcontour\"}], \"mesh3d\": [{\"colorbar\": {\"outlinewidth\": 1, \"tickcolor\": \"rgb(36,36,36)\", \"ticks\": \"outside\"}, \"type\": \"mesh3d\"}], \"parcoords\": [{\"line\": {\"colorbar\": {\"outlinewidth\": 1, \"tickcolor\": \"rgb(36,36,36)\", \"ticks\": \"outside\"}}, \"type\": \"parcoords\"}], \"pie\": [{\"automargin\": true, \"type\": \"pie\"}], \"scatter\": [{\"marker\": {\"colorbar\": {\"outlinewidth\": 1, \"tickcolor\": \"rgb(36,36,36)\", \"ticks\": \"outside\"}}, \"type\": \"scatter\"}], \"scatter3d\": [{\"line\": {\"colorbar\": {\"outlinewidth\": 1, \"tickcolor\": \"rgb(36,36,36)\", \"ticks\": \"outside\"}}, \"marker\": {\"colorbar\": {\"outlinewidth\": 1, \"tickcolor\": \"rgb(36,36,36)\", \"ticks\": \"outside\"}}, \"type\": \"scatter3d\"}], \"scattercarpet\": [{\"marker\": {\"colorbar\": {\"outlinewidth\": 1, \"tickcolor\": \"rgb(36,36,36)\", \"ticks\": \"outside\"}}, \"type\": \"scattercarpet\"}], \"scattergeo\": [{\"marker\": {\"colorbar\": {\"outlinewidth\": 1, \"tickcolor\": \"rgb(36,36,36)\", \"ticks\": \"outside\"}}, \"type\": \"scattergeo\"}], \"scattergl\": [{\"marker\": {\"colorbar\": {\"outlinewidth\": 1, \"tickcolor\": \"rgb(36,36,36)\", \"ticks\": \"outside\"}}, \"type\": \"scattergl\"}], \"scattermapbox\": [{\"marker\": {\"colorbar\": {\"outlinewidth\": 1, \"tickcolor\": \"rgb(36,36,36)\", \"ticks\": \"outside\"}}, \"type\": \"scattermapbox\"}], \"scatterpolar\": [{\"marker\": {\"colorbar\": {\"outlinewidth\": 1, \"tickcolor\": \"rgb(36,36,36)\", \"ticks\": \"outside\"}}, \"type\": \"scatterpolar\"}], \"scatterpolargl\": [{\"marker\": {\"colorbar\": {\"outlinewidth\": 1, \"tickcolor\": \"rgb(36,36,36)\", \"ticks\": \"outside\"}}, \"type\": \"scatterpolargl\"}], \"scatterternary\": [{\"marker\": {\"colorbar\": {\"outlinewidth\": 1, \"tickcolor\": \"rgb(36,36,36)\", \"ticks\": \"outside\"}}, \"type\": \"scatterternary\"}], \"surface\": [{\"colorbar\": {\"outlinewidth\": 1, \"tickcolor\": \"rgb(36,36,36)\", \"ticks\": \"outside\"}, \"colorscale\": [[0.0, \"#440154\"], [0.1111111111111111, \"#482878\"], [0.2222222222222222, \"#3e4989\"], [0.3333333333333333, \"#31688e\"], [0.4444444444444444, \"#26828e\"], [0.5555555555555556, \"#1f9e89\"], [0.6666666666666666, \"#35b779\"], [0.7777777777777778, \"#6ece58\"], [0.8888888888888888, \"#b5de2b\"], [1.0, \"#fde725\"]], \"type\": \"surface\"}], \"table\": [{\"cells\": {\"fill\": {\"color\": \"rgb(237,237,237)\"}, \"line\": {\"color\": \"white\"}}, \"header\": {\"fill\": {\"color\": \"rgb(217,217,217)\"}, \"line\": {\"color\": \"white\"}}, \"type\": \"table\"}]}, \"layout\": {\"annotationdefaults\": {\"arrowhead\": 0, \"arrowwidth\": 1}, \"autotypenumbers\": \"strict\", \"coloraxis\": {\"colorbar\": {\"outlinewidth\": 1, \"tickcolor\": \"rgb(36,36,36)\", \"ticks\": \"outside\"}}, \"colorscale\": {\"diverging\": [[0.0, \"rgb(103,0,31)\"], [0.1, \"rgb(178,24,43)\"], [0.2, \"rgb(214,96,77)\"], [0.3, \"rgb(244,165,130)\"], [0.4, \"rgb(253,219,199)\"], [0.5, \"rgb(247,247,247)\"], [0.6, \"rgb(209,229,240)\"], [0.7, \"rgb(146,197,222)\"], [0.8, \"rgb(67,147,195)\"], [0.9, \"rgb(33,102,172)\"], [1.0, \"rgb(5,48,97)\"]], \"sequential\": [[0.0, \"#440154\"], [0.1111111111111111, \"#482878\"], [0.2222222222222222, \"#3e4989\"], [0.3333333333333333, \"#31688e\"], [0.4444444444444444, \"#26828e\"], [0.5555555555555556, \"#1f9e89\"], [0.6666666666666666, \"#35b779\"], [0.7777777777777778, \"#6ece58\"], [0.8888888888888888, \"#b5de2b\"], [1.0, \"#fde725\"]], \"sequentialminus\": [[0.0, \"#440154\"], [0.1111111111111111, \"#482878\"], [0.2222222222222222, \"#3e4989\"], [0.3333333333333333, \"#31688e\"], [0.4444444444444444, \"#26828e\"], [0.5555555555555556, \"#1f9e89\"], [0.6666666666666666, \"#35b779\"], [0.7777777777777778, \"#6ece58\"], [0.8888888888888888, \"#b5de2b\"], [1.0, \"#fde725\"]]}, \"colorway\": [\"#1F77B4\", \"#FF7F0E\", \"#2CA02C\", \"#D62728\", \"#9467BD\", \"#8C564B\", \"#E377C2\", \"#7F7F7F\", \"#BCBD22\", \"#17BECF\"], \"font\": {\"color\": \"rgb(36,36,36)\"}, \"geo\": {\"bgcolor\": \"white\", \"lakecolor\": \"white\", \"landcolor\": \"white\", \"showlakes\": true, \"showland\": true, \"subunitcolor\": \"white\"}, \"hoverlabel\": {\"align\": \"left\"}, \"hovermode\": \"closest\", \"mapbox\": {\"style\": \"light\"}, \"paper_bgcolor\": \"white\", \"plot_bgcolor\": \"white\", \"polar\": {\"angularaxis\": {\"gridcolor\": \"rgb(232,232,232)\", \"linecolor\": \"rgb(36,36,36)\", \"showgrid\": false, \"showline\": true, \"ticks\": \"outside\"}, \"bgcolor\": \"white\", \"radialaxis\": {\"gridcolor\": \"rgb(232,232,232)\", \"linecolor\": \"rgb(36,36,36)\", \"showgrid\": false, \"showline\": true, \"ticks\": \"outside\"}}, \"scene\": {\"xaxis\": {\"backgroundcolor\": \"white\", \"gridcolor\": \"rgb(232,232,232)\", \"gridwidth\": 2, \"linecolor\": \"rgb(36,36,36)\", \"showbackground\": true, \"showgrid\": false, \"showline\": true, \"ticks\": \"outside\", \"zeroline\": false, \"zerolinecolor\": \"rgb(36,36,36)\"}, \"yaxis\": {\"backgroundcolor\": \"white\", \"gridcolor\": \"rgb(232,232,232)\", \"gridwidth\": 2, \"linecolor\": \"rgb(36,36,36)\", \"showbackground\": true, \"showgrid\": false, \"showline\": true, \"ticks\": \"outside\", \"zeroline\": false, \"zerolinecolor\": \"rgb(36,36,36)\"}, \"zaxis\": {\"backgroundcolor\": \"white\", \"gridcolor\": \"rgb(232,232,232)\", \"gridwidth\": 2, \"linecolor\": \"rgb(36,36,36)\", \"showbackground\": true, \"showgrid\": false, \"showline\": true, \"ticks\": \"outside\", \"zeroline\": false, \"zerolinecolor\": \"rgb(36,36,36)\"}}, \"shapedefaults\": {\"fillcolor\": \"black\", \"line\": {\"width\": 0}, \"opacity\": 0.3}, \"ternary\": {\"aaxis\": {\"gridcolor\": \"rgb(232,232,232)\", \"linecolor\": \"rgb(36,36,36)\", \"showgrid\": false, \"showline\": true, \"ticks\": \"outside\"}, \"baxis\": {\"gridcolor\": \"rgb(232,232,232)\", \"linecolor\": \"rgb(36,36,36)\", \"showgrid\": false, \"showline\": true, \"ticks\": \"outside\"}, \"bgcolor\": \"white\", \"caxis\": {\"gridcolor\": \"rgb(232,232,232)\", \"linecolor\": \"rgb(36,36,36)\", \"showgrid\": false, \"showline\": true, \"ticks\": \"outside\"}}, \"title\": {\"x\": 0.05}, \"xaxis\": {\"automargin\": true, \"gridcolor\": \"rgb(232,232,232)\", \"linecolor\": \"rgb(36,36,36)\", \"showgrid\": false, \"showline\": true, \"ticks\": \"outside\", \"title\": {\"standoff\": 15}, \"zeroline\": false, \"zerolinecolor\": \"rgb(36,36,36)\"}, \"yaxis\": {\"automargin\": true, \"gridcolor\": \"rgb(232,232,232)\", \"linecolor\": \"rgb(36,36,36)\", \"showgrid\": false, \"showline\": true, \"ticks\": \"outside\", \"title\": {\"standoff\": 15}, \"zeroline\": false, \"zerolinecolor\": \"rgb(36,36,36)\"}}}, \"xaxis\": {\"anchor\": \"y\", \"domain\": [0.0, 1.0]}, \"yaxis\": {\"anchor\": \"x\", \"domain\": [0.0, 1.0]}},                        {\"responsive\": true}                    ).then(function(){\n",
       "                            \n",
       "var gd = document.getElementById('a2df473d-dce6-4657-bc23-bf2db32e5823');\n",
       "var x = new MutationObserver(function (mutations, observer) {{\n",
       "        var display = window.getComputedStyle(gd).display;\n",
       "        if (!display || display === 'none') {{\n",
       "            console.log([gd, 'removed!']);\n",
       "            Plotly.purge(gd);\n",
       "            observer.disconnect();\n",
       "        }}\n",
       "}});\n",
       "\n",
       "// Listen for the removal of the full notebook cells\n",
       "var notebookContainer = gd.closest('#notebook-container');\n",
       "if (notebookContainer) {{\n",
       "    x.observe(notebookContainer, {childList: true});\n",
       "}}\n",
       "\n",
       "// Listen for the clearing of the current output cell\n",
       "var outputEl = gd.closest('.output');\n",
       "if (outputEl) {{\n",
       "    x.observe(outputEl, {childList: true});\n",
       "}}\n",
       "\n",
       "                        })                };                });            </script>        </div>"
      ]
     },
     "metadata": {},
     "output_type": "display_data"
    },
    {
     "data": {
      "application/vnd.plotly.v1+json": {
       "config": {
        "plotlyServerURL": "https://plot.ly"
       },
       "data": [
        {
         "marker": {
          "color": "Salmon"
         },
         "name": "Price",
         "type": "box",
         "x": [
          8,
          22,
          15,
          6,
          12,
          11,
          30,
          15,
          3,
          8,
          2,
          32,
          5,
          17,
          4,
          6,
          6,
          8,
          13,
          14,
          13,
          9,
          13,
          5,
          9,
          14,
          5,
          11,
          24,
          21,
          11,
          15,
          13,
          18,
          13,
          8,
          5,
          0,
          4,
          18,
          28,
          11,
          16,
          14,
          8,
          4,
          5,
          11,
          10,
          13,
          4,
          8,
          4,
          5,
          17,
          15,
          105,
          0,
          15,
          22,
          5,
          15,
          6,
          6,
          13,
          12,
          6,
          8,
          4,
          8,
          8,
          6,
          20,
          5,
          16,
          1,
          14,
          9,
          7,
          18,
          15,
          9,
          8,
          15,
          2,
          7,
          11,
          14,
          32,
          6,
          4,
          9,
          0,
          9,
          5,
          20,
          16,
          4,
          12,
          12,
          11,
          19,
          9,
          6,
          9,
          6,
          14,
          5,
          7,
          10,
          14,
          7,
          54,
          11,
          30,
          12,
          18,
          30,
          22,
          9,
          52,
          4,
          10,
          14,
          22,
          11,
          16,
          15,
          17,
          17,
          7,
          7,
          4,
          9,
          21,
          14,
          20,
          13,
          12,
          8,
          0,
          12,
          17,
          12,
          25,
          10,
          6,
          5,
          6,
          8,
          4,
          13,
          4,
          13,
          21,
          6,
          15,
          18,
          10,
          0,
          12,
          7,
          13,
          5,
          16,
          20,
          11,
          27,
          8,
          6,
          10,
          8,
          16,
          11,
          10,
          9,
          14,
          22,
          8,
          7,
          12,
          13,
          9,
          13,
          11,
          20,
          5,
          2,
          27,
          9,
          10,
          46,
          4,
          7,
          9,
          12,
          12,
          12,
          20,
          10,
          6,
          9,
          11,
          16,
          6,
          25,
          17,
          20,
          6,
          17,
          18,
          13,
          18,
          20,
          22,
          21,
          28,
          8,
          12,
          16,
          39,
          9,
          10,
          17,
          11,
          14,
          12,
          53,
          6,
          8,
          12,
          12,
          21,
          6,
          13,
          0,
          11,
          9,
          15,
          11,
          7,
          6,
          9,
          6,
          0,
          7,
          14,
          9,
          16,
          2,
          5,
          20,
          7,
          14,
          10,
          7,
          13,
          11,
          7,
          14,
          14,
          8,
          30,
          9,
          7,
          9,
          7,
          20,
          13,
          11,
          18,
          14,
          19,
          13,
          5,
          10,
          9,
          8,
          8,
          12,
          11,
          40,
          36,
          16,
          17,
          14,
          21,
          18,
          17,
          5,
          21,
          18,
          18,
          12,
          14,
          12,
          8,
          0,
          14,
          10,
          15,
          9,
          7,
          10,
          6,
          9,
          10,
          82,
          12,
          10,
          5,
          16,
          10,
          4,
          16,
          15,
          19,
          9,
          23,
          11,
          23,
          12,
          7,
          21,
          21,
          15,
          9,
          5,
          13,
          20,
          11,
          4,
          9,
          42,
          12,
          18,
          17,
          14,
          13,
          9,
          6,
          14,
          15,
          13,
          12,
          18,
          15,
          11,
          9,
          8,
          8
         ]
        }
       ],
       "layout": {
        "font": {
         "color": "black",
         "family": "Arial",
         "size": 12
        },
        "showlegend": false,
        "template": {
         "data": {
          "bar": [
           {
            "error_x": {
             "color": "rgb(36,36,36)"
            },
            "error_y": {
             "color": "rgb(36,36,36)"
            },
            "marker": {
             "line": {
              "color": "white",
              "width": 0.5
             }
            },
            "type": "bar"
           }
          ],
          "barpolar": [
           {
            "marker": {
             "line": {
              "color": "white",
              "width": 0.5
             }
            },
            "type": "barpolar"
           }
          ],
          "carpet": [
           {
            "aaxis": {
             "endlinecolor": "rgb(36,36,36)",
             "gridcolor": "white",
             "linecolor": "white",
             "minorgridcolor": "white",
             "startlinecolor": "rgb(36,36,36)"
            },
            "baxis": {
             "endlinecolor": "rgb(36,36,36)",
             "gridcolor": "white",
             "linecolor": "white",
             "minorgridcolor": "white",
             "startlinecolor": "rgb(36,36,36)"
            },
            "type": "carpet"
           }
          ],
          "choropleth": [
           {
            "colorbar": {
             "outlinewidth": 1,
             "tickcolor": "rgb(36,36,36)",
             "ticks": "outside"
            },
            "type": "choropleth"
           }
          ],
          "contour": [
           {
            "colorbar": {
             "outlinewidth": 1,
             "tickcolor": "rgb(36,36,36)",
             "ticks": "outside"
            },
            "colorscale": [
             [
              0,
              "#440154"
             ],
             [
              0.1111111111111111,
              "#482878"
             ],
             [
              0.2222222222222222,
              "#3e4989"
             ],
             [
              0.3333333333333333,
              "#31688e"
             ],
             [
              0.4444444444444444,
              "#26828e"
             ],
             [
              0.5555555555555556,
              "#1f9e89"
             ],
             [
              0.6666666666666666,
              "#35b779"
             ],
             [
              0.7777777777777778,
              "#6ece58"
             ],
             [
              0.8888888888888888,
              "#b5de2b"
             ],
             [
              1,
              "#fde725"
             ]
            ],
            "type": "contour"
           }
          ],
          "contourcarpet": [
           {
            "colorbar": {
             "outlinewidth": 1,
             "tickcolor": "rgb(36,36,36)",
             "ticks": "outside"
            },
            "type": "contourcarpet"
           }
          ],
          "heatmap": [
           {
            "colorbar": {
             "outlinewidth": 1,
             "tickcolor": "rgb(36,36,36)",
             "ticks": "outside"
            },
            "colorscale": [
             [
              0,
              "#440154"
             ],
             [
              0.1111111111111111,
              "#482878"
             ],
             [
              0.2222222222222222,
              "#3e4989"
             ],
             [
              0.3333333333333333,
              "#31688e"
             ],
             [
              0.4444444444444444,
              "#26828e"
             ],
             [
              0.5555555555555556,
              "#1f9e89"
             ],
             [
              0.6666666666666666,
              "#35b779"
             ],
             [
              0.7777777777777778,
              "#6ece58"
             ],
             [
              0.8888888888888888,
              "#b5de2b"
             ],
             [
              1,
              "#fde725"
             ]
            ],
            "type": "heatmap"
           }
          ],
          "heatmapgl": [
           {
            "colorbar": {
             "outlinewidth": 1,
             "tickcolor": "rgb(36,36,36)",
             "ticks": "outside"
            },
            "colorscale": [
             [
              0,
              "#440154"
             ],
             [
              0.1111111111111111,
              "#482878"
             ],
             [
              0.2222222222222222,
              "#3e4989"
             ],
             [
              0.3333333333333333,
              "#31688e"
             ],
             [
              0.4444444444444444,
              "#26828e"
             ],
             [
              0.5555555555555556,
              "#1f9e89"
             ],
             [
              0.6666666666666666,
              "#35b779"
             ],
             [
              0.7777777777777778,
              "#6ece58"
             ],
             [
              0.8888888888888888,
              "#b5de2b"
             ],
             [
              1,
              "#fde725"
             ]
            ],
            "type": "heatmapgl"
           }
          ],
          "histogram": [
           {
            "marker": {
             "line": {
              "color": "white",
              "width": 0.6
             }
            },
            "type": "histogram"
           }
          ],
          "histogram2d": [
           {
            "colorbar": {
             "outlinewidth": 1,
             "tickcolor": "rgb(36,36,36)",
             "ticks": "outside"
            },
            "colorscale": [
             [
              0,
              "#440154"
             ],
             [
              0.1111111111111111,
              "#482878"
             ],
             [
              0.2222222222222222,
              "#3e4989"
             ],
             [
              0.3333333333333333,
              "#31688e"
             ],
             [
              0.4444444444444444,
              "#26828e"
             ],
             [
              0.5555555555555556,
              "#1f9e89"
             ],
             [
              0.6666666666666666,
              "#35b779"
             ],
             [
              0.7777777777777778,
              "#6ece58"
             ],
             [
              0.8888888888888888,
              "#b5de2b"
             ],
             [
              1,
              "#fde725"
             ]
            ],
            "type": "histogram2d"
           }
          ],
          "histogram2dcontour": [
           {
            "colorbar": {
             "outlinewidth": 1,
             "tickcolor": "rgb(36,36,36)",
             "ticks": "outside"
            },
            "colorscale": [
             [
              0,
              "#440154"
             ],
             [
              0.1111111111111111,
              "#482878"
             ],
             [
              0.2222222222222222,
              "#3e4989"
             ],
             [
              0.3333333333333333,
              "#31688e"
             ],
             [
              0.4444444444444444,
              "#26828e"
             ],
             [
              0.5555555555555556,
              "#1f9e89"
             ],
             [
              0.6666666666666666,
              "#35b779"
             ],
             [
              0.7777777777777778,
              "#6ece58"
             ],
             [
              0.8888888888888888,
              "#b5de2b"
             ],
             [
              1,
              "#fde725"
             ]
            ],
            "type": "histogram2dcontour"
           }
          ],
          "mesh3d": [
           {
            "colorbar": {
             "outlinewidth": 1,
             "tickcolor": "rgb(36,36,36)",
             "ticks": "outside"
            },
            "type": "mesh3d"
           }
          ],
          "parcoords": [
           {
            "line": {
             "colorbar": {
              "outlinewidth": 1,
              "tickcolor": "rgb(36,36,36)",
              "ticks": "outside"
             }
            },
            "type": "parcoords"
           }
          ],
          "pie": [
           {
            "automargin": true,
            "type": "pie"
           }
          ],
          "scatter": [
           {
            "marker": {
             "colorbar": {
              "outlinewidth": 1,
              "tickcolor": "rgb(36,36,36)",
              "ticks": "outside"
             }
            },
            "type": "scatter"
           }
          ],
          "scatter3d": [
           {
            "line": {
             "colorbar": {
              "outlinewidth": 1,
              "tickcolor": "rgb(36,36,36)",
              "ticks": "outside"
             }
            },
            "marker": {
             "colorbar": {
              "outlinewidth": 1,
              "tickcolor": "rgb(36,36,36)",
              "ticks": "outside"
             }
            },
            "type": "scatter3d"
           }
          ],
          "scattercarpet": [
           {
            "marker": {
             "colorbar": {
              "outlinewidth": 1,
              "tickcolor": "rgb(36,36,36)",
              "ticks": "outside"
             }
            },
            "type": "scattercarpet"
           }
          ],
          "scattergeo": [
           {
            "marker": {
             "colorbar": {
              "outlinewidth": 1,
              "tickcolor": "rgb(36,36,36)",
              "ticks": "outside"
             }
            },
            "type": "scattergeo"
           }
          ],
          "scattergl": [
           {
            "marker": {
             "colorbar": {
              "outlinewidth": 1,
              "tickcolor": "rgb(36,36,36)",
              "ticks": "outside"
             }
            },
            "type": "scattergl"
           }
          ],
          "scattermapbox": [
           {
            "marker": {
             "colorbar": {
              "outlinewidth": 1,
              "tickcolor": "rgb(36,36,36)",
              "ticks": "outside"
             }
            },
            "type": "scattermapbox"
           }
          ],
          "scatterpolar": [
           {
            "marker": {
             "colorbar": {
              "outlinewidth": 1,
              "tickcolor": "rgb(36,36,36)",
              "ticks": "outside"
             }
            },
            "type": "scatterpolar"
           }
          ],
          "scatterpolargl": [
           {
            "marker": {
             "colorbar": {
              "outlinewidth": 1,
              "tickcolor": "rgb(36,36,36)",
              "ticks": "outside"
             }
            },
            "type": "scatterpolargl"
           }
          ],
          "scatterternary": [
           {
            "marker": {
             "colorbar": {
              "outlinewidth": 1,
              "tickcolor": "rgb(36,36,36)",
              "ticks": "outside"
             }
            },
            "type": "scatterternary"
           }
          ],
          "surface": [
           {
            "colorbar": {
             "outlinewidth": 1,
             "tickcolor": "rgb(36,36,36)",
             "ticks": "outside"
            },
            "colorscale": [
             [
              0,
              "#440154"
             ],
             [
              0.1111111111111111,
              "#482878"
             ],
             [
              0.2222222222222222,
              "#3e4989"
             ],
             [
              0.3333333333333333,
              "#31688e"
             ],
             [
              0.4444444444444444,
              "#26828e"
             ],
             [
              0.5555555555555556,
              "#1f9e89"
             ],
             [
              0.6666666666666666,
              "#35b779"
             ],
             [
              0.7777777777777778,
              "#6ece58"
             ],
             [
              0.8888888888888888,
              "#b5de2b"
             ],
             [
              1,
              "#fde725"
             ]
            ],
            "type": "surface"
           }
          ],
          "table": [
           {
            "cells": {
             "fill": {
              "color": "rgb(237,237,237)"
             },
             "line": {
              "color": "white"
             }
            },
            "header": {
             "fill": {
              "color": "rgb(217,217,217)"
             },
             "line": {
              "color": "white"
             }
            },
            "type": "table"
           }
          ]
         },
         "layout": {
          "annotationdefaults": {
           "arrowhead": 0,
           "arrowwidth": 1
          },
          "autotypenumbers": "strict",
          "coloraxis": {
           "colorbar": {
            "outlinewidth": 1,
            "tickcolor": "rgb(36,36,36)",
            "ticks": "outside"
           }
          },
          "colorscale": {
           "diverging": [
            [
             0,
             "rgb(103,0,31)"
            ],
            [
             0.1,
             "rgb(178,24,43)"
            ],
            [
             0.2,
             "rgb(214,96,77)"
            ],
            [
             0.3,
             "rgb(244,165,130)"
            ],
            [
             0.4,
             "rgb(253,219,199)"
            ],
            [
             0.5,
             "rgb(247,247,247)"
            ],
            [
             0.6,
             "rgb(209,229,240)"
            ],
            [
             0.7,
             "rgb(146,197,222)"
            ],
            [
             0.8,
             "rgb(67,147,195)"
            ],
            [
             0.9,
             "rgb(33,102,172)"
            ],
            [
             1,
             "rgb(5,48,97)"
            ]
           ],
           "sequential": [
            [
             0,
             "#440154"
            ],
            [
             0.1111111111111111,
             "#482878"
            ],
            [
             0.2222222222222222,
             "#3e4989"
            ],
            [
             0.3333333333333333,
             "#31688e"
            ],
            [
             0.4444444444444444,
             "#26828e"
            ],
            [
             0.5555555555555556,
             "#1f9e89"
            ],
            [
             0.6666666666666666,
             "#35b779"
            ],
            [
             0.7777777777777778,
             "#6ece58"
            ],
            [
             0.8888888888888888,
             "#b5de2b"
            ],
            [
             1,
             "#fde725"
            ]
           ],
           "sequentialminus": [
            [
             0,
             "#440154"
            ],
            [
             0.1111111111111111,
             "#482878"
            ],
            [
             0.2222222222222222,
             "#3e4989"
            ],
            [
             0.3333333333333333,
             "#31688e"
            ],
            [
             0.4444444444444444,
             "#26828e"
            ],
            [
             0.5555555555555556,
             "#1f9e89"
            ],
            [
             0.6666666666666666,
             "#35b779"
            ],
            [
             0.7777777777777778,
             "#6ece58"
            ],
            [
             0.8888888888888888,
             "#b5de2b"
            ],
            [
             1,
             "#fde725"
            ]
           ]
          },
          "colorway": [
           "#1F77B4",
           "#FF7F0E",
           "#2CA02C",
           "#D62728",
           "#9467BD",
           "#8C564B",
           "#E377C2",
           "#7F7F7F",
           "#BCBD22",
           "#17BECF"
          ],
          "font": {
           "color": "rgb(36,36,36)"
          },
          "geo": {
           "bgcolor": "white",
           "lakecolor": "white",
           "landcolor": "white",
           "showlakes": true,
           "showland": true,
           "subunitcolor": "white"
          },
          "hoverlabel": {
           "align": "left"
          },
          "hovermode": "closest",
          "mapbox": {
           "style": "light"
          },
          "paper_bgcolor": "white",
          "plot_bgcolor": "white",
          "polar": {
           "angularaxis": {
            "gridcolor": "rgb(232,232,232)",
            "linecolor": "rgb(36,36,36)",
            "showgrid": false,
            "showline": true,
            "ticks": "outside"
           },
           "bgcolor": "white",
           "radialaxis": {
            "gridcolor": "rgb(232,232,232)",
            "linecolor": "rgb(36,36,36)",
            "showgrid": false,
            "showline": true,
            "ticks": "outside"
           }
          },
          "scene": {
           "xaxis": {
            "backgroundcolor": "white",
            "gridcolor": "rgb(232,232,232)",
            "gridwidth": 2,
            "linecolor": "rgb(36,36,36)",
            "showbackground": true,
            "showgrid": false,
            "showline": true,
            "ticks": "outside",
            "zeroline": false,
            "zerolinecolor": "rgb(36,36,36)"
           },
           "yaxis": {
            "backgroundcolor": "white",
            "gridcolor": "rgb(232,232,232)",
            "gridwidth": 2,
            "linecolor": "rgb(36,36,36)",
            "showbackground": true,
            "showgrid": false,
            "showline": true,
            "ticks": "outside",
            "zeroline": false,
            "zerolinecolor": "rgb(36,36,36)"
           },
           "zaxis": {
            "backgroundcolor": "white",
            "gridcolor": "rgb(232,232,232)",
            "gridwidth": 2,
            "linecolor": "rgb(36,36,36)",
            "showbackground": true,
            "showgrid": false,
            "showline": true,
            "ticks": "outside",
            "zeroline": false,
            "zerolinecolor": "rgb(36,36,36)"
           }
          },
          "shapedefaults": {
           "fillcolor": "black",
           "line": {
            "width": 0
           },
           "opacity": 0.3
          },
          "ternary": {
           "aaxis": {
            "gridcolor": "rgb(232,232,232)",
            "linecolor": "rgb(36,36,36)",
            "showgrid": false,
            "showline": true,
            "ticks": "outside"
           },
           "baxis": {
            "gridcolor": "rgb(232,232,232)",
            "linecolor": "rgb(36,36,36)",
            "showgrid": false,
            "showline": true,
            "ticks": "outside"
           },
           "bgcolor": "white",
           "caxis": {
            "gridcolor": "rgb(232,232,232)",
            "linecolor": "rgb(36,36,36)",
            "showgrid": false,
            "showline": true,
            "ticks": "outside"
           }
          },
          "title": {
           "x": 0.05
          },
          "xaxis": {
           "automargin": true,
           "gridcolor": "rgb(232,232,232)",
           "linecolor": "rgb(36,36,36)",
           "showgrid": false,
           "showline": true,
           "ticks": "outside",
           "title": {
            "standoff": 15
           },
           "zeroline": false,
           "zerolinecolor": "rgb(36,36,36)"
          },
          "yaxis": {
           "automargin": true,
           "gridcolor": "rgb(232,232,232)",
           "linecolor": "rgb(36,36,36)",
           "showgrid": false,
           "showline": true,
           "ticks": "outside",
           "title": {
            "standoff": 15
           },
           "zeroline": false,
           "zerolinecolor": "rgb(36,36,36)"
          }
         }
        },
        "xaxis": {
         "anchor": "y",
         "domain": [
          0,
          1
         ]
        },
        "yaxis": {
         "anchor": "x",
         "domain": [
          0,
          1
         ]
        }
       }
      },
      "text/html": [
       "<div>                            <div id=\"6d93b17d-4173-4945-ba3c-b6345d39430b\" class=\"plotly-graph-div\" style=\"height:525px; width:100%;\"></div>            <script type=\"text/javascript\">                require([\"plotly\"], function(Plotly) {                    window.PLOTLYENV=window.PLOTLYENV || {};                                    if (document.getElementById(\"6d93b17d-4173-4945-ba3c-b6345d39430b\")) {                    Plotly.newPlot(                        \"6d93b17d-4173-4945-ba3c-b6345d39430b\",                        [{\"marker\": {\"color\": \"Salmon\"}, \"name\": \"Price\", \"type\": \"box\", \"x\": [8, 22, 15, 6, 12, 11, 30, 15, 3, 8, 2, 32, 5, 17, 4, 6, 6, 8, 13, 14, 13, 9, 13, 5, 9, 14, 5, 11, 24, 21, 11, 15, 13, 18, 13, 8, 5, 0, 4, 18, 28, 11, 16, 14, 8, 4, 5, 11, 10, 13, 4, 8, 4, 5, 17, 15, 105, 0, 15, 22, 5, 15, 6, 6, 13, 12, 6, 8, 4, 8, 8, 6, 20, 5, 16, 1, 14, 9, 7, 18, 15, 9, 8, 15, 2, 7, 11, 14, 32, 6, 4, 9, 0, 9, 5, 20, 16, 4, 12, 12, 11, 19, 9, 6, 9, 6, 14, 5, 7, 10, 14, 7, 54, 11, 30, 12, 18, 30, 22, 9, 52, 4, 10, 14, 22, 11, 16, 15, 17, 17, 7, 7, 4, 9, 21, 14, 20, 13, 12, 8, 0, 12, 17, 12, 25, 10, 6, 5, 6, 8, 4, 13, 4, 13, 21, 6, 15, 18, 10, 0, 12, 7, 13, 5, 16, 20, 11, 27, 8, 6, 10, 8, 16, 11, 10, 9, 14, 22, 8, 7, 12, 13, 9, 13, 11, 20, 5, 2, 27, 9, 10, 46, 4, 7, 9, 12, 12, 12, 20, 10, 6, 9, 11, 16, 6, 25, 17, 20, 6, 17, 18, 13, 18, 20, 22, 21, 28, 8, 12, 16, 39, 9, 10, 17, 11, 14, 12, 53, 6, 8, 12, 12, 21, 6, 13, 0, 11, 9, 15, 11, 7, 6, 9, 6, 0, 7, 14, 9, 16, 2, 5, 20, 7, 14, 10, 7, 13, 11, 7, 14, 14, 8, 30, 9, 7, 9, 7, 20, 13, 11, 18, 14, 19, 13, 5, 10, 9, 8, 8, 12, 11, 40, 36, 16, 17, 14, 21, 18, 17, 5, 21, 18, 18, 12, 14, 12, 8, 0, 14, 10, 15, 9, 7, 10, 6, 9, 10, 82, 12, 10, 5, 16, 10, 4, 16, 15, 19, 9, 23, 11, 23, 12, 7, 21, 21, 15, 9, 5, 13, 20, 11, 4, 9, 42, 12, 18, 17, 14, 13, 9, 6, 14, 15, 13, 12, 18, 15, 11, 9, 8, 8]}],                        {\"font\": {\"color\": \"black\", \"family\": \"Arial\", \"size\": 12}, \"showlegend\": false, \"template\": {\"data\": {\"bar\": [{\"error_x\": {\"color\": \"rgb(36,36,36)\"}, \"error_y\": {\"color\": \"rgb(36,36,36)\"}, \"marker\": {\"line\": {\"color\": \"white\", \"width\": 0.5}}, \"type\": \"bar\"}], \"barpolar\": [{\"marker\": {\"line\": {\"color\": \"white\", \"width\": 0.5}}, \"type\": \"barpolar\"}], \"carpet\": [{\"aaxis\": {\"endlinecolor\": \"rgb(36,36,36)\", \"gridcolor\": \"white\", \"linecolor\": \"white\", \"minorgridcolor\": \"white\", \"startlinecolor\": \"rgb(36,36,36)\"}, \"baxis\": {\"endlinecolor\": \"rgb(36,36,36)\", \"gridcolor\": \"white\", \"linecolor\": \"white\", \"minorgridcolor\": \"white\", \"startlinecolor\": \"rgb(36,36,36)\"}, \"type\": \"carpet\"}], \"choropleth\": [{\"colorbar\": {\"outlinewidth\": 1, \"tickcolor\": \"rgb(36,36,36)\", \"ticks\": \"outside\"}, \"type\": \"choropleth\"}], \"contour\": [{\"colorbar\": {\"outlinewidth\": 1, \"tickcolor\": \"rgb(36,36,36)\", \"ticks\": \"outside\"}, \"colorscale\": [[0.0, \"#440154\"], [0.1111111111111111, \"#482878\"], [0.2222222222222222, \"#3e4989\"], [0.3333333333333333, \"#31688e\"], [0.4444444444444444, \"#26828e\"], [0.5555555555555556, \"#1f9e89\"], [0.6666666666666666, \"#35b779\"], [0.7777777777777778, \"#6ece58\"], [0.8888888888888888, \"#b5de2b\"], [1.0, \"#fde725\"]], \"type\": \"contour\"}], \"contourcarpet\": [{\"colorbar\": {\"outlinewidth\": 1, \"tickcolor\": \"rgb(36,36,36)\", \"ticks\": \"outside\"}, \"type\": \"contourcarpet\"}], \"heatmap\": [{\"colorbar\": {\"outlinewidth\": 1, \"tickcolor\": \"rgb(36,36,36)\", \"ticks\": \"outside\"}, \"colorscale\": [[0.0, \"#440154\"], [0.1111111111111111, \"#482878\"], [0.2222222222222222, \"#3e4989\"], [0.3333333333333333, \"#31688e\"], [0.4444444444444444, \"#26828e\"], [0.5555555555555556, \"#1f9e89\"], [0.6666666666666666, \"#35b779\"], [0.7777777777777778, \"#6ece58\"], [0.8888888888888888, \"#b5de2b\"], [1.0, \"#fde725\"]], \"type\": \"heatmap\"}], \"heatmapgl\": [{\"colorbar\": {\"outlinewidth\": 1, \"tickcolor\": \"rgb(36,36,36)\", \"ticks\": \"outside\"}, \"colorscale\": [[0.0, \"#440154\"], [0.1111111111111111, \"#482878\"], [0.2222222222222222, \"#3e4989\"], [0.3333333333333333, \"#31688e\"], [0.4444444444444444, \"#26828e\"], [0.5555555555555556, \"#1f9e89\"], [0.6666666666666666, \"#35b779\"], [0.7777777777777778, \"#6ece58\"], [0.8888888888888888, \"#b5de2b\"], [1.0, \"#fde725\"]], \"type\": \"heatmapgl\"}], \"histogram\": [{\"marker\": {\"line\": {\"color\": \"white\", \"width\": 0.6}}, \"type\": \"histogram\"}], \"histogram2d\": [{\"colorbar\": {\"outlinewidth\": 1, \"tickcolor\": \"rgb(36,36,36)\", \"ticks\": \"outside\"}, \"colorscale\": [[0.0, \"#440154\"], [0.1111111111111111, \"#482878\"], [0.2222222222222222, \"#3e4989\"], [0.3333333333333333, \"#31688e\"], [0.4444444444444444, \"#26828e\"], [0.5555555555555556, \"#1f9e89\"], [0.6666666666666666, \"#35b779\"], [0.7777777777777778, \"#6ece58\"], [0.8888888888888888, \"#b5de2b\"], [1.0, \"#fde725\"]], \"type\": \"histogram2d\"}], \"histogram2dcontour\": [{\"colorbar\": {\"outlinewidth\": 1, \"tickcolor\": \"rgb(36,36,36)\", \"ticks\": \"outside\"}, \"colorscale\": [[0.0, \"#440154\"], [0.1111111111111111, \"#482878\"], [0.2222222222222222, \"#3e4989\"], [0.3333333333333333, \"#31688e\"], [0.4444444444444444, \"#26828e\"], [0.5555555555555556, \"#1f9e89\"], [0.6666666666666666, \"#35b779\"], [0.7777777777777778, \"#6ece58\"], [0.8888888888888888, \"#b5de2b\"], [1.0, \"#fde725\"]], \"type\": \"histogram2dcontour\"}], \"mesh3d\": [{\"colorbar\": {\"outlinewidth\": 1, \"tickcolor\": \"rgb(36,36,36)\", \"ticks\": \"outside\"}, \"type\": \"mesh3d\"}], \"parcoords\": [{\"line\": {\"colorbar\": {\"outlinewidth\": 1, \"tickcolor\": \"rgb(36,36,36)\", \"ticks\": \"outside\"}}, \"type\": \"parcoords\"}], \"pie\": [{\"automargin\": true, \"type\": \"pie\"}], \"scatter\": [{\"marker\": {\"colorbar\": {\"outlinewidth\": 1, \"tickcolor\": \"rgb(36,36,36)\", \"ticks\": \"outside\"}}, \"type\": \"scatter\"}], \"scatter3d\": [{\"line\": {\"colorbar\": {\"outlinewidth\": 1, \"tickcolor\": \"rgb(36,36,36)\", \"ticks\": \"outside\"}}, \"marker\": {\"colorbar\": {\"outlinewidth\": 1, \"tickcolor\": \"rgb(36,36,36)\", \"ticks\": \"outside\"}}, \"type\": \"scatter3d\"}], \"scattercarpet\": [{\"marker\": {\"colorbar\": {\"outlinewidth\": 1, \"tickcolor\": \"rgb(36,36,36)\", \"ticks\": \"outside\"}}, \"type\": \"scattercarpet\"}], \"scattergeo\": [{\"marker\": {\"colorbar\": {\"outlinewidth\": 1, \"tickcolor\": \"rgb(36,36,36)\", \"ticks\": \"outside\"}}, \"type\": \"scattergeo\"}], \"scattergl\": [{\"marker\": {\"colorbar\": {\"outlinewidth\": 1, \"tickcolor\": \"rgb(36,36,36)\", \"ticks\": \"outside\"}}, \"type\": \"scattergl\"}], \"scattermapbox\": [{\"marker\": {\"colorbar\": {\"outlinewidth\": 1, \"tickcolor\": \"rgb(36,36,36)\", \"ticks\": \"outside\"}}, \"type\": \"scattermapbox\"}], \"scatterpolar\": [{\"marker\": {\"colorbar\": {\"outlinewidth\": 1, \"tickcolor\": \"rgb(36,36,36)\", \"ticks\": \"outside\"}}, \"type\": \"scatterpolar\"}], \"scatterpolargl\": [{\"marker\": {\"colorbar\": {\"outlinewidth\": 1, \"tickcolor\": \"rgb(36,36,36)\", \"ticks\": \"outside\"}}, \"type\": \"scatterpolargl\"}], \"scatterternary\": [{\"marker\": {\"colorbar\": {\"outlinewidth\": 1, \"tickcolor\": \"rgb(36,36,36)\", \"ticks\": \"outside\"}}, \"type\": \"scatterternary\"}], \"surface\": [{\"colorbar\": {\"outlinewidth\": 1, \"tickcolor\": \"rgb(36,36,36)\", \"ticks\": \"outside\"}, \"colorscale\": [[0.0, \"#440154\"], [0.1111111111111111, \"#482878\"], [0.2222222222222222, \"#3e4989\"], [0.3333333333333333, \"#31688e\"], [0.4444444444444444, \"#26828e\"], [0.5555555555555556, \"#1f9e89\"], [0.6666666666666666, \"#35b779\"], [0.7777777777777778, \"#6ece58\"], [0.8888888888888888, \"#b5de2b\"], [1.0, \"#fde725\"]], \"type\": \"surface\"}], \"table\": [{\"cells\": {\"fill\": {\"color\": \"rgb(237,237,237)\"}, \"line\": {\"color\": \"white\"}}, \"header\": {\"fill\": {\"color\": \"rgb(217,217,217)\"}, \"line\": {\"color\": \"white\"}}, \"type\": \"table\"}]}, \"layout\": {\"annotationdefaults\": {\"arrowhead\": 0, \"arrowwidth\": 1}, \"autotypenumbers\": \"strict\", \"coloraxis\": {\"colorbar\": {\"outlinewidth\": 1, \"tickcolor\": \"rgb(36,36,36)\", \"ticks\": \"outside\"}}, \"colorscale\": {\"diverging\": [[0.0, \"rgb(103,0,31)\"], [0.1, \"rgb(178,24,43)\"], [0.2, \"rgb(214,96,77)\"], [0.3, \"rgb(244,165,130)\"], [0.4, \"rgb(253,219,199)\"], [0.5, \"rgb(247,247,247)\"], [0.6, \"rgb(209,229,240)\"], [0.7, \"rgb(146,197,222)\"], [0.8, \"rgb(67,147,195)\"], [0.9, \"rgb(33,102,172)\"], [1.0, \"rgb(5,48,97)\"]], \"sequential\": [[0.0, \"#440154\"], [0.1111111111111111, \"#482878\"], [0.2222222222222222, \"#3e4989\"], [0.3333333333333333, \"#31688e\"], [0.4444444444444444, \"#26828e\"], [0.5555555555555556, \"#1f9e89\"], [0.6666666666666666, \"#35b779\"], [0.7777777777777778, \"#6ece58\"], [0.8888888888888888, \"#b5de2b\"], [1.0, \"#fde725\"]], \"sequentialminus\": [[0.0, \"#440154\"], [0.1111111111111111, \"#482878\"], [0.2222222222222222, \"#3e4989\"], [0.3333333333333333, \"#31688e\"], [0.4444444444444444, \"#26828e\"], [0.5555555555555556, \"#1f9e89\"], [0.6666666666666666, \"#35b779\"], [0.7777777777777778, \"#6ece58\"], [0.8888888888888888, \"#b5de2b\"], [1.0, \"#fde725\"]]}, \"colorway\": [\"#1F77B4\", \"#FF7F0E\", \"#2CA02C\", \"#D62728\", \"#9467BD\", \"#8C564B\", \"#E377C2\", \"#7F7F7F\", \"#BCBD22\", \"#17BECF\"], \"font\": {\"color\": \"rgb(36,36,36)\"}, \"geo\": {\"bgcolor\": \"white\", \"lakecolor\": \"white\", \"landcolor\": \"white\", \"showlakes\": true, \"showland\": true, \"subunitcolor\": \"white\"}, \"hoverlabel\": {\"align\": \"left\"}, \"hovermode\": \"closest\", \"mapbox\": {\"style\": \"light\"}, \"paper_bgcolor\": \"white\", \"plot_bgcolor\": \"white\", \"polar\": {\"angularaxis\": {\"gridcolor\": \"rgb(232,232,232)\", \"linecolor\": \"rgb(36,36,36)\", \"showgrid\": false, \"showline\": true, \"ticks\": \"outside\"}, \"bgcolor\": \"white\", \"radialaxis\": {\"gridcolor\": \"rgb(232,232,232)\", \"linecolor\": \"rgb(36,36,36)\", \"showgrid\": false, \"showline\": true, \"ticks\": \"outside\"}}, \"scene\": {\"xaxis\": {\"backgroundcolor\": \"white\", \"gridcolor\": \"rgb(232,232,232)\", \"gridwidth\": 2, \"linecolor\": \"rgb(36,36,36)\", \"showbackground\": true, \"showgrid\": false, \"showline\": true, \"ticks\": \"outside\", \"zeroline\": false, \"zerolinecolor\": \"rgb(36,36,36)\"}, \"yaxis\": {\"backgroundcolor\": \"white\", \"gridcolor\": \"rgb(232,232,232)\", \"gridwidth\": 2, \"linecolor\": \"rgb(36,36,36)\", \"showbackground\": true, \"showgrid\": false, \"showline\": true, \"ticks\": \"outside\", \"zeroline\": false, \"zerolinecolor\": \"rgb(36,36,36)\"}, \"zaxis\": {\"backgroundcolor\": \"white\", \"gridcolor\": \"rgb(232,232,232)\", \"gridwidth\": 2, \"linecolor\": \"rgb(36,36,36)\", \"showbackground\": true, \"showgrid\": false, \"showline\": true, \"ticks\": \"outside\", \"zeroline\": false, \"zerolinecolor\": \"rgb(36,36,36)\"}}, \"shapedefaults\": {\"fillcolor\": \"black\", \"line\": {\"width\": 0}, \"opacity\": 0.3}, \"ternary\": {\"aaxis\": {\"gridcolor\": \"rgb(232,232,232)\", \"linecolor\": \"rgb(36,36,36)\", \"showgrid\": false, \"showline\": true, \"ticks\": \"outside\"}, \"baxis\": {\"gridcolor\": \"rgb(232,232,232)\", \"linecolor\": \"rgb(36,36,36)\", \"showgrid\": false, \"showline\": true, \"ticks\": \"outside\"}, \"bgcolor\": \"white\", \"caxis\": {\"gridcolor\": \"rgb(232,232,232)\", \"linecolor\": \"rgb(36,36,36)\", \"showgrid\": false, \"showline\": true, \"ticks\": \"outside\"}}, \"title\": {\"x\": 0.05}, \"xaxis\": {\"automargin\": true, \"gridcolor\": \"rgb(232,232,232)\", \"linecolor\": \"rgb(36,36,36)\", \"showgrid\": false, \"showline\": true, \"ticks\": \"outside\", \"title\": {\"standoff\": 15}, \"zeroline\": false, \"zerolinecolor\": \"rgb(36,36,36)\"}, \"yaxis\": {\"automargin\": true, \"gridcolor\": \"rgb(232,232,232)\", \"linecolor\": \"rgb(36,36,36)\", \"showgrid\": false, \"showline\": true, \"ticks\": \"outside\", \"title\": {\"standoff\": 15}, \"zeroline\": false, \"zerolinecolor\": \"rgb(36,36,36)\"}}}, \"xaxis\": {\"anchor\": \"y\", \"domain\": [0.0, 1.0]}, \"yaxis\": {\"anchor\": \"x\", \"domain\": [0.0, 1.0]}},                        {\"responsive\": true}                    ).then(function(){\n",
       "                            \n",
       "var gd = document.getElementById('6d93b17d-4173-4945-ba3c-b6345d39430b');\n",
       "var x = new MutationObserver(function (mutations, observer) {{\n",
       "        var display = window.getComputedStyle(gd).display;\n",
       "        if (!display || display === 'none') {{\n",
       "            console.log([gd, 'removed!']);\n",
       "            Plotly.purge(gd);\n",
       "            observer.disconnect();\n",
       "        }}\n",
       "}});\n",
       "\n",
       "// Listen for the removal of the full notebook cells\n",
       "var notebookContainer = gd.closest('#notebook-container');\n",
       "if (notebookContainer) {{\n",
       "    x.observe(notebookContainer, {childList: true});\n",
       "}}\n",
       "\n",
       "// Listen for the clearing of the current output cell\n",
       "var outputEl = gd.closest('.output');\n",
       "if (outputEl) {{\n",
       "    x.observe(outputEl, {childList: true});\n",
       "}}\n",
       "\n",
       "                        })                };                });            </script>        </div>"
      ]
     },
     "metadata": {},
     "output_type": "display_data"
    }
   ],
   "source": [
    "# Let's set the visualization parameters\n",
    "fig_4 = make_subplots(rows=1, cols=1, specs=[[{'type': 'xy'}]])\n",
    "\n",
    "# Setting Box parameters\n",
    "fig_4.add_trace(go.Box(x=bestseller['User Rating'], \n",
    "                       name='User Rating'))\n",
    "\n",
    "# Setting the parameters of the Box when displaying\n",
    "fig_4.update_traces(marker_color='Salmon')\n",
    "\n",
    "# Setting the parameters of the Box when displaying\n",
    "fig_4.update_layout(showlegend=False, \n",
    "                    template='simple_white', \n",
    "                    font=dict(family='Arial', \n",
    "                              size=12, \n",
    "                              color='black'))\n",
    "\n",
    "# Displaying the Box\n",
    "fig_4.show()\n",
    "\n",
    "# Let's set the visualization parameters\n",
    "fig_5 = make_subplots(rows=1, cols=1, specs=[[{'type': 'xy'}]])\n",
    "\n",
    "# Setting Box parameters\n",
    "fig_5.add_trace(go.Box(x=bestseller['Reviews'], \n",
    "                       name='Reviews'))\n",
    "\n",
    "# Setting the parameters of the Box when displaying\n",
    "fig_5.update_traces(marker_color='Salmon')\n",
    "\n",
    "# Setting the parameters of the Box when displaying\n",
    "fig_5.update_layout(showlegend=False, \n",
    "                    template='simple_white', \n",
    "                    font=dict(family='Arial', \n",
    "                              size=12, \n",
    "                              color='black'))\n",
    "\n",
    "# Displaying the Box\n",
    "fig_5.show()\n",
    "\n",
    "# Let's set the visualization parameters\n",
    "fig_6 = make_subplots(rows=1, cols=1, specs=[[{'type': 'xy'}]])\n",
    "\n",
    "# Setting Box parameters\n",
    "fig_6.add_trace(go.Box(x=bestseller['Price'], \n",
    "                       name='Price'))\n",
    "\n",
    "# Setting the parameters of the Box when displaying\n",
    "fig_6.update_traces(marker_color='Salmon')\n",
    "\n",
    "# Setting the parameters of the Box when displaying\n",
    "fig_6.update_layout(showlegend=False, \n",
    "                    template='simple_white', \n",
    "                    font=dict(family='Arial', \n",
    "                              size=12, \n",
    "                              color='black'))\n",
    "\n",
    "# Displaying the Box\n",
    "fig_6.show()"
   ]
  },
  {
   "cell_type": "markdown",
   "id": "12db2450",
   "metadata": {},
   "source": [
    "<div style=\"background: #DCDCDC\">\n",
    "<p style=\"font-family: Arials, sans-serif; font-size: 16px; color: #000000\"><strong>INSIGHT:</strong> By analyzing the numeric data, it is established:</p>\n",
    "<p style=\"font-family: Arials, sans-serif; font-size: 16px; color: #000000\"><strong>User Rating:</strong></p>   \n",
    "<ol style=\"font-family: Arials, sans-serif; font-size: 14px; line-height:1.5; color: rgba(0,0,0,.7)\">\n",
    "<li>Data is not distributed normally. Asymmetry is observed.</li>\n",
    "<p></p>\n",
    "<li>Average and median book ratings are 4.6.</li>\n",
    "<p></p>\n",
    "<li>There are outliers in the data. There are a small number of books in the data below the 4.1 rating.</li>\n",
    "<p></p>\n",
    "</ol>    \n",
    "<p style=\"font-family: Arials, sans-serif; font-size: 16px; color: #000000\"><strong>Reviews:</strong></p>  \n",
    "<ol style=\"font-family: Arials, sans-serif; font-size: 14px; line-height:1.5; color: rgba(0,0,0,.7)\">\n",
    "<li>Data is not distributed normally. Asymmetry is observed.</li>\n",
    "<p></p>\n",
    "<li>The data has a wide range.</li>\n",
    "<p></p>\n",
    "<li>There are outliers in the data. There are a small number of books receiving reviews well above the 75 percentile.</li>\n",
    "<p></p>\n",
    "</ol> \n",
    "<p style=\"font-family: Arials, sans-serif; font-size: 16px; color: #000000\"><strong>Price:</strong></p>  \n",
    "<ol style=\"font-family: Arials, sans-serif; font-size: 14px; line-height:1.5; color: rgba(0,0,0,.7)\">\n",
    "<li>Data is not distributed normally. Asymmetry is observed.</li>\n",
    "<p></p>\n",
    "<li>There are books that cost much higher than the average, as well as books with a cost of 0, which is strange.</li>\n",
    "<p></p>\n",
    "</ol> \n",
    "</div>"
   ]
  },
  {
   "cell_type": "markdown",
   "id": "dfe996a5",
   "metadata": {},
   "source": [
    "<p style=\"font-family: Arials, sans-serif; font-size: 14px; color: rgba(0,0,0,.7)\">Let's look at the correlation in the data.</p>"
   ]
  },
  {
   "cell_type": "code",
   "execution_count": 94,
   "id": "91a8807f",
   "metadata": {},
   "outputs": [
    {
     "data": {
      "text/html": [
       "<div>\n",
       "<style scoped>\n",
       "    .dataframe tbody tr th:only-of-type {\n",
       "        vertical-align: middle;\n",
       "    }\n",
       "\n",
       "    .dataframe tbody tr th {\n",
       "        vertical-align: top;\n",
       "    }\n",
       "\n",
       "    .dataframe thead th {\n",
       "        text-align: right;\n",
       "    }\n",
       "</style>\n",
       "<table border=\"1\" class=\"dataframe\">\n",
       "  <thead>\n",
       "    <tr style=\"text-align: right;\">\n",
       "      <th></th>\n",
       "      <th>User Rating</th>\n",
       "      <th>Reviews</th>\n",
       "      <th>Price</th>\n",
       "    </tr>\n",
       "  </thead>\n",
       "  <tbody>\n",
       "    <tr>\n",
       "      <th>User Rating</th>\n",
       "      <td>1.000000</td>\n",
       "      <td>-0.056105</td>\n",
       "      <td>-0.026408</td>\n",
       "    </tr>\n",
       "    <tr>\n",
       "      <th>Reviews</th>\n",
       "      <td>-0.056105</td>\n",
       "      <td>1.000000</td>\n",
       "      <td>-0.048029</td>\n",
       "    </tr>\n",
       "    <tr>\n",
       "      <th>Price</th>\n",
       "      <td>-0.026408</td>\n",
       "      <td>-0.048029</td>\n",
       "      <td>1.000000</td>\n",
       "    </tr>\n",
       "  </tbody>\n",
       "</table>\n",
       "</div>"
      ],
      "text/plain": [
       "             User Rating   Reviews     Price\n",
       "User Rating     1.000000 -0.056105 -0.026408\n",
       "Reviews        -0.056105  1.000000 -0.048029\n",
       "Price          -0.026408 -0.048029  1.000000"
      ]
     },
     "execution_count": 94,
     "metadata": {},
     "output_type": "execute_result"
    }
   ],
   "source": [
    "#let's us build a correliation matrix and visuvalize the data\n",
    "bestseller.corr()"
   ]
  },
  {
   "cell_type": "code",
   "execution_count": 96,
   "id": "32827e64",
   "metadata": {},
   "outputs": [
    {
     "data": {
      "application/vnd.plotly.v1+json": {
       "config": {
        "plotlyServerURL": "https://plot.ly"
       },
       "data": [
        {
         "marker": {
          "color": "salmon"
         },
         "mode": "markers",
         "type": "scattergl",
         "x": [
          4.7,
          4.6,
          4.7,
          4.7,
          4.8,
          4.4,
          4.7,
          4.7,
          4.7,
          4.6,
          4.6,
          4.6,
          4.5,
          4.6,
          4.5,
          4.6,
          4.4,
          4.5,
          4.8,
          4.6,
          3.9,
          4.6,
          4.3,
          4.6,
          4.7,
          4.2,
          4.6,
          4.6,
          4.8,
          4.7,
          4.8,
          4.8,
          4.7,
          4.7,
          4.6,
          4.5,
          4.9,
          4.8,
          4.6,
          4.8,
          4.5,
          4.7,
          4.7,
          4.7,
          4.3,
          4.8,
          4.8,
          4.6,
          4.8,
          4.4,
          4.6,
          4.3,
          4.2,
          4.8,
          4.6,
          4.6,
          4.5,
          4.8,
          4.8,
          4.8,
          4.6,
          4.6,
          4.5,
          4.6,
          4.7,
          4.8,
          4.9,
          4.9,
          4.9,
          4.9,
          4.9,
          4.9,
          4.8,
          4.6,
          4.5,
          4.5,
          4.3,
          4.5,
          4.7,
          4.7,
          4.7,
          4.7,
          4.6,
          4.7,
          4.4,
          4.4,
          4.5,
          3.8,
          4.5,
          4.2,
          4.7,
          4.4,
          4.7,
          4.4,
          4.6,
          4.5,
          4.6,
          4.8,
          4.6,
          4.6,
          4.6,
          3.6,
          4.8,
          4.6,
          4,
          4.6,
          4.5,
          4.8,
          4.9,
          4.6,
          4.4,
          4.8,
          4.9,
          4.8,
          4.9,
          4,
          4.9,
          4.9,
          4.9,
          4.7,
          4.8,
          4.8,
          4.7,
          4.4,
          4.8,
          4.7,
          4.3,
          4.8,
          4.9,
          4.7,
          4.8,
          4.6,
          4.8,
          4.3,
          4.4,
          4.1,
          4.6,
          4.4,
          4.8,
          4.9,
          4.6,
          4.5,
          4.6,
          4.5,
          4.6,
          4.7,
          4.6,
          4.6,
          4.8,
          4.8,
          4.5,
          4.9,
          4.6,
          4.5,
          4.5,
          4.4,
          4.8,
          4.5,
          4.1,
          4.9,
          4.5,
          4.5,
          4.2,
          4.8,
          4.8,
          4.5,
          4.7,
          4.8,
          4.7,
          4.4,
          4.6,
          4.5,
          4.8,
          4.8,
          4.6,
          4.7,
          4.6,
          4.9,
          4.9,
          4.8,
          4.2,
          4.6,
          4.5,
          4.3,
          4.6,
          4.6,
          4.7,
          4.8,
          4.8,
          4.7,
          4.3,
          4.5,
          4.8,
          4.6,
          4.7,
          4.6,
          4.9,
          4.9,
          4.8,
          4.6,
          4.8,
          4.7,
          4.7,
          4.8,
          4.1,
          4.7,
          4.6,
          4.6,
          4.9,
          4,
          4.5,
          4.6,
          4.5,
          4.4,
          4.3,
          4.3,
          4.7,
          4.8,
          4.8,
          4.7,
          4.7,
          4.6,
          4.7,
          4.7,
          4.8,
          4.2,
          4.8,
          4.7,
          4.6,
          4.8,
          4.8,
          3.3,
          4.7,
          4.3,
          4.3,
          4.8,
          4.4,
          4.8,
          4.1,
          4,
          4.7,
          4.6,
          4.6,
          4.7,
          4.8,
          4.1,
          4.7,
          4.7,
          4.7,
          4.4,
          4.8,
          3.9,
          4.4,
          4.5,
          4.7,
          4.3,
          4.6,
          4.8,
          4.8,
          4.8,
          4.7,
          4.7,
          4.8,
          4.7,
          4.3,
          4.7,
          4.8,
          4.9,
          4.4,
          4.5,
          4.4,
          4.8,
          4.2,
          4.8,
          4.9,
          4.8,
          4.7,
          4.5,
          4.8,
          4.6,
          4.8,
          4.4,
          4.3,
          4.3,
          4.8,
          4.8,
          4.8,
          4.5,
          4.4,
          4.8,
          4.6,
          4.3,
          4.3,
          4.6,
          4.6,
          4.8,
          4.6,
          4.6,
          4.5,
          4.8,
          4.6,
          4.7,
          4.7,
          4.7,
          4.4,
          4.4,
          4.7,
          4.7,
          4.8,
          4.7,
          4.9,
          4.6,
          4.9,
          4.8,
          4.7,
          4.7,
          4.6,
          4.5,
          4.5,
          4.3,
          4.6,
          4.3,
          4.8,
          4.6,
          4.8,
          4.5,
          4.7,
          4.5,
          4.8,
          4.3,
          4.9,
          4.8,
          4.7,
          4.8,
          4.5,
          4.6,
          4.7,
          4.7,
          4.8,
          4.4,
          4.4,
          4.8,
          4.8,
          4.8,
          4.6,
          4.4,
          4.5,
          4.2,
          4.8,
          4.9,
          4.7
         ],
         "y": [
          17350,
          2052,
          18979,
          21424,
          7665,
          12643,
          19735,
          19699,
          5983,
          23848,
          460,
          4149,
          5153,
          5013,
          2313,
          2925,
          2951,
          2426,
          9198,
          36348,
          6310,
          15921,
          12159,
          798,
          9374,
          491,
          5360,
          1909,
          1296,
          615,
          61133,
          11113,
          10070,
          3729,
          9769,
          471,
          14344,
          4505,
          10369,
          16244,
          2884,
          22614,
          4761,
          1542,
          6143,
          4022,
          3871,
          4866,
          1329,
          4642,
          1541,
          1924,
          2094,
          10922,
          2137,
          1651,
          6679,
          6812,
          3837,
          6540,
          7955,
          27098,
          17684,
          37,
          15845,
          3181,
          5062,
          4786,
          7235,
          12619,
          9089,
          5470,
          5118,
          2134,
          2525,
          720,
          956,
          6346,
          5505,
          5505,
          28729,
          5413,
          10721,
          4370,
          6042,
          23631,
          20262,
          47265,
          13964,
          13677,
          17323,
          1555,
          3642,
          1215,
          5594,
          408,
          4799,
          14038,
          7660,
          22288,
          1365,
          14982,
          9568,
          1636,
          57271,
          10141,
          3457,
          8837,
          7038,
          5972,
          25624,
          5476,
          5867,
          4148,
          19622,
          23973,
          7758,
          3146,
          10052,
          3564,
          13471,
          1930,
          15779,
          15526,
          3776,
          25001,
          5272,
          3490,
          2812,
          4896,
          9737,
          1320,
          16643,
          7153,
          4571,
          29651,
          5299,
          7396,
          7062,
          19576,
          978,
          4748,
          8393,
          11391,
          8634,
          9342,
          10927,
          5235,
          8916,
          2507,
          3673,
          11881,
          6990,
          6132,
          3014,
          7550,
          3828,
          2752,
          1467,
          1884,
          25706,
          8491,
          1649,
          18613,
          9867,
          1386,
          10199,
          2926,
          17739,
          3113,
          5542,
          26741,
          5347,
          7866,
          5680,
          5178,
          8093,
          3192,
          21834,
          6169,
          4519,
          3163,
          1831,
          18904,
          21930,
          10426,
          10820,
          548,
          16990,
          3503,
          13616,
          8580,
          4757,
          10009,
          1985,
          22536,
          7150,
          3836,
          7802,
          3619,
          23047,
          9366,
          1265,
          3923,
          2272,
          973,
          220,
          7827,
          9382,
          5069,
          1583,
          1907,
          23114,
          637,
          2314,
          4587,
          3477,
          25554,
          1680,
          4725,
          35799,
          2580,
          11813,
          3536,
          6600,
          1789,
          12361,
          858,
          23148,
          8081,
          23358,
          9372,
          4633,
          13061,
          3523,
          2774,
          440,
          8922,
          2023,
          1859,
          50482,
          3207,
          803,
          23308,
          5836,
          79446,
          7747,
          7251,
          7251,
          10559,
          5249,
          33844,
          11616,
          13609,
          8587,
          29442,
          11098,
          9947,
          13871,
          6982,
          32122,
          32122,
          16949,
          9289,
          7368,
          4028,
          4628,
          5396,
          4247,
          22641,
          6222,
          4506,
          8747,
          1655,
          7861,
          6247,
          39459,
          10101,
          5898,
          2744,
          49288,
          1201,
          807,
          3759,
          2663,
          3428,
          2876,
          3601,
          7058,
          9784,
          10795,
          10191,
          14493,
          2186,
          1204,
          2091,
          19720,
          2122,
          27536,
          4290,
          26490,
          5487,
          6377,
          1463,
          3759,
          3503,
          11550,
          3801,
          3796,
          9030,
          19546,
          7508,
          8842,
          30183,
          6169,
          7034,
          11034,
          7932,
          1904,
          3319,
          11128,
          5977,
          26234,
          4360,
          2282,
          438,
          11676,
          2586,
          29673,
          6740,
          5956,
          6108,
          4585,
          3829,
          8958,
          5492,
          9292,
          1873,
          8170,
          3341,
          7497,
          13779,
          87841,
          9967,
          6669,
          17044,
          10760,
          1302,
          21625,
          9413,
          14331
         ]
        }
       ],
       "layout": {
        "font": {
         "color": "black",
         "family": "Arial",
         "size": 12
        },
        "showlegend": false,
        "template": {
         "data": {
          "bar": [
           {
            "error_x": {
             "color": "rgb(36,36,36)"
            },
            "error_y": {
             "color": "rgb(36,36,36)"
            },
            "marker": {
             "line": {
              "color": "white",
              "width": 0.5
             }
            },
            "type": "bar"
           }
          ],
          "barpolar": [
           {
            "marker": {
             "line": {
              "color": "white",
              "width": 0.5
             }
            },
            "type": "barpolar"
           }
          ],
          "carpet": [
           {
            "aaxis": {
             "endlinecolor": "rgb(36,36,36)",
             "gridcolor": "white",
             "linecolor": "white",
             "minorgridcolor": "white",
             "startlinecolor": "rgb(36,36,36)"
            },
            "baxis": {
             "endlinecolor": "rgb(36,36,36)",
             "gridcolor": "white",
             "linecolor": "white",
             "minorgridcolor": "white",
             "startlinecolor": "rgb(36,36,36)"
            },
            "type": "carpet"
           }
          ],
          "choropleth": [
           {
            "colorbar": {
             "outlinewidth": 1,
             "tickcolor": "rgb(36,36,36)",
             "ticks": "outside"
            },
            "type": "choropleth"
           }
          ],
          "contour": [
           {
            "colorbar": {
             "outlinewidth": 1,
             "tickcolor": "rgb(36,36,36)",
             "ticks": "outside"
            },
            "colorscale": [
             [
              0,
              "#440154"
             ],
             [
              0.1111111111111111,
              "#482878"
             ],
             [
              0.2222222222222222,
              "#3e4989"
             ],
             [
              0.3333333333333333,
              "#31688e"
             ],
             [
              0.4444444444444444,
              "#26828e"
             ],
             [
              0.5555555555555556,
              "#1f9e89"
             ],
             [
              0.6666666666666666,
              "#35b779"
             ],
             [
              0.7777777777777778,
              "#6ece58"
             ],
             [
              0.8888888888888888,
              "#b5de2b"
             ],
             [
              1,
              "#fde725"
             ]
            ],
            "type": "contour"
           }
          ],
          "contourcarpet": [
           {
            "colorbar": {
             "outlinewidth": 1,
             "tickcolor": "rgb(36,36,36)",
             "ticks": "outside"
            },
            "type": "contourcarpet"
           }
          ],
          "heatmap": [
           {
            "colorbar": {
             "outlinewidth": 1,
             "tickcolor": "rgb(36,36,36)",
             "ticks": "outside"
            },
            "colorscale": [
             [
              0,
              "#440154"
             ],
             [
              0.1111111111111111,
              "#482878"
             ],
             [
              0.2222222222222222,
              "#3e4989"
             ],
             [
              0.3333333333333333,
              "#31688e"
             ],
             [
              0.4444444444444444,
              "#26828e"
             ],
             [
              0.5555555555555556,
              "#1f9e89"
             ],
             [
              0.6666666666666666,
              "#35b779"
             ],
             [
              0.7777777777777778,
              "#6ece58"
             ],
             [
              0.8888888888888888,
              "#b5de2b"
             ],
             [
              1,
              "#fde725"
             ]
            ],
            "type": "heatmap"
           }
          ],
          "heatmapgl": [
           {
            "colorbar": {
             "outlinewidth": 1,
             "tickcolor": "rgb(36,36,36)",
             "ticks": "outside"
            },
            "colorscale": [
             [
              0,
              "#440154"
             ],
             [
              0.1111111111111111,
              "#482878"
             ],
             [
              0.2222222222222222,
              "#3e4989"
             ],
             [
              0.3333333333333333,
              "#31688e"
             ],
             [
              0.4444444444444444,
              "#26828e"
             ],
             [
              0.5555555555555556,
              "#1f9e89"
             ],
             [
              0.6666666666666666,
              "#35b779"
             ],
             [
              0.7777777777777778,
              "#6ece58"
             ],
             [
              0.8888888888888888,
              "#b5de2b"
             ],
             [
              1,
              "#fde725"
             ]
            ],
            "type": "heatmapgl"
           }
          ],
          "histogram": [
           {
            "marker": {
             "line": {
              "color": "white",
              "width": 0.6
             }
            },
            "type": "histogram"
           }
          ],
          "histogram2d": [
           {
            "colorbar": {
             "outlinewidth": 1,
             "tickcolor": "rgb(36,36,36)",
             "ticks": "outside"
            },
            "colorscale": [
             [
              0,
              "#440154"
             ],
             [
              0.1111111111111111,
              "#482878"
             ],
             [
              0.2222222222222222,
              "#3e4989"
             ],
             [
              0.3333333333333333,
              "#31688e"
             ],
             [
              0.4444444444444444,
              "#26828e"
             ],
             [
              0.5555555555555556,
              "#1f9e89"
             ],
             [
              0.6666666666666666,
              "#35b779"
             ],
             [
              0.7777777777777778,
              "#6ece58"
             ],
             [
              0.8888888888888888,
              "#b5de2b"
             ],
             [
              1,
              "#fde725"
             ]
            ],
            "type": "histogram2d"
           }
          ],
          "histogram2dcontour": [
           {
            "colorbar": {
             "outlinewidth": 1,
             "tickcolor": "rgb(36,36,36)",
             "ticks": "outside"
            },
            "colorscale": [
             [
              0,
              "#440154"
             ],
             [
              0.1111111111111111,
              "#482878"
             ],
             [
              0.2222222222222222,
              "#3e4989"
             ],
             [
              0.3333333333333333,
              "#31688e"
             ],
             [
              0.4444444444444444,
              "#26828e"
             ],
             [
              0.5555555555555556,
              "#1f9e89"
             ],
             [
              0.6666666666666666,
              "#35b779"
             ],
             [
              0.7777777777777778,
              "#6ece58"
             ],
             [
              0.8888888888888888,
              "#b5de2b"
             ],
             [
              1,
              "#fde725"
             ]
            ],
            "type": "histogram2dcontour"
           }
          ],
          "mesh3d": [
           {
            "colorbar": {
             "outlinewidth": 1,
             "tickcolor": "rgb(36,36,36)",
             "ticks": "outside"
            },
            "type": "mesh3d"
           }
          ],
          "parcoords": [
           {
            "line": {
             "colorbar": {
              "outlinewidth": 1,
              "tickcolor": "rgb(36,36,36)",
              "ticks": "outside"
             }
            },
            "type": "parcoords"
           }
          ],
          "pie": [
           {
            "automargin": true,
            "type": "pie"
           }
          ],
          "scatter": [
           {
            "marker": {
             "colorbar": {
              "outlinewidth": 1,
              "tickcolor": "rgb(36,36,36)",
              "ticks": "outside"
             }
            },
            "type": "scatter"
           }
          ],
          "scatter3d": [
           {
            "line": {
             "colorbar": {
              "outlinewidth": 1,
              "tickcolor": "rgb(36,36,36)",
              "ticks": "outside"
             }
            },
            "marker": {
             "colorbar": {
              "outlinewidth": 1,
              "tickcolor": "rgb(36,36,36)",
              "ticks": "outside"
             }
            },
            "type": "scatter3d"
           }
          ],
          "scattercarpet": [
           {
            "marker": {
             "colorbar": {
              "outlinewidth": 1,
              "tickcolor": "rgb(36,36,36)",
              "ticks": "outside"
             }
            },
            "type": "scattercarpet"
           }
          ],
          "scattergeo": [
           {
            "marker": {
             "colorbar": {
              "outlinewidth": 1,
              "tickcolor": "rgb(36,36,36)",
              "ticks": "outside"
             }
            },
            "type": "scattergeo"
           }
          ],
          "scattergl": [
           {
            "marker": {
             "colorbar": {
              "outlinewidth": 1,
              "tickcolor": "rgb(36,36,36)",
              "ticks": "outside"
             }
            },
            "type": "scattergl"
           }
          ],
          "scattermapbox": [
           {
            "marker": {
             "colorbar": {
              "outlinewidth": 1,
              "tickcolor": "rgb(36,36,36)",
              "ticks": "outside"
             }
            },
            "type": "scattermapbox"
           }
          ],
          "scatterpolar": [
           {
            "marker": {
             "colorbar": {
              "outlinewidth": 1,
              "tickcolor": "rgb(36,36,36)",
              "ticks": "outside"
             }
            },
            "type": "scatterpolar"
           }
          ],
          "scatterpolargl": [
           {
            "marker": {
             "colorbar": {
              "outlinewidth": 1,
              "tickcolor": "rgb(36,36,36)",
              "ticks": "outside"
             }
            },
            "type": "scatterpolargl"
           }
          ],
          "scatterternary": [
           {
            "marker": {
             "colorbar": {
              "outlinewidth": 1,
              "tickcolor": "rgb(36,36,36)",
              "ticks": "outside"
             }
            },
            "type": "scatterternary"
           }
          ],
          "surface": [
           {
            "colorbar": {
             "outlinewidth": 1,
             "tickcolor": "rgb(36,36,36)",
             "ticks": "outside"
            },
            "colorscale": [
             [
              0,
              "#440154"
             ],
             [
              0.1111111111111111,
              "#482878"
             ],
             [
              0.2222222222222222,
              "#3e4989"
             ],
             [
              0.3333333333333333,
              "#31688e"
             ],
             [
              0.4444444444444444,
              "#26828e"
             ],
             [
              0.5555555555555556,
              "#1f9e89"
             ],
             [
              0.6666666666666666,
              "#35b779"
             ],
             [
              0.7777777777777778,
              "#6ece58"
             ],
             [
              0.8888888888888888,
              "#b5de2b"
             ],
             [
              1,
              "#fde725"
             ]
            ],
            "type": "surface"
           }
          ],
          "table": [
           {
            "cells": {
             "fill": {
              "color": "rgb(237,237,237)"
             },
             "line": {
              "color": "white"
             }
            },
            "header": {
             "fill": {
              "color": "rgb(217,217,217)"
             },
             "line": {
              "color": "white"
             }
            },
            "type": "table"
           }
          ]
         },
         "layout": {
          "annotationdefaults": {
           "arrowhead": 0,
           "arrowwidth": 1
          },
          "autotypenumbers": "strict",
          "coloraxis": {
           "colorbar": {
            "outlinewidth": 1,
            "tickcolor": "rgb(36,36,36)",
            "ticks": "outside"
           }
          },
          "colorscale": {
           "diverging": [
            [
             0,
             "rgb(103,0,31)"
            ],
            [
             0.1,
             "rgb(178,24,43)"
            ],
            [
             0.2,
             "rgb(214,96,77)"
            ],
            [
             0.3,
             "rgb(244,165,130)"
            ],
            [
             0.4,
             "rgb(253,219,199)"
            ],
            [
             0.5,
             "rgb(247,247,247)"
            ],
            [
             0.6,
             "rgb(209,229,240)"
            ],
            [
             0.7,
             "rgb(146,197,222)"
            ],
            [
             0.8,
             "rgb(67,147,195)"
            ],
            [
             0.9,
             "rgb(33,102,172)"
            ],
            [
             1,
             "rgb(5,48,97)"
            ]
           ],
           "sequential": [
            [
             0,
             "#440154"
            ],
            [
             0.1111111111111111,
             "#482878"
            ],
            [
             0.2222222222222222,
             "#3e4989"
            ],
            [
             0.3333333333333333,
             "#31688e"
            ],
            [
             0.4444444444444444,
             "#26828e"
            ],
            [
             0.5555555555555556,
             "#1f9e89"
            ],
            [
             0.6666666666666666,
             "#35b779"
            ],
            [
             0.7777777777777778,
             "#6ece58"
            ],
            [
             0.8888888888888888,
             "#b5de2b"
            ],
            [
             1,
             "#fde725"
            ]
           ],
           "sequentialminus": [
            [
             0,
             "#440154"
            ],
            [
             0.1111111111111111,
             "#482878"
            ],
            [
             0.2222222222222222,
             "#3e4989"
            ],
            [
             0.3333333333333333,
             "#31688e"
            ],
            [
             0.4444444444444444,
             "#26828e"
            ],
            [
             0.5555555555555556,
             "#1f9e89"
            ],
            [
             0.6666666666666666,
             "#35b779"
            ],
            [
             0.7777777777777778,
             "#6ece58"
            ],
            [
             0.8888888888888888,
             "#b5de2b"
            ],
            [
             1,
             "#fde725"
            ]
           ]
          },
          "colorway": [
           "#1F77B4",
           "#FF7F0E",
           "#2CA02C",
           "#D62728",
           "#9467BD",
           "#8C564B",
           "#E377C2",
           "#7F7F7F",
           "#BCBD22",
           "#17BECF"
          ],
          "font": {
           "color": "rgb(36,36,36)"
          },
          "geo": {
           "bgcolor": "white",
           "lakecolor": "white",
           "landcolor": "white",
           "showlakes": true,
           "showland": true,
           "subunitcolor": "white"
          },
          "hoverlabel": {
           "align": "left"
          },
          "hovermode": "closest",
          "mapbox": {
           "style": "light"
          },
          "paper_bgcolor": "white",
          "plot_bgcolor": "white",
          "polar": {
           "angularaxis": {
            "gridcolor": "rgb(232,232,232)",
            "linecolor": "rgb(36,36,36)",
            "showgrid": false,
            "showline": true,
            "ticks": "outside"
           },
           "bgcolor": "white",
           "radialaxis": {
            "gridcolor": "rgb(232,232,232)",
            "linecolor": "rgb(36,36,36)",
            "showgrid": false,
            "showline": true,
            "ticks": "outside"
           }
          },
          "scene": {
           "xaxis": {
            "backgroundcolor": "white",
            "gridcolor": "rgb(232,232,232)",
            "gridwidth": 2,
            "linecolor": "rgb(36,36,36)",
            "showbackground": true,
            "showgrid": false,
            "showline": true,
            "ticks": "outside",
            "zeroline": false,
            "zerolinecolor": "rgb(36,36,36)"
           },
           "yaxis": {
            "backgroundcolor": "white",
            "gridcolor": "rgb(232,232,232)",
            "gridwidth": 2,
            "linecolor": "rgb(36,36,36)",
            "showbackground": true,
            "showgrid": false,
            "showline": true,
            "ticks": "outside",
            "zeroline": false,
            "zerolinecolor": "rgb(36,36,36)"
           },
           "zaxis": {
            "backgroundcolor": "white",
            "gridcolor": "rgb(232,232,232)",
            "gridwidth": 2,
            "linecolor": "rgb(36,36,36)",
            "showbackground": true,
            "showgrid": false,
            "showline": true,
            "ticks": "outside",
            "zeroline": false,
            "zerolinecolor": "rgb(36,36,36)"
           }
          },
          "shapedefaults": {
           "fillcolor": "black",
           "line": {
            "width": 0
           },
           "opacity": 0.3
          },
          "ternary": {
           "aaxis": {
            "gridcolor": "rgb(232,232,232)",
            "linecolor": "rgb(36,36,36)",
            "showgrid": false,
            "showline": true,
            "ticks": "outside"
           },
           "baxis": {
            "gridcolor": "rgb(232,232,232)",
            "linecolor": "rgb(36,36,36)",
            "showgrid": false,
            "showline": true,
            "ticks": "outside"
           },
           "bgcolor": "white",
           "caxis": {
            "gridcolor": "rgb(232,232,232)",
            "linecolor": "rgb(36,36,36)",
            "showgrid": false,
            "showline": true,
            "ticks": "outside"
           }
          },
          "title": {
           "x": 0.05
          },
          "xaxis": {
           "automargin": true,
           "gridcolor": "rgb(232,232,232)",
           "linecolor": "rgb(36,36,36)",
           "showgrid": false,
           "showline": true,
           "ticks": "outside",
           "title": {
            "standoff": 15
           },
           "zeroline": false,
           "zerolinecolor": "rgb(36,36,36)"
          },
          "yaxis": {
           "automargin": true,
           "gridcolor": "rgb(232,232,232)",
           "linecolor": "rgb(36,36,36)",
           "showgrid": false,
           "showline": true,
           "ticks": "outside",
           "title": {
            "standoff": 15
           },
           "zeroline": false,
           "zerolinecolor": "rgb(36,36,36)"
          }
         }
        },
        "xaxis": {
         "anchor": "y",
         "domain": [
          0,
          1
         ],
         "title": {
          "text": "User Rating"
         }
        },
        "yaxis": {
         "anchor": "x",
         "domain": [
          0,
          1
         ],
         "title": {
          "text": "Reviews"
         }
        }
       }
      },
      "text/html": [
       "<div>                            <div id=\"6d60d5db-1d8c-46b5-b7b8-1c6c98dab6f3\" class=\"plotly-graph-div\" style=\"height:525px; width:100%;\"></div>            <script type=\"text/javascript\">                require([\"plotly\"], function(Plotly) {                    window.PLOTLYENV=window.PLOTLYENV || {};                                    if (document.getElementById(\"6d60d5db-1d8c-46b5-b7b8-1c6c98dab6f3\")) {                    Plotly.newPlot(                        \"6d60d5db-1d8c-46b5-b7b8-1c6c98dab6f3\",                        [{\"marker\": {\"color\": \"salmon\"}, \"mode\": \"markers\", \"type\": \"scattergl\", \"x\": [4.7, 4.6, 4.7, 4.7, 4.8, 4.4, 4.7, 4.7, 4.7, 4.6, 4.6, 4.6, 4.5, 4.6, 4.5, 4.6, 4.4, 4.5, 4.8, 4.6, 3.9, 4.6, 4.3, 4.6, 4.7, 4.2, 4.6, 4.6, 4.8, 4.7, 4.8, 4.8, 4.7, 4.7, 4.6, 4.5, 4.9, 4.8, 4.6, 4.8, 4.5, 4.7, 4.7, 4.7, 4.3, 4.8, 4.8, 4.6, 4.8, 4.4, 4.6, 4.3, 4.2, 4.8, 4.6, 4.6, 4.5, 4.8, 4.8, 4.8, 4.6, 4.6, 4.5, 4.6, 4.7, 4.8, 4.9, 4.9, 4.9, 4.9, 4.9, 4.9, 4.8, 4.6, 4.5, 4.5, 4.3, 4.5, 4.7, 4.7, 4.7, 4.7, 4.6, 4.7, 4.4, 4.4, 4.5, 3.8, 4.5, 4.2, 4.7, 4.4, 4.7, 4.4, 4.6, 4.5, 4.6, 4.8, 4.6, 4.6, 4.6, 3.6, 4.8, 4.6, 4.0, 4.6, 4.5, 4.8, 4.9, 4.6, 4.4, 4.8, 4.9, 4.8, 4.9, 4.0, 4.9, 4.9, 4.9, 4.7, 4.8, 4.8, 4.7, 4.4, 4.8, 4.7, 4.3, 4.8, 4.9, 4.7, 4.8, 4.6, 4.8, 4.3, 4.4, 4.1, 4.6, 4.4, 4.8, 4.9, 4.6, 4.5, 4.6, 4.5, 4.6, 4.7, 4.6, 4.6, 4.8, 4.8, 4.5, 4.9, 4.6, 4.5, 4.5, 4.4, 4.8, 4.5, 4.1, 4.9, 4.5, 4.5, 4.2, 4.8, 4.8, 4.5, 4.7, 4.8, 4.7, 4.4, 4.6, 4.5, 4.8, 4.8, 4.6, 4.7, 4.6, 4.9, 4.9, 4.8, 4.2, 4.6, 4.5, 4.3, 4.6, 4.6, 4.7, 4.8, 4.8, 4.7, 4.3, 4.5, 4.8, 4.6, 4.7, 4.6, 4.9, 4.9, 4.8, 4.6, 4.8, 4.7, 4.7, 4.8, 4.1, 4.7, 4.6, 4.6, 4.9, 4.0, 4.5, 4.6, 4.5, 4.4, 4.3, 4.3, 4.7, 4.8, 4.8, 4.7, 4.7, 4.6, 4.7, 4.7, 4.8, 4.2, 4.8, 4.7, 4.6, 4.8, 4.8, 3.3, 4.7, 4.3, 4.3, 4.8, 4.4, 4.8, 4.1, 4.0, 4.7, 4.6, 4.6, 4.7, 4.8, 4.1, 4.7, 4.7, 4.7, 4.4, 4.8, 3.9, 4.4, 4.5, 4.7, 4.3, 4.6, 4.8, 4.8, 4.8, 4.7, 4.7, 4.8, 4.7, 4.3, 4.7, 4.8, 4.9, 4.4, 4.5, 4.4, 4.8, 4.2, 4.8, 4.9, 4.8, 4.7, 4.5, 4.8, 4.6, 4.8, 4.4, 4.3, 4.3, 4.8, 4.8, 4.8, 4.5, 4.4, 4.8, 4.6, 4.3, 4.3, 4.6, 4.6, 4.8, 4.6, 4.6, 4.5, 4.8, 4.6, 4.7, 4.7, 4.7, 4.4, 4.4, 4.7, 4.7, 4.8, 4.7, 4.9, 4.6, 4.9, 4.8, 4.7, 4.7, 4.6, 4.5, 4.5, 4.3, 4.6, 4.3, 4.8, 4.6, 4.8, 4.5, 4.7, 4.5, 4.8, 4.3, 4.9, 4.8, 4.7, 4.8, 4.5, 4.6, 4.7, 4.7, 4.8, 4.4, 4.4, 4.8, 4.8, 4.8, 4.6, 4.4, 4.5, 4.2, 4.8, 4.9, 4.7], \"y\": [17350, 2052, 18979, 21424, 7665, 12643, 19735, 19699, 5983, 23848, 460, 4149, 5153, 5013, 2313, 2925, 2951, 2426, 9198, 36348, 6310, 15921, 12159, 798, 9374, 491, 5360, 1909, 1296, 615, 61133, 11113, 10070, 3729, 9769, 471, 14344, 4505, 10369, 16244, 2884, 22614, 4761, 1542, 6143, 4022, 3871, 4866, 1329, 4642, 1541, 1924, 2094, 10922, 2137, 1651, 6679, 6812, 3837, 6540, 7955, 27098, 17684, 37, 15845, 3181, 5062, 4786, 7235, 12619, 9089, 5470, 5118, 2134, 2525, 720, 956, 6346, 5505, 5505, 28729, 5413, 10721, 4370, 6042, 23631, 20262, 47265, 13964, 13677, 17323, 1555, 3642, 1215, 5594, 408, 4799, 14038, 7660, 22288, 1365, 14982, 9568, 1636, 57271, 10141, 3457, 8837, 7038, 5972, 25624, 5476, 5867, 4148, 19622, 23973, 7758, 3146, 10052, 3564, 13471, 1930, 15779, 15526, 3776, 25001, 5272, 3490, 2812, 4896, 9737, 1320, 16643, 7153, 4571, 29651, 5299, 7396, 7062, 19576, 978, 4748, 8393, 11391, 8634, 9342, 10927, 5235, 8916, 2507, 3673, 11881, 6990, 6132, 3014, 7550, 3828, 2752, 1467, 1884, 25706, 8491, 1649, 18613, 9867, 1386, 10199, 2926, 17739, 3113, 5542, 26741, 5347, 7866, 5680, 5178, 8093, 3192, 21834, 6169, 4519, 3163, 1831, 18904, 21930, 10426, 10820, 548, 16990, 3503, 13616, 8580, 4757, 10009, 1985, 22536, 7150, 3836, 7802, 3619, 23047, 9366, 1265, 3923, 2272, 973, 220, 7827, 9382, 5069, 1583, 1907, 23114, 637, 2314, 4587, 3477, 25554, 1680, 4725, 35799, 2580, 11813, 3536, 6600, 1789, 12361, 858, 23148, 8081, 23358, 9372, 4633, 13061, 3523, 2774, 440, 8922, 2023, 1859, 50482, 3207, 803, 23308, 5836, 79446, 7747, 7251, 7251, 10559, 5249, 33844, 11616, 13609, 8587, 29442, 11098, 9947, 13871, 6982, 32122, 32122, 16949, 9289, 7368, 4028, 4628, 5396, 4247, 22641, 6222, 4506, 8747, 1655, 7861, 6247, 39459, 10101, 5898, 2744, 49288, 1201, 807, 3759, 2663, 3428, 2876, 3601, 7058, 9784, 10795, 10191, 14493, 2186, 1204, 2091, 19720, 2122, 27536, 4290, 26490, 5487, 6377, 1463, 3759, 3503, 11550, 3801, 3796, 9030, 19546, 7508, 8842, 30183, 6169, 7034, 11034, 7932, 1904, 3319, 11128, 5977, 26234, 4360, 2282, 438, 11676, 2586, 29673, 6740, 5956, 6108, 4585, 3829, 8958, 5492, 9292, 1873, 8170, 3341, 7497, 13779, 87841, 9967, 6669, 17044, 10760, 1302, 21625, 9413, 14331]}],                        {\"font\": {\"color\": \"black\", \"family\": \"Arial\", \"size\": 12}, \"showlegend\": false, \"template\": {\"data\": {\"bar\": [{\"error_x\": {\"color\": \"rgb(36,36,36)\"}, \"error_y\": {\"color\": \"rgb(36,36,36)\"}, \"marker\": {\"line\": {\"color\": \"white\", \"width\": 0.5}}, \"type\": \"bar\"}], \"barpolar\": [{\"marker\": {\"line\": {\"color\": \"white\", \"width\": 0.5}}, \"type\": \"barpolar\"}], \"carpet\": [{\"aaxis\": {\"endlinecolor\": \"rgb(36,36,36)\", \"gridcolor\": \"white\", \"linecolor\": \"white\", \"minorgridcolor\": \"white\", \"startlinecolor\": \"rgb(36,36,36)\"}, \"baxis\": {\"endlinecolor\": \"rgb(36,36,36)\", \"gridcolor\": \"white\", \"linecolor\": \"white\", \"minorgridcolor\": \"white\", \"startlinecolor\": \"rgb(36,36,36)\"}, \"type\": \"carpet\"}], \"choropleth\": [{\"colorbar\": {\"outlinewidth\": 1, \"tickcolor\": \"rgb(36,36,36)\", \"ticks\": \"outside\"}, \"type\": \"choropleth\"}], \"contour\": [{\"colorbar\": {\"outlinewidth\": 1, \"tickcolor\": \"rgb(36,36,36)\", \"ticks\": \"outside\"}, \"colorscale\": [[0.0, \"#440154\"], [0.1111111111111111, \"#482878\"], [0.2222222222222222, \"#3e4989\"], [0.3333333333333333, \"#31688e\"], [0.4444444444444444, \"#26828e\"], [0.5555555555555556, \"#1f9e89\"], [0.6666666666666666, \"#35b779\"], [0.7777777777777778, \"#6ece58\"], [0.8888888888888888, \"#b5de2b\"], [1.0, \"#fde725\"]], \"type\": \"contour\"}], \"contourcarpet\": [{\"colorbar\": {\"outlinewidth\": 1, \"tickcolor\": \"rgb(36,36,36)\", \"ticks\": \"outside\"}, \"type\": \"contourcarpet\"}], \"heatmap\": [{\"colorbar\": {\"outlinewidth\": 1, \"tickcolor\": \"rgb(36,36,36)\", \"ticks\": \"outside\"}, \"colorscale\": [[0.0, \"#440154\"], [0.1111111111111111, \"#482878\"], [0.2222222222222222, \"#3e4989\"], [0.3333333333333333, \"#31688e\"], [0.4444444444444444, \"#26828e\"], [0.5555555555555556, \"#1f9e89\"], [0.6666666666666666, \"#35b779\"], [0.7777777777777778, \"#6ece58\"], [0.8888888888888888, \"#b5de2b\"], [1.0, \"#fde725\"]], \"type\": \"heatmap\"}], \"heatmapgl\": [{\"colorbar\": {\"outlinewidth\": 1, \"tickcolor\": \"rgb(36,36,36)\", \"ticks\": \"outside\"}, \"colorscale\": [[0.0, \"#440154\"], [0.1111111111111111, \"#482878\"], [0.2222222222222222, \"#3e4989\"], [0.3333333333333333, \"#31688e\"], [0.4444444444444444, \"#26828e\"], [0.5555555555555556, \"#1f9e89\"], [0.6666666666666666, \"#35b779\"], [0.7777777777777778, \"#6ece58\"], [0.8888888888888888, \"#b5de2b\"], [1.0, \"#fde725\"]], \"type\": \"heatmapgl\"}], \"histogram\": [{\"marker\": {\"line\": {\"color\": \"white\", \"width\": 0.6}}, \"type\": \"histogram\"}], \"histogram2d\": [{\"colorbar\": {\"outlinewidth\": 1, \"tickcolor\": \"rgb(36,36,36)\", \"ticks\": \"outside\"}, \"colorscale\": [[0.0, \"#440154\"], [0.1111111111111111, \"#482878\"], [0.2222222222222222, \"#3e4989\"], [0.3333333333333333, \"#31688e\"], [0.4444444444444444, \"#26828e\"], [0.5555555555555556, \"#1f9e89\"], [0.6666666666666666, \"#35b779\"], [0.7777777777777778, \"#6ece58\"], [0.8888888888888888, \"#b5de2b\"], [1.0, \"#fde725\"]], \"type\": \"histogram2d\"}], \"histogram2dcontour\": [{\"colorbar\": {\"outlinewidth\": 1, \"tickcolor\": \"rgb(36,36,36)\", \"ticks\": \"outside\"}, \"colorscale\": [[0.0, \"#440154\"], [0.1111111111111111, \"#482878\"], [0.2222222222222222, \"#3e4989\"], [0.3333333333333333, \"#31688e\"], [0.4444444444444444, \"#26828e\"], [0.5555555555555556, \"#1f9e89\"], [0.6666666666666666, \"#35b779\"], [0.7777777777777778, \"#6ece58\"], [0.8888888888888888, \"#b5de2b\"], [1.0, \"#fde725\"]], \"type\": \"histogram2dcontour\"}], \"mesh3d\": [{\"colorbar\": {\"outlinewidth\": 1, \"tickcolor\": \"rgb(36,36,36)\", \"ticks\": \"outside\"}, \"type\": \"mesh3d\"}], \"parcoords\": [{\"line\": {\"colorbar\": {\"outlinewidth\": 1, \"tickcolor\": \"rgb(36,36,36)\", \"ticks\": \"outside\"}}, \"type\": \"parcoords\"}], \"pie\": [{\"automargin\": true, \"type\": \"pie\"}], \"scatter\": [{\"marker\": {\"colorbar\": {\"outlinewidth\": 1, \"tickcolor\": \"rgb(36,36,36)\", \"ticks\": \"outside\"}}, \"type\": \"scatter\"}], \"scatter3d\": [{\"line\": {\"colorbar\": {\"outlinewidth\": 1, \"tickcolor\": \"rgb(36,36,36)\", \"ticks\": \"outside\"}}, \"marker\": {\"colorbar\": {\"outlinewidth\": 1, \"tickcolor\": \"rgb(36,36,36)\", \"ticks\": \"outside\"}}, \"type\": \"scatter3d\"}], \"scattercarpet\": [{\"marker\": {\"colorbar\": {\"outlinewidth\": 1, \"tickcolor\": \"rgb(36,36,36)\", \"ticks\": \"outside\"}}, \"type\": \"scattercarpet\"}], \"scattergeo\": [{\"marker\": {\"colorbar\": {\"outlinewidth\": 1, \"tickcolor\": \"rgb(36,36,36)\", \"ticks\": \"outside\"}}, \"type\": \"scattergeo\"}], \"scattergl\": [{\"marker\": {\"colorbar\": {\"outlinewidth\": 1, \"tickcolor\": \"rgb(36,36,36)\", \"ticks\": \"outside\"}}, \"type\": \"scattergl\"}], \"scattermapbox\": [{\"marker\": {\"colorbar\": {\"outlinewidth\": 1, \"tickcolor\": \"rgb(36,36,36)\", \"ticks\": \"outside\"}}, \"type\": \"scattermapbox\"}], \"scatterpolar\": [{\"marker\": {\"colorbar\": {\"outlinewidth\": 1, \"tickcolor\": \"rgb(36,36,36)\", \"ticks\": \"outside\"}}, \"type\": \"scatterpolar\"}], \"scatterpolargl\": [{\"marker\": {\"colorbar\": {\"outlinewidth\": 1, \"tickcolor\": \"rgb(36,36,36)\", \"ticks\": \"outside\"}}, \"type\": \"scatterpolargl\"}], \"scatterternary\": [{\"marker\": {\"colorbar\": {\"outlinewidth\": 1, \"tickcolor\": \"rgb(36,36,36)\", \"ticks\": \"outside\"}}, \"type\": \"scatterternary\"}], \"surface\": [{\"colorbar\": {\"outlinewidth\": 1, \"tickcolor\": \"rgb(36,36,36)\", \"ticks\": \"outside\"}, \"colorscale\": [[0.0, \"#440154\"], [0.1111111111111111, \"#482878\"], [0.2222222222222222, \"#3e4989\"], [0.3333333333333333, \"#31688e\"], [0.4444444444444444, \"#26828e\"], [0.5555555555555556, \"#1f9e89\"], [0.6666666666666666, \"#35b779\"], [0.7777777777777778, \"#6ece58\"], [0.8888888888888888, \"#b5de2b\"], [1.0, \"#fde725\"]], \"type\": \"surface\"}], \"table\": [{\"cells\": {\"fill\": {\"color\": \"rgb(237,237,237)\"}, \"line\": {\"color\": \"white\"}}, \"header\": {\"fill\": {\"color\": \"rgb(217,217,217)\"}, \"line\": {\"color\": \"white\"}}, \"type\": \"table\"}]}, \"layout\": {\"annotationdefaults\": {\"arrowhead\": 0, \"arrowwidth\": 1}, \"autotypenumbers\": \"strict\", \"coloraxis\": {\"colorbar\": {\"outlinewidth\": 1, \"tickcolor\": \"rgb(36,36,36)\", \"ticks\": \"outside\"}}, \"colorscale\": {\"diverging\": [[0.0, \"rgb(103,0,31)\"], [0.1, \"rgb(178,24,43)\"], [0.2, \"rgb(214,96,77)\"], [0.3, \"rgb(244,165,130)\"], [0.4, \"rgb(253,219,199)\"], [0.5, \"rgb(247,247,247)\"], [0.6, \"rgb(209,229,240)\"], [0.7, \"rgb(146,197,222)\"], [0.8, \"rgb(67,147,195)\"], [0.9, \"rgb(33,102,172)\"], [1.0, \"rgb(5,48,97)\"]], \"sequential\": [[0.0, \"#440154\"], [0.1111111111111111, \"#482878\"], [0.2222222222222222, \"#3e4989\"], [0.3333333333333333, \"#31688e\"], [0.4444444444444444, \"#26828e\"], [0.5555555555555556, \"#1f9e89\"], [0.6666666666666666, \"#35b779\"], [0.7777777777777778, \"#6ece58\"], [0.8888888888888888, \"#b5de2b\"], [1.0, \"#fde725\"]], \"sequentialminus\": [[0.0, \"#440154\"], [0.1111111111111111, \"#482878\"], [0.2222222222222222, \"#3e4989\"], [0.3333333333333333, \"#31688e\"], [0.4444444444444444, \"#26828e\"], [0.5555555555555556, \"#1f9e89\"], [0.6666666666666666, \"#35b779\"], [0.7777777777777778, \"#6ece58\"], [0.8888888888888888, \"#b5de2b\"], [1.0, \"#fde725\"]]}, \"colorway\": [\"#1F77B4\", \"#FF7F0E\", \"#2CA02C\", \"#D62728\", \"#9467BD\", \"#8C564B\", \"#E377C2\", \"#7F7F7F\", \"#BCBD22\", \"#17BECF\"], \"font\": {\"color\": \"rgb(36,36,36)\"}, \"geo\": {\"bgcolor\": \"white\", \"lakecolor\": \"white\", \"landcolor\": \"white\", \"showlakes\": true, \"showland\": true, \"subunitcolor\": \"white\"}, \"hoverlabel\": {\"align\": \"left\"}, \"hovermode\": \"closest\", \"mapbox\": {\"style\": \"light\"}, \"paper_bgcolor\": \"white\", \"plot_bgcolor\": \"white\", \"polar\": {\"angularaxis\": {\"gridcolor\": \"rgb(232,232,232)\", \"linecolor\": \"rgb(36,36,36)\", \"showgrid\": false, \"showline\": true, \"ticks\": \"outside\"}, \"bgcolor\": \"white\", \"radialaxis\": {\"gridcolor\": \"rgb(232,232,232)\", \"linecolor\": \"rgb(36,36,36)\", \"showgrid\": false, \"showline\": true, \"ticks\": \"outside\"}}, \"scene\": {\"xaxis\": {\"backgroundcolor\": \"white\", \"gridcolor\": \"rgb(232,232,232)\", \"gridwidth\": 2, \"linecolor\": \"rgb(36,36,36)\", \"showbackground\": true, \"showgrid\": false, \"showline\": true, \"ticks\": \"outside\", \"zeroline\": false, \"zerolinecolor\": \"rgb(36,36,36)\"}, \"yaxis\": {\"backgroundcolor\": \"white\", \"gridcolor\": \"rgb(232,232,232)\", \"gridwidth\": 2, \"linecolor\": \"rgb(36,36,36)\", \"showbackground\": true, \"showgrid\": false, \"showline\": true, \"ticks\": \"outside\", \"zeroline\": false, \"zerolinecolor\": \"rgb(36,36,36)\"}, \"zaxis\": {\"backgroundcolor\": \"white\", \"gridcolor\": \"rgb(232,232,232)\", \"gridwidth\": 2, \"linecolor\": \"rgb(36,36,36)\", \"showbackground\": true, \"showgrid\": false, \"showline\": true, \"ticks\": \"outside\", \"zeroline\": false, \"zerolinecolor\": \"rgb(36,36,36)\"}}, \"shapedefaults\": {\"fillcolor\": \"black\", \"line\": {\"width\": 0}, \"opacity\": 0.3}, \"ternary\": {\"aaxis\": {\"gridcolor\": \"rgb(232,232,232)\", \"linecolor\": \"rgb(36,36,36)\", \"showgrid\": false, \"showline\": true, \"ticks\": \"outside\"}, \"baxis\": {\"gridcolor\": \"rgb(232,232,232)\", \"linecolor\": \"rgb(36,36,36)\", \"showgrid\": false, \"showline\": true, \"ticks\": \"outside\"}, \"bgcolor\": \"white\", \"caxis\": {\"gridcolor\": \"rgb(232,232,232)\", \"linecolor\": \"rgb(36,36,36)\", \"showgrid\": false, \"showline\": true, \"ticks\": \"outside\"}}, \"title\": {\"x\": 0.05}, \"xaxis\": {\"automargin\": true, \"gridcolor\": \"rgb(232,232,232)\", \"linecolor\": \"rgb(36,36,36)\", \"showgrid\": false, \"showline\": true, \"ticks\": \"outside\", \"title\": {\"standoff\": 15}, \"zeroline\": false, \"zerolinecolor\": \"rgb(36,36,36)\"}, \"yaxis\": {\"automargin\": true, \"gridcolor\": \"rgb(232,232,232)\", \"linecolor\": \"rgb(36,36,36)\", \"showgrid\": false, \"showline\": true, \"ticks\": \"outside\", \"title\": {\"standoff\": 15}, \"zeroline\": false, \"zerolinecolor\": \"rgb(36,36,36)\"}}}, \"xaxis\": {\"anchor\": \"y\", \"domain\": [0.0, 1.0], \"title\": {\"text\": \"User Rating\"}}, \"yaxis\": {\"anchor\": \"x\", \"domain\": [0.0, 1.0], \"title\": {\"text\": \"Reviews\"}}},                        {\"responsive\": true}                    ).then(function(){\n",
       "                            \n",
       "var gd = document.getElementById('6d60d5db-1d8c-46b5-b7b8-1c6c98dab6f3');\n",
       "var x = new MutationObserver(function (mutations, observer) {{\n",
       "        var display = window.getComputedStyle(gd).display;\n",
       "        if (!display || display === 'none') {{\n",
       "            console.log([gd, 'removed!']);\n",
       "            Plotly.purge(gd);\n",
       "            observer.disconnect();\n",
       "        }}\n",
       "}});\n",
       "\n",
       "// Listen for the removal of the full notebook cells\n",
       "var notebookContainer = gd.closest('#notebook-container');\n",
       "if (notebookContainer) {{\n",
       "    x.observe(notebookContainer, {childList: true});\n",
       "}}\n",
       "\n",
       "// Listen for the clearing of the current output cell\n",
       "var outputEl = gd.closest('.output');\n",
       "if (outputEl) {{\n",
       "    x.observe(outputEl, {childList: true});\n",
       "}}\n",
       "\n",
       "                        })                };                });            </script>        </div>"
      ]
     },
     "metadata": {},
     "output_type": "display_data"
    },
    {
     "data": {
      "application/vnd.plotly.v1+json": {
       "config": {
        "plotlyServerURL": "https://plot.ly"
       },
       "data": [
        {
         "marker": {
          "color": "salmon"
         },
         "mode": "markers",
         "type": "scattergl",
         "x": [
          4.7,
          4.6,
          4.7,
          4.7,
          4.8,
          4.4,
          4.7,
          4.7,
          4.7,
          4.6,
          4.6,
          4.6,
          4.5,
          4.6,
          4.5,
          4.6,
          4.4,
          4.5,
          4.8,
          4.6,
          3.9,
          4.6,
          4.3,
          4.6,
          4.7,
          4.2,
          4.6,
          4.6,
          4.8,
          4.7,
          4.8,
          4.8,
          4.7,
          4.7,
          4.6,
          4.5,
          4.9,
          4.8,
          4.6,
          4.8,
          4.5,
          4.7,
          4.7,
          4.7,
          4.3,
          4.8,
          4.8,
          4.6,
          4.8,
          4.4,
          4.6,
          4.3,
          4.2,
          4.8,
          4.6,
          4.6,
          4.5,
          4.8,
          4.8,
          4.8,
          4.6,
          4.6,
          4.5,
          4.6,
          4.7,
          4.8,
          4.9,
          4.9,
          4.9,
          4.9,
          4.9,
          4.9,
          4.8,
          4.6,
          4.5,
          4.5,
          4.3,
          4.5,
          4.7,
          4.7,
          4.7,
          4.7,
          4.6,
          4.7,
          4.4,
          4.4,
          4.5,
          3.8,
          4.5,
          4.2,
          4.7,
          4.4,
          4.7,
          4.4,
          4.6,
          4.5,
          4.6,
          4.8,
          4.6,
          4.6,
          4.6,
          3.6,
          4.8,
          4.6,
          4,
          4.6,
          4.5,
          4.8,
          4.9,
          4.6,
          4.4,
          4.8,
          4.9,
          4.8,
          4.9,
          4,
          4.9,
          4.9,
          4.9,
          4.7,
          4.8,
          4.8,
          4.7,
          4.4,
          4.8,
          4.7,
          4.3,
          4.8,
          4.9,
          4.7,
          4.8,
          4.6,
          4.8,
          4.3,
          4.4,
          4.1,
          4.6,
          4.4,
          4.8,
          4.9,
          4.6,
          4.5,
          4.6,
          4.5,
          4.6,
          4.7,
          4.6,
          4.6,
          4.8,
          4.8,
          4.5,
          4.9,
          4.6,
          4.5,
          4.5,
          4.4,
          4.8,
          4.5,
          4.1,
          4.9,
          4.5,
          4.5,
          4.2,
          4.8,
          4.8,
          4.5,
          4.7,
          4.8,
          4.7,
          4.4,
          4.6,
          4.5,
          4.8,
          4.8,
          4.6,
          4.7,
          4.6,
          4.9,
          4.9,
          4.8,
          4.2,
          4.6,
          4.5,
          4.3,
          4.6,
          4.6,
          4.7,
          4.8,
          4.8,
          4.7,
          4.3,
          4.5,
          4.8,
          4.6,
          4.7,
          4.6,
          4.9,
          4.9,
          4.8,
          4.6,
          4.8,
          4.7,
          4.7,
          4.8,
          4.1,
          4.7,
          4.6,
          4.6,
          4.9,
          4,
          4.5,
          4.6,
          4.5,
          4.4,
          4.3,
          4.3,
          4.7,
          4.8,
          4.8,
          4.7,
          4.7,
          4.6,
          4.7,
          4.7,
          4.8,
          4.2,
          4.8,
          4.7,
          4.6,
          4.8,
          4.8,
          3.3,
          4.7,
          4.3,
          4.3,
          4.8,
          4.4,
          4.8,
          4.1,
          4,
          4.7,
          4.6,
          4.6,
          4.7,
          4.8,
          4.1,
          4.7,
          4.7,
          4.7,
          4.4,
          4.8,
          3.9,
          4.4,
          4.5,
          4.7,
          4.3,
          4.6,
          4.8,
          4.8,
          4.8,
          4.7,
          4.7,
          4.8,
          4.7,
          4.3,
          4.7,
          4.8,
          4.9,
          4.4,
          4.5,
          4.4,
          4.8,
          4.2,
          4.8,
          4.9,
          4.8,
          4.7,
          4.5,
          4.8,
          4.6,
          4.8,
          4.4,
          4.3,
          4.3,
          4.8,
          4.8,
          4.8,
          4.5,
          4.4,
          4.8,
          4.6,
          4.3,
          4.3,
          4.6,
          4.6,
          4.8,
          4.6,
          4.6,
          4.5,
          4.8,
          4.6,
          4.7,
          4.7,
          4.7,
          4.4,
          4.4,
          4.7,
          4.7,
          4.8,
          4.7,
          4.9,
          4.6,
          4.9,
          4.8,
          4.7,
          4.7,
          4.6,
          4.5,
          4.5,
          4.3,
          4.6,
          4.3,
          4.8,
          4.6,
          4.8,
          4.5,
          4.7,
          4.5,
          4.8,
          4.3,
          4.9,
          4.8,
          4.7,
          4.8,
          4.5,
          4.6,
          4.7,
          4.7,
          4.8,
          4.4,
          4.4,
          4.8,
          4.8,
          4.8,
          4.6,
          4.4,
          4.5,
          4.2,
          4.8,
          4.9,
          4.7
         ],
         "y": [
          8,
          22,
          15,
          6,
          12,
          11,
          30,
          15,
          3,
          8,
          2,
          32,
          5,
          17,
          4,
          6,
          6,
          8,
          13,
          14,
          13,
          9,
          13,
          5,
          9,
          14,
          5,
          11,
          24,
          21,
          11,
          15,
          13,
          18,
          13,
          8,
          5,
          0,
          4,
          18,
          28,
          11,
          16,
          14,
          8,
          4,
          5,
          11,
          10,
          13,
          4,
          8,
          4,
          5,
          17,
          15,
          105,
          0,
          15,
          22,
          5,
          15,
          6,
          6,
          13,
          12,
          6,
          8,
          4,
          8,
          8,
          6,
          20,
          5,
          16,
          1,
          14,
          9,
          7,
          18,
          15,
          9,
          8,
          15,
          2,
          7,
          11,
          14,
          32,
          6,
          4,
          9,
          0,
          9,
          5,
          20,
          16,
          4,
          12,
          12,
          11,
          19,
          9,
          6,
          9,
          6,
          14,
          5,
          7,
          10,
          14,
          7,
          54,
          11,
          30,
          12,
          18,
          30,
          22,
          9,
          52,
          4,
          10,
          14,
          22,
          11,
          16,
          15,
          17,
          17,
          7,
          7,
          4,
          9,
          21,
          14,
          20,
          13,
          12,
          8,
          0,
          12,
          17,
          12,
          25,
          10,
          6,
          5,
          6,
          8,
          4,
          13,
          4,
          13,
          21,
          6,
          15,
          18,
          10,
          0,
          12,
          7,
          13,
          5,
          16,
          20,
          11,
          27,
          8,
          6,
          10,
          8,
          16,
          11,
          10,
          9,
          14,
          22,
          8,
          7,
          12,
          13,
          9,
          13,
          11,
          20,
          5,
          2,
          27,
          9,
          10,
          46,
          4,
          7,
          9,
          12,
          12,
          12,
          20,
          10,
          6,
          9,
          11,
          16,
          6,
          25,
          17,
          20,
          6,
          17,
          18,
          13,
          18,
          20,
          22,
          21,
          28,
          8,
          12,
          16,
          39,
          9,
          10,
          17,
          11,
          14,
          12,
          53,
          6,
          8,
          12,
          12,
          21,
          6,
          13,
          0,
          11,
          9,
          15,
          11,
          7,
          6,
          9,
          6,
          0,
          7,
          14,
          9,
          16,
          2,
          5,
          20,
          7,
          14,
          10,
          7,
          13,
          11,
          7,
          14,
          14,
          8,
          30,
          9,
          7,
          9,
          7,
          20,
          13,
          11,
          18,
          14,
          19,
          13,
          5,
          10,
          9,
          8,
          8,
          12,
          11,
          40,
          36,
          16,
          17,
          14,
          21,
          18,
          17,
          5,
          21,
          18,
          18,
          12,
          14,
          12,
          8,
          0,
          14,
          10,
          15,
          9,
          7,
          10,
          6,
          9,
          10,
          82,
          12,
          10,
          5,
          16,
          10,
          4,
          16,
          15,
          19,
          9,
          23,
          11,
          23,
          12,
          7,
          21,
          21,
          15,
          9,
          5,
          13,
          20,
          11,
          4,
          9,
          42,
          12,
          18,
          17,
          14,
          13,
          9,
          6,
          14,
          15,
          13,
          12,
          18,
          15,
          11,
          9,
          8,
          8
         ]
        }
       ],
       "layout": {
        "font": {
         "color": "black",
         "family": "Arial",
         "size": 12
        },
        "showlegend": false,
        "template": {
         "data": {
          "bar": [
           {
            "error_x": {
             "color": "rgb(36,36,36)"
            },
            "error_y": {
             "color": "rgb(36,36,36)"
            },
            "marker": {
             "line": {
              "color": "white",
              "width": 0.5
             }
            },
            "type": "bar"
           }
          ],
          "barpolar": [
           {
            "marker": {
             "line": {
              "color": "white",
              "width": 0.5
             }
            },
            "type": "barpolar"
           }
          ],
          "carpet": [
           {
            "aaxis": {
             "endlinecolor": "rgb(36,36,36)",
             "gridcolor": "white",
             "linecolor": "white",
             "minorgridcolor": "white",
             "startlinecolor": "rgb(36,36,36)"
            },
            "baxis": {
             "endlinecolor": "rgb(36,36,36)",
             "gridcolor": "white",
             "linecolor": "white",
             "minorgridcolor": "white",
             "startlinecolor": "rgb(36,36,36)"
            },
            "type": "carpet"
           }
          ],
          "choropleth": [
           {
            "colorbar": {
             "outlinewidth": 1,
             "tickcolor": "rgb(36,36,36)",
             "ticks": "outside"
            },
            "type": "choropleth"
           }
          ],
          "contour": [
           {
            "colorbar": {
             "outlinewidth": 1,
             "tickcolor": "rgb(36,36,36)",
             "ticks": "outside"
            },
            "colorscale": [
             [
              0,
              "#440154"
             ],
             [
              0.1111111111111111,
              "#482878"
             ],
             [
              0.2222222222222222,
              "#3e4989"
             ],
             [
              0.3333333333333333,
              "#31688e"
             ],
             [
              0.4444444444444444,
              "#26828e"
             ],
             [
              0.5555555555555556,
              "#1f9e89"
             ],
             [
              0.6666666666666666,
              "#35b779"
             ],
             [
              0.7777777777777778,
              "#6ece58"
             ],
             [
              0.8888888888888888,
              "#b5de2b"
             ],
             [
              1,
              "#fde725"
             ]
            ],
            "type": "contour"
           }
          ],
          "contourcarpet": [
           {
            "colorbar": {
             "outlinewidth": 1,
             "tickcolor": "rgb(36,36,36)",
             "ticks": "outside"
            },
            "type": "contourcarpet"
           }
          ],
          "heatmap": [
           {
            "colorbar": {
             "outlinewidth": 1,
             "tickcolor": "rgb(36,36,36)",
             "ticks": "outside"
            },
            "colorscale": [
             [
              0,
              "#440154"
             ],
             [
              0.1111111111111111,
              "#482878"
             ],
             [
              0.2222222222222222,
              "#3e4989"
             ],
             [
              0.3333333333333333,
              "#31688e"
             ],
             [
              0.4444444444444444,
              "#26828e"
             ],
             [
              0.5555555555555556,
              "#1f9e89"
             ],
             [
              0.6666666666666666,
              "#35b779"
             ],
             [
              0.7777777777777778,
              "#6ece58"
             ],
             [
              0.8888888888888888,
              "#b5de2b"
             ],
             [
              1,
              "#fde725"
             ]
            ],
            "type": "heatmap"
           }
          ],
          "heatmapgl": [
           {
            "colorbar": {
             "outlinewidth": 1,
             "tickcolor": "rgb(36,36,36)",
             "ticks": "outside"
            },
            "colorscale": [
             [
              0,
              "#440154"
             ],
             [
              0.1111111111111111,
              "#482878"
             ],
             [
              0.2222222222222222,
              "#3e4989"
             ],
             [
              0.3333333333333333,
              "#31688e"
             ],
             [
              0.4444444444444444,
              "#26828e"
             ],
             [
              0.5555555555555556,
              "#1f9e89"
             ],
             [
              0.6666666666666666,
              "#35b779"
             ],
             [
              0.7777777777777778,
              "#6ece58"
             ],
             [
              0.8888888888888888,
              "#b5de2b"
             ],
             [
              1,
              "#fde725"
             ]
            ],
            "type": "heatmapgl"
           }
          ],
          "histogram": [
           {
            "marker": {
             "line": {
              "color": "white",
              "width": 0.6
             }
            },
            "type": "histogram"
           }
          ],
          "histogram2d": [
           {
            "colorbar": {
             "outlinewidth": 1,
             "tickcolor": "rgb(36,36,36)",
             "ticks": "outside"
            },
            "colorscale": [
             [
              0,
              "#440154"
             ],
             [
              0.1111111111111111,
              "#482878"
             ],
             [
              0.2222222222222222,
              "#3e4989"
             ],
             [
              0.3333333333333333,
              "#31688e"
             ],
             [
              0.4444444444444444,
              "#26828e"
             ],
             [
              0.5555555555555556,
              "#1f9e89"
             ],
             [
              0.6666666666666666,
              "#35b779"
             ],
             [
              0.7777777777777778,
              "#6ece58"
             ],
             [
              0.8888888888888888,
              "#b5de2b"
             ],
             [
              1,
              "#fde725"
             ]
            ],
            "type": "histogram2d"
           }
          ],
          "histogram2dcontour": [
           {
            "colorbar": {
             "outlinewidth": 1,
             "tickcolor": "rgb(36,36,36)",
             "ticks": "outside"
            },
            "colorscale": [
             [
              0,
              "#440154"
             ],
             [
              0.1111111111111111,
              "#482878"
             ],
             [
              0.2222222222222222,
              "#3e4989"
             ],
             [
              0.3333333333333333,
              "#31688e"
             ],
             [
              0.4444444444444444,
              "#26828e"
             ],
             [
              0.5555555555555556,
              "#1f9e89"
             ],
             [
              0.6666666666666666,
              "#35b779"
             ],
             [
              0.7777777777777778,
              "#6ece58"
             ],
             [
              0.8888888888888888,
              "#b5de2b"
             ],
             [
              1,
              "#fde725"
             ]
            ],
            "type": "histogram2dcontour"
           }
          ],
          "mesh3d": [
           {
            "colorbar": {
             "outlinewidth": 1,
             "tickcolor": "rgb(36,36,36)",
             "ticks": "outside"
            },
            "type": "mesh3d"
           }
          ],
          "parcoords": [
           {
            "line": {
             "colorbar": {
              "outlinewidth": 1,
              "tickcolor": "rgb(36,36,36)",
              "ticks": "outside"
             }
            },
            "type": "parcoords"
           }
          ],
          "pie": [
           {
            "automargin": true,
            "type": "pie"
           }
          ],
          "scatter": [
           {
            "marker": {
             "colorbar": {
              "outlinewidth": 1,
              "tickcolor": "rgb(36,36,36)",
              "ticks": "outside"
             }
            },
            "type": "scatter"
           }
          ],
          "scatter3d": [
           {
            "line": {
             "colorbar": {
              "outlinewidth": 1,
              "tickcolor": "rgb(36,36,36)",
              "ticks": "outside"
             }
            },
            "marker": {
             "colorbar": {
              "outlinewidth": 1,
              "tickcolor": "rgb(36,36,36)",
              "ticks": "outside"
             }
            },
            "type": "scatter3d"
           }
          ],
          "scattercarpet": [
           {
            "marker": {
             "colorbar": {
              "outlinewidth": 1,
              "tickcolor": "rgb(36,36,36)",
              "ticks": "outside"
             }
            },
            "type": "scattercarpet"
           }
          ],
          "scattergeo": [
           {
            "marker": {
             "colorbar": {
              "outlinewidth": 1,
              "tickcolor": "rgb(36,36,36)",
              "ticks": "outside"
             }
            },
            "type": "scattergeo"
           }
          ],
          "scattergl": [
           {
            "marker": {
             "colorbar": {
              "outlinewidth": 1,
              "tickcolor": "rgb(36,36,36)",
              "ticks": "outside"
             }
            },
            "type": "scattergl"
           }
          ],
          "scattermapbox": [
           {
            "marker": {
             "colorbar": {
              "outlinewidth": 1,
              "tickcolor": "rgb(36,36,36)",
              "ticks": "outside"
             }
            },
            "type": "scattermapbox"
           }
          ],
          "scatterpolar": [
           {
            "marker": {
             "colorbar": {
              "outlinewidth": 1,
              "tickcolor": "rgb(36,36,36)",
              "ticks": "outside"
             }
            },
            "type": "scatterpolar"
           }
          ],
          "scatterpolargl": [
           {
            "marker": {
             "colorbar": {
              "outlinewidth": 1,
              "tickcolor": "rgb(36,36,36)",
              "ticks": "outside"
             }
            },
            "type": "scatterpolargl"
           }
          ],
          "scatterternary": [
           {
            "marker": {
             "colorbar": {
              "outlinewidth": 1,
              "tickcolor": "rgb(36,36,36)",
              "ticks": "outside"
             }
            },
            "type": "scatterternary"
           }
          ],
          "surface": [
           {
            "colorbar": {
             "outlinewidth": 1,
             "tickcolor": "rgb(36,36,36)",
             "ticks": "outside"
            },
            "colorscale": [
             [
              0,
              "#440154"
             ],
             [
              0.1111111111111111,
              "#482878"
             ],
             [
              0.2222222222222222,
              "#3e4989"
             ],
             [
              0.3333333333333333,
              "#31688e"
             ],
             [
              0.4444444444444444,
              "#26828e"
             ],
             [
              0.5555555555555556,
              "#1f9e89"
             ],
             [
              0.6666666666666666,
              "#35b779"
             ],
             [
              0.7777777777777778,
              "#6ece58"
             ],
             [
              0.8888888888888888,
              "#b5de2b"
             ],
             [
              1,
              "#fde725"
             ]
            ],
            "type": "surface"
           }
          ],
          "table": [
           {
            "cells": {
             "fill": {
              "color": "rgb(237,237,237)"
             },
             "line": {
              "color": "white"
             }
            },
            "header": {
             "fill": {
              "color": "rgb(217,217,217)"
             },
             "line": {
              "color": "white"
             }
            },
            "type": "table"
           }
          ]
         },
         "layout": {
          "annotationdefaults": {
           "arrowhead": 0,
           "arrowwidth": 1
          },
          "autotypenumbers": "strict",
          "coloraxis": {
           "colorbar": {
            "outlinewidth": 1,
            "tickcolor": "rgb(36,36,36)",
            "ticks": "outside"
           }
          },
          "colorscale": {
           "diverging": [
            [
             0,
             "rgb(103,0,31)"
            ],
            [
             0.1,
             "rgb(178,24,43)"
            ],
            [
             0.2,
             "rgb(214,96,77)"
            ],
            [
             0.3,
             "rgb(244,165,130)"
            ],
            [
             0.4,
             "rgb(253,219,199)"
            ],
            [
             0.5,
             "rgb(247,247,247)"
            ],
            [
             0.6,
             "rgb(209,229,240)"
            ],
            [
             0.7,
             "rgb(146,197,222)"
            ],
            [
             0.8,
             "rgb(67,147,195)"
            ],
            [
             0.9,
             "rgb(33,102,172)"
            ],
            [
             1,
             "rgb(5,48,97)"
            ]
           ],
           "sequential": [
            [
             0,
             "#440154"
            ],
            [
             0.1111111111111111,
             "#482878"
            ],
            [
             0.2222222222222222,
             "#3e4989"
            ],
            [
             0.3333333333333333,
             "#31688e"
            ],
            [
             0.4444444444444444,
             "#26828e"
            ],
            [
             0.5555555555555556,
             "#1f9e89"
            ],
            [
             0.6666666666666666,
             "#35b779"
            ],
            [
             0.7777777777777778,
             "#6ece58"
            ],
            [
             0.8888888888888888,
             "#b5de2b"
            ],
            [
             1,
             "#fde725"
            ]
           ],
           "sequentialminus": [
            [
             0,
             "#440154"
            ],
            [
             0.1111111111111111,
             "#482878"
            ],
            [
             0.2222222222222222,
             "#3e4989"
            ],
            [
             0.3333333333333333,
             "#31688e"
            ],
            [
             0.4444444444444444,
             "#26828e"
            ],
            [
             0.5555555555555556,
             "#1f9e89"
            ],
            [
             0.6666666666666666,
             "#35b779"
            ],
            [
             0.7777777777777778,
             "#6ece58"
            ],
            [
             0.8888888888888888,
             "#b5de2b"
            ],
            [
             1,
             "#fde725"
            ]
           ]
          },
          "colorway": [
           "#1F77B4",
           "#FF7F0E",
           "#2CA02C",
           "#D62728",
           "#9467BD",
           "#8C564B",
           "#E377C2",
           "#7F7F7F",
           "#BCBD22",
           "#17BECF"
          ],
          "font": {
           "color": "rgb(36,36,36)"
          },
          "geo": {
           "bgcolor": "white",
           "lakecolor": "white",
           "landcolor": "white",
           "showlakes": true,
           "showland": true,
           "subunitcolor": "white"
          },
          "hoverlabel": {
           "align": "left"
          },
          "hovermode": "closest",
          "mapbox": {
           "style": "light"
          },
          "paper_bgcolor": "white",
          "plot_bgcolor": "white",
          "polar": {
           "angularaxis": {
            "gridcolor": "rgb(232,232,232)",
            "linecolor": "rgb(36,36,36)",
            "showgrid": false,
            "showline": true,
            "ticks": "outside"
           },
           "bgcolor": "white",
           "radialaxis": {
            "gridcolor": "rgb(232,232,232)",
            "linecolor": "rgb(36,36,36)",
            "showgrid": false,
            "showline": true,
            "ticks": "outside"
           }
          },
          "scene": {
           "xaxis": {
            "backgroundcolor": "white",
            "gridcolor": "rgb(232,232,232)",
            "gridwidth": 2,
            "linecolor": "rgb(36,36,36)",
            "showbackground": true,
            "showgrid": false,
            "showline": true,
            "ticks": "outside",
            "zeroline": false,
            "zerolinecolor": "rgb(36,36,36)"
           },
           "yaxis": {
            "backgroundcolor": "white",
            "gridcolor": "rgb(232,232,232)",
            "gridwidth": 2,
            "linecolor": "rgb(36,36,36)",
            "showbackground": true,
            "showgrid": false,
            "showline": true,
            "ticks": "outside",
            "zeroline": false,
            "zerolinecolor": "rgb(36,36,36)"
           },
           "zaxis": {
            "backgroundcolor": "white",
            "gridcolor": "rgb(232,232,232)",
            "gridwidth": 2,
            "linecolor": "rgb(36,36,36)",
            "showbackground": true,
            "showgrid": false,
            "showline": true,
            "ticks": "outside",
            "zeroline": false,
            "zerolinecolor": "rgb(36,36,36)"
           }
          },
          "shapedefaults": {
           "fillcolor": "black",
           "line": {
            "width": 0
           },
           "opacity": 0.3
          },
          "ternary": {
           "aaxis": {
            "gridcolor": "rgb(232,232,232)",
            "linecolor": "rgb(36,36,36)",
            "showgrid": false,
            "showline": true,
            "ticks": "outside"
           },
           "baxis": {
            "gridcolor": "rgb(232,232,232)",
            "linecolor": "rgb(36,36,36)",
            "showgrid": false,
            "showline": true,
            "ticks": "outside"
           },
           "bgcolor": "white",
           "caxis": {
            "gridcolor": "rgb(232,232,232)",
            "linecolor": "rgb(36,36,36)",
            "showgrid": false,
            "showline": true,
            "ticks": "outside"
           }
          },
          "title": {
           "x": 0.05
          },
          "xaxis": {
           "automargin": true,
           "gridcolor": "rgb(232,232,232)",
           "linecolor": "rgb(36,36,36)",
           "showgrid": false,
           "showline": true,
           "ticks": "outside",
           "title": {
            "standoff": 15
           },
           "zeroline": false,
           "zerolinecolor": "rgb(36,36,36)"
          },
          "yaxis": {
           "automargin": true,
           "gridcolor": "rgb(232,232,232)",
           "linecolor": "rgb(36,36,36)",
           "showgrid": false,
           "showline": true,
           "ticks": "outside",
           "title": {
            "standoff": 15
           },
           "zeroline": false,
           "zerolinecolor": "rgb(36,36,36)"
          }
         }
        },
        "xaxis": {
         "anchor": "y",
         "domain": [
          0,
          1
         ],
         "title": {
          "text": "User Rating"
         }
        },
        "yaxis": {
         "anchor": "x",
         "domain": [
          0,
          1
         ],
         "title": {
          "text": "Price"
         }
        }
       }
      },
      "text/html": [
       "<div>                            <div id=\"c8548a35-9462-4df4-bb47-6240a504228d\" class=\"plotly-graph-div\" style=\"height:525px; width:100%;\"></div>            <script type=\"text/javascript\">                require([\"plotly\"], function(Plotly) {                    window.PLOTLYENV=window.PLOTLYENV || {};                                    if (document.getElementById(\"c8548a35-9462-4df4-bb47-6240a504228d\")) {                    Plotly.newPlot(                        \"c8548a35-9462-4df4-bb47-6240a504228d\",                        [{\"marker\": {\"color\": \"salmon\"}, \"mode\": \"markers\", \"type\": \"scattergl\", \"x\": [4.7, 4.6, 4.7, 4.7, 4.8, 4.4, 4.7, 4.7, 4.7, 4.6, 4.6, 4.6, 4.5, 4.6, 4.5, 4.6, 4.4, 4.5, 4.8, 4.6, 3.9, 4.6, 4.3, 4.6, 4.7, 4.2, 4.6, 4.6, 4.8, 4.7, 4.8, 4.8, 4.7, 4.7, 4.6, 4.5, 4.9, 4.8, 4.6, 4.8, 4.5, 4.7, 4.7, 4.7, 4.3, 4.8, 4.8, 4.6, 4.8, 4.4, 4.6, 4.3, 4.2, 4.8, 4.6, 4.6, 4.5, 4.8, 4.8, 4.8, 4.6, 4.6, 4.5, 4.6, 4.7, 4.8, 4.9, 4.9, 4.9, 4.9, 4.9, 4.9, 4.8, 4.6, 4.5, 4.5, 4.3, 4.5, 4.7, 4.7, 4.7, 4.7, 4.6, 4.7, 4.4, 4.4, 4.5, 3.8, 4.5, 4.2, 4.7, 4.4, 4.7, 4.4, 4.6, 4.5, 4.6, 4.8, 4.6, 4.6, 4.6, 3.6, 4.8, 4.6, 4.0, 4.6, 4.5, 4.8, 4.9, 4.6, 4.4, 4.8, 4.9, 4.8, 4.9, 4.0, 4.9, 4.9, 4.9, 4.7, 4.8, 4.8, 4.7, 4.4, 4.8, 4.7, 4.3, 4.8, 4.9, 4.7, 4.8, 4.6, 4.8, 4.3, 4.4, 4.1, 4.6, 4.4, 4.8, 4.9, 4.6, 4.5, 4.6, 4.5, 4.6, 4.7, 4.6, 4.6, 4.8, 4.8, 4.5, 4.9, 4.6, 4.5, 4.5, 4.4, 4.8, 4.5, 4.1, 4.9, 4.5, 4.5, 4.2, 4.8, 4.8, 4.5, 4.7, 4.8, 4.7, 4.4, 4.6, 4.5, 4.8, 4.8, 4.6, 4.7, 4.6, 4.9, 4.9, 4.8, 4.2, 4.6, 4.5, 4.3, 4.6, 4.6, 4.7, 4.8, 4.8, 4.7, 4.3, 4.5, 4.8, 4.6, 4.7, 4.6, 4.9, 4.9, 4.8, 4.6, 4.8, 4.7, 4.7, 4.8, 4.1, 4.7, 4.6, 4.6, 4.9, 4.0, 4.5, 4.6, 4.5, 4.4, 4.3, 4.3, 4.7, 4.8, 4.8, 4.7, 4.7, 4.6, 4.7, 4.7, 4.8, 4.2, 4.8, 4.7, 4.6, 4.8, 4.8, 3.3, 4.7, 4.3, 4.3, 4.8, 4.4, 4.8, 4.1, 4.0, 4.7, 4.6, 4.6, 4.7, 4.8, 4.1, 4.7, 4.7, 4.7, 4.4, 4.8, 3.9, 4.4, 4.5, 4.7, 4.3, 4.6, 4.8, 4.8, 4.8, 4.7, 4.7, 4.8, 4.7, 4.3, 4.7, 4.8, 4.9, 4.4, 4.5, 4.4, 4.8, 4.2, 4.8, 4.9, 4.8, 4.7, 4.5, 4.8, 4.6, 4.8, 4.4, 4.3, 4.3, 4.8, 4.8, 4.8, 4.5, 4.4, 4.8, 4.6, 4.3, 4.3, 4.6, 4.6, 4.8, 4.6, 4.6, 4.5, 4.8, 4.6, 4.7, 4.7, 4.7, 4.4, 4.4, 4.7, 4.7, 4.8, 4.7, 4.9, 4.6, 4.9, 4.8, 4.7, 4.7, 4.6, 4.5, 4.5, 4.3, 4.6, 4.3, 4.8, 4.6, 4.8, 4.5, 4.7, 4.5, 4.8, 4.3, 4.9, 4.8, 4.7, 4.8, 4.5, 4.6, 4.7, 4.7, 4.8, 4.4, 4.4, 4.8, 4.8, 4.8, 4.6, 4.4, 4.5, 4.2, 4.8, 4.9, 4.7], \"y\": [8, 22, 15, 6, 12, 11, 30, 15, 3, 8, 2, 32, 5, 17, 4, 6, 6, 8, 13, 14, 13, 9, 13, 5, 9, 14, 5, 11, 24, 21, 11, 15, 13, 18, 13, 8, 5, 0, 4, 18, 28, 11, 16, 14, 8, 4, 5, 11, 10, 13, 4, 8, 4, 5, 17, 15, 105, 0, 15, 22, 5, 15, 6, 6, 13, 12, 6, 8, 4, 8, 8, 6, 20, 5, 16, 1, 14, 9, 7, 18, 15, 9, 8, 15, 2, 7, 11, 14, 32, 6, 4, 9, 0, 9, 5, 20, 16, 4, 12, 12, 11, 19, 9, 6, 9, 6, 14, 5, 7, 10, 14, 7, 54, 11, 30, 12, 18, 30, 22, 9, 52, 4, 10, 14, 22, 11, 16, 15, 17, 17, 7, 7, 4, 9, 21, 14, 20, 13, 12, 8, 0, 12, 17, 12, 25, 10, 6, 5, 6, 8, 4, 13, 4, 13, 21, 6, 15, 18, 10, 0, 12, 7, 13, 5, 16, 20, 11, 27, 8, 6, 10, 8, 16, 11, 10, 9, 14, 22, 8, 7, 12, 13, 9, 13, 11, 20, 5, 2, 27, 9, 10, 46, 4, 7, 9, 12, 12, 12, 20, 10, 6, 9, 11, 16, 6, 25, 17, 20, 6, 17, 18, 13, 18, 20, 22, 21, 28, 8, 12, 16, 39, 9, 10, 17, 11, 14, 12, 53, 6, 8, 12, 12, 21, 6, 13, 0, 11, 9, 15, 11, 7, 6, 9, 6, 0, 7, 14, 9, 16, 2, 5, 20, 7, 14, 10, 7, 13, 11, 7, 14, 14, 8, 30, 9, 7, 9, 7, 20, 13, 11, 18, 14, 19, 13, 5, 10, 9, 8, 8, 12, 11, 40, 36, 16, 17, 14, 21, 18, 17, 5, 21, 18, 18, 12, 14, 12, 8, 0, 14, 10, 15, 9, 7, 10, 6, 9, 10, 82, 12, 10, 5, 16, 10, 4, 16, 15, 19, 9, 23, 11, 23, 12, 7, 21, 21, 15, 9, 5, 13, 20, 11, 4, 9, 42, 12, 18, 17, 14, 13, 9, 6, 14, 15, 13, 12, 18, 15, 11, 9, 8, 8]}],                        {\"font\": {\"color\": \"black\", \"family\": \"Arial\", \"size\": 12}, \"showlegend\": false, \"template\": {\"data\": {\"bar\": [{\"error_x\": {\"color\": \"rgb(36,36,36)\"}, \"error_y\": {\"color\": \"rgb(36,36,36)\"}, \"marker\": {\"line\": {\"color\": \"white\", \"width\": 0.5}}, \"type\": \"bar\"}], \"barpolar\": [{\"marker\": {\"line\": {\"color\": \"white\", \"width\": 0.5}}, \"type\": \"barpolar\"}], \"carpet\": [{\"aaxis\": {\"endlinecolor\": \"rgb(36,36,36)\", \"gridcolor\": \"white\", \"linecolor\": \"white\", \"minorgridcolor\": \"white\", \"startlinecolor\": \"rgb(36,36,36)\"}, \"baxis\": {\"endlinecolor\": \"rgb(36,36,36)\", \"gridcolor\": \"white\", \"linecolor\": \"white\", \"minorgridcolor\": \"white\", \"startlinecolor\": \"rgb(36,36,36)\"}, \"type\": \"carpet\"}], \"choropleth\": [{\"colorbar\": {\"outlinewidth\": 1, \"tickcolor\": \"rgb(36,36,36)\", \"ticks\": \"outside\"}, \"type\": \"choropleth\"}], \"contour\": [{\"colorbar\": {\"outlinewidth\": 1, \"tickcolor\": \"rgb(36,36,36)\", \"ticks\": \"outside\"}, \"colorscale\": [[0.0, \"#440154\"], [0.1111111111111111, \"#482878\"], [0.2222222222222222, \"#3e4989\"], [0.3333333333333333, \"#31688e\"], [0.4444444444444444, \"#26828e\"], [0.5555555555555556, \"#1f9e89\"], [0.6666666666666666, \"#35b779\"], [0.7777777777777778, \"#6ece58\"], [0.8888888888888888, \"#b5de2b\"], [1.0, \"#fde725\"]], \"type\": \"contour\"}], \"contourcarpet\": [{\"colorbar\": {\"outlinewidth\": 1, \"tickcolor\": \"rgb(36,36,36)\", \"ticks\": \"outside\"}, \"type\": \"contourcarpet\"}], \"heatmap\": [{\"colorbar\": {\"outlinewidth\": 1, \"tickcolor\": \"rgb(36,36,36)\", \"ticks\": \"outside\"}, \"colorscale\": [[0.0, \"#440154\"], [0.1111111111111111, \"#482878\"], [0.2222222222222222, \"#3e4989\"], [0.3333333333333333, \"#31688e\"], [0.4444444444444444, \"#26828e\"], [0.5555555555555556, \"#1f9e89\"], [0.6666666666666666, \"#35b779\"], [0.7777777777777778, \"#6ece58\"], [0.8888888888888888, \"#b5de2b\"], [1.0, \"#fde725\"]], \"type\": \"heatmap\"}], \"heatmapgl\": [{\"colorbar\": {\"outlinewidth\": 1, \"tickcolor\": \"rgb(36,36,36)\", \"ticks\": \"outside\"}, \"colorscale\": [[0.0, \"#440154\"], [0.1111111111111111, \"#482878\"], [0.2222222222222222, \"#3e4989\"], [0.3333333333333333, \"#31688e\"], [0.4444444444444444, \"#26828e\"], [0.5555555555555556, \"#1f9e89\"], [0.6666666666666666, \"#35b779\"], [0.7777777777777778, \"#6ece58\"], [0.8888888888888888, \"#b5de2b\"], [1.0, \"#fde725\"]], \"type\": \"heatmapgl\"}], \"histogram\": [{\"marker\": {\"line\": {\"color\": \"white\", \"width\": 0.6}}, \"type\": \"histogram\"}], \"histogram2d\": [{\"colorbar\": {\"outlinewidth\": 1, \"tickcolor\": \"rgb(36,36,36)\", \"ticks\": \"outside\"}, \"colorscale\": [[0.0, \"#440154\"], [0.1111111111111111, \"#482878\"], [0.2222222222222222, \"#3e4989\"], [0.3333333333333333, \"#31688e\"], [0.4444444444444444, \"#26828e\"], [0.5555555555555556, \"#1f9e89\"], [0.6666666666666666, \"#35b779\"], [0.7777777777777778, \"#6ece58\"], [0.8888888888888888, \"#b5de2b\"], [1.0, \"#fde725\"]], \"type\": \"histogram2d\"}], \"histogram2dcontour\": [{\"colorbar\": {\"outlinewidth\": 1, \"tickcolor\": \"rgb(36,36,36)\", \"ticks\": \"outside\"}, \"colorscale\": [[0.0, \"#440154\"], [0.1111111111111111, \"#482878\"], [0.2222222222222222, \"#3e4989\"], [0.3333333333333333, \"#31688e\"], [0.4444444444444444, \"#26828e\"], [0.5555555555555556, \"#1f9e89\"], [0.6666666666666666, \"#35b779\"], [0.7777777777777778, \"#6ece58\"], [0.8888888888888888, \"#b5de2b\"], [1.0, \"#fde725\"]], \"type\": \"histogram2dcontour\"}], \"mesh3d\": [{\"colorbar\": {\"outlinewidth\": 1, \"tickcolor\": \"rgb(36,36,36)\", \"ticks\": \"outside\"}, \"type\": \"mesh3d\"}], \"parcoords\": [{\"line\": {\"colorbar\": {\"outlinewidth\": 1, \"tickcolor\": \"rgb(36,36,36)\", \"ticks\": \"outside\"}}, \"type\": \"parcoords\"}], \"pie\": [{\"automargin\": true, \"type\": \"pie\"}], \"scatter\": [{\"marker\": {\"colorbar\": {\"outlinewidth\": 1, \"tickcolor\": \"rgb(36,36,36)\", \"ticks\": \"outside\"}}, \"type\": \"scatter\"}], \"scatter3d\": [{\"line\": {\"colorbar\": {\"outlinewidth\": 1, \"tickcolor\": \"rgb(36,36,36)\", \"ticks\": \"outside\"}}, \"marker\": {\"colorbar\": {\"outlinewidth\": 1, \"tickcolor\": \"rgb(36,36,36)\", \"ticks\": \"outside\"}}, \"type\": \"scatter3d\"}], \"scattercarpet\": [{\"marker\": {\"colorbar\": {\"outlinewidth\": 1, \"tickcolor\": \"rgb(36,36,36)\", \"ticks\": \"outside\"}}, \"type\": \"scattercarpet\"}], \"scattergeo\": [{\"marker\": {\"colorbar\": {\"outlinewidth\": 1, \"tickcolor\": \"rgb(36,36,36)\", \"ticks\": \"outside\"}}, \"type\": \"scattergeo\"}], \"scattergl\": [{\"marker\": {\"colorbar\": {\"outlinewidth\": 1, \"tickcolor\": \"rgb(36,36,36)\", \"ticks\": \"outside\"}}, \"type\": \"scattergl\"}], \"scattermapbox\": [{\"marker\": {\"colorbar\": {\"outlinewidth\": 1, \"tickcolor\": \"rgb(36,36,36)\", \"ticks\": \"outside\"}}, \"type\": \"scattermapbox\"}], \"scatterpolar\": [{\"marker\": {\"colorbar\": {\"outlinewidth\": 1, \"tickcolor\": \"rgb(36,36,36)\", \"ticks\": \"outside\"}}, \"type\": \"scatterpolar\"}], \"scatterpolargl\": [{\"marker\": {\"colorbar\": {\"outlinewidth\": 1, \"tickcolor\": \"rgb(36,36,36)\", \"ticks\": \"outside\"}}, \"type\": \"scatterpolargl\"}], \"scatterternary\": [{\"marker\": {\"colorbar\": {\"outlinewidth\": 1, \"tickcolor\": \"rgb(36,36,36)\", \"ticks\": \"outside\"}}, \"type\": \"scatterternary\"}], \"surface\": [{\"colorbar\": {\"outlinewidth\": 1, \"tickcolor\": \"rgb(36,36,36)\", \"ticks\": \"outside\"}, \"colorscale\": [[0.0, \"#440154\"], [0.1111111111111111, \"#482878\"], [0.2222222222222222, \"#3e4989\"], [0.3333333333333333, \"#31688e\"], [0.4444444444444444, \"#26828e\"], [0.5555555555555556, \"#1f9e89\"], [0.6666666666666666, \"#35b779\"], [0.7777777777777778, \"#6ece58\"], [0.8888888888888888, \"#b5de2b\"], [1.0, \"#fde725\"]], \"type\": \"surface\"}], \"table\": [{\"cells\": {\"fill\": {\"color\": \"rgb(237,237,237)\"}, \"line\": {\"color\": \"white\"}}, \"header\": {\"fill\": {\"color\": \"rgb(217,217,217)\"}, \"line\": {\"color\": \"white\"}}, \"type\": \"table\"}]}, \"layout\": {\"annotationdefaults\": {\"arrowhead\": 0, \"arrowwidth\": 1}, \"autotypenumbers\": \"strict\", \"coloraxis\": {\"colorbar\": {\"outlinewidth\": 1, \"tickcolor\": \"rgb(36,36,36)\", \"ticks\": \"outside\"}}, \"colorscale\": {\"diverging\": [[0.0, \"rgb(103,0,31)\"], [0.1, \"rgb(178,24,43)\"], [0.2, \"rgb(214,96,77)\"], [0.3, \"rgb(244,165,130)\"], [0.4, \"rgb(253,219,199)\"], [0.5, \"rgb(247,247,247)\"], [0.6, \"rgb(209,229,240)\"], [0.7, \"rgb(146,197,222)\"], [0.8, \"rgb(67,147,195)\"], [0.9, \"rgb(33,102,172)\"], [1.0, \"rgb(5,48,97)\"]], \"sequential\": [[0.0, \"#440154\"], [0.1111111111111111, \"#482878\"], [0.2222222222222222, \"#3e4989\"], [0.3333333333333333, \"#31688e\"], [0.4444444444444444, \"#26828e\"], [0.5555555555555556, \"#1f9e89\"], [0.6666666666666666, \"#35b779\"], [0.7777777777777778, \"#6ece58\"], [0.8888888888888888, \"#b5de2b\"], [1.0, \"#fde725\"]], \"sequentialminus\": [[0.0, \"#440154\"], [0.1111111111111111, \"#482878\"], [0.2222222222222222, \"#3e4989\"], [0.3333333333333333, \"#31688e\"], [0.4444444444444444, \"#26828e\"], [0.5555555555555556, \"#1f9e89\"], [0.6666666666666666, \"#35b779\"], [0.7777777777777778, \"#6ece58\"], [0.8888888888888888, \"#b5de2b\"], [1.0, \"#fde725\"]]}, \"colorway\": [\"#1F77B4\", \"#FF7F0E\", \"#2CA02C\", \"#D62728\", \"#9467BD\", \"#8C564B\", \"#E377C2\", \"#7F7F7F\", \"#BCBD22\", \"#17BECF\"], \"font\": {\"color\": \"rgb(36,36,36)\"}, \"geo\": {\"bgcolor\": \"white\", \"lakecolor\": \"white\", \"landcolor\": \"white\", \"showlakes\": true, \"showland\": true, \"subunitcolor\": \"white\"}, \"hoverlabel\": {\"align\": \"left\"}, \"hovermode\": \"closest\", \"mapbox\": {\"style\": \"light\"}, \"paper_bgcolor\": \"white\", \"plot_bgcolor\": \"white\", \"polar\": {\"angularaxis\": {\"gridcolor\": \"rgb(232,232,232)\", \"linecolor\": \"rgb(36,36,36)\", \"showgrid\": false, \"showline\": true, \"ticks\": \"outside\"}, \"bgcolor\": \"white\", \"radialaxis\": {\"gridcolor\": \"rgb(232,232,232)\", \"linecolor\": \"rgb(36,36,36)\", \"showgrid\": false, \"showline\": true, \"ticks\": \"outside\"}}, \"scene\": {\"xaxis\": {\"backgroundcolor\": \"white\", \"gridcolor\": \"rgb(232,232,232)\", \"gridwidth\": 2, \"linecolor\": \"rgb(36,36,36)\", \"showbackground\": true, \"showgrid\": false, \"showline\": true, \"ticks\": \"outside\", \"zeroline\": false, \"zerolinecolor\": \"rgb(36,36,36)\"}, \"yaxis\": {\"backgroundcolor\": \"white\", \"gridcolor\": \"rgb(232,232,232)\", \"gridwidth\": 2, \"linecolor\": \"rgb(36,36,36)\", \"showbackground\": true, \"showgrid\": false, \"showline\": true, \"ticks\": \"outside\", \"zeroline\": false, \"zerolinecolor\": \"rgb(36,36,36)\"}, \"zaxis\": {\"backgroundcolor\": \"white\", \"gridcolor\": \"rgb(232,232,232)\", \"gridwidth\": 2, \"linecolor\": \"rgb(36,36,36)\", \"showbackground\": true, \"showgrid\": false, \"showline\": true, \"ticks\": \"outside\", \"zeroline\": false, \"zerolinecolor\": \"rgb(36,36,36)\"}}, \"shapedefaults\": {\"fillcolor\": \"black\", \"line\": {\"width\": 0}, \"opacity\": 0.3}, \"ternary\": {\"aaxis\": {\"gridcolor\": \"rgb(232,232,232)\", \"linecolor\": \"rgb(36,36,36)\", \"showgrid\": false, \"showline\": true, \"ticks\": \"outside\"}, \"baxis\": {\"gridcolor\": \"rgb(232,232,232)\", \"linecolor\": \"rgb(36,36,36)\", \"showgrid\": false, \"showline\": true, \"ticks\": \"outside\"}, \"bgcolor\": \"white\", \"caxis\": {\"gridcolor\": \"rgb(232,232,232)\", \"linecolor\": \"rgb(36,36,36)\", \"showgrid\": false, \"showline\": true, \"ticks\": \"outside\"}}, \"title\": {\"x\": 0.05}, \"xaxis\": {\"automargin\": true, \"gridcolor\": \"rgb(232,232,232)\", \"linecolor\": \"rgb(36,36,36)\", \"showgrid\": false, \"showline\": true, \"ticks\": \"outside\", \"title\": {\"standoff\": 15}, \"zeroline\": false, \"zerolinecolor\": \"rgb(36,36,36)\"}, \"yaxis\": {\"automargin\": true, \"gridcolor\": \"rgb(232,232,232)\", \"linecolor\": \"rgb(36,36,36)\", \"showgrid\": false, \"showline\": true, \"ticks\": \"outside\", \"title\": {\"standoff\": 15}, \"zeroline\": false, \"zerolinecolor\": \"rgb(36,36,36)\"}}}, \"xaxis\": {\"anchor\": \"y\", \"domain\": [0.0, 1.0], \"title\": {\"text\": \"User Rating\"}}, \"yaxis\": {\"anchor\": \"x\", \"domain\": [0.0, 1.0], \"title\": {\"text\": \"Price\"}}},                        {\"responsive\": true}                    ).then(function(){\n",
       "                            \n",
       "var gd = document.getElementById('c8548a35-9462-4df4-bb47-6240a504228d');\n",
       "var x = new MutationObserver(function (mutations, observer) {{\n",
       "        var display = window.getComputedStyle(gd).display;\n",
       "        if (!display || display === 'none') {{\n",
       "            console.log([gd, 'removed!']);\n",
       "            Plotly.purge(gd);\n",
       "            observer.disconnect();\n",
       "        }}\n",
       "}});\n",
       "\n",
       "// Listen for the removal of the full notebook cells\n",
       "var notebookContainer = gd.closest('#notebook-container');\n",
       "if (notebookContainer) {{\n",
       "    x.observe(notebookContainer, {childList: true});\n",
       "}}\n",
       "\n",
       "// Listen for the clearing of the current output cell\n",
       "var outputEl = gd.closest('.output');\n",
       "if (outputEl) {{\n",
       "    x.observe(outputEl, {childList: true});\n",
       "}}\n",
       "\n",
       "                        })                };                });            </script>        </div>"
      ]
     },
     "metadata": {},
     "output_type": "display_data"
    },
    {
     "data": {
      "application/vnd.plotly.v1+json": {
       "config": {
        "plotlyServerURL": "https://plot.ly"
       },
       "data": [
        {
         "marker": {
          "color": "salmon"
         },
         "mode": "markers",
         "type": "scattergl",
         "x": [
          8,
          22,
          15,
          6,
          12,
          11,
          30,
          15,
          3,
          8,
          2,
          32,
          5,
          17,
          4,
          6,
          6,
          8,
          13,
          14,
          13,
          9,
          13,
          5,
          9,
          14,
          5,
          11,
          24,
          21,
          11,
          15,
          13,
          18,
          13,
          8,
          5,
          0,
          4,
          18,
          28,
          11,
          16,
          14,
          8,
          4,
          5,
          11,
          10,
          13,
          4,
          8,
          4,
          5,
          17,
          15,
          105,
          0,
          15,
          22,
          5,
          15,
          6,
          6,
          13,
          12,
          6,
          8,
          4,
          8,
          8,
          6,
          20,
          5,
          16,
          1,
          14,
          9,
          7,
          18,
          15,
          9,
          8,
          15,
          2,
          7,
          11,
          14,
          32,
          6,
          4,
          9,
          0,
          9,
          5,
          20,
          16,
          4,
          12,
          12,
          11,
          19,
          9,
          6,
          9,
          6,
          14,
          5,
          7,
          10,
          14,
          7,
          54,
          11,
          30,
          12,
          18,
          30,
          22,
          9,
          52,
          4,
          10,
          14,
          22,
          11,
          16,
          15,
          17,
          17,
          7,
          7,
          4,
          9,
          21,
          14,
          20,
          13,
          12,
          8,
          0,
          12,
          17,
          12,
          25,
          10,
          6,
          5,
          6,
          8,
          4,
          13,
          4,
          13,
          21,
          6,
          15,
          18,
          10,
          0,
          12,
          7,
          13,
          5,
          16,
          20,
          11,
          27,
          8,
          6,
          10,
          8,
          16,
          11,
          10,
          9,
          14,
          22,
          8,
          7,
          12,
          13,
          9,
          13,
          11,
          20,
          5,
          2,
          27,
          9,
          10,
          46,
          4,
          7,
          9,
          12,
          12,
          12,
          20,
          10,
          6,
          9,
          11,
          16,
          6,
          25,
          17,
          20,
          6,
          17,
          18,
          13,
          18,
          20,
          22,
          21,
          28,
          8,
          12,
          16,
          39,
          9,
          10,
          17,
          11,
          14,
          12,
          53,
          6,
          8,
          12,
          12,
          21,
          6,
          13,
          0,
          11,
          9,
          15,
          11,
          7,
          6,
          9,
          6,
          0,
          7,
          14,
          9,
          16,
          2,
          5,
          20,
          7,
          14,
          10,
          7,
          13,
          11,
          7,
          14,
          14,
          8,
          30,
          9,
          7,
          9,
          7,
          20,
          13,
          11,
          18,
          14,
          19,
          13,
          5,
          10,
          9,
          8,
          8,
          12,
          11,
          40,
          36,
          16,
          17,
          14,
          21,
          18,
          17,
          5,
          21,
          18,
          18,
          12,
          14,
          12,
          8,
          0,
          14,
          10,
          15,
          9,
          7,
          10,
          6,
          9,
          10,
          82,
          12,
          10,
          5,
          16,
          10,
          4,
          16,
          15,
          19,
          9,
          23,
          11,
          23,
          12,
          7,
          21,
          21,
          15,
          9,
          5,
          13,
          20,
          11,
          4,
          9,
          42,
          12,
          18,
          17,
          14,
          13,
          9,
          6,
          14,
          15,
          13,
          12,
          18,
          15,
          11,
          9,
          8,
          8
         ],
         "y": [
          17350,
          2052,
          18979,
          21424,
          7665,
          12643,
          19735,
          19699,
          5983,
          23848,
          460,
          4149,
          5153,
          5013,
          2313,
          2925,
          2951,
          2426,
          9198,
          36348,
          6310,
          15921,
          12159,
          798,
          9374,
          491,
          5360,
          1909,
          1296,
          615,
          61133,
          11113,
          10070,
          3729,
          9769,
          471,
          14344,
          4505,
          10369,
          16244,
          2884,
          22614,
          4761,
          1542,
          6143,
          4022,
          3871,
          4866,
          1329,
          4642,
          1541,
          1924,
          2094,
          10922,
          2137,
          1651,
          6679,
          6812,
          3837,
          6540,
          7955,
          27098,
          17684,
          37,
          15845,
          3181,
          5062,
          4786,
          7235,
          12619,
          9089,
          5470,
          5118,
          2134,
          2525,
          720,
          956,
          6346,
          5505,
          5505,
          28729,
          5413,
          10721,
          4370,
          6042,
          23631,
          20262,
          47265,
          13964,
          13677,
          17323,
          1555,
          3642,
          1215,
          5594,
          408,
          4799,
          14038,
          7660,
          22288,
          1365,
          14982,
          9568,
          1636,
          57271,
          10141,
          3457,
          8837,
          7038,
          5972,
          25624,
          5476,
          5867,
          4148,
          19622,
          23973,
          7758,
          3146,
          10052,
          3564,
          13471,
          1930,
          15779,
          15526,
          3776,
          25001,
          5272,
          3490,
          2812,
          4896,
          9737,
          1320,
          16643,
          7153,
          4571,
          29651,
          5299,
          7396,
          7062,
          19576,
          978,
          4748,
          8393,
          11391,
          8634,
          9342,
          10927,
          5235,
          8916,
          2507,
          3673,
          11881,
          6990,
          6132,
          3014,
          7550,
          3828,
          2752,
          1467,
          1884,
          25706,
          8491,
          1649,
          18613,
          9867,
          1386,
          10199,
          2926,
          17739,
          3113,
          5542,
          26741,
          5347,
          7866,
          5680,
          5178,
          8093,
          3192,
          21834,
          6169,
          4519,
          3163,
          1831,
          18904,
          21930,
          10426,
          10820,
          548,
          16990,
          3503,
          13616,
          8580,
          4757,
          10009,
          1985,
          22536,
          7150,
          3836,
          7802,
          3619,
          23047,
          9366,
          1265,
          3923,
          2272,
          973,
          220,
          7827,
          9382,
          5069,
          1583,
          1907,
          23114,
          637,
          2314,
          4587,
          3477,
          25554,
          1680,
          4725,
          35799,
          2580,
          11813,
          3536,
          6600,
          1789,
          12361,
          858,
          23148,
          8081,
          23358,
          9372,
          4633,
          13061,
          3523,
          2774,
          440,
          8922,
          2023,
          1859,
          50482,
          3207,
          803,
          23308,
          5836,
          79446,
          7747,
          7251,
          7251,
          10559,
          5249,
          33844,
          11616,
          13609,
          8587,
          29442,
          11098,
          9947,
          13871,
          6982,
          32122,
          32122,
          16949,
          9289,
          7368,
          4028,
          4628,
          5396,
          4247,
          22641,
          6222,
          4506,
          8747,
          1655,
          7861,
          6247,
          39459,
          10101,
          5898,
          2744,
          49288,
          1201,
          807,
          3759,
          2663,
          3428,
          2876,
          3601,
          7058,
          9784,
          10795,
          10191,
          14493,
          2186,
          1204,
          2091,
          19720,
          2122,
          27536,
          4290,
          26490,
          5487,
          6377,
          1463,
          3759,
          3503,
          11550,
          3801,
          3796,
          9030,
          19546,
          7508,
          8842,
          30183,
          6169,
          7034,
          11034,
          7932,
          1904,
          3319,
          11128,
          5977,
          26234,
          4360,
          2282,
          438,
          11676,
          2586,
          29673,
          6740,
          5956,
          6108,
          4585,
          3829,
          8958,
          5492,
          9292,
          1873,
          8170,
          3341,
          7497,
          13779,
          87841,
          9967,
          6669,
          17044,
          10760,
          1302,
          21625,
          9413,
          14331
         ]
        }
       ],
       "layout": {
        "font": {
         "color": "black",
         "family": "Arial",
         "size": 12
        },
        "showlegend": false,
        "template": {
         "data": {
          "bar": [
           {
            "error_x": {
             "color": "rgb(36,36,36)"
            },
            "error_y": {
             "color": "rgb(36,36,36)"
            },
            "marker": {
             "line": {
              "color": "white",
              "width": 0.5
             }
            },
            "type": "bar"
           }
          ],
          "barpolar": [
           {
            "marker": {
             "line": {
              "color": "white",
              "width": 0.5
             }
            },
            "type": "barpolar"
           }
          ],
          "carpet": [
           {
            "aaxis": {
             "endlinecolor": "rgb(36,36,36)",
             "gridcolor": "white",
             "linecolor": "white",
             "minorgridcolor": "white",
             "startlinecolor": "rgb(36,36,36)"
            },
            "baxis": {
             "endlinecolor": "rgb(36,36,36)",
             "gridcolor": "white",
             "linecolor": "white",
             "minorgridcolor": "white",
             "startlinecolor": "rgb(36,36,36)"
            },
            "type": "carpet"
           }
          ],
          "choropleth": [
           {
            "colorbar": {
             "outlinewidth": 1,
             "tickcolor": "rgb(36,36,36)",
             "ticks": "outside"
            },
            "type": "choropleth"
           }
          ],
          "contour": [
           {
            "colorbar": {
             "outlinewidth": 1,
             "tickcolor": "rgb(36,36,36)",
             "ticks": "outside"
            },
            "colorscale": [
             [
              0,
              "#440154"
             ],
             [
              0.1111111111111111,
              "#482878"
             ],
             [
              0.2222222222222222,
              "#3e4989"
             ],
             [
              0.3333333333333333,
              "#31688e"
             ],
             [
              0.4444444444444444,
              "#26828e"
             ],
             [
              0.5555555555555556,
              "#1f9e89"
             ],
             [
              0.6666666666666666,
              "#35b779"
             ],
             [
              0.7777777777777778,
              "#6ece58"
             ],
             [
              0.8888888888888888,
              "#b5de2b"
             ],
             [
              1,
              "#fde725"
             ]
            ],
            "type": "contour"
           }
          ],
          "contourcarpet": [
           {
            "colorbar": {
             "outlinewidth": 1,
             "tickcolor": "rgb(36,36,36)",
             "ticks": "outside"
            },
            "type": "contourcarpet"
           }
          ],
          "heatmap": [
           {
            "colorbar": {
             "outlinewidth": 1,
             "tickcolor": "rgb(36,36,36)",
             "ticks": "outside"
            },
            "colorscale": [
             [
              0,
              "#440154"
             ],
             [
              0.1111111111111111,
              "#482878"
             ],
             [
              0.2222222222222222,
              "#3e4989"
             ],
             [
              0.3333333333333333,
              "#31688e"
             ],
             [
              0.4444444444444444,
              "#26828e"
             ],
             [
              0.5555555555555556,
              "#1f9e89"
             ],
             [
              0.6666666666666666,
              "#35b779"
             ],
             [
              0.7777777777777778,
              "#6ece58"
             ],
             [
              0.8888888888888888,
              "#b5de2b"
             ],
             [
              1,
              "#fde725"
             ]
            ],
            "type": "heatmap"
           }
          ],
          "heatmapgl": [
           {
            "colorbar": {
             "outlinewidth": 1,
             "tickcolor": "rgb(36,36,36)",
             "ticks": "outside"
            },
            "colorscale": [
             [
              0,
              "#440154"
             ],
             [
              0.1111111111111111,
              "#482878"
             ],
             [
              0.2222222222222222,
              "#3e4989"
             ],
             [
              0.3333333333333333,
              "#31688e"
             ],
             [
              0.4444444444444444,
              "#26828e"
             ],
             [
              0.5555555555555556,
              "#1f9e89"
             ],
             [
              0.6666666666666666,
              "#35b779"
             ],
             [
              0.7777777777777778,
              "#6ece58"
             ],
             [
              0.8888888888888888,
              "#b5de2b"
             ],
             [
              1,
              "#fde725"
             ]
            ],
            "type": "heatmapgl"
           }
          ],
          "histogram": [
           {
            "marker": {
             "line": {
              "color": "white",
              "width": 0.6
             }
            },
            "type": "histogram"
           }
          ],
          "histogram2d": [
           {
            "colorbar": {
             "outlinewidth": 1,
             "tickcolor": "rgb(36,36,36)",
             "ticks": "outside"
            },
            "colorscale": [
             [
              0,
              "#440154"
             ],
             [
              0.1111111111111111,
              "#482878"
             ],
             [
              0.2222222222222222,
              "#3e4989"
             ],
             [
              0.3333333333333333,
              "#31688e"
             ],
             [
              0.4444444444444444,
              "#26828e"
             ],
             [
              0.5555555555555556,
              "#1f9e89"
             ],
             [
              0.6666666666666666,
              "#35b779"
             ],
             [
              0.7777777777777778,
              "#6ece58"
             ],
             [
              0.8888888888888888,
              "#b5de2b"
             ],
             [
              1,
              "#fde725"
             ]
            ],
            "type": "histogram2d"
           }
          ],
          "histogram2dcontour": [
           {
            "colorbar": {
             "outlinewidth": 1,
             "tickcolor": "rgb(36,36,36)",
             "ticks": "outside"
            },
            "colorscale": [
             [
              0,
              "#440154"
             ],
             [
              0.1111111111111111,
              "#482878"
             ],
             [
              0.2222222222222222,
              "#3e4989"
             ],
             [
              0.3333333333333333,
              "#31688e"
             ],
             [
              0.4444444444444444,
              "#26828e"
             ],
             [
              0.5555555555555556,
              "#1f9e89"
             ],
             [
              0.6666666666666666,
              "#35b779"
             ],
             [
              0.7777777777777778,
              "#6ece58"
             ],
             [
              0.8888888888888888,
              "#b5de2b"
             ],
             [
              1,
              "#fde725"
             ]
            ],
            "type": "histogram2dcontour"
           }
          ],
          "mesh3d": [
           {
            "colorbar": {
             "outlinewidth": 1,
             "tickcolor": "rgb(36,36,36)",
             "ticks": "outside"
            },
            "type": "mesh3d"
           }
          ],
          "parcoords": [
           {
            "line": {
             "colorbar": {
              "outlinewidth": 1,
              "tickcolor": "rgb(36,36,36)",
              "ticks": "outside"
             }
            },
            "type": "parcoords"
           }
          ],
          "pie": [
           {
            "automargin": true,
            "type": "pie"
           }
          ],
          "scatter": [
           {
            "marker": {
             "colorbar": {
              "outlinewidth": 1,
              "tickcolor": "rgb(36,36,36)",
              "ticks": "outside"
             }
            },
            "type": "scatter"
           }
          ],
          "scatter3d": [
           {
            "line": {
             "colorbar": {
              "outlinewidth": 1,
              "tickcolor": "rgb(36,36,36)",
              "ticks": "outside"
             }
            },
            "marker": {
             "colorbar": {
              "outlinewidth": 1,
              "tickcolor": "rgb(36,36,36)",
              "ticks": "outside"
             }
            },
            "type": "scatter3d"
           }
          ],
          "scattercarpet": [
           {
            "marker": {
             "colorbar": {
              "outlinewidth": 1,
              "tickcolor": "rgb(36,36,36)",
              "ticks": "outside"
             }
            },
            "type": "scattercarpet"
           }
          ],
          "scattergeo": [
           {
            "marker": {
             "colorbar": {
              "outlinewidth": 1,
              "tickcolor": "rgb(36,36,36)",
              "ticks": "outside"
             }
            },
            "type": "scattergeo"
           }
          ],
          "scattergl": [
           {
            "marker": {
             "colorbar": {
              "outlinewidth": 1,
              "tickcolor": "rgb(36,36,36)",
              "ticks": "outside"
             }
            },
            "type": "scattergl"
           }
          ],
          "scattermapbox": [
           {
            "marker": {
             "colorbar": {
              "outlinewidth": 1,
              "tickcolor": "rgb(36,36,36)",
              "ticks": "outside"
             }
            },
            "type": "scattermapbox"
           }
          ],
          "scatterpolar": [
           {
            "marker": {
             "colorbar": {
              "outlinewidth": 1,
              "tickcolor": "rgb(36,36,36)",
              "ticks": "outside"
             }
            },
            "type": "scatterpolar"
           }
          ],
          "scatterpolargl": [
           {
            "marker": {
             "colorbar": {
              "outlinewidth": 1,
              "tickcolor": "rgb(36,36,36)",
              "ticks": "outside"
             }
            },
            "type": "scatterpolargl"
           }
          ],
          "scatterternary": [
           {
            "marker": {
             "colorbar": {
              "outlinewidth": 1,
              "tickcolor": "rgb(36,36,36)",
              "ticks": "outside"
             }
            },
            "type": "scatterternary"
           }
          ],
          "surface": [
           {
            "colorbar": {
             "outlinewidth": 1,
             "tickcolor": "rgb(36,36,36)",
             "ticks": "outside"
            },
            "colorscale": [
             [
              0,
              "#440154"
             ],
             [
              0.1111111111111111,
              "#482878"
             ],
             [
              0.2222222222222222,
              "#3e4989"
             ],
             [
              0.3333333333333333,
              "#31688e"
             ],
             [
              0.4444444444444444,
              "#26828e"
             ],
             [
              0.5555555555555556,
              "#1f9e89"
             ],
             [
              0.6666666666666666,
              "#35b779"
             ],
             [
              0.7777777777777778,
              "#6ece58"
             ],
             [
              0.8888888888888888,
              "#b5de2b"
             ],
             [
              1,
              "#fde725"
             ]
            ],
            "type": "surface"
           }
          ],
          "table": [
           {
            "cells": {
             "fill": {
              "color": "rgb(237,237,237)"
             },
             "line": {
              "color": "white"
             }
            },
            "header": {
             "fill": {
              "color": "rgb(217,217,217)"
             },
             "line": {
              "color": "white"
             }
            },
            "type": "table"
           }
          ]
         },
         "layout": {
          "annotationdefaults": {
           "arrowhead": 0,
           "arrowwidth": 1
          },
          "autotypenumbers": "strict",
          "coloraxis": {
           "colorbar": {
            "outlinewidth": 1,
            "tickcolor": "rgb(36,36,36)",
            "ticks": "outside"
           }
          },
          "colorscale": {
           "diverging": [
            [
             0,
             "rgb(103,0,31)"
            ],
            [
             0.1,
             "rgb(178,24,43)"
            ],
            [
             0.2,
             "rgb(214,96,77)"
            ],
            [
             0.3,
             "rgb(244,165,130)"
            ],
            [
             0.4,
             "rgb(253,219,199)"
            ],
            [
             0.5,
             "rgb(247,247,247)"
            ],
            [
             0.6,
             "rgb(209,229,240)"
            ],
            [
             0.7,
             "rgb(146,197,222)"
            ],
            [
             0.8,
             "rgb(67,147,195)"
            ],
            [
             0.9,
             "rgb(33,102,172)"
            ],
            [
             1,
             "rgb(5,48,97)"
            ]
           ],
           "sequential": [
            [
             0,
             "#440154"
            ],
            [
             0.1111111111111111,
             "#482878"
            ],
            [
             0.2222222222222222,
             "#3e4989"
            ],
            [
             0.3333333333333333,
             "#31688e"
            ],
            [
             0.4444444444444444,
             "#26828e"
            ],
            [
             0.5555555555555556,
             "#1f9e89"
            ],
            [
             0.6666666666666666,
             "#35b779"
            ],
            [
             0.7777777777777778,
             "#6ece58"
            ],
            [
             0.8888888888888888,
             "#b5de2b"
            ],
            [
             1,
             "#fde725"
            ]
           ],
           "sequentialminus": [
            [
             0,
             "#440154"
            ],
            [
             0.1111111111111111,
             "#482878"
            ],
            [
             0.2222222222222222,
             "#3e4989"
            ],
            [
             0.3333333333333333,
             "#31688e"
            ],
            [
             0.4444444444444444,
             "#26828e"
            ],
            [
             0.5555555555555556,
             "#1f9e89"
            ],
            [
             0.6666666666666666,
             "#35b779"
            ],
            [
             0.7777777777777778,
             "#6ece58"
            ],
            [
             0.8888888888888888,
             "#b5de2b"
            ],
            [
             1,
             "#fde725"
            ]
           ]
          },
          "colorway": [
           "#1F77B4",
           "#FF7F0E",
           "#2CA02C",
           "#D62728",
           "#9467BD",
           "#8C564B",
           "#E377C2",
           "#7F7F7F",
           "#BCBD22",
           "#17BECF"
          ],
          "font": {
           "color": "rgb(36,36,36)"
          },
          "geo": {
           "bgcolor": "white",
           "lakecolor": "white",
           "landcolor": "white",
           "showlakes": true,
           "showland": true,
           "subunitcolor": "white"
          },
          "hoverlabel": {
           "align": "left"
          },
          "hovermode": "closest",
          "mapbox": {
           "style": "light"
          },
          "paper_bgcolor": "white",
          "plot_bgcolor": "white",
          "polar": {
           "angularaxis": {
            "gridcolor": "rgb(232,232,232)",
            "linecolor": "rgb(36,36,36)",
            "showgrid": false,
            "showline": true,
            "ticks": "outside"
           },
           "bgcolor": "white",
           "radialaxis": {
            "gridcolor": "rgb(232,232,232)",
            "linecolor": "rgb(36,36,36)",
            "showgrid": false,
            "showline": true,
            "ticks": "outside"
           }
          },
          "scene": {
           "xaxis": {
            "backgroundcolor": "white",
            "gridcolor": "rgb(232,232,232)",
            "gridwidth": 2,
            "linecolor": "rgb(36,36,36)",
            "showbackground": true,
            "showgrid": false,
            "showline": true,
            "ticks": "outside",
            "zeroline": false,
            "zerolinecolor": "rgb(36,36,36)"
           },
           "yaxis": {
            "backgroundcolor": "white",
            "gridcolor": "rgb(232,232,232)",
            "gridwidth": 2,
            "linecolor": "rgb(36,36,36)",
            "showbackground": true,
            "showgrid": false,
            "showline": true,
            "ticks": "outside",
            "zeroline": false,
            "zerolinecolor": "rgb(36,36,36)"
           },
           "zaxis": {
            "backgroundcolor": "white",
            "gridcolor": "rgb(232,232,232)",
            "gridwidth": 2,
            "linecolor": "rgb(36,36,36)",
            "showbackground": true,
            "showgrid": false,
            "showline": true,
            "ticks": "outside",
            "zeroline": false,
            "zerolinecolor": "rgb(36,36,36)"
           }
          },
          "shapedefaults": {
           "fillcolor": "black",
           "line": {
            "width": 0
           },
           "opacity": 0.3
          },
          "ternary": {
           "aaxis": {
            "gridcolor": "rgb(232,232,232)",
            "linecolor": "rgb(36,36,36)",
            "showgrid": false,
            "showline": true,
            "ticks": "outside"
           },
           "baxis": {
            "gridcolor": "rgb(232,232,232)",
            "linecolor": "rgb(36,36,36)",
            "showgrid": false,
            "showline": true,
            "ticks": "outside"
           },
           "bgcolor": "white",
           "caxis": {
            "gridcolor": "rgb(232,232,232)",
            "linecolor": "rgb(36,36,36)",
            "showgrid": false,
            "showline": true,
            "ticks": "outside"
           }
          },
          "title": {
           "x": 0.05
          },
          "xaxis": {
           "automargin": true,
           "gridcolor": "rgb(232,232,232)",
           "linecolor": "rgb(36,36,36)",
           "showgrid": false,
           "showline": true,
           "ticks": "outside",
           "title": {
            "standoff": 15
           },
           "zeroline": false,
           "zerolinecolor": "rgb(36,36,36)"
          },
          "yaxis": {
           "automargin": true,
           "gridcolor": "rgb(232,232,232)",
           "linecolor": "rgb(36,36,36)",
           "showgrid": false,
           "showline": true,
           "ticks": "outside",
           "title": {
            "standoff": 15
           },
           "zeroline": false,
           "zerolinecolor": "rgb(36,36,36)"
          }
         }
        },
        "xaxis": {
         "anchor": "y",
         "domain": [
          0,
          1
         ],
         "title": {
          "text": "Price"
         }
        },
        "yaxis": {
         "anchor": "x",
         "domain": [
          0,
          1
         ],
         "title": {
          "text": "Reviews"
         }
        }
       }
      },
      "text/html": [
       "<div>                            <div id=\"70b88586-b3f6-47b8-9075-de9d409b28aa\" class=\"plotly-graph-div\" style=\"height:525px; width:100%;\"></div>            <script type=\"text/javascript\">                require([\"plotly\"], function(Plotly) {                    window.PLOTLYENV=window.PLOTLYENV || {};                                    if (document.getElementById(\"70b88586-b3f6-47b8-9075-de9d409b28aa\")) {                    Plotly.newPlot(                        \"70b88586-b3f6-47b8-9075-de9d409b28aa\",                        [{\"marker\": {\"color\": \"salmon\"}, \"mode\": \"markers\", \"type\": \"scattergl\", \"x\": [8, 22, 15, 6, 12, 11, 30, 15, 3, 8, 2, 32, 5, 17, 4, 6, 6, 8, 13, 14, 13, 9, 13, 5, 9, 14, 5, 11, 24, 21, 11, 15, 13, 18, 13, 8, 5, 0, 4, 18, 28, 11, 16, 14, 8, 4, 5, 11, 10, 13, 4, 8, 4, 5, 17, 15, 105, 0, 15, 22, 5, 15, 6, 6, 13, 12, 6, 8, 4, 8, 8, 6, 20, 5, 16, 1, 14, 9, 7, 18, 15, 9, 8, 15, 2, 7, 11, 14, 32, 6, 4, 9, 0, 9, 5, 20, 16, 4, 12, 12, 11, 19, 9, 6, 9, 6, 14, 5, 7, 10, 14, 7, 54, 11, 30, 12, 18, 30, 22, 9, 52, 4, 10, 14, 22, 11, 16, 15, 17, 17, 7, 7, 4, 9, 21, 14, 20, 13, 12, 8, 0, 12, 17, 12, 25, 10, 6, 5, 6, 8, 4, 13, 4, 13, 21, 6, 15, 18, 10, 0, 12, 7, 13, 5, 16, 20, 11, 27, 8, 6, 10, 8, 16, 11, 10, 9, 14, 22, 8, 7, 12, 13, 9, 13, 11, 20, 5, 2, 27, 9, 10, 46, 4, 7, 9, 12, 12, 12, 20, 10, 6, 9, 11, 16, 6, 25, 17, 20, 6, 17, 18, 13, 18, 20, 22, 21, 28, 8, 12, 16, 39, 9, 10, 17, 11, 14, 12, 53, 6, 8, 12, 12, 21, 6, 13, 0, 11, 9, 15, 11, 7, 6, 9, 6, 0, 7, 14, 9, 16, 2, 5, 20, 7, 14, 10, 7, 13, 11, 7, 14, 14, 8, 30, 9, 7, 9, 7, 20, 13, 11, 18, 14, 19, 13, 5, 10, 9, 8, 8, 12, 11, 40, 36, 16, 17, 14, 21, 18, 17, 5, 21, 18, 18, 12, 14, 12, 8, 0, 14, 10, 15, 9, 7, 10, 6, 9, 10, 82, 12, 10, 5, 16, 10, 4, 16, 15, 19, 9, 23, 11, 23, 12, 7, 21, 21, 15, 9, 5, 13, 20, 11, 4, 9, 42, 12, 18, 17, 14, 13, 9, 6, 14, 15, 13, 12, 18, 15, 11, 9, 8, 8], \"y\": [17350, 2052, 18979, 21424, 7665, 12643, 19735, 19699, 5983, 23848, 460, 4149, 5153, 5013, 2313, 2925, 2951, 2426, 9198, 36348, 6310, 15921, 12159, 798, 9374, 491, 5360, 1909, 1296, 615, 61133, 11113, 10070, 3729, 9769, 471, 14344, 4505, 10369, 16244, 2884, 22614, 4761, 1542, 6143, 4022, 3871, 4866, 1329, 4642, 1541, 1924, 2094, 10922, 2137, 1651, 6679, 6812, 3837, 6540, 7955, 27098, 17684, 37, 15845, 3181, 5062, 4786, 7235, 12619, 9089, 5470, 5118, 2134, 2525, 720, 956, 6346, 5505, 5505, 28729, 5413, 10721, 4370, 6042, 23631, 20262, 47265, 13964, 13677, 17323, 1555, 3642, 1215, 5594, 408, 4799, 14038, 7660, 22288, 1365, 14982, 9568, 1636, 57271, 10141, 3457, 8837, 7038, 5972, 25624, 5476, 5867, 4148, 19622, 23973, 7758, 3146, 10052, 3564, 13471, 1930, 15779, 15526, 3776, 25001, 5272, 3490, 2812, 4896, 9737, 1320, 16643, 7153, 4571, 29651, 5299, 7396, 7062, 19576, 978, 4748, 8393, 11391, 8634, 9342, 10927, 5235, 8916, 2507, 3673, 11881, 6990, 6132, 3014, 7550, 3828, 2752, 1467, 1884, 25706, 8491, 1649, 18613, 9867, 1386, 10199, 2926, 17739, 3113, 5542, 26741, 5347, 7866, 5680, 5178, 8093, 3192, 21834, 6169, 4519, 3163, 1831, 18904, 21930, 10426, 10820, 548, 16990, 3503, 13616, 8580, 4757, 10009, 1985, 22536, 7150, 3836, 7802, 3619, 23047, 9366, 1265, 3923, 2272, 973, 220, 7827, 9382, 5069, 1583, 1907, 23114, 637, 2314, 4587, 3477, 25554, 1680, 4725, 35799, 2580, 11813, 3536, 6600, 1789, 12361, 858, 23148, 8081, 23358, 9372, 4633, 13061, 3523, 2774, 440, 8922, 2023, 1859, 50482, 3207, 803, 23308, 5836, 79446, 7747, 7251, 7251, 10559, 5249, 33844, 11616, 13609, 8587, 29442, 11098, 9947, 13871, 6982, 32122, 32122, 16949, 9289, 7368, 4028, 4628, 5396, 4247, 22641, 6222, 4506, 8747, 1655, 7861, 6247, 39459, 10101, 5898, 2744, 49288, 1201, 807, 3759, 2663, 3428, 2876, 3601, 7058, 9784, 10795, 10191, 14493, 2186, 1204, 2091, 19720, 2122, 27536, 4290, 26490, 5487, 6377, 1463, 3759, 3503, 11550, 3801, 3796, 9030, 19546, 7508, 8842, 30183, 6169, 7034, 11034, 7932, 1904, 3319, 11128, 5977, 26234, 4360, 2282, 438, 11676, 2586, 29673, 6740, 5956, 6108, 4585, 3829, 8958, 5492, 9292, 1873, 8170, 3341, 7497, 13779, 87841, 9967, 6669, 17044, 10760, 1302, 21625, 9413, 14331]}],                        {\"font\": {\"color\": \"black\", \"family\": \"Arial\", \"size\": 12}, \"showlegend\": false, \"template\": {\"data\": {\"bar\": [{\"error_x\": {\"color\": \"rgb(36,36,36)\"}, \"error_y\": {\"color\": \"rgb(36,36,36)\"}, \"marker\": {\"line\": {\"color\": \"white\", \"width\": 0.5}}, \"type\": \"bar\"}], \"barpolar\": [{\"marker\": {\"line\": {\"color\": \"white\", \"width\": 0.5}}, \"type\": \"barpolar\"}], \"carpet\": [{\"aaxis\": {\"endlinecolor\": \"rgb(36,36,36)\", \"gridcolor\": \"white\", \"linecolor\": \"white\", \"minorgridcolor\": \"white\", \"startlinecolor\": \"rgb(36,36,36)\"}, \"baxis\": {\"endlinecolor\": \"rgb(36,36,36)\", \"gridcolor\": \"white\", \"linecolor\": \"white\", \"minorgridcolor\": \"white\", \"startlinecolor\": \"rgb(36,36,36)\"}, \"type\": \"carpet\"}], \"choropleth\": [{\"colorbar\": {\"outlinewidth\": 1, \"tickcolor\": \"rgb(36,36,36)\", \"ticks\": \"outside\"}, \"type\": \"choropleth\"}], \"contour\": [{\"colorbar\": {\"outlinewidth\": 1, \"tickcolor\": \"rgb(36,36,36)\", \"ticks\": \"outside\"}, \"colorscale\": [[0.0, \"#440154\"], [0.1111111111111111, \"#482878\"], [0.2222222222222222, \"#3e4989\"], [0.3333333333333333, \"#31688e\"], [0.4444444444444444, \"#26828e\"], [0.5555555555555556, \"#1f9e89\"], [0.6666666666666666, \"#35b779\"], [0.7777777777777778, \"#6ece58\"], [0.8888888888888888, \"#b5de2b\"], [1.0, \"#fde725\"]], \"type\": \"contour\"}], \"contourcarpet\": [{\"colorbar\": {\"outlinewidth\": 1, \"tickcolor\": \"rgb(36,36,36)\", \"ticks\": \"outside\"}, \"type\": \"contourcarpet\"}], \"heatmap\": [{\"colorbar\": {\"outlinewidth\": 1, \"tickcolor\": \"rgb(36,36,36)\", \"ticks\": \"outside\"}, \"colorscale\": [[0.0, \"#440154\"], [0.1111111111111111, \"#482878\"], [0.2222222222222222, \"#3e4989\"], [0.3333333333333333, \"#31688e\"], [0.4444444444444444, \"#26828e\"], [0.5555555555555556, \"#1f9e89\"], [0.6666666666666666, \"#35b779\"], [0.7777777777777778, \"#6ece58\"], [0.8888888888888888, \"#b5de2b\"], [1.0, \"#fde725\"]], \"type\": \"heatmap\"}], \"heatmapgl\": [{\"colorbar\": {\"outlinewidth\": 1, \"tickcolor\": \"rgb(36,36,36)\", \"ticks\": \"outside\"}, \"colorscale\": [[0.0, \"#440154\"], [0.1111111111111111, \"#482878\"], [0.2222222222222222, \"#3e4989\"], [0.3333333333333333, \"#31688e\"], [0.4444444444444444, \"#26828e\"], [0.5555555555555556, \"#1f9e89\"], [0.6666666666666666, \"#35b779\"], [0.7777777777777778, \"#6ece58\"], [0.8888888888888888, \"#b5de2b\"], [1.0, \"#fde725\"]], \"type\": \"heatmapgl\"}], \"histogram\": [{\"marker\": {\"line\": {\"color\": \"white\", \"width\": 0.6}}, \"type\": \"histogram\"}], \"histogram2d\": [{\"colorbar\": {\"outlinewidth\": 1, \"tickcolor\": \"rgb(36,36,36)\", \"ticks\": \"outside\"}, \"colorscale\": [[0.0, \"#440154\"], [0.1111111111111111, \"#482878\"], [0.2222222222222222, \"#3e4989\"], [0.3333333333333333, \"#31688e\"], [0.4444444444444444, \"#26828e\"], [0.5555555555555556, \"#1f9e89\"], [0.6666666666666666, \"#35b779\"], [0.7777777777777778, \"#6ece58\"], [0.8888888888888888, \"#b5de2b\"], [1.0, \"#fde725\"]], \"type\": \"histogram2d\"}], \"histogram2dcontour\": [{\"colorbar\": {\"outlinewidth\": 1, \"tickcolor\": \"rgb(36,36,36)\", \"ticks\": \"outside\"}, \"colorscale\": [[0.0, \"#440154\"], [0.1111111111111111, \"#482878\"], [0.2222222222222222, \"#3e4989\"], [0.3333333333333333, \"#31688e\"], [0.4444444444444444, \"#26828e\"], [0.5555555555555556, \"#1f9e89\"], [0.6666666666666666, \"#35b779\"], [0.7777777777777778, \"#6ece58\"], [0.8888888888888888, \"#b5de2b\"], [1.0, \"#fde725\"]], \"type\": \"histogram2dcontour\"}], \"mesh3d\": [{\"colorbar\": {\"outlinewidth\": 1, \"tickcolor\": \"rgb(36,36,36)\", \"ticks\": \"outside\"}, \"type\": \"mesh3d\"}], \"parcoords\": [{\"line\": {\"colorbar\": {\"outlinewidth\": 1, \"tickcolor\": \"rgb(36,36,36)\", \"ticks\": \"outside\"}}, \"type\": \"parcoords\"}], \"pie\": [{\"automargin\": true, \"type\": \"pie\"}], \"scatter\": [{\"marker\": {\"colorbar\": {\"outlinewidth\": 1, \"tickcolor\": \"rgb(36,36,36)\", \"ticks\": \"outside\"}}, \"type\": \"scatter\"}], \"scatter3d\": [{\"line\": {\"colorbar\": {\"outlinewidth\": 1, \"tickcolor\": \"rgb(36,36,36)\", \"ticks\": \"outside\"}}, \"marker\": {\"colorbar\": {\"outlinewidth\": 1, \"tickcolor\": \"rgb(36,36,36)\", \"ticks\": \"outside\"}}, \"type\": \"scatter3d\"}], \"scattercarpet\": [{\"marker\": {\"colorbar\": {\"outlinewidth\": 1, \"tickcolor\": \"rgb(36,36,36)\", \"ticks\": \"outside\"}}, \"type\": \"scattercarpet\"}], \"scattergeo\": [{\"marker\": {\"colorbar\": {\"outlinewidth\": 1, \"tickcolor\": \"rgb(36,36,36)\", \"ticks\": \"outside\"}}, \"type\": \"scattergeo\"}], \"scattergl\": [{\"marker\": {\"colorbar\": {\"outlinewidth\": 1, \"tickcolor\": \"rgb(36,36,36)\", \"ticks\": \"outside\"}}, \"type\": \"scattergl\"}], \"scattermapbox\": [{\"marker\": {\"colorbar\": {\"outlinewidth\": 1, \"tickcolor\": \"rgb(36,36,36)\", \"ticks\": \"outside\"}}, \"type\": \"scattermapbox\"}], \"scatterpolar\": [{\"marker\": {\"colorbar\": {\"outlinewidth\": 1, \"tickcolor\": \"rgb(36,36,36)\", \"ticks\": \"outside\"}}, \"type\": \"scatterpolar\"}], \"scatterpolargl\": [{\"marker\": {\"colorbar\": {\"outlinewidth\": 1, \"tickcolor\": \"rgb(36,36,36)\", \"ticks\": \"outside\"}}, \"type\": \"scatterpolargl\"}], \"scatterternary\": [{\"marker\": {\"colorbar\": {\"outlinewidth\": 1, \"tickcolor\": \"rgb(36,36,36)\", \"ticks\": \"outside\"}}, \"type\": \"scatterternary\"}], \"surface\": [{\"colorbar\": {\"outlinewidth\": 1, \"tickcolor\": \"rgb(36,36,36)\", \"ticks\": \"outside\"}, \"colorscale\": [[0.0, \"#440154\"], [0.1111111111111111, \"#482878\"], [0.2222222222222222, \"#3e4989\"], [0.3333333333333333, \"#31688e\"], [0.4444444444444444, \"#26828e\"], [0.5555555555555556, \"#1f9e89\"], [0.6666666666666666, \"#35b779\"], [0.7777777777777778, \"#6ece58\"], [0.8888888888888888, \"#b5de2b\"], [1.0, \"#fde725\"]], \"type\": \"surface\"}], \"table\": [{\"cells\": {\"fill\": {\"color\": \"rgb(237,237,237)\"}, \"line\": {\"color\": \"white\"}}, \"header\": {\"fill\": {\"color\": \"rgb(217,217,217)\"}, \"line\": {\"color\": \"white\"}}, \"type\": \"table\"}]}, \"layout\": {\"annotationdefaults\": {\"arrowhead\": 0, \"arrowwidth\": 1}, \"autotypenumbers\": \"strict\", \"coloraxis\": {\"colorbar\": {\"outlinewidth\": 1, \"tickcolor\": \"rgb(36,36,36)\", \"ticks\": \"outside\"}}, \"colorscale\": {\"diverging\": [[0.0, \"rgb(103,0,31)\"], [0.1, \"rgb(178,24,43)\"], [0.2, \"rgb(214,96,77)\"], [0.3, \"rgb(244,165,130)\"], [0.4, \"rgb(253,219,199)\"], [0.5, \"rgb(247,247,247)\"], [0.6, \"rgb(209,229,240)\"], [0.7, \"rgb(146,197,222)\"], [0.8, \"rgb(67,147,195)\"], [0.9, \"rgb(33,102,172)\"], [1.0, \"rgb(5,48,97)\"]], \"sequential\": [[0.0, \"#440154\"], [0.1111111111111111, \"#482878\"], [0.2222222222222222, \"#3e4989\"], [0.3333333333333333, \"#31688e\"], [0.4444444444444444, \"#26828e\"], [0.5555555555555556, \"#1f9e89\"], [0.6666666666666666, \"#35b779\"], [0.7777777777777778, \"#6ece58\"], [0.8888888888888888, \"#b5de2b\"], [1.0, \"#fde725\"]], \"sequentialminus\": [[0.0, \"#440154\"], [0.1111111111111111, \"#482878\"], [0.2222222222222222, \"#3e4989\"], [0.3333333333333333, \"#31688e\"], [0.4444444444444444, \"#26828e\"], [0.5555555555555556, \"#1f9e89\"], [0.6666666666666666, \"#35b779\"], [0.7777777777777778, \"#6ece58\"], [0.8888888888888888, \"#b5de2b\"], [1.0, \"#fde725\"]]}, \"colorway\": [\"#1F77B4\", \"#FF7F0E\", \"#2CA02C\", \"#D62728\", \"#9467BD\", \"#8C564B\", \"#E377C2\", \"#7F7F7F\", \"#BCBD22\", \"#17BECF\"], \"font\": {\"color\": \"rgb(36,36,36)\"}, \"geo\": {\"bgcolor\": \"white\", \"lakecolor\": \"white\", \"landcolor\": \"white\", \"showlakes\": true, \"showland\": true, \"subunitcolor\": \"white\"}, \"hoverlabel\": {\"align\": \"left\"}, \"hovermode\": \"closest\", \"mapbox\": {\"style\": \"light\"}, \"paper_bgcolor\": \"white\", \"plot_bgcolor\": \"white\", \"polar\": {\"angularaxis\": {\"gridcolor\": \"rgb(232,232,232)\", \"linecolor\": \"rgb(36,36,36)\", \"showgrid\": false, \"showline\": true, \"ticks\": \"outside\"}, \"bgcolor\": \"white\", \"radialaxis\": {\"gridcolor\": \"rgb(232,232,232)\", \"linecolor\": \"rgb(36,36,36)\", \"showgrid\": false, \"showline\": true, \"ticks\": \"outside\"}}, \"scene\": {\"xaxis\": {\"backgroundcolor\": \"white\", \"gridcolor\": \"rgb(232,232,232)\", \"gridwidth\": 2, \"linecolor\": \"rgb(36,36,36)\", \"showbackground\": true, \"showgrid\": false, \"showline\": true, \"ticks\": \"outside\", \"zeroline\": false, \"zerolinecolor\": \"rgb(36,36,36)\"}, \"yaxis\": {\"backgroundcolor\": \"white\", \"gridcolor\": \"rgb(232,232,232)\", \"gridwidth\": 2, \"linecolor\": \"rgb(36,36,36)\", \"showbackground\": true, \"showgrid\": false, \"showline\": true, \"ticks\": \"outside\", \"zeroline\": false, \"zerolinecolor\": \"rgb(36,36,36)\"}, \"zaxis\": {\"backgroundcolor\": \"white\", \"gridcolor\": \"rgb(232,232,232)\", \"gridwidth\": 2, \"linecolor\": \"rgb(36,36,36)\", \"showbackground\": true, \"showgrid\": false, \"showline\": true, \"ticks\": \"outside\", \"zeroline\": false, \"zerolinecolor\": \"rgb(36,36,36)\"}}, \"shapedefaults\": {\"fillcolor\": \"black\", \"line\": {\"width\": 0}, \"opacity\": 0.3}, \"ternary\": {\"aaxis\": {\"gridcolor\": \"rgb(232,232,232)\", \"linecolor\": \"rgb(36,36,36)\", \"showgrid\": false, \"showline\": true, \"ticks\": \"outside\"}, \"baxis\": {\"gridcolor\": \"rgb(232,232,232)\", \"linecolor\": \"rgb(36,36,36)\", \"showgrid\": false, \"showline\": true, \"ticks\": \"outside\"}, \"bgcolor\": \"white\", \"caxis\": {\"gridcolor\": \"rgb(232,232,232)\", \"linecolor\": \"rgb(36,36,36)\", \"showgrid\": false, \"showline\": true, \"ticks\": \"outside\"}}, \"title\": {\"x\": 0.05}, \"xaxis\": {\"automargin\": true, \"gridcolor\": \"rgb(232,232,232)\", \"linecolor\": \"rgb(36,36,36)\", \"showgrid\": false, \"showline\": true, \"ticks\": \"outside\", \"title\": {\"standoff\": 15}, \"zeroline\": false, \"zerolinecolor\": \"rgb(36,36,36)\"}, \"yaxis\": {\"automargin\": true, \"gridcolor\": \"rgb(232,232,232)\", \"linecolor\": \"rgb(36,36,36)\", \"showgrid\": false, \"showline\": true, \"ticks\": \"outside\", \"title\": {\"standoff\": 15}, \"zeroline\": false, \"zerolinecolor\": \"rgb(36,36,36)\"}}}, \"xaxis\": {\"anchor\": \"y\", \"domain\": [0.0, 1.0], \"title\": {\"text\": \"Price\"}}, \"yaxis\": {\"anchor\": \"x\", \"domain\": [0.0, 1.0], \"title\": {\"text\": \"Reviews\"}}},                        {\"responsive\": true}                    ).then(function(){\n",
       "                            \n",
       "var gd = document.getElementById('70b88586-b3f6-47b8-9075-de9d409b28aa');\n",
       "var x = new MutationObserver(function (mutations, observer) {{\n",
       "        var display = window.getComputedStyle(gd).display;\n",
       "        if (!display || display === 'none') {{\n",
       "            console.log([gd, 'removed!']);\n",
       "            Plotly.purge(gd);\n",
       "            observer.disconnect();\n",
       "        }}\n",
       "}});\n",
       "\n",
       "// Listen for the removal of the full notebook cells\n",
       "var notebookContainer = gd.closest('#notebook-container');\n",
       "if (notebookContainer) {{\n",
       "    x.observe(notebookContainer, {childList: true});\n",
       "}}\n",
       "\n",
       "// Listen for the clearing of the current output cell\n",
       "var outputEl = gd.closest('.output');\n",
       "if (outputEl) {{\n",
       "    x.observe(outputEl, {childList: true});\n",
       "}}\n",
       "\n",
       "                        })                };                });            </script>        </div>"
      ]
     },
     "metadata": {},
     "output_type": "display_data"
    }
   ],
   "source": [
    "# Let's set the visualization parameters\n",
    "fig_7 = make_subplots(rows=1, cols=1, specs=[[{'type': 'xy'}]])\n",
    "\n",
    "# Setting Scatter parameters\n",
    "fig_7.add_trace(go.Scattergl(x=bestseller['User Rating'],\n",
    "                             y=bestseller['Reviews'],\n",
    "                             mode='markers',\n",
    "                             marker_color='salmon'))\n",
    "\n",
    "# Setting the parameters of the Scatter when displaying\n",
    "fig_7.update_layout(template='simple_white',\n",
    "                    showlegend=False, \n",
    "                    xaxis = {'title':'User Rating'}, \n",
    "                    yaxis = {'title':'Reviews'},\n",
    "                    font=dict(family='Arial', \n",
    "                              size=12, \n",
    "                              color='black'))\n",
    "\n",
    "# Displaying the Scatter\n",
    "fig_7.show()\n",
    "\n",
    "# Let's set the visualization parameters\n",
    "fig_8 = make_subplots(rows=1, cols=1, specs=[[{'type': 'xy'}]])\n",
    "\n",
    "# Setting Scatter parameters\n",
    "fig_8.add_trace(go.Scattergl(x=bestseller['User Rating'],\n",
    "                             y=bestseller['Price'],\n",
    "                             mode='markers',\n",
    "                             marker_color='salmon'))\n",
    "\n",
    "# Setting the parameters of the Scatter when displaying\n",
    "fig_8.update_layout(template='simple_white',\n",
    "                    showlegend=False,\n",
    "                    xaxis = {'title':'User Rating'}, \n",
    "                    yaxis = {'title':'Price'},\n",
    "                    font=dict(family='Arial', \n",
    "                              size=12, \n",
    "                              color='black'))\n",
    "\n",
    "# Displaying the Scatter\n",
    "fig_8.show()\n",
    "\n",
    "# Let's set the visualization parameters\n",
    "fig_9 = make_subplots(rows=1, cols=1, specs=[[{'type': 'xy'}]])\n",
    "\n",
    "# Setting Scatter parameters\n",
    "fig_9.add_trace(go.Scattergl(x=bestseller['Price'],\n",
    "                             y=bestseller['Reviews'],\n",
    "                             mode='markers',\n",
    "                             marker_color='salmon'))\n",
    "\n",
    "# Setting the parameters of the Scatter when displaying\n",
    "fig_9.update_layout(template='simple_white',\n",
    "                    showlegend=False, \n",
    "                    xaxis = {'title':'Price'}, \n",
    "                    yaxis = {'title':'Reviews'},\n",
    "                    font=dict(family='Arial', size=12, color='black'))\n",
    "\n",
    "# Displaying the Scatter\n",
    "fig_9.show()"
   ]
  },
  {
   "cell_type": "markdown",
   "id": "86577102",
   "metadata": {},
   "source": [
    "<div style=\"background: #DCDCDC\">\n",
    "<p style=\"font-family: Arials, sans-serif; font-size: 16px; color: #000000\"><strong>INSIGHT:</strong> Based on the constructed correlation matrix as well as the constructed visualizations, it can be seen that the data does not contain any positive or negative linear relationship between the rating, reviews and the price of books.</p>\n",
    "</div>"
   ]
  },
  {
   "cell_type": "markdown",
   "id": "a6007bc9",
   "metadata": {},
   "source": [
    "<p id=\"part9\"></p>\n",
    "\n",
    "# <span style=\"font-family: Arials; font-size: 16px; font-style: bold; font-weight: bold; letter-spacing: 3px; color: #FF8C00\">3 TESTING HYPOTHESES</span>\n",
    "<hr style=\"height: 0.5px; border: 0; background-color: #808080\">\n",
    "\n",
    "<p style=\"font-family: Arials, sans-serif; font-size: 14px; color: rgba(0,0,0,.7)\">In this article, let us test the following hypothesis: \"Do genres differ in terms of rating?\".</p>\n",
    "\n",
    "<p style=\"font-family: Arials, sans-serif; font-size: 14px; color: rgba(0,0,0,.7)\"><strong>We will test the hypothesis according to the following algorithm:</strong></p>\n",
    "<ol style=\"font-family: Arials, sans-serif; font-size: 14px; line-height:1.5; color: rgba(0,0,0,.7)\">\n",
    "<li>Null and alternative hypotheses are formulated.</li>\n",
    "<p></p>\n",
    "<li>The distribution was checked for normality using \"Shapiro Wilk test of normality\".</li>\n",
    "<p></p>\n",
    "<li>Two samples were formed. Books related to the Non Fiction genre and books related to the Fiction genre.</li>\n",
    "<p></p>\n",
    "<li>Testing was carried out in order to identify statistical differences between the study groups.</li>\n",
    "<p></p>\n",
    "</ol> "
   ]
  },
  {
   "cell_type": "markdown",
   "id": "70ca8e68",
   "metadata": {},
   "source": [
    "<p style=\"font-family: Arials, sans-serif; font-size: 14px; color: rgba(0,0,0,.7)\">1. Let us formulate the null and alternative hypotheses.</p>\n",
    "<p style=\"font-family: Arials, sans-serif; font-size: 14px; color: rgba(0,0,0,.7)\">H0 - There are no differences between genre racketeering</p>\n",
    "<p style=\"font-family: Arials, sans-serif; font-size: 14px; color: rgba(0,0,0,.7)\">H1 - There are differences between genre racketeering</p>"
   ]
  },
  {
   "cell_type": "markdown",
   "id": "9797714d",
   "metadata": {},
   "source": [
    "<p style=\"font-family: Arials, sans-serif; font-size: 14px; color: rgba(0,0,0,.7)\">2. Checking the distribution for normality. Using \"Shapiro Wilk test of normality\"."
   ]
  },
  {
   "cell_type": "code",
   "execution_count": 97,
   "id": "93b8ea1b",
   "metadata": {},
   "outputs": [
    {
     "name": "stdout",
     "output_type": "stream",
     "text": [
      "Statistic: 0.877\n",
      "P-Value: 0.00000000000000040170\n",
      "Reject H0 - Data is not distributed normally.\n"
     ]
    }
   ],
   "source": [
    "# Set the alpha level\n",
    "alpha=0.05\n",
    "\n",
    "# We pass groups to the criterion for testing\n",
    "stat, pval = shapiro(bestseller['User Rating'])\n",
    "\n",
    "print('Statistic:', f'{stat:.3f}')\n",
    "print('P-Value:', f'{pval:.20f}')\n",
    "    \n",
    "# Checking the condition for accepting or rejecting H0\n",
    "if pval > alpha:\n",
    "    print('Accept H0 - Data is distributed normally.')\n",
    "if pval < alpha:\n",
    "    print('Reject H0 - Data is not distributed normally.')"
   ]
  },
  {
   "cell_type": "markdown",
   "id": "f0f7b8ec",
   "metadata": {},
   "source": [
    "<p style=\"font-family: Arials, sans-serif; font-size: 14px; color: rgba(0,0,0,.7)\">3. Let's form two samples for testing.</p>"
   ]
  },
  {
   "cell_type": "code",
   "execution_count": 99,
   "id": "130956b8",
   "metadata": {},
   "outputs": [],
   "source": [
    "# Create group\n",
    "non_fiction = bestseller[bestseller['Genre'] == 'Non Fiction']['User Rating']\n",
    "fiction = bestseller[bestseller['Genre'] == 'Fiction']['User Rating']"
   ]
  },
  {
   "cell_type": "markdown",
   "id": "c1607dc7",
   "metadata": {},
   "source": [
    "<p style=\"font-family: Arials, sans-serif; font-size: 14px; color: rgba(0,0,0,.7)\">4. Let's carry out testing. Since the nadi data in the samples are not normally distributed, we will use the nonparametric Mann-Whitney test.</p>"
   ]
  },
  {
   "cell_type": "code",
   "execution_count": 100,
   "id": "61dc17b0",
   "metadata": {},
   "outputs": [
    {
     "name": "stdout",
     "output_type": "stream",
     "text": [
      "Statistic: 13095.000\n",
      "P-Value: 0.00961324093425251248\n",
      "Reject H0 - There are significant differences between the groups.\n"
     ]
    }
   ],
   "source": [
    "# Set the alpha level\n",
    "alpha=0.05\n",
    "\n",
    "# We pass groups to the criterion for testing\n",
    "stat, pval = mannwhitneyu(non_fiction, fiction)\n",
    "\n",
    "print('Statistic:', f'{stat:.3f}')\n",
    "print('P-Value:', f'{pval:.20f}')\n",
    " \n",
    "# Checking the condition for accepting or rejecting H0\n",
    "if pval > alpha:\n",
    "    print('Accept H0 - There is no significant difference between the groups.')\n",
    "if pval < alpha:\n",
    "    print('Reject H0 - There are significant differences between the groups.')"
   ]
  },
  {
   "cell_type": "markdown",
   "id": "73f1e6d0",
   "metadata": {},
   "source": [
    "<p style=\"font-family: Arials, sans-serif; font-size: 14px; color: rgba(0,0,0,.7)\">Let's compare the median values in the groups.</p>"
   ]
  },
  {
   "cell_type": "code",
   "execution_count": 101,
   "id": "a46fc9bd",
   "metadata": {},
   "outputs": [
    {
     "name": "stdout",
     "output_type": "stream",
     "text": [
      "Non_fiction median: 4.6, Fiction median: 4.7\n"
     ]
    }
   ],
   "source": [
    "print(f'Non_fiction median: {non_fiction.median()}, Fiction median: {fiction.median()}')"
   ]
  },
  {
   "cell_type": "markdown",
   "id": "94dc2a90",
   "metadata": {},
   "source": [
    "<p style=\"font-family: Arials, sans-serif; font-size: 14px; color: rgba(0,0,0,.7)\">Visualizing the density of distribution in samples.</p>"
   ]
  },
  {
   "cell_type": "code",
   "execution_count": 102,
   "id": "b920578c",
   "metadata": {},
   "outputs": [
    {
     "data": {
      "application/vnd.plotly.v1+json": {
       "config": {
        "plotlyServerURL": "https://plot.ly"
       },
       "data": [
        {
         "autobinx": false,
         "histnorm": "probability density",
         "legendgroup": "Non_fiction",
         "marker": {
          "color": "salmon"
         },
         "name": "Non_fiction",
         "opacity": 0.7,
         "type": "histogram",
         "x": [
          4.7,
          4.7,
          4.8,
          4.7,
          4.6,
          4.6,
          4.6,
          4.5,
          4.6,
          4.4,
          4.5,
          4.8,
          4.6,
          4.6,
          4.7,
          4.2,
          4.6,
          4.6,
          4.8,
          4.7,
          4.8,
          4.8,
          4.7,
          4.7,
          4.5,
          4.6,
          4.8,
          4.5,
          4.7,
          4.7,
          4.8,
          4.8,
          4.8,
          4.4,
          4.6,
          4.6,
          4.5,
          4.6,
          4.6,
          4.6,
          4.5,
          4.5,
          4.3,
          4.5,
          4.7,
          4.7,
          4.4,
          4.2,
          4.7,
          4.4,
          4.4,
          4.5,
          4.6,
          4.6,
          4.6,
          4.6,
          4.6,
          4.6,
          4.5,
          4.6,
          4.8,
          4.9,
          4.8,
          4.7,
          4.8,
          4.7,
          4.4,
          4.8,
          4.7,
          4.3,
          4.8,
          4.9,
          4.7,
          4.8,
          4.4,
          4.4,
          4.8,
          4.9,
          4.6,
          4.5,
          4.6,
          4.7,
          4.6,
          4.6,
          4.8,
          4.8,
          4.5,
          4.6,
          4.5,
          4.5,
          4.4,
          4.8,
          4.5,
          4.2,
          4.8,
          4.5,
          4.7,
          4.8,
          4.7,
          4.4,
          4.6,
          4.8,
          4.8,
          4.7,
          4.6,
          4.9,
          4.6,
          4.5,
          4.6,
          4.7,
          4.3,
          4.5,
          4.6,
          4.7,
          4.8,
          4.8,
          4.7,
          4.7,
          4.8,
          4.1,
          4.6,
          4.6,
          4,
          4.5,
          4.6,
          4.4,
          4.3,
          4.3,
          4.7,
          4.8,
          4.8,
          4.7,
          4.6,
          4.7,
          4.2,
          4.8,
          4.7,
          4.8,
          4.7,
          4.3,
          4.8,
          4.4,
          4.1,
          4.6,
          4.6,
          4.7,
          4.7,
          4.3,
          4.7,
          4.4,
          4.5,
          4.8,
          4.9,
          4.6,
          4.4,
          4.3,
          4.8,
          4.8,
          4.8,
          4.5,
          4.4,
          4.6,
          4.6,
          4.6,
          4.7,
          4.4,
          4.7,
          4.7,
          4.6,
          4.7,
          4.7,
          4.6,
          4.5,
          4.3,
          4.6,
          4.3,
          4.6,
          4.5,
          4.8,
          4.9,
          4.8,
          4.7,
          4.6,
          4.7,
          4.4,
          4.4,
          4.8,
          4.6,
          4.4,
          4.2,
          4.7
         ],
         "xaxis": "x",
         "xbins": {
          "end": 4.9,
          "size": 0.1,
          "start": 4
         },
         "yaxis": "y"
        },
        {
         "autobinx": false,
         "histnorm": "probability density",
         "legendgroup": "Fiction",
         "marker": {
          "color": "gray"
         },
         "name": "Fiction",
         "opacity": 0.7,
         "type": "histogram",
         "x": [
          4.6,
          4.7,
          4.4,
          4.7,
          4.7,
          4.6,
          4.5,
          4.6,
          3.9,
          4.3,
          4.6,
          4.9,
          4.8,
          4.7,
          4.3,
          4.6,
          4.6,
          4.3,
          4.2,
          4.8,
          4.8,
          4.8,
          4.8,
          4.6,
          4.5,
          4.7,
          4.8,
          4.9,
          4.9,
          4.9,
          4.9,
          4.9,
          4.9,
          4.8,
          4.7,
          4.7,
          4.6,
          4.7,
          4.4,
          4.5,
          3.8,
          4.5,
          4.7,
          4.6,
          4.8,
          3.6,
          4.8,
          4,
          4.8,
          4.9,
          4.4,
          4.9,
          4,
          4.9,
          4.9,
          4.9,
          4.8,
          4.6,
          4.8,
          4.3,
          4.1,
          4.6,
          4.6,
          4.5,
          4.9,
          4.1,
          4.9,
          4.5,
          4.5,
          4.8,
          4.5,
          4.6,
          4.9,
          4.8,
          4.2,
          4.3,
          4.6,
          4.8,
          4.8,
          4.7,
          4.8,
          4.6,
          4.9,
          4.9,
          4.6,
          4.7,
          4.9,
          4.5,
          4.7,
          4.7,
          4.8,
          4.6,
          4.8,
          3.3,
          4.3,
          4.8,
          4,
          4.7,
          4.8,
          4.1,
          4.7,
          4.7,
          4.7,
          4.4,
          4.8,
          3.9,
          4.4,
          4.5,
          4.7,
          4.3,
          4.6,
          4.8,
          4.8,
          4.8,
          4.7,
          4.7,
          4.8,
          4.8,
          4.9,
          4.4,
          4.8,
          4.2,
          4.8,
          4.7,
          4.5,
          4.8,
          4.8,
          4.3,
          4.8,
          4.3,
          4.3,
          4.6,
          4.8,
          4.6,
          4.6,
          4.5,
          4.8,
          4.7,
          4.7,
          4.4,
          4.7,
          4.8,
          4.9,
          4.9,
          4.8,
          4.5,
          4.8,
          4.8,
          4.7,
          4.5,
          4.3,
          4.8,
          4.5,
          4.7,
          4.8,
          4.8,
          4.8,
          4.5,
          4.8,
          4.9
         ],
         "xaxis": "x",
         "xbins": {
          "end": 4.9,
          "size": 0.1,
          "start": 3.3
         },
         "yaxis": "y"
        },
        {
         "legendgroup": "Non_fiction",
         "marker": {
          "color": "salmon"
         },
         "mode": "lines",
         "name": "Non_fiction",
         "showlegend": false,
         "type": "scatter",
         "x": [
          4,
          4.0018,
          4.0036,
          4.0054,
          4.0072,
          4.009,
          4.0108,
          4.0126,
          4.0144,
          4.0162,
          4.018,
          4.0198,
          4.0216,
          4.0234,
          4.0252,
          4.027,
          4.0288,
          4.0306,
          4.0324,
          4.0342,
          4.036,
          4.0378,
          4.0396,
          4.0414,
          4.0432,
          4.045,
          4.0468,
          4.0486,
          4.0504,
          4.0522,
          4.054,
          4.0558,
          4.0576,
          4.0594,
          4.0612,
          4.063,
          4.0648,
          4.0666,
          4.0684000000000005,
          4.0702,
          4.072,
          4.0738,
          4.0756,
          4.0774,
          4.0792,
          4.081,
          4.0828,
          4.0846,
          4.0864,
          4.0882,
          4.09,
          4.0918,
          4.0936,
          4.0954,
          4.0972,
          4.099,
          4.1008000000000004,
          4.1026,
          4.1044,
          4.1062,
          4.108,
          4.1098,
          4.1116,
          4.1134,
          4.1152,
          4.117,
          4.1188,
          4.1206000000000005,
          4.1224,
          4.1242,
          4.126,
          4.1278,
          4.1296,
          4.1314,
          4.1332,
          4.135,
          4.1368,
          4.1386,
          4.1404,
          4.1422,
          4.144,
          4.1458,
          4.1476,
          4.1494,
          4.1512,
          4.1530000000000005,
          4.1548,
          4.1566,
          4.1584,
          4.1602,
          4.162,
          4.1638,
          4.1656,
          4.1674,
          4.1692,
          4.171,
          4.1728000000000005,
          4.1746,
          4.1764,
          4.1782,
          4.18,
          4.1818,
          4.1836,
          4.1854000000000005,
          4.1872,
          4.189,
          4.1908,
          4.1926,
          4.1944,
          4.1962,
          4.198,
          4.1998,
          4.2016,
          4.2034,
          4.2052000000000005,
          4.207,
          4.2088,
          4.2106,
          4.2124,
          4.2142,
          4.216,
          4.2178,
          4.2196,
          4.2214,
          4.2232,
          4.225,
          4.2268,
          4.2286,
          4.2304,
          4.2322,
          4.234,
          4.2358,
          4.2376000000000005,
          4.2394,
          4.2412,
          4.243,
          4.2448,
          4.2466,
          4.2484,
          4.2502,
          4.252,
          4.2538,
          4.2556,
          4.2574000000000005,
          4.2592,
          4.261,
          4.2628,
          4.2646,
          4.2664,
          4.2682,
          4.2700000000000005,
          4.2718,
          4.2736,
          4.2754,
          4.277200000000001,
          4.279,
          4.2808,
          4.2826,
          4.2844,
          4.2862,
          4.288,
          4.2898000000000005,
          4.2916,
          4.2934,
          4.2952,
          4.297,
          4.2988,
          4.3006,
          4.3024000000000004,
          4.3042,
          4.306,
          4.3078,
          4.3096000000000005,
          4.3114,
          4.3132,
          4.315,
          4.3168,
          4.3186,
          4.3204,
          4.3222000000000005,
          4.324,
          4.3258,
          4.3276,
          4.3294,
          4.3312,
          4.333,
          4.3348,
          4.3366,
          4.3384,
          4.3402,
          4.3420000000000005,
          4.3438,
          4.3456,
          4.3474,
          4.3492,
          4.351,
          4.3528,
          4.3546000000000005,
          4.3564,
          4.3582,
          4.36,
          4.361800000000001,
          4.3636,
          4.3654,
          4.3672,
          4.369,
          4.3708,
          4.3726,
          4.3744000000000005,
          4.3762,
          4.378,
          4.3798,
          4.381600000000001,
          4.3834,
          4.3852,
          4.3870000000000005,
          4.3888,
          4.3906,
          4.3924,
          4.3942000000000005,
          4.396,
          4.3978,
          4.3996,
          4.4014,
          4.4032,
          4.405,
          4.4068000000000005,
          4.4086,
          4.4104,
          4.4122,
          4.414,
          4.4158,
          4.4176,
          4.4194,
          4.4212,
          4.423,
          4.4248,
          4.4266000000000005,
          4.4284,
          4.4302,
          4.432,
          4.4338,
          4.4356,
          4.4374,
          4.4392000000000005,
          4.441,
          4.4428,
          4.4446,
          4.446400000000001,
          4.4482,
          4.45,
          4.4518,
          4.4536,
          4.4554,
          4.4572,
          4.4590000000000005,
          4.4608,
          4.4626,
          4.4644,
          4.466200000000001,
          4.468,
          4.4698,
          4.4716000000000005,
          4.4734,
          4.4752,
          4.477,
          4.478800000000001,
          4.4806,
          4.4824,
          4.4842,
          4.486,
          4.4878,
          4.4896,
          4.4914000000000005,
          4.4932,
          4.495,
          4.4968,
          4.498600000000001,
          4.5004,
          4.5022,
          4.5040000000000004,
          4.5058,
          4.5076,
          4.5094,
          4.5112000000000005,
          4.513,
          4.5148,
          4.5166,
          4.5184,
          4.5202,
          4.522,
          4.5238000000000005,
          4.525600000000001,
          4.5274,
          4.5292,
          4.531000000000001,
          4.5328,
          4.5346,
          4.5364,
          4.5382,
          4.54,
          4.5418,
          4.5436000000000005,
          4.5454,
          4.5472,
          4.549,
          4.550800000000001,
          4.5526,
          4.5544,
          4.5562000000000005,
          4.558,
          4.5598,
          4.5616,
          4.563400000000001,
          4.5652,
          4.567,
          4.5688,
          4.570600000000001,
          4.5724,
          4.5742,
          4.5760000000000005,
          4.5778,
          4.5796,
          4.5814,
          4.583200000000001,
          4.585,
          4.5868,
          4.5886000000000005,
          4.590400000000001,
          4.5922,
          4.594,
          4.5958000000000006,
          4.5976,
          4.5994,
          4.6012,
          4.603,
          4.6048,
          4.6066,
          4.6084000000000005,
          4.610200000000001,
          4.612,
          4.6138,
          4.615600000000001,
          4.6174,
          4.6192,
          4.621,
          4.6228,
          4.6246,
          4.6264,
          4.6282000000000005,
          4.63,
          4.6318,
          4.6336,
          4.635400000000001,
          4.6372,
          4.639,
          4.6408000000000005,
          4.6426,
          4.6444,
          4.6462,
          4.648000000000001,
          4.6498,
          4.6516,
          4.6534,
          4.655200000000001,
          4.657,
          4.6588,
          4.6606000000000005,
          4.6624,
          4.6642,
          4.666,
          4.667800000000001,
          4.6696,
          4.6714,
          4.6732000000000005,
          4.675000000000001,
          4.6768,
          4.6786,
          4.680400000000001,
          4.6822,
          4.684,
          4.6858,
          4.6876,
          4.6894,
          4.6912,
          4.6930000000000005,
          4.694800000000001,
          4.6966,
          4.6984,
          4.700200000000001,
          4.702,
          4.7038,
          4.7056000000000004,
          4.707400000000001,
          4.7092,
          4.711,
          4.7128000000000005,
          4.7146,
          4.7164,
          4.7182,
          4.720000000000001,
          4.7218,
          4.7236,
          4.7254000000000005,
          4.7272,
          4.729,
          4.7308,
          4.732600000000001,
          4.7344,
          4.7362,
          4.738,
          4.739800000000001,
          4.7416,
          4.7434,
          4.7452000000000005,
          4.747,
          4.7488,
          4.7506,
          4.752400000000001,
          4.7542,
          4.756,
          4.7578000000000005,
          4.759600000000001,
          4.7614,
          4.7632,
          4.765000000000001,
          4.7668,
          4.7686,
          4.7704,
          4.7722,
          4.774,
          4.7758,
          4.7776000000000005,
          4.779400000000001,
          4.7812,
          4.783,
          4.784800000000001,
          4.7866,
          4.7884,
          4.7902000000000005,
          4.792000000000001,
          4.7938,
          4.7956,
          4.7974000000000006,
          4.7992,
          4.801,
          4.8028,
          4.804600000000001,
          4.8064,
          4.8082,
          4.8100000000000005,
          4.8118,
          4.8136,
          4.8154,
          4.817200000000001,
          4.819000000000001,
          4.8208,
          4.8226,
          4.824400000000001,
          4.8262,
          4.828,
          4.8298000000000005,
          4.8316,
          4.8334,
          4.8352,
          4.837000000000001,
          4.8388,
          4.8406,
          4.8424000000000005,
          4.844200000000001,
          4.846,
          4.8478,
          4.849600000000001,
          4.8514,
          4.8532,
          4.855,
          4.856800000000001,
          4.8586,
          4.8604,
          4.8622000000000005,
          4.864000000000001,
          4.8658,
          4.8676,
          4.869400000000001,
          4.8712,
          4.873,
          4.8748000000000005,
          4.876600000000001,
          4.8784,
          4.8802,
          4.882000000000001,
          4.8838,
          4.8856,
          4.8874,
          4.889200000000001,
          4.891,
          4.8928,
          4.8946000000000005,
          4.8964,
          4.8982
         ],
         "xaxis": "x",
         "y": [
          0.05298155836594475,
          0.0539308889433304,
          0.05488436777609619,
          0.055842290372769006,
          0.05680497768093594,
          0.05777277459185795,
          0.058746048378282026,
          0.05972518708244134,
          0.060710597871564125,
          0.061702705378341764,
          0.06270195004372937,
          0.06370878647916642,
          0.06472368186480773,
          0.06574711439967508,
          0.06677957181871876,
          0.06782154999070111,
          0.06887355160954112,
          0.06993608499030181,
          0.07100966297940674,
          0.0720948019869342,
          0.07319202114697393,
          0.0743018416100766,
          0.07542478596978779,
          0.07656137782318738,
          0.07771214146324314,
          0.07887760169868929,
          0.08005828379506388,
          0.08125471352853632,
          0.08246741734223015,
          0.08369692259293571,
          0.08494375787443219,
          0.08620845340216293,
          0.08749154144266927,
          0.08879355677011572,
          0.09011503713137724,
          0.09145652370054776,
          0.09281856150338758,
          0.09420169979217573,
          0.09560649235165916,
          0.09703349771730661,
          0.09848327928788736,
          0.09995640531550973,
          0.10145344875764374,
          0.10297498697731047,
          0.10452160127955056,
          0.1060938762744543,
          0.1076923990594258,
          0.10931775821593244,
          0.11097054261873317,
          0.11265134005847384,
          0.11436073568152111,
          0.11609931025392314,
          0.11786763825948723,
          0.11966628584499321,
          0.12149580862854426,
          0.12335674938996027,
          0.1252496356648616,
          0.12717497726664012,
          0.12913326376284925,
          0.13112496193462325,
          0.13315051324950147,
          0.13521033137946362,
          0.13730479979704152,
          0.13943426948307125,
          0.14159905677989595,
          0.14379944142366508,
          0.1460356647887547,
          0.1483079283762703,
          0.15061639257708515,
          0.15296117573788073,
          0.15534235355623682,
          0.15775995882802527,
          0.16021398156707917,
          0.16270436951352393,
          0.1652310290432189,
          0.16779382648648325,
          0.17039258985978006,
          0.17302711100932835,
          0.17569714816073712,
          0.17840242886378344,
          0.18114265331643686,
          0.18391749804727223,
          0.18672661993049547,
          0.18956966050306498,
          0.1924462505488412,
          0.1953560149104611,
          0.19829857748571597,
          0.2012735663616784,
          0.20428061903676395,
          0.2073193876783921,
          0.21038954436186347,
          0.2134907862346952,
          0.2166228405498881,
          0.21978546951146985,
          0.22297847487622127,
          0.22620170225676114,
          0.22945504507312353,
          0.23273844810258254,
          0.23605191058081437,
          0.2393954888114507,
          0.2427692982457054,
          0.24617351499890017,
          0.2496083767764424,
          0.253074183188013,
          0.25657129543532203,
          0.26010013536573423,
          0.26366118389125986,
          0.26725497877983095,
          0.27088211183325106,
          0.2745432254736611,
          0.27823900876780844,
          0.28197019292557096,
          0.2857375463161054,
          0.2895418690515523,
          0.2933839871943001,
          0.2972647466493008,
          0.3011850068078245,
          0.30514563401316747,
          0.3091474949222445,
          0.31319144983942576,
          0.31727834610064437,
          0.32140901158641333,
          0.32558424844210515,
          0.3298048270824725,
          0.33407148055505337,
          0.3383848993337891,
          0.34274572660982894,
          0.3471545541411575,
          0.35161191871655767,
          0.3561182992822798,
          0.3606741147719413,
          0.3652797226716369,
          0.36993541834304,
          0.3746414351175547,
          0.37939794516447034,
          0.3842050611256982,
          0.3890628384990822,
          0.39397127874172844,
          0.39893033305423947,
          0.4039399067966077,
          0.4089998644765857,
          0.4141100352420622,
          0.41927021880023074,
          0.42448019167849804,
          0.42973971373503844,
          0.43504853482091255,
          0.44040640149078714,
          0.4458130636557206,
          0.4512682810689852,
          0.45677182953500783,
          0.4623235067318804,
          0.4679231375397323,
          0.47357057877054637,
          0.479265723199823,
          0.48500850280665386,
          0.49079889113636466,
          0.49663690470889016,
          0.502522603406117,
          0.508456089783012,
          0.5144375072596324,
          0.5204670371645623,
          0.526544894614508,
          0.5326713232296308,
          0.538846588699429,
          0.5450709712296581,
          0.5513447569164268,
          0.557668228109375,
          0.5640416528410251,
          0.570465273414528,
          0.5769392942561387,
          0.5834638691522087,
          0.5900390880028886,
          0.5966649632358895,
          0.6033414160334359,
          0.6100682625338001,
          0.6168452001754511,
          0.6236717943566193,
          0.630547465586045,
          0.6374714773015492,
          0.6444429245320822,
          0.6514607235757244,
          0.6585236028608523,
          0.6656300951504581,
          0.6727785312402159,
          0.6799670352897628,
          0.687193521913284,
          0.6944556951407873,
          0.7017510493448065,
          0.709076872209253,
          0.7164302497978892,
          0.7238080737594798,
          0.7312070506854021,
          0.7386237136135736,
          0.7460544356502256,
          0.7534954456586299,
          0.7609428459413661,
          0.768392631820807,
          0.7758407130009778,
          0.7832829365735039,
          0.7907151115108316,
          0.7981330344718786,
          0.8055325167287605,
          0.8129094120086743,
          0.8202596450321247,
          0.8275792405183225,
          0.834864352420327,
          0.8421112931466928,
          0.8493165625231596,
          0.8564768762473384,
          0.8635891935912314,
          0.8706507441111442,
          0.8776590531317044,
          0.8846119657806198,
          0.8915076693629032,
          0.8983447138780214,
          0.9051220305000869,
          0.9118389478601006,
          0.9184952059897867,
          0.9250909678087011,
          0.931626828059816,
          0.9381038196232556,
          0.9445234171632497,
          0.9508875380889118,
          0.9571985408356097,
          0.9634592204992298,
          0.9696728018810852,
          0.9758429300255453,
          0.9819736583561273,
          0.9880694345376012,
          0.9941350842122425,
          1.0001757927768558,
          1.0061970853835254,
          1.0122048053610517,
          1.018205091265701,
          1.0242043527785007,
          1.0302092456725411,
          1.0362266460767442,
          1.0422636242629348,
          1.0483274181803002,
          1.0544254069557069,
          1.0605650845700514,
          1.0667540339095831,
          1.0729999013775886,
          1.0793103722355855,
          1.0856931468251534,
          1.092155917801136,
          1.098706348485305,
          1.1053520524263116,
          1.1121005742276202,
          1.118959371680212,
          1.1259357992116068,
          1.1330370926376483,
          1.1402703551785913,
          1.1476425446771807,
          1.1551604619332674,
          1.162830740048274,
          1.1706598346531676,
          1.1786540148759828,
          1.1868193548899881,
          1.1951617258710854,
          1.2036867881836384,
          1.2123999836074097,
          1.2213065274152233,
          1.2304114001112032,
          1.2397193386430767,
          1.249234826909131,
          1.2589620853910486,
          1.2689050597577505,
          1.2790674083024425,
          1.2894524880954186,
          1.3000633397582337,
          1.3109026707905294,
          1.3219728374088193,
          1.3332758248865322,
          1.34481322641614,
          1.3565862205470762,
          1.3685955472865856,
          1.3808414829844808,
          1.3933238141568138,
          1.4060418104362302,
          1.4189941968689597,
          1.4321791258092047,
          1.4455941486895632,
          1.459236187972753,
          1.4731015096126772,
          1.4871856963728802,
          1.5014836223664356,
          1.5159894291937854,
          1.5306965040626892,
          1.5455974602780598,
          1.5606841204878776,
          1.575947503065534,
          1.591377811997634,
          1.60696443063035,
          1.6226959196066073,
          1.6385600193002765,
          1.6545436570239522,
          1.6706329592512899,
          1.6868132690567637,
          1.70306916893252,
          1.7193845090965003,
          1.7357424413566531,
          1.7521254585449257,
          1.7685154394814204,
          1.7848936993742757,
          1.8012410455056858,
          1.817537837998785,
          1.8337640554049697,
          1.8498993647975241,
          1.8659231960047817,
          1.8818148195668036,
          1.8975534279519104,
          1.9131182195268404,
          1.9284884847343906,
          1.9436436938984003,
          1.9585635860459676,
          1.9732282581130096,
          1.987618253881118,
          2.0017146519817226,
          2.015499152297902,
          2.028954160095379,
          2.0420628672217904,
          2.054809329727696,
          2.067178541283927,
          2.079156501796957,
          2.0907302806583647,
          2.101888074103425,
          2.1126192561998343,
          2.1229144230380106,
          2.1327654297495284,
          2.1421654200400684,
          2.1511088479861282,
          2.1595914919109376,
          2.167610460223366,
          2.175164189173335,
          2.182252432548154,
          2.1888762434048874,
          2.195037948003942,
          2.20074111217785,
          2.2059905004356066,
          2.2107920281665554,
          2.2151527073679422,
          2.2190805863758176,
          2.2225846841301764,
          2.225674919550466,
          2.2283620366374635,
          2.2306575259505457,
          2.2325735431363074,
          2.2341228252036247,
          2.23531860525313,
          2.236174526373833,
          2.2367045554174543,
          2.2369228973514312,
          2.2368439108748643,
          2.2364820259576144,
          2.2358516639326123,
          2.234967160734399,
          2.233842693834246,
          2.2324922133740657,
          2.2309293779484882,
          2.2291674954271072,
          2.227219469148414,
          2.225097749753266,
          2.2228142928602157,
          2.220380522717988,
          2.2178073019029263,
          2.2151049070621216,
          2.212283010636412,
          2.2093506684331476,
          2.206316312856663,
          2.203187751545459,
          2.199972171110488,
          2.196676145618342,
          2.193305649417886,
          2.1898660738692795,
          2.186362247500351,
          2.182798459088106,
          2.1791784831422314,
          2.1755056072535623,
          2.1717826607636375,
          2.1680120442112387,
          2.1641957590189533,
          2.1603354368964447,
          2.1564323684574296,
          2.1524875305740636,
          2.148501612024818,
          2.1444750370301158,
          2.1404079863127814,
          2.136300415367926,
          2.1321520696780274,
          2.1279624966631476,
          2.1237310542131826,
          2.1194569157074663,
          2.115139071486413,
          2.1107763267997175,
          2.1063672963146542,
          2.101910395326079,
          2.0974038278655063,
          2.0928455719599586,
          2.0882333623411773,
          2.0835646709515823,
          2.0788366856349563,
          2.074046287435941,
          2.069190026963445,
          2.0642641002978457,
          2.0592643249406772,
          2.0541861163179456,
          2.0490244653535403,
          2.0437739176287337,
          2.038428554635731,
          2.032981977619307,
          2.027427294479689,
          2.021757110183254,
          2.015963521094557,
          2.0100381136054786,
          2.0039719673934684,
          1.9977556635933371,
          1.9913792981152494,
          1.9848325002860758,
          1.978104456933399,
          1.971183941971445,
          1.9640593514864426,
          1.9567187442568954,
          1.9491498875819468,
          1.941340308229554,
          1.933277348256012,
          1.9249482253905603,
          1.9163400976233194,
          1.907440131583211,
          1.8982355742443175,
          1.8887138274559496,
          1.878862524752976,
          1.8686696098699922,
          1.858123416355557,
          1.8472127476613034,
          1.835926957065572,
          1.824256026782862,
          1.812190645607729,
          1.799722284446486,
          1.7868432691006224,
          1.7735468496828486,
          1.7598272660699594,
          1.745679808825771,
          1.731100875061711,
          1.716088018742435,
          1.7006399949882396,
          1.6847567979746783,
          1.6684396920819446,
          1.6516912360021534,
          1.634515299570791,
          1.6169170731484799,
          1.5989030694406776,
          1.5804811177049356,
          1.56166035035782,
          1.5424511820550317,
          1.5228652813790886,
          1.502915535328013,
          1.4826160068547518,
          1.4619818857616942,
          1.4410294333046445,
          1.4197759209082854,
          1.398239563437771,
          1.376439447509635,
          1.3543954553590236,
          1.3321281848091664,
          1.30965886591242,
          1.2870092748505706,
          1.264201645695099,
          1.2412585806356378,
          1.2182029592868704,
          1.1950578476810503,
          1.171846407545037,
          1.1485918064476115,
          1.1253171293846944,
          1.1020452923476478,
          1.0787989583936355,
          1.0556004567061983,
          1.0324717051007029,
          1.009434136392627,
          0.9865086290070091,
          0.9637154421659718,
          0.9410741559479383,
          0.9186036164677542,
          0.8963218863812483,
          0.8742462008722413,
          0.852392929234132,
          0.8307775421131569,
          0.8094145844356793,
          0.7883176539989729,
          0.7674993856632443,
          0.7469714410431474,
          0.7267445035595016,
          0.706828278676871,
          0.6872314991208979,
          0.6679619348393752,
          0.6490264074452697,
          0.6304308088567212,
          0.6121801238293094,
          0.5942784560594045,
          0.5767290575244864
         ],
         "yaxis": "y"
        },
        {
         "legendgroup": "Fiction",
         "marker": {
          "color": "gray"
         },
         "mode": "lines",
         "name": "Fiction",
         "showlegend": false,
         "type": "scatter",
         "x": [
          3.3,
          3.3032,
          3.3064,
          3.3095999999999997,
          3.3127999999999997,
          3.316,
          3.3192,
          3.3224,
          3.3255999999999997,
          3.3287999999999998,
          3.332,
          3.3352,
          3.3384,
          3.3415999999999997,
          3.3447999999999998,
          3.348,
          3.3512,
          3.3544,
          3.3575999999999997,
          3.3608,
          3.364,
          3.3672,
          3.3704,
          3.3735999999999997,
          3.3768,
          3.38,
          3.3832,
          3.3864,
          3.3895999999999997,
          3.3928,
          3.396,
          3.3992,
          3.4023999999999996,
          3.4055999999999997,
          3.4088,
          3.412,
          3.4152,
          3.4183999999999997,
          3.4215999999999998,
          3.4248,
          3.428,
          3.4312,
          3.4343999999999997,
          3.4375999999999998,
          3.4408,
          3.444,
          3.4472,
          3.4503999999999997,
          3.4536,
          3.4568,
          3.46,
          3.4632,
          3.4663999999999997,
          3.4696,
          3.4728,
          3.476,
          3.4792,
          3.4823999999999997,
          3.4856,
          3.4888,
          3.492,
          3.4952,
          3.4983999999999997,
          3.5016,
          3.5048,
          3.508,
          3.5112,
          3.5143999999999997,
          3.5176,
          3.5208,
          3.524,
          3.5271999999999997,
          3.5303999999999998,
          3.5336,
          3.5368,
          3.54,
          3.5431999999999997,
          3.5463999999999998,
          3.5496,
          3.5528,
          3.556,
          3.5591999999999997,
          3.5624,
          3.5656,
          3.5688,
          3.572,
          3.5751999999999997,
          3.5784,
          3.5816,
          3.5848,
          3.588,
          3.5911999999999997,
          3.5944,
          3.5976,
          3.6008,
          3.604,
          3.6071999999999997,
          3.6104,
          3.6136,
          3.6168,
          3.62,
          3.6231999999999998,
          3.6264,
          3.6296,
          3.6328,
          3.636,
          3.6391999999999998,
          3.6424,
          3.6456,
          3.6488,
          3.652,
          3.6552,
          3.6584,
          3.6616,
          3.6648,
          3.668,
          3.6712,
          3.6744,
          3.6776,
          3.6808,
          3.684,
          3.6872,
          3.6904,
          3.6936,
          3.6968,
          3.7,
          3.7032,
          3.7064,
          3.7096,
          3.7128,
          3.7159999999999997,
          3.7192,
          3.7224,
          3.7256,
          3.7288,
          3.732,
          3.7352,
          3.7384,
          3.7416,
          3.7448,
          3.748,
          3.7512,
          3.7544,
          3.7576,
          3.7608,
          3.7640000000000002,
          3.7672,
          3.7704,
          3.7736,
          3.7768,
          3.78,
          3.7832,
          3.7864,
          3.7896,
          3.7928,
          3.796,
          3.7992,
          3.8024,
          3.8056,
          3.8087999999999997,
          3.8120000000000003,
          3.8152,
          3.8184,
          3.8216,
          3.8247999999999998,
          3.8280000000000003,
          3.8312,
          3.8344,
          3.8376,
          3.8407999999999998,
          3.8440000000000003,
          3.8472,
          3.8504,
          3.8536,
          3.8568,
          3.8600000000000003,
          3.8632,
          3.8664,
          3.8696,
          3.8728,
          3.876,
          3.8792,
          3.8824,
          3.8856,
          3.8888,
          3.892,
          3.8952,
          3.8984,
          3.9016,
          3.9048,
          3.908,
          3.9112,
          3.9144,
          3.9176,
          3.9208,
          3.924,
          3.9272,
          3.9304,
          3.9336,
          3.9368,
          3.94,
          3.9432,
          3.9464,
          3.9496,
          3.9528,
          3.956,
          3.9592,
          3.9624,
          3.9656000000000002,
          3.9688,
          3.972,
          3.9752,
          3.9784,
          3.9816000000000003,
          3.9848,
          3.988,
          3.9912,
          3.9944,
          3.9976000000000003,
          4.0008,
          4.004,
          4.0072,
          4.0104,
          4.0136,
          4.0168,
          4.02,
          4.0232,
          4.0264,
          4.0296,
          4.0328,
          4.036,
          4.0392,
          4.0424,
          4.0456,
          4.0488,
          4.052,
          4.0552,
          4.0584,
          4.0616,
          4.0648,
          4.068,
          4.0712,
          4.0744,
          4.0776,
          4.0808,
          4.084,
          4.0872,
          4.0904,
          4.0936,
          4.0968,
          4.1,
          4.1032,
          4.1064,
          4.1096,
          4.1128,
          4.116,
          4.1192,
          4.1224,
          4.1256,
          4.1288,
          4.132,
          4.1352,
          4.1384,
          4.1416,
          4.1448,
          4.148,
          4.1512,
          4.1544,
          4.1576,
          4.1608,
          4.164,
          4.1672,
          4.1704,
          4.1736,
          4.1768,
          4.18,
          4.1832,
          4.1864,
          4.1896,
          4.1928,
          4.196,
          4.1992,
          4.2024,
          4.2056000000000004,
          4.2088,
          4.212,
          4.2152,
          4.2184,
          4.2216000000000005,
          4.2248,
          4.228,
          4.2312,
          4.2344,
          4.2376000000000005,
          4.2408,
          4.244,
          4.2472,
          4.2504,
          4.2536000000000005,
          4.2568,
          4.26,
          4.2632,
          4.2664,
          4.2696000000000005,
          4.2728,
          4.276,
          4.2792,
          4.2824,
          4.2856000000000005,
          4.2888,
          4.292,
          4.2952,
          4.2984,
          4.3016000000000005,
          4.3048,
          4.308,
          4.3112,
          4.3144,
          4.3176000000000005,
          4.3208,
          4.324,
          4.3272,
          4.3304,
          4.333600000000001,
          4.3368,
          4.34,
          4.3432,
          4.3464,
          4.349600000000001,
          4.3528,
          4.356,
          4.3592,
          4.3624,
          4.365600000000001,
          4.3688,
          4.372,
          4.3752,
          4.3784,
          4.381600000000001,
          4.3848,
          4.388,
          4.3911999999999995,
          4.3944,
          4.397600000000001,
          4.4008,
          4.404,
          4.4072,
          4.4104,
          4.413600000000001,
          4.4168,
          4.42,
          4.4232,
          4.4264,
          4.429600000000001,
          4.4328,
          4.436,
          4.4392,
          4.4424,
          4.445600000000001,
          4.4488,
          4.452,
          4.4552,
          4.4584,
          4.461600000000001,
          4.4648,
          4.468,
          4.4712000000000005,
          4.4744,
          4.477600000000001,
          4.4808,
          4.484,
          4.4872000000000005,
          4.4904,
          4.493600000000001,
          4.4968,
          4.5,
          4.5032000000000005,
          4.5064,
          4.509600000000001,
          4.5128,
          4.516,
          4.5192000000000005,
          4.5224,
          4.525600000000001,
          4.5288,
          4.532,
          4.535200000000001,
          4.5384,
          4.5416,
          4.5448,
          4.548,
          4.551200000000001,
          4.5544,
          4.5576,
          4.5608,
          4.564,
          4.567200000000001,
          4.5704,
          4.5736,
          4.5768,
          4.58,
          4.583200000000001,
          4.5864,
          4.5896,
          4.5928,
          4.596,
          4.599200000000001,
          4.6024,
          4.6056,
          4.6088000000000005,
          4.612,
          4.615200000000001,
          4.6184,
          4.6216,
          4.6248000000000005,
          4.628,
          4.631200000000001,
          4.6344,
          4.6376,
          4.6408000000000005,
          4.644,
          4.6472,
          4.6504,
          4.6536,
          4.6568000000000005,
          4.66,
          4.6632,
          4.6664,
          4.6696,
          4.6728000000000005,
          4.676,
          4.6792,
          4.6824,
          4.6856,
          4.6888000000000005,
          4.692,
          4.6952,
          4.6984,
          4.7016,
          4.7048000000000005,
          4.708,
          4.7112,
          4.7144,
          4.7176,
          4.7208000000000006,
          4.724,
          4.7272,
          4.7304,
          4.7336,
          4.736800000000001,
          4.74,
          4.7432,
          4.7464,
          4.749600000000001,
          4.752800000000001,
          4.756,
          4.7592,
          4.7624,
          4.765600000000001,
          4.768800000000001,
          4.772,
          4.7752,
          4.7784,
          4.781600000000001,
          4.784800000000001,
          4.788,
          4.7912,
          4.7944,
          4.7976,
          4.800800000000001,
          4.804,
          4.8072,
          4.8104000000000005,
          4.8136,
          4.816800000000001,
          4.82,
          4.8232,
          4.8264000000000005,
          4.8296,
          4.832800000000001,
          4.836,
          4.8392,
          4.8424000000000005,
          4.8456,
          4.848800000000001,
          4.852,
          4.8552,
          4.8584000000000005,
          4.8616,
          4.864800000000001,
          4.868,
          4.8712,
          4.8744000000000005,
          4.8776,
          4.880800000000001,
          4.884,
          4.8872,
          4.8904000000000005,
          4.8936,
          4.896800000000001
         ],
         "xaxis": "x",
         "y": [
          0.02534017122725662,
          0.025354037578452216,
          0.025344372141854525,
          0.02531147192844744,
          0.025255722968518707,
          0.025177599390179526,
          0.025077662055383677,
          0.02495655675959282,
          0.024815012003956968,
          0.024653836351509473,
          0.024473915381397,
          0.024276208257551574,
          0.024061743930454463,
          0.023831616992716284,
          0.0235869832110988,
          0.023329054759316292,
          0.023059095177467653,
          0.022778414085265618,
          0.022488361677331856,
          0.022190323029725144,
          0.021885712247558115,
          0.021575966484039033,
          0.02126253986156047,
          0.020946897325541614,
          0.020630508461635798,
          0.020314841306641518,
          0.02000135618301528,
          0.01969149958629836,
          0.01938669815403634,
          0.019088352743918287,
          0.018797832647895595,
          0.018516469967974816,
          0.01824555417823489,
          0.017986326896397807,
          0.017739976887011406,
          0.01750763531698,
          0.01729037128282927,
          0.01708918762771279,
          0.01690501706477853,
          0.016738718622116202,
          0.016591074423106873,
          0.01646278681460455,
          0.016354475853991884,
          0.01626667716477746,
          0.01619984016903743,
          0.01615432670364911,
          0.016130410025920937,
          0.016128274212884014,
          0.016148013957177663,
          0.016189634761127267,
          0.016253053529275825,
          0.016338099558285413,
          0.016444515921766756,
          0.016571961246222622,
          0.01672001187289594,
          0.016888164398898953,
          0.017075838589557715,
          0.017282380652440348,
          0.017507066862044837,
          0.017749107522604533,
          0.018007651254931607,
          0.01828178959166246,
          0.018570561863699833,
          0.018872960359075496,
          0.019187935733887152,
          0.019514402653410357,
          0.019851245639959447,
          0.02019732510258032,
          0.020551483522225886,
          0.020912551764695902,
          0.02127935549234133,
          0.021650721644352635,
          0.022025484954385936,
          0.022402494473350746,
          0.022780620064408025,
          0.023158758836610338,
          0.023535841483192717,
          0.02391083849028766,
          0.024282766181816927,
          0.024650692566514937,
          0.025013742953466523,
          0.02537110530321663,
          0.0257220352824213,
          0.026065860991172782,
          0.026401987333542737,
          0.02672990000354237,
          0.027049169060594888,
          0.027359452070745412,
          0.027660496792183107,
          0.027952143386211877,
          0.028234326137557407,
          0.028507074670824153,
          0.02877051465299624,
          0.029024867975083156,
          0.029270452409326252,
          0.029507680741771097,
          0.029737059383449803,
          0.029959186466877924,
          0.030174749438015225,
          0.030384522157248916,
          0.03058936152628818,
          0.030790203661090837,
          0.03098805963403718,
          0.031184010811502717,
          0.031379203815722886,
          0.03157484514237255,
          0.031772195467570125,
          0.03197256368004185,
          0.03217730067592695,
          0.03238779295515227,
          0.03260545605944097,
          0.03283172789283454,
          0.033068061966098294,
          0.033315920606530075,
          0.033576768174522376,
          0.03385206432771644,
          0.0341432573727656,
          0.03445177774357729,
          0.034779031643471035,
          0.035126394886959955,
          0.03549520697487692,
          0.035886765434332786,
          0.03630232045254118,
          0.03674306983089175,
          0.03721015428284505,
          0.037704653096256494,
          0.0382275801776773,
          0.03877988049303322,
          0.039362426915884534,
          0.03997601749126087,
          0.04062137311986133,
          0.041299135664247186,
          0.0420098664755663,
          0.04275404533635452,
          0.043532069812081735,
          0.04434425500139225,
          0.04519083367241999,
          0.046071956770201386,
          0.04698769427802727,
          0.04793803641363897,
          0.048922895139449536,
          0.04994210596449412,
          0.05099543001458714,
          0.052082556346175465,
          0.05320310447865534,
          0.054356627119437596,
          0.05554261305580943,
          0.05676049018765925,
          0.05800962867535429,
          0.05928934417753788,
          0.06059890115426446,
          0.06193751621177321,
          0.06330436146622477,
          0.06469856790495385,
          0.06611922872512678,
          0.06756540263117958,
          0.06903611707400917,
          0.07053037141655419,
          0.07204714001216918,
          0.07358537518398765,
          0.07514401009530744,
          0.07672196150288221,
          0.07831813238686003,
          0.07993141445291747,
          0.08156069050395874,
          0.08320483668046948,
          0.08486272457030644,
          0.08653322319031533,
          0.08821520084365951,
          0.08990752685819545,
          0.09160907321251252,
          0.09331871605746903,
          0.0950353371421397,
          0.09675782515402016,
          0.0984850769841851,
          0.10021599892877531,
          0.10194950783874737,
          0.10368453223026815,
          0.10542001336839972,
          0.10715490633691757,
          0.10888818110712796,
          0.11061882361845936,
          0.11234583688341211,
          0.11406824212910993,
          0.11578507998727723,
          0.11749541174392272,
          0.1191983206593684,
          0.12089291336854883,
          0.12257832137067409,
          0.1242537026164667,
          0.1259182432002169,
          0.12757115916286552,
          0.1292116984112419,
          0.13083914275744554,
          0.13245281008115986,
          0.13405205661649844,
          0.13563627936369047,
          0.13720491862466744,
          0.13875746066028283,
          0.1402934404656143,
          0.1418124446584412,
          0.14331411447468032,
          0.14479814886322456,
          0.1462643076712987,
          0.147712414910129,
          0.1491423620894035,
          0.15055411160769916,
          0.1519477001847795,
          0.15332324232037695,
          0.15468093376284844,
          0.15602105496986168,
          0.15734397454207175,
          0.15865015260959417,
          0.15994014414992835,
          0.16121460221492132,
          0.16247428104328923,
          0.16372003903421223,
          0.16495284155659218,
          0.16617376356765112,
          0.1673839920137458,
          0.16858482798554902,
          0.16977768859906336,
          0.17096410857343783,
          0.1721457414760827,
          0.17332436060529346,
          0.17450185948043348,
          0.1756802519097076,
          0.17686167160573238,
          0.17804837131948753,
          0.179242721463771,
          0.1804472081981072,
          0.18166443094809662,
          0.18289709933349088,
          0.18414802948088438,
          0.18542013969879298,
          0.18671644549509564,
          0.18804005391932901,
          0.18939415721521166,
          0.19078202577196157,
          0.19220700036654073,
          0.1936724836928793,
          0.19518193117839516,
          0.1967388410927273,
          0.1983467439585689,
          0.20000919127973935,
          0.20172974360721696,
          0.20351195796967483,
          0.20535937470118754,
          0.20727550370504189,
          0.20926381019903942,
          0.21132769999428408,
          0.2134705043660583,
          0.21569546458204458,
          0.21800571615973557,
          0.2204042729313264,
          0.22289401100065312,
          0.2254776526827222,
          0.2281577505220156,
          0.23093667149096989,
          0.23381658147472395,
          0.23679943015234614,
          0.23988693638820763,
          0.2430805742498398,
          0.24638155977055926,
          0.24979083857606554,
          0.2533090744943477,
          0.25693663926719973,
          0.2606736034796951,
          0.2645197288208201,
          0.26847446178421003,
          0.27253692891257536,
          0.27670593368280594,
          0.28097995512102436,
          0.2853571482280426,
          0.28983534628559965,
          0.2944120651027989,
          0.2990845092500058,
          0.3038495803144507,
          0.3087038871979139,
          0.31364375846209214,
          0.31866525671199264,
          0.32376419499169845,
          0.32893615515057084,
          0.33417650812134514,
          0.3394804360347614,
          0.3448429560787352,
          0.3502589459934461,
          0.3557231710775804,
          0.3612303125652428,
          0.3667749972180788,
          0.37235182796298527,
          0.3779554153926301,
          0.38358040993407294,
          0.3892215344801035,
          0.3948736172687226,
          0.40053162478860765,
          0.40619069448251616,
          0.4118461670164856,
          0.4174936178805423,
          0.4231288880863517,
          0.4287481137291457,
          0.43434775418497246,
          0.4399246187203293,
          0.44547589129913334,
          0.45099915338191143,
          0.45649240452408746,
          0.46195408059391324,
          0.4673830694462849,
          0.47277872390588854,
          0.47814087193184157,
          0.4834698238563022,
          0.4887663766107359,
          0.49403181487604053,
          0.49926790911596874,
          0.5044769104770358,
          0.5096615425625595,
          0.5148249901127381,
          0.5199708846472161,
          0.5251032871507099,
          0.5302266679058434,
          0.5353458836003826,
          0.5404661518579325,
          0.5455930233620884,
          0.5507323517634771,
          0.5558902615770899,
          0.5610731142935907,
          0.5662874729426349,
          0.5715400653586655,
          0.5768377464099522,
          0.5821874594596833,
          0.5875961973337767,
          0.5930709630735264,
          0.5986187307523148,
          0.6042464066344556,
          0.6099607909505663,
          0.6157685405581449,
          0.621676132747785,
          0.6276898304454194,
          0.6338156490486023,
          0.6400593251207718,
          0.6464262871515128,
          0.6529216285733468,
          0.6595500832066921,
          0.6663160032844501,
          0.6732233401865504,
          0.6802756279927301,
          0.6874759699392461,
          0.6948270278420822,
          0.7023310145260764,
          0.7099896892760788,
          0.7178043563032104,
          0.7257758661967241,
          0.7339046203098981,
          0.7421905780071539,
          0.7506332666793248,
          0.7592317944146975,
          0.7679848651955563,
          0.776890796473321,
          0.7859475389601286,
          0.7951526984611881,
          0.8045035595601654,
          0.8139971109594506,
          0.8236300722686433,
          0.8333989220274497,
          0.8432999267440963,
          0.8533291707266591,
          0.8634825864828227,
          0.8737559854632198,
          0.8841450889247539,
          0.8946455586927795,
          0.9052530276051686,
          0.9159631294265155,
          0.9267715280270405,
          0.9376739456285231,
          0.9486661899277015,
          0.9597441799171965,
          0.9709039702338111,
          0.9821417738748014,
          0.9934539831339304,
          1.0048371886205987,
          1.0162881962373247,
          1.02780404200297,
          1.0393820046214701,
          1.051019615708134,
          1.06271466759805,
          1.0744652186735884,
          1.086269596160174,
          1.0981263963518495,
          1.110034482240312,
          1.1219929785328286,
          1.1340012640566222,
          1.1460589615586547,
          1.1581659249215397,
          1.1703222238276239,
          1.1825281259146279,
          1.19478407647743,
          1.2070906757818634,
          1.2194486540673257,
          1.2318588443262208,
          1.2443221529592776,
          1.256839528416812,
          1.2694119279471199,
          1.2820402825841186,
          1.2947254605175393,
          1.3074682289998225,
          1.3202692149548791,
          1.3331288644647055,
          1.3460474013204393,
          1.3590247848350618,
          1.3720606671248816,
          1.3851543500770298,
          1.3983047422293629,
          1.4115103157980058,
          1.4247690640959767,
          1.438078459593637,
          1.4514354128782023,
          1.4648362327749918,
          1.4782765878974045,
          1.4917514698955967,
          1.5052551586755631,
          1.5187811898602532,
          1.5323223247631008,
          1.5458705231407583,
          1.5594169189869924,
          1.5729517996225055,
          1.5864645883265243,
          1.5999438307448328,
          1.6133771852959466,
          1.626751417781597,
          1.64005240039079,
          1.653265115266833,
          1.666373662785748,
          1.6793612746708972,
          1.69221033204363,
          1.7049023884828847,
          1.7174181981382617,
          1.7297377489113657,
          1.741840300689238,
          1.753704428581821,
          1.7653080710828122,
          1.7766285830401238,
          1.787642793288973,
          1.7983270667674647,
          1.8086573709016085,
          1.818609346014882,
          1.8281583794859968,
          1.8372796833489413,
          1.845948375001074,
          1.8541395606584705,
          1.8618284211737648,
          1.868990299809554,
          1.875600791541413,
          1.8816358334481467,
          1.8870717957334278,
          1.891885572913056,
          1.8960546746950528,
          1.8995573160764794,
          1.902372506181106,
          1.9044801353653786,
          1.9058610601276442,
          1.9064971853657307,
          1.9063715435423507,
          1.9054683703346569,
          1.9037731763647716,
          1.9012728146312194,
          1.8979555432871265,
          1.8938110834393567,
          1.8888306716732366,
          1.8830071070399597,
          1.876334792277659,
          1.8688097690723844,
          1.8604297472013285,
          1.8511941274373362,
          1.841104018130728,
          1.8301622454213515,
          1.8183733570701772,
          1.8057436199356047,
          1.7922810111543028,
          1.7779952031200332,
          1.7628975423855848,
          1.7470010226433608,
          1.7303202519682432,
          1.712871414532483,
          1.6946722270261791,
          1.67574189003834,
          1.656101034672597,
          1.6357716646880474,
          1.6147770944698685,
          1.5931418831458122,
          1.570891765173762,
          1.5480535777324809,
          1.5246551852519115,
          1.500725401422006,
          1.4762939090193021,
          1.4513911778887854,
          1.4260483814157698,
          1.4002973118172282,
          1.374170294576444,
          1.3477001023371584,
          1.3209198685651506
         ],
         "yaxis": "y"
        }
       ],
       "layout": {
        "barmode": "overlay",
        "font": {
         "color": "black",
         "family": "Arial",
         "size": 12
        },
        "hovermode": "closest",
        "legend": {
         "traceorder": "reversed"
        },
        "template": {
         "data": {
          "bar": [
           {
            "error_x": {
             "color": "rgb(36,36,36)"
            },
            "error_y": {
             "color": "rgb(36,36,36)"
            },
            "marker": {
             "line": {
              "color": "white",
              "width": 0.5
             }
            },
            "type": "bar"
           }
          ],
          "barpolar": [
           {
            "marker": {
             "line": {
              "color": "white",
              "width": 0.5
             }
            },
            "type": "barpolar"
           }
          ],
          "carpet": [
           {
            "aaxis": {
             "endlinecolor": "rgb(36,36,36)",
             "gridcolor": "white",
             "linecolor": "white",
             "minorgridcolor": "white",
             "startlinecolor": "rgb(36,36,36)"
            },
            "baxis": {
             "endlinecolor": "rgb(36,36,36)",
             "gridcolor": "white",
             "linecolor": "white",
             "minorgridcolor": "white",
             "startlinecolor": "rgb(36,36,36)"
            },
            "type": "carpet"
           }
          ],
          "choropleth": [
           {
            "colorbar": {
             "outlinewidth": 1,
             "tickcolor": "rgb(36,36,36)",
             "ticks": "outside"
            },
            "type": "choropleth"
           }
          ],
          "contour": [
           {
            "colorbar": {
             "outlinewidth": 1,
             "tickcolor": "rgb(36,36,36)",
             "ticks": "outside"
            },
            "colorscale": [
             [
              0,
              "#440154"
             ],
             [
              0.1111111111111111,
              "#482878"
             ],
             [
              0.2222222222222222,
              "#3e4989"
             ],
             [
              0.3333333333333333,
              "#31688e"
             ],
             [
              0.4444444444444444,
              "#26828e"
             ],
             [
              0.5555555555555556,
              "#1f9e89"
             ],
             [
              0.6666666666666666,
              "#35b779"
             ],
             [
              0.7777777777777778,
              "#6ece58"
             ],
             [
              0.8888888888888888,
              "#b5de2b"
             ],
             [
              1,
              "#fde725"
             ]
            ],
            "type": "contour"
           }
          ],
          "contourcarpet": [
           {
            "colorbar": {
             "outlinewidth": 1,
             "tickcolor": "rgb(36,36,36)",
             "ticks": "outside"
            },
            "type": "contourcarpet"
           }
          ],
          "heatmap": [
           {
            "colorbar": {
             "outlinewidth": 1,
             "tickcolor": "rgb(36,36,36)",
             "ticks": "outside"
            },
            "colorscale": [
             [
              0,
              "#440154"
             ],
             [
              0.1111111111111111,
              "#482878"
             ],
             [
              0.2222222222222222,
              "#3e4989"
             ],
             [
              0.3333333333333333,
              "#31688e"
             ],
             [
              0.4444444444444444,
              "#26828e"
             ],
             [
              0.5555555555555556,
              "#1f9e89"
             ],
             [
              0.6666666666666666,
              "#35b779"
             ],
             [
              0.7777777777777778,
              "#6ece58"
             ],
             [
              0.8888888888888888,
              "#b5de2b"
             ],
             [
              1,
              "#fde725"
             ]
            ],
            "type": "heatmap"
           }
          ],
          "heatmapgl": [
           {
            "colorbar": {
             "outlinewidth": 1,
             "tickcolor": "rgb(36,36,36)",
             "ticks": "outside"
            },
            "colorscale": [
             [
              0,
              "#440154"
             ],
             [
              0.1111111111111111,
              "#482878"
             ],
             [
              0.2222222222222222,
              "#3e4989"
             ],
             [
              0.3333333333333333,
              "#31688e"
             ],
             [
              0.4444444444444444,
              "#26828e"
             ],
             [
              0.5555555555555556,
              "#1f9e89"
             ],
             [
              0.6666666666666666,
              "#35b779"
             ],
             [
              0.7777777777777778,
              "#6ece58"
             ],
             [
              0.8888888888888888,
              "#b5de2b"
             ],
             [
              1,
              "#fde725"
             ]
            ],
            "type": "heatmapgl"
           }
          ],
          "histogram": [
           {
            "marker": {
             "line": {
              "color": "white",
              "width": 0.6
             }
            },
            "type": "histogram"
           }
          ],
          "histogram2d": [
           {
            "colorbar": {
             "outlinewidth": 1,
             "tickcolor": "rgb(36,36,36)",
             "ticks": "outside"
            },
            "colorscale": [
             [
              0,
              "#440154"
             ],
             [
              0.1111111111111111,
              "#482878"
             ],
             [
              0.2222222222222222,
              "#3e4989"
             ],
             [
              0.3333333333333333,
              "#31688e"
             ],
             [
              0.4444444444444444,
              "#26828e"
             ],
             [
              0.5555555555555556,
              "#1f9e89"
             ],
             [
              0.6666666666666666,
              "#35b779"
             ],
             [
              0.7777777777777778,
              "#6ece58"
             ],
             [
              0.8888888888888888,
              "#b5de2b"
             ],
             [
              1,
              "#fde725"
             ]
            ],
            "type": "histogram2d"
           }
          ],
          "histogram2dcontour": [
           {
            "colorbar": {
             "outlinewidth": 1,
             "tickcolor": "rgb(36,36,36)",
             "ticks": "outside"
            },
            "colorscale": [
             [
              0,
              "#440154"
             ],
             [
              0.1111111111111111,
              "#482878"
             ],
             [
              0.2222222222222222,
              "#3e4989"
             ],
             [
              0.3333333333333333,
              "#31688e"
             ],
             [
              0.4444444444444444,
              "#26828e"
             ],
             [
              0.5555555555555556,
              "#1f9e89"
             ],
             [
              0.6666666666666666,
              "#35b779"
             ],
             [
              0.7777777777777778,
              "#6ece58"
             ],
             [
              0.8888888888888888,
              "#b5de2b"
             ],
             [
              1,
              "#fde725"
             ]
            ],
            "type": "histogram2dcontour"
           }
          ],
          "mesh3d": [
           {
            "colorbar": {
             "outlinewidth": 1,
             "tickcolor": "rgb(36,36,36)",
             "ticks": "outside"
            },
            "type": "mesh3d"
           }
          ],
          "parcoords": [
           {
            "line": {
             "colorbar": {
              "outlinewidth": 1,
              "tickcolor": "rgb(36,36,36)",
              "ticks": "outside"
             }
            },
            "type": "parcoords"
           }
          ],
          "pie": [
           {
            "automargin": true,
            "type": "pie"
           }
          ],
          "scatter": [
           {
            "marker": {
             "colorbar": {
              "outlinewidth": 1,
              "tickcolor": "rgb(36,36,36)",
              "ticks": "outside"
             }
            },
            "type": "scatter"
           }
          ],
          "scatter3d": [
           {
            "line": {
             "colorbar": {
              "outlinewidth": 1,
              "tickcolor": "rgb(36,36,36)",
              "ticks": "outside"
             }
            },
            "marker": {
             "colorbar": {
              "outlinewidth": 1,
              "tickcolor": "rgb(36,36,36)",
              "ticks": "outside"
             }
            },
            "type": "scatter3d"
           }
          ],
          "scattercarpet": [
           {
            "marker": {
             "colorbar": {
              "outlinewidth": 1,
              "tickcolor": "rgb(36,36,36)",
              "ticks": "outside"
             }
            },
            "type": "scattercarpet"
           }
          ],
          "scattergeo": [
           {
            "marker": {
             "colorbar": {
              "outlinewidth": 1,
              "tickcolor": "rgb(36,36,36)",
              "ticks": "outside"
             }
            },
            "type": "scattergeo"
           }
          ],
          "scattergl": [
           {
            "marker": {
             "colorbar": {
              "outlinewidth": 1,
              "tickcolor": "rgb(36,36,36)",
              "ticks": "outside"
             }
            },
            "type": "scattergl"
           }
          ],
          "scattermapbox": [
           {
            "marker": {
             "colorbar": {
              "outlinewidth": 1,
              "tickcolor": "rgb(36,36,36)",
              "ticks": "outside"
             }
            },
            "type": "scattermapbox"
           }
          ],
          "scatterpolar": [
           {
            "marker": {
             "colorbar": {
              "outlinewidth": 1,
              "tickcolor": "rgb(36,36,36)",
              "ticks": "outside"
             }
            },
            "type": "scatterpolar"
           }
          ],
          "scatterpolargl": [
           {
            "marker": {
             "colorbar": {
              "outlinewidth": 1,
              "tickcolor": "rgb(36,36,36)",
              "ticks": "outside"
             }
            },
            "type": "scatterpolargl"
           }
          ],
          "scatterternary": [
           {
            "marker": {
             "colorbar": {
              "outlinewidth": 1,
              "tickcolor": "rgb(36,36,36)",
              "ticks": "outside"
             }
            },
            "type": "scatterternary"
           }
          ],
          "surface": [
           {
            "colorbar": {
             "outlinewidth": 1,
             "tickcolor": "rgb(36,36,36)",
             "ticks": "outside"
            },
            "colorscale": [
             [
              0,
              "#440154"
             ],
             [
              0.1111111111111111,
              "#482878"
             ],
             [
              0.2222222222222222,
              "#3e4989"
             ],
             [
              0.3333333333333333,
              "#31688e"
             ],
             [
              0.4444444444444444,
              "#26828e"
             ],
             [
              0.5555555555555556,
              "#1f9e89"
             ],
             [
              0.6666666666666666,
              "#35b779"
             ],
             [
              0.7777777777777778,
              "#6ece58"
             ],
             [
              0.8888888888888888,
              "#b5de2b"
             ],
             [
              1,
              "#fde725"
             ]
            ],
            "type": "surface"
           }
          ],
          "table": [
           {
            "cells": {
             "fill": {
              "color": "rgb(237,237,237)"
             },
             "line": {
              "color": "white"
             }
            },
            "header": {
             "fill": {
              "color": "rgb(217,217,217)"
             },
             "line": {
              "color": "white"
             }
            },
            "type": "table"
           }
          ]
         },
         "layout": {
          "annotationdefaults": {
           "arrowhead": 0,
           "arrowwidth": 1
          },
          "autotypenumbers": "strict",
          "coloraxis": {
           "colorbar": {
            "outlinewidth": 1,
            "tickcolor": "rgb(36,36,36)",
            "ticks": "outside"
           }
          },
          "colorscale": {
           "diverging": [
            [
             0,
             "rgb(103,0,31)"
            ],
            [
             0.1,
             "rgb(178,24,43)"
            ],
            [
             0.2,
             "rgb(214,96,77)"
            ],
            [
             0.3,
             "rgb(244,165,130)"
            ],
            [
             0.4,
             "rgb(253,219,199)"
            ],
            [
             0.5,
             "rgb(247,247,247)"
            ],
            [
             0.6,
             "rgb(209,229,240)"
            ],
            [
             0.7,
             "rgb(146,197,222)"
            ],
            [
             0.8,
             "rgb(67,147,195)"
            ],
            [
             0.9,
             "rgb(33,102,172)"
            ],
            [
             1,
             "rgb(5,48,97)"
            ]
           ],
           "sequential": [
            [
             0,
             "#440154"
            ],
            [
             0.1111111111111111,
             "#482878"
            ],
            [
             0.2222222222222222,
             "#3e4989"
            ],
            [
             0.3333333333333333,
             "#31688e"
            ],
            [
             0.4444444444444444,
             "#26828e"
            ],
            [
             0.5555555555555556,
             "#1f9e89"
            ],
            [
             0.6666666666666666,
             "#35b779"
            ],
            [
             0.7777777777777778,
             "#6ece58"
            ],
            [
             0.8888888888888888,
             "#b5de2b"
            ],
            [
             1,
             "#fde725"
            ]
           ],
           "sequentialminus": [
            [
             0,
             "#440154"
            ],
            [
             0.1111111111111111,
             "#482878"
            ],
            [
             0.2222222222222222,
             "#3e4989"
            ],
            [
             0.3333333333333333,
             "#31688e"
            ],
            [
             0.4444444444444444,
             "#26828e"
            ],
            [
             0.5555555555555556,
             "#1f9e89"
            ],
            [
             0.6666666666666666,
             "#35b779"
            ],
            [
             0.7777777777777778,
             "#6ece58"
            ],
            [
             0.8888888888888888,
             "#b5de2b"
            ],
            [
             1,
             "#fde725"
            ]
           ]
          },
          "colorway": [
           "#1F77B4",
           "#FF7F0E",
           "#2CA02C",
           "#D62728",
           "#9467BD",
           "#8C564B",
           "#E377C2",
           "#7F7F7F",
           "#BCBD22",
           "#17BECF"
          ],
          "font": {
           "color": "rgb(36,36,36)"
          },
          "geo": {
           "bgcolor": "white",
           "lakecolor": "white",
           "landcolor": "white",
           "showlakes": true,
           "showland": true,
           "subunitcolor": "white"
          },
          "hoverlabel": {
           "align": "left"
          },
          "hovermode": "closest",
          "mapbox": {
           "style": "light"
          },
          "paper_bgcolor": "white",
          "plot_bgcolor": "white",
          "polar": {
           "angularaxis": {
            "gridcolor": "rgb(232,232,232)",
            "linecolor": "rgb(36,36,36)",
            "showgrid": false,
            "showline": true,
            "ticks": "outside"
           },
           "bgcolor": "white",
           "radialaxis": {
            "gridcolor": "rgb(232,232,232)",
            "linecolor": "rgb(36,36,36)",
            "showgrid": false,
            "showline": true,
            "ticks": "outside"
           }
          },
          "scene": {
           "xaxis": {
            "backgroundcolor": "white",
            "gridcolor": "rgb(232,232,232)",
            "gridwidth": 2,
            "linecolor": "rgb(36,36,36)",
            "showbackground": true,
            "showgrid": false,
            "showline": true,
            "ticks": "outside",
            "zeroline": false,
            "zerolinecolor": "rgb(36,36,36)"
           },
           "yaxis": {
            "backgroundcolor": "white",
            "gridcolor": "rgb(232,232,232)",
            "gridwidth": 2,
            "linecolor": "rgb(36,36,36)",
            "showbackground": true,
            "showgrid": false,
            "showline": true,
            "ticks": "outside",
            "zeroline": false,
            "zerolinecolor": "rgb(36,36,36)"
           },
           "zaxis": {
            "backgroundcolor": "white",
            "gridcolor": "rgb(232,232,232)",
            "gridwidth": 2,
            "linecolor": "rgb(36,36,36)",
            "showbackground": true,
            "showgrid": false,
            "showline": true,
            "ticks": "outside",
            "zeroline": false,
            "zerolinecolor": "rgb(36,36,36)"
           }
          },
          "shapedefaults": {
           "fillcolor": "black",
           "line": {
            "width": 0
           },
           "opacity": 0.3
          },
          "ternary": {
           "aaxis": {
            "gridcolor": "rgb(232,232,232)",
            "linecolor": "rgb(36,36,36)",
            "showgrid": false,
            "showline": true,
            "ticks": "outside"
           },
           "baxis": {
            "gridcolor": "rgb(232,232,232)",
            "linecolor": "rgb(36,36,36)",
            "showgrid": false,
            "showline": true,
            "ticks": "outside"
           },
           "bgcolor": "white",
           "caxis": {
            "gridcolor": "rgb(232,232,232)",
            "linecolor": "rgb(36,36,36)",
            "showgrid": false,
            "showline": true,
            "ticks": "outside"
           }
          },
          "title": {
           "x": 0.05
          },
          "xaxis": {
           "automargin": true,
           "gridcolor": "rgb(232,232,232)",
           "linecolor": "rgb(36,36,36)",
           "showgrid": false,
           "showline": true,
           "ticks": "outside",
           "title": {
            "standoff": 15
           },
           "zeroline": false,
           "zerolinecolor": "rgb(36,36,36)"
          },
          "yaxis": {
           "automargin": true,
           "gridcolor": "rgb(232,232,232)",
           "linecolor": "rgb(36,36,36)",
           "showgrid": false,
           "showline": true,
           "ticks": "outside",
           "title": {
            "standoff": 15
           },
           "zeroline": false,
           "zerolinecolor": "rgb(36,36,36)"
          }
         }
        },
        "title": {
         "text": "Сomparison of the distribution density in the group Non_fiction and the group"
        },
        "xaxis": {
         "anchor": "y2",
         "domain": [
          0,
          1
         ],
         "zeroline": false
        },
        "yaxis": {
         "anchor": "free",
         "domain": [
          0,
          1
         ],
         "position": 0
        }
       }
      },
      "text/html": [
       "<div>                            <div id=\"c6824281-52b2-43d1-a2cc-adfb3b57e4f7\" class=\"plotly-graph-div\" style=\"height:525px; width:100%;\"></div>            <script type=\"text/javascript\">                require([\"plotly\"], function(Plotly) {                    window.PLOTLYENV=window.PLOTLYENV || {};                                    if (document.getElementById(\"c6824281-52b2-43d1-a2cc-adfb3b57e4f7\")) {                    Plotly.newPlot(                        \"c6824281-52b2-43d1-a2cc-adfb3b57e4f7\",                        [{\"autobinx\": false, \"histnorm\": \"probability density\", \"legendgroup\": \"Non_fiction\", \"marker\": {\"color\": \"salmon\"}, \"name\": \"Non_fiction\", \"opacity\": 0.7, \"type\": \"histogram\", \"x\": [4.7, 4.7, 4.8, 4.7, 4.6, 4.6, 4.6, 4.5, 4.6, 4.4, 4.5, 4.8, 4.6, 4.6, 4.7, 4.2, 4.6, 4.6, 4.8, 4.7, 4.8, 4.8, 4.7, 4.7, 4.5, 4.6, 4.8, 4.5, 4.7, 4.7, 4.8, 4.8, 4.8, 4.4, 4.6, 4.6, 4.5, 4.6, 4.6, 4.6, 4.5, 4.5, 4.3, 4.5, 4.7, 4.7, 4.4, 4.2, 4.7, 4.4, 4.4, 4.5, 4.6, 4.6, 4.6, 4.6, 4.6, 4.6, 4.5, 4.6, 4.8, 4.9, 4.8, 4.7, 4.8, 4.7, 4.4, 4.8, 4.7, 4.3, 4.8, 4.9, 4.7, 4.8, 4.4, 4.4, 4.8, 4.9, 4.6, 4.5, 4.6, 4.7, 4.6, 4.6, 4.8, 4.8, 4.5, 4.6, 4.5, 4.5, 4.4, 4.8, 4.5, 4.2, 4.8, 4.5, 4.7, 4.8, 4.7, 4.4, 4.6, 4.8, 4.8, 4.7, 4.6, 4.9, 4.6, 4.5, 4.6, 4.7, 4.3, 4.5, 4.6, 4.7, 4.8, 4.8, 4.7, 4.7, 4.8, 4.1, 4.6, 4.6, 4.0, 4.5, 4.6, 4.4, 4.3, 4.3, 4.7, 4.8, 4.8, 4.7, 4.6, 4.7, 4.2, 4.8, 4.7, 4.8, 4.7, 4.3, 4.8, 4.4, 4.1, 4.6, 4.6, 4.7, 4.7, 4.3, 4.7, 4.4, 4.5, 4.8, 4.9, 4.6, 4.4, 4.3, 4.8, 4.8, 4.8, 4.5, 4.4, 4.6, 4.6, 4.6, 4.7, 4.4, 4.7, 4.7, 4.6, 4.7, 4.7, 4.6, 4.5, 4.3, 4.6, 4.3, 4.6, 4.5, 4.8, 4.9, 4.8, 4.7, 4.6, 4.7, 4.4, 4.4, 4.8, 4.6, 4.4, 4.2, 4.7], \"xaxis\": \"x\", \"xbins\": {\"end\": 4.9, \"size\": 0.1, \"start\": 4.0}, \"yaxis\": \"y\"}, {\"autobinx\": false, \"histnorm\": \"probability density\", \"legendgroup\": \"Fiction\", \"marker\": {\"color\": \"gray\"}, \"name\": \"Fiction\", \"opacity\": 0.7, \"type\": \"histogram\", \"x\": [4.6, 4.7, 4.4, 4.7, 4.7, 4.6, 4.5, 4.6, 3.9, 4.3, 4.6, 4.9, 4.8, 4.7, 4.3, 4.6, 4.6, 4.3, 4.2, 4.8, 4.8, 4.8, 4.8, 4.6, 4.5, 4.7, 4.8, 4.9, 4.9, 4.9, 4.9, 4.9, 4.9, 4.8, 4.7, 4.7, 4.6, 4.7, 4.4, 4.5, 3.8, 4.5, 4.7, 4.6, 4.8, 3.6, 4.8, 4.0, 4.8, 4.9, 4.4, 4.9, 4.0, 4.9, 4.9, 4.9, 4.8, 4.6, 4.8, 4.3, 4.1, 4.6, 4.6, 4.5, 4.9, 4.1, 4.9, 4.5, 4.5, 4.8, 4.5, 4.6, 4.9, 4.8, 4.2, 4.3, 4.6, 4.8, 4.8, 4.7, 4.8, 4.6, 4.9, 4.9, 4.6, 4.7, 4.9, 4.5, 4.7, 4.7, 4.8, 4.6, 4.8, 3.3, 4.3, 4.8, 4.0, 4.7, 4.8, 4.1, 4.7, 4.7, 4.7, 4.4, 4.8, 3.9, 4.4, 4.5, 4.7, 4.3, 4.6, 4.8, 4.8, 4.8, 4.7, 4.7, 4.8, 4.8, 4.9, 4.4, 4.8, 4.2, 4.8, 4.7, 4.5, 4.8, 4.8, 4.3, 4.8, 4.3, 4.3, 4.6, 4.8, 4.6, 4.6, 4.5, 4.8, 4.7, 4.7, 4.4, 4.7, 4.8, 4.9, 4.9, 4.8, 4.5, 4.8, 4.8, 4.7, 4.5, 4.3, 4.8, 4.5, 4.7, 4.8, 4.8, 4.8, 4.5, 4.8, 4.9], \"xaxis\": \"x\", \"xbins\": {\"end\": 4.9, \"size\": 0.1, \"start\": 3.3}, \"yaxis\": \"y\"}, {\"legendgroup\": \"Non_fiction\", \"marker\": {\"color\": \"salmon\"}, \"mode\": \"lines\", \"name\": \"Non_fiction\", \"showlegend\": false, \"type\": \"scatter\", \"x\": [4.0, 4.0018, 4.0036, 4.0054, 4.0072, 4.009, 4.0108, 4.0126, 4.0144, 4.0162, 4.018, 4.0198, 4.0216, 4.0234, 4.0252, 4.027, 4.0288, 4.0306, 4.0324, 4.0342, 4.036, 4.0378, 4.0396, 4.0414, 4.0432, 4.045, 4.0468, 4.0486, 4.0504, 4.0522, 4.054, 4.0558, 4.0576, 4.0594, 4.0612, 4.063, 4.0648, 4.0666, 4.0684000000000005, 4.0702, 4.072, 4.0738, 4.0756, 4.0774, 4.0792, 4.081, 4.0828, 4.0846, 4.0864, 4.0882, 4.09, 4.0918, 4.0936, 4.0954, 4.0972, 4.099, 4.1008000000000004, 4.1026, 4.1044, 4.1062, 4.108, 4.1098, 4.1116, 4.1134, 4.1152, 4.117, 4.1188, 4.1206000000000005, 4.1224, 4.1242, 4.126, 4.1278, 4.1296, 4.1314, 4.1332, 4.135, 4.1368, 4.1386, 4.1404, 4.1422, 4.144, 4.1458, 4.1476, 4.1494, 4.1512, 4.1530000000000005, 4.1548, 4.1566, 4.1584, 4.1602, 4.162, 4.1638, 4.1656, 4.1674, 4.1692, 4.171, 4.1728000000000005, 4.1746, 4.1764, 4.1782, 4.18, 4.1818, 4.1836, 4.1854000000000005, 4.1872, 4.189, 4.1908, 4.1926, 4.1944, 4.1962, 4.198, 4.1998, 4.2016, 4.2034, 4.2052000000000005, 4.207, 4.2088, 4.2106, 4.2124, 4.2142, 4.216, 4.2178, 4.2196, 4.2214, 4.2232, 4.225, 4.2268, 4.2286, 4.2304, 4.2322, 4.234, 4.2358, 4.2376000000000005, 4.2394, 4.2412, 4.243, 4.2448, 4.2466, 4.2484, 4.2502, 4.252, 4.2538, 4.2556, 4.2574000000000005, 4.2592, 4.261, 4.2628, 4.2646, 4.2664, 4.2682, 4.2700000000000005, 4.2718, 4.2736, 4.2754, 4.277200000000001, 4.279, 4.2808, 4.2826, 4.2844, 4.2862, 4.288, 4.2898000000000005, 4.2916, 4.2934, 4.2952, 4.297, 4.2988, 4.3006, 4.3024000000000004, 4.3042, 4.306, 4.3078, 4.3096000000000005, 4.3114, 4.3132, 4.315, 4.3168, 4.3186, 4.3204, 4.3222000000000005, 4.324, 4.3258, 4.3276, 4.3294, 4.3312, 4.333, 4.3348, 4.3366, 4.3384, 4.3402, 4.3420000000000005, 4.3438, 4.3456, 4.3474, 4.3492, 4.351, 4.3528, 4.3546000000000005, 4.3564, 4.3582, 4.36, 4.361800000000001, 4.3636, 4.3654, 4.3672, 4.369, 4.3708, 4.3726, 4.3744000000000005, 4.3762, 4.378, 4.3798, 4.381600000000001, 4.3834, 4.3852, 4.3870000000000005, 4.3888, 4.3906, 4.3924, 4.3942000000000005, 4.396, 4.3978, 4.3996, 4.4014, 4.4032, 4.405, 4.4068000000000005, 4.4086, 4.4104, 4.4122, 4.414, 4.4158, 4.4176, 4.4194, 4.4212, 4.423, 4.4248, 4.4266000000000005, 4.4284, 4.4302, 4.432, 4.4338, 4.4356, 4.4374, 4.4392000000000005, 4.441, 4.4428, 4.4446, 4.446400000000001, 4.4482, 4.45, 4.4518, 4.4536, 4.4554, 4.4572, 4.4590000000000005, 4.4608, 4.4626, 4.4644, 4.466200000000001, 4.468, 4.4698, 4.4716000000000005, 4.4734, 4.4752, 4.477, 4.478800000000001, 4.4806, 4.4824, 4.4842, 4.486, 4.4878, 4.4896, 4.4914000000000005, 4.4932, 4.495, 4.4968, 4.498600000000001, 4.5004, 4.5022, 4.5040000000000004, 4.5058, 4.5076, 4.5094, 4.5112000000000005, 4.513, 4.5148, 4.5166, 4.5184, 4.5202, 4.522, 4.5238000000000005, 4.525600000000001, 4.5274, 4.5292, 4.531000000000001, 4.5328, 4.5346, 4.5364, 4.5382, 4.54, 4.5418, 4.5436000000000005, 4.5454, 4.5472, 4.549, 4.550800000000001, 4.5526, 4.5544, 4.5562000000000005, 4.558, 4.5598, 4.5616, 4.563400000000001, 4.5652, 4.567, 4.5688, 4.570600000000001, 4.5724, 4.5742, 4.5760000000000005, 4.5778, 4.5796, 4.5814, 4.583200000000001, 4.585, 4.5868, 4.5886000000000005, 4.590400000000001, 4.5922, 4.594, 4.5958000000000006, 4.5976, 4.5994, 4.6012, 4.603, 4.6048, 4.6066, 4.6084000000000005, 4.610200000000001, 4.612, 4.6138, 4.615600000000001, 4.6174, 4.6192, 4.621, 4.6228, 4.6246, 4.6264, 4.6282000000000005, 4.63, 4.6318, 4.6336, 4.635400000000001, 4.6372, 4.639, 4.6408000000000005, 4.6426, 4.6444, 4.6462, 4.648000000000001, 4.6498, 4.6516, 4.6534, 4.655200000000001, 4.657, 4.6588, 4.6606000000000005, 4.6624, 4.6642, 4.666, 4.667800000000001, 4.6696, 4.6714, 4.6732000000000005, 4.675000000000001, 4.6768, 4.6786, 4.680400000000001, 4.6822, 4.684, 4.6858, 4.6876, 4.6894, 4.6912, 4.6930000000000005, 4.694800000000001, 4.6966, 4.6984, 4.700200000000001, 4.702, 4.7038, 4.7056000000000004, 4.707400000000001, 4.7092, 4.711, 4.7128000000000005, 4.7146, 4.7164, 4.7182, 4.720000000000001, 4.7218, 4.7236, 4.7254000000000005, 4.7272, 4.729, 4.7308, 4.732600000000001, 4.7344, 4.7362, 4.738, 4.739800000000001, 4.7416, 4.7434, 4.7452000000000005, 4.747, 4.7488, 4.7506, 4.752400000000001, 4.7542, 4.756, 4.7578000000000005, 4.759600000000001, 4.7614, 4.7632, 4.765000000000001, 4.7668, 4.7686, 4.7704, 4.7722, 4.774, 4.7758, 4.7776000000000005, 4.779400000000001, 4.7812, 4.783, 4.784800000000001, 4.7866, 4.7884, 4.7902000000000005, 4.792000000000001, 4.7938, 4.7956, 4.7974000000000006, 4.7992, 4.801, 4.8028, 4.804600000000001, 4.8064, 4.8082, 4.8100000000000005, 4.8118, 4.8136, 4.8154, 4.817200000000001, 4.819000000000001, 4.8208, 4.8226, 4.824400000000001, 4.8262, 4.828, 4.8298000000000005, 4.8316, 4.8334, 4.8352, 4.837000000000001, 4.8388, 4.8406, 4.8424000000000005, 4.844200000000001, 4.846, 4.8478, 4.849600000000001, 4.8514, 4.8532, 4.855, 4.856800000000001, 4.8586, 4.8604, 4.8622000000000005, 4.864000000000001, 4.8658, 4.8676, 4.869400000000001, 4.8712, 4.873, 4.8748000000000005, 4.876600000000001, 4.8784, 4.8802, 4.882000000000001, 4.8838, 4.8856, 4.8874, 4.889200000000001, 4.891, 4.8928, 4.8946000000000005, 4.8964, 4.8982], \"xaxis\": \"x\", \"y\": [0.05298155836594475, 0.0539308889433304, 0.05488436777609619, 0.055842290372769006, 0.05680497768093594, 0.05777277459185795, 0.058746048378282026, 0.05972518708244134, 0.060710597871564125, 0.061702705378341764, 0.06270195004372937, 0.06370878647916642, 0.06472368186480773, 0.06574711439967508, 0.06677957181871876, 0.06782154999070111, 0.06887355160954112, 0.06993608499030181, 0.07100966297940674, 0.0720948019869342, 0.07319202114697393, 0.0743018416100766, 0.07542478596978779, 0.07656137782318738, 0.07771214146324314, 0.07887760169868929, 0.08005828379506388, 0.08125471352853632, 0.08246741734223015, 0.08369692259293571, 0.08494375787443219, 0.08620845340216293, 0.08749154144266927, 0.08879355677011572, 0.09011503713137724, 0.09145652370054776, 0.09281856150338758, 0.09420169979217573, 0.09560649235165916, 0.09703349771730661, 0.09848327928788736, 0.09995640531550973, 0.10145344875764374, 0.10297498697731047, 0.10452160127955056, 0.1060938762744543, 0.1076923990594258, 0.10931775821593244, 0.11097054261873317, 0.11265134005847384, 0.11436073568152111, 0.11609931025392314, 0.11786763825948723, 0.11966628584499321, 0.12149580862854426, 0.12335674938996027, 0.1252496356648616, 0.12717497726664012, 0.12913326376284925, 0.13112496193462325, 0.13315051324950147, 0.13521033137946362, 0.13730479979704152, 0.13943426948307125, 0.14159905677989595, 0.14379944142366508, 0.1460356647887547, 0.1483079283762703, 0.15061639257708515, 0.15296117573788073, 0.15534235355623682, 0.15775995882802527, 0.16021398156707917, 0.16270436951352393, 0.1652310290432189, 0.16779382648648325, 0.17039258985978006, 0.17302711100932835, 0.17569714816073712, 0.17840242886378344, 0.18114265331643686, 0.18391749804727223, 0.18672661993049547, 0.18956966050306498, 0.1924462505488412, 0.1953560149104611, 0.19829857748571597, 0.2012735663616784, 0.20428061903676395, 0.2073193876783921, 0.21038954436186347, 0.2134907862346952, 0.2166228405498881, 0.21978546951146985, 0.22297847487622127, 0.22620170225676114, 0.22945504507312353, 0.23273844810258254, 0.23605191058081437, 0.2393954888114507, 0.2427692982457054, 0.24617351499890017, 0.2496083767764424, 0.253074183188013, 0.25657129543532203, 0.26010013536573423, 0.26366118389125986, 0.26725497877983095, 0.27088211183325106, 0.2745432254736611, 0.27823900876780844, 0.28197019292557096, 0.2857375463161054, 0.2895418690515523, 0.2933839871943001, 0.2972647466493008, 0.3011850068078245, 0.30514563401316747, 0.3091474949222445, 0.31319144983942576, 0.31727834610064437, 0.32140901158641333, 0.32558424844210515, 0.3298048270824725, 0.33407148055505337, 0.3383848993337891, 0.34274572660982894, 0.3471545541411575, 0.35161191871655767, 0.3561182992822798, 0.3606741147719413, 0.3652797226716369, 0.36993541834304, 0.3746414351175547, 0.37939794516447034, 0.3842050611256982, 0.3890628384990822, 0.39397127874172844, 0.39893033305423947, 0.4039399067966077, 0.4089998644765857, 0.4141100352420622, 0.41927021880023074, 0.42448019167849804, 0.42973971373503844, 0.43504853482091255, 0.44040640149078714, 0.4458130636557206, 0.4512682810689852, 0.45677182953500783, 0.4623235067318804, 0.4679231375397323, 0.47357057877054637, 0.479265723199823, 0.48500850280665386, 0.49079889113636466, 0.49663690470889016, 0.502522603406117, 0.508456089783012, 0.5144375072596324, 0.5204670371645623, 0.526544894614508, 0.5326713232296308, 0.538846588699429, 0.5450709712296581, 0.5513447569164268, 0.557668228109375, 0.5640416528410251, 0.570465273414528, 0.5769392942561387, 0.5834638691522087, 0.5900390880028886, 0.5966649632358895, 0.6033414160334359, 0.6100682625338001, 0.6168452001754511, 0.6236717943566193, 0.630547465586045, 0.6374714773015492, 0.6444429245320822, 0.6514607235757244, 0.6585236028608523, 0.6656300951504581, 0.6727785312402159, 0.6799670352897628, 0.687193521913284, 0.6944556951407873, 0.7017510493448065, 0.709076872209253, 0.7164302497978892, 0.7238080737594798, 0.7312070506854021, 0.7386237136135736, 0.7460544356502256, 0.7534954456586299, 0.7609428459413661, 0.768392631820807, 0.7758407130009778, 0.7832829365735039, 0.7907151115108316, 0.7981330344718786, 0.8055325167287605, 0.8129094120086743, 0.8202596450321247, 0.8275792405183225, 0.834864352420327, 0.8421112931466928, 0.8493165625231596, 0.8564768762473384, 0.8635891935912314, 0.8706507441111442, 0.8776590531317044, 0.8846119657806198, 0.8915076693629032, 0.8983447138780214, 0.9051220305000869, 0.9118389478601006, 0.9184952059897867, 0.9250909678087011, 0.931626828059816, 0.9381038196232556, 0.9445234171632497, 0.9508875380889118, 0.9571985408356097, 0.9634592204992298, 0.9696728018810852, 0.9758429300255453, 0.9819736583561273, 0.9880694345376012, 0.9941350842122425, 1.0001757927768558, 1.0061970853835254, 1.0122048053610517, 1.018205091265701, 1.0242043527785007, 1.0302092456725411, 1.0362266460767442, 1.0422636242629348, 1.0483274181803002, 1.0544254069557069, 1.0605650845700514, 1.0667540339095831, 1.0729999013775886, 1.0793103722355855, 1.0856931468251534, 1.092155917801136, 1.098706348485305, 1.1053520524263116, 1.1121005742276202, 1.118959371680212, 1.1259357992116068, 1.1330370926376483, 1.1402703551785913, 1.1476425446771807, 1.1551604619332674, 1.162830740048274, 1.1706598346531676, 1.1786540148759828, 1.1868193548899881, 1.1951617258710854, 1.2036867881836384, 1.2123999836074097, 1.2213065274152233, 1.2304114001112032, 1.2397193386430767, 1.249234826909131, 1.2589620853910486, 1.2689050597577505, 1.2790674083024425, 1.2894524880954186, 1.3000633397582337, 1.3109026707905294, 1.3219728374088193, 1.3332758248865322, 1.34481322641614, 1.3565862205470762, 1.3685955472865856, 1.3808414829844808, 1.3933238141568138, 1.4060418104362302, 1.4189941968689597, 1.4321791258092047, 1.4455941486895632, 1.459236187972753, 1.4731015096126772, 1.4871856963728802, 1.5014836223664356, 1.5159894291937854, 1.5306965040626892, 1.5455974602780598, 1.5606841204878776, 1.575947503065534, 1.591377811997634, 1.60696443063035, 1.6226959196066073, 1.6385600193002765, 1.6545436570239522, 1.6706329592512899, 1.6868132690567637, 1.70306916893252, 1.7193845090965003, 1.7357424413566531, 1.7521254585449257, 1.7685154394814204, 1.7848936993742757, 1.8012410455056858, 1.817537837998785, 1.8337640554049697, 1.8498993647975241, 1.8659231960047817, 1.8818148195668036, 1.8975534279519104, 1.9131182195268404, 1.9284884847343906, 1.9436436938984003, 1.9585635860459676, 1.9732282581130096, 1.987618253881118, 2.0017146519817226, 2.015499152297902, 2.028954160095379, 2.0420628672217904, 2.054809329727696, 2.067178541283927, 2.079156501796957, 2.0907302806583647, 2.101888074103425, 2.1126192561998343, 2.1229144230380106, 2.1327654297495284, 2.1421654200400684, 2.1511088479861282, 2.1595914919109376, 2.167610460223366, 2.175164189173335, 2.182252432548154, 2.1888762434048874, 2.195037948003942, 2.20074111217785, 2.2059905004356066, 2.2107920281665554, 2.2151527073679422, 2.2190805863758176, 2.2225846841301764, 2.225674919550466, 2.2283620366374635, 2.2306575259505457, 2.2325735431363074, 2.2341228252036247, 2.23531860525313, 2.236174526373833, 2.2367045554174543, 2.2369228973514312, 2.2368439108748643, 2.2364820259576144, 2.2358516639326123, 2.234967160734399, 2.233842693834246, 2.2324922133740657, 2.2309293779484882, 2.2291674954271072, 2.227219469148414, 2.225097749753266, 2.2228142928602157, 2.220380522717988, 2.2178073019029263, 2.2151049070621216, 2.212283010636412, 2.2093506684331476, 2.206316312856663, 2.203187751545459, 2.199972171110488, 2.196676145618342, 2.193305649417886, 2.1898660738692795, 2.186362247500351, 2.182798459088106, 2.1791784831422314, 2.1755056072535623, 2.1717826607636375, 2.1680120442112387, 2.1641957590189533, 2.1603354368964447, 2.1564323684574296, 2.1524875305740636, 2.148501612024818, 2.1444750370301158, 2.1404079863127814, 2.136300415367926, 2.1321520696780274, 2.1279624966631476, 2.1237310542131826, 2.1194569157074663, 2.115139071486413, 2.1107763267997175, 2.1063672963146542, 2.101910395326079, 2.0974038278655063, 2.0928455719599586, 2.0882333623411773, 2.0835646709515823, 2.0788366856349563, 2.074046287435941, 2.069190026963445, 2.0642641002978457, 2.0592643249406772, 2.0541861163179456, 2.0490244653535403, 2.0437739176287337, 2.038428554635731, 2.032981977619307, 2.027427294479689, 2.021757110183254, 2.015963521094557, 2.0100381136054786, 2.0039719673934684, 1.9977556635933371, 1.9913792981152494, 1.9848325002860758, 1.978104456933399, 1.971183941971445, 1.9640593514864426, 1.9567187442568954, 1.9491498875819468, 1.941340308229554, 1.933277348256012, 1.9249482253905603, 1.9163400976233194, 1.907440131583211, 1.8982355742443175, 1.8887138274559496, 1.878862524752976, 1.8686696098699922, 1.858123416355557, 1.8472127476613034, 1.835926957065572, 1.824256026782862, 1.812190645607729, 1.799722284446486, 1.7868432691006224, 1.7735468496828486, 1.7598272660699594, 1.745679808825771, 1.731100875061711, 1.716088018742435, 1.7006399949882396, 1.6847567979746783, 1.6684396920819446, 1.6516912360021534, 1.634515299570791, 1.6169170731484799, 1.5989030694406776, 1.5804811177049356, 1.56166035035782, 1.5424511820550317, 1.5228652813790886, 1.502915535328013, 1.4826160068547518, 1.4619818857616942, 1.4410294333046445, 1.4197759209082854, 1.398239563437771, 1.376439447509635, 1.3543954553590236, 1.3321281848091664, 1.30965886591242, 1.2870092748505706, 1.264201645695099, 1.2412585806356378, 1.2182029592868704, 1.1950578476810503, 1.171846407545037, 1.1485918064476115, 1.1253171293846944, 1.1020452923476478, 1.0787989583936355, 1.0556004567061983, 1.0324717051007029, 1.009434136392627, 0.9865086290070091, 0.9637154421659718, 0.9410741559479383, 0.9186036164677542, 0.8963218863812483, 0.8742462008722413, 0.852392929234132, 0.8307775421131569, 0.8094145844356793, 0.7883176539989729, 0.7674993856632443, 0.7469714410431474, 0.7267445035595016, 0.706828278676871, 0.6872314991208979, 0.6679619348393752, 0.6490264074452697, 0.6304308088567212, 0.6121801238293094, 0.5942784560594045, 0.5767290575244864], \"yaxis\": \"y\"}, {\"legendgroup\": \"Fiction\", \"marker\": {\"color\": \"gray\"}, \"mode\": \"lines\", \"name\": \"Fiction\", \"showlegend\": false, \"type\": \"scatter\", \"x\": [3.3, 3.3032, 3.3064, 3.3095999999999997, 3.3127999999999997, 3.316, 3.3192, 3.3224, 3.3255999999999997, 3.3287999999999998, 3.332, 3.3352, 3.3384, 3.3415999999999997, 3.3447999999999998, 3.348, 3.3512, 3.3544, 3.3575999999999997, 3.3608, 3.364, 3.3672, 3.3704, 3.3735999999999997, 3.3768, 3.38, 3.3832, 3.3864, 3.3895999999999997, 3.3928, 3.396, 3.3992, 3.4023999999999996, 3.4055999999999997, 3.4088, 3.412, 3.4152, 3.4183999999999997, 3.4215999999999998, 3.4248, 3.428, 3.4312, 3.4343999999999997, 3.4375999999999998, 3.4408, 3.444, 3.4472, 3.4503999999999997, 3.4536, 3.4568, 3.46, 3.4632, 3.4663999999999997, 3.4696, 3.4728, 3.476, 3.4792, 3.4823999999999997, 3.4856, 3.4888, 3.492, 3.4952, 3.4983999999999997, 3.5016, 3.5048, 3.508, 3.5112, 3.5143999999999997, 3.5176, 3.5208, 3.524, 3.5271999999999997, 3.5303999999999998, 3.5336, 3.5368, 3.54, 3.5431999999999997, 3.5463999999999998, 3.5496, 3.5528, 3.556, 3.5591999999999997, 3.5624, 3.5656, 3.5688, 3.572, 3.5751999999999997, 3.5784, 3.5816, 3.5848, 3.588, 3.5911999999999997, 3.5944, 3.5976, 3.6008, 3.604, 3.6071999999999997, 3.6104, 3.6136, 3.6168, 3.62, 3.6231999999999998, 3.6264, 3.6296, 3.6328, 3.636, 3.6391999999999998, 3.6424, 3.6456, 3.6488, 3.652, 3.6552, 3.6584, 3.6616, 3.6648, 3.668, 3.6712, 3.6744, 3.6776, 3.6808, 3.684, 3.6872, 3.6904, 3.6936, 3.6968, 3.7, 3.7032, 3.7064, 3.7096, 3.7128, 3.7159999999999997, 3.7192, 3.7224, 3.7256, 3.7288, 3.732, 3.7352, 3.7384, 3.7416, 3.7448, 3.748, 3.7512, 3.7544, 3.7576, 3.7608, 3.7640000000000002, 3.7672, 3.7704, 3.7736, 3.7768, 3.78, 3.7832, 3.7864, 3.7896, 3.7928, 3.796, 3.7992, 3.8024, 3.8056, 3.8087999999999997, 3.8120000000000003, 3.8152, 3.8184, 3.8216, 3.8247999999999998, 3.8280000000000003, 3.8312, 3.8344, 3.8376, 3.8407999999999998, 3.8440000000000003, 3.8472, 3.8504, 3.8536, 3.8568, 3.8600000000000003, 3.8632, 3.8664, 3.8696, 3.8728, 3.876, 3.8792, 3.8824, 3.8856, 3.8888, 3.892, 3.8952, 3.8984, 3.9016, 3.9048, 3.908, 3.9112, 3.9144, 3.9176, 3.9208, 3.924, 3.9272, 3.9304, 3.9336, 3.9368, 3.94, 3.9432, 3.9464, 3.9496, 3.9528, 3.956, 3.9592, 3.9624, 3.9656000000000002, 3.9688, 3.972, 3.9752, 3.9784, 3.9816000000000003, 3.9848, 3.988, 3.9912, 3.9944, 3.9976000000000003, 4.0008, 4.004, 4.0072, 4.0104, 4.0136, 4.0168, 4.02, 4.0232, 4.0264, 4.0296, 4.0328, 4.036, 4.0392, 4.0424, 4.0456, 4.0488, 4.052, 4.0552, 4.0584, 4.0616, 4.0648, 4.068, 4.0712, 4.0744, 4.0776, 4.0808, 4.084, 4.0872, 4.0904, 4.0936, 4.0968, 4.1, 4.1032, 4.1064, 4.1096, 4.1128, 4.116, 4.1192, 4.1224, 4.1256, 4.1288, 4.132, 4.1352, 4.1384, 4.1416, 4.1448, 4.148, 4.1512, 4.1544, 4.1576, 4.1608, 4.164, 4.1672, 4.1704, 4.1736, 4.1768, 4.18, 4.1832, 4.1864, 4.1896, 4.1928, 4.196, 4.1992, 4.2024, 4.2056000000000004, 4.2088, 4.212, 4.2152, 4.2184, 4.2216000000000005, 4.2248, 4.228, 4.2312, 4.2344, 4.2376000000000005, 4.2408, 4.244, 4.2472, 4.2504, 4.2536000000000005, 4.2568, 4.26, 4.2632, 4.2664, 4.2696000000000005, 4.2728, 4.276, 4.2792, 4.2824, 4.2856000000000005, 4.2888, 4.292, 4.2952, 4.2984, 4.3016000000000005, 4.3048, 4.308, 4.3112, 4.3144, 4.3176000000000005, 4.3208, 4.324, 4.3272, 4.3304, 4.333600000000001, 4.3368, 4.34, 4.3432, 4.3464, 4.349600000000001, 4.3528, 4.356, 4.3592, 4.3624, 4.365600000000001, 4.3688, 4.372, 4.3752, 4.3784, 4.381600000000001, 4.3848, 4.388, 4.3911999999999995, 4.3944, 4.397600000000001, 4.4008, 4.404, 4.4072, 4.4104, 4.413600000000001, 4.4168, 4.42, 4.4232, 4.4264, 4.429600000000001, 4.4328, 4.436, 4.4392, 4.4424, 4.445600000000001, 4.4488, 4.452, 4.4552, 4.4584, 4.461600000000001, 4.4648, 4.468, 4.4712000000000005, 4.4744, 4.477600000000001, 4.4808, 4.484, 4.4872000000000005, 4.4904, 4.493600000000001, 4.4968, 4.5, 4.5032000000000005, 4.5064, 4.509600000000001, 4.5128, 4.516, 4.5192000000000005, 4.5224, 4.525600000000001, 4.5288, 4.532, 4.535200000000001, 4.5384, 4.5416, 4.5448, 4.548, 4.551200000000001, 4.5544, 4.5576, 4.5608, 4.564, 4.567200000000001, 4.5704, 4.5736, 4.5768, 4.58, 4.583200000000001, 4.5864, 4.5896, 4.5928, 4.596, 4.599200000000001, 4.6024, 4.6056, 4.6088000000000005, 4.612, 4.615200000000001, 4.6184, 4.6216, 4.6248000000000005, 4.628, 4.631200000000001, 4.6344, 4.6376, 4.6408000000000005, 4.644, 4.6472, 4.6504, 4.6536, 4.6568000000000005, 4.66, 4.6632, 4.6664, 4.6696, 4.6728000000000005, 4.676, 4.6792, 4.6824, 4.6856, 4.6888000000000005, 4.692, 4.6952, 4.6984, 4.7016, 4.7048000000000005, 4.708, 4.7112, 4.7144, 4.7176, 4.7208000000000006, 4.724, 4.7272, 4.7304, 4.7336, 4.736800000000001, 4.74, 4.7432, 4.7464, 4.749600000000001, 4.752800000000001, 4.756, 4.7592, 4.7624, 4.765600000000001, 4.768800000000001, 4.772, 4.7752, 4.7784, 4.781600000000001, 4.784800000000001, 4.788, 4.7912, 4.7944, 4.7976, 4.800800000000001, 4.804, 4.8072, 4.8104000000000005, 4.8136, 4.816800000000001, 4.82, 4.8232, 4.8264000000000005, 4.8296, 4.832800000000001, 4.836, 4.8392, 4.8424000000000005, 4.8456, 4.848800000000001, 4.852, 4.8552, 4.8584000000000005, 4.8616, 4.864800000000001, 4.868, 4.8712, 4.8744000000000005, 4.8776, 4.880800000000001, 4.884, 4.8872, 4.8904000000000005, 4.8936, 4.896800000000001], \"xaxis\": \"x\", \"y\": [0.02534017122725662, 0.025354037578452216, 0.025344372141854525, 0.02531147192844744, 0.025255722968518707, 0.025177599390179526, 0.025077662055383677, 0.02495655675959282, 0.024815012003956968, 0.024653836351509473, 0.024473915381397, 0.024276208257551574, 0.024061743930454463, 0.023831616992716284, 0.0235869832110988, 0.023329054759316292, 0.023059095177467653, 0.022778414085265618, 0.022488361677331856, 0.022190323029725144, 0.021885712247558115, 0.021575966484039033, 0.02126253986156047, 0.020946897325541614, 0.020630508461635798, 0.020314841306641518, 0.02000135618301528, 0.01969149958629836, 0.01938669815403634, 0.019088352743918287, 0.018797832647895595, 0.018516469967974816, 0.01824555417823489, 0.017986326896397807, 0.017739976887011406, 0.01750763531698, 0.01729037128282927, 0.01708918762771279, 0.01690501706477853, 0.016738718622116202, 0.016591074423106873, 0.01646278681460455, 0.016354475853991884, 0.01626667716477746, 0.01619984016903743, 0.01615432670364911, 0.016130410025920937, 0.016128274212884014, 0.016148013957177663, 0.016189634761127267, 0.016253053529275825, 0.016338099558285413, 0.016444515921766756, 0.016571961246222622, 0.01672001187289594, 0.016888164398898953, 0.017075838589557715, 0.017282380652440348, 0.017507066862044837, 0.017749107522604533, 0.018007651254931607, 0.01828178959166246, 0.018570561863699833, 0.018872960359075496, 0.019187935733887152, 0.019514402653410357, 0.019851245639959447, 0.02019732510258032, 0.020551483522225886, 0.020912551764695902, 0.02127935549234133, 0.021650721644352635, 0.022025484954385936, 0.022402494473350746, 0.022780620064408025, 0.023158758836610338, 0.023535841483192717, 0.02391083849028766, 0.024282766181816927, 0.024650692566514937, 0.025013742953466523, 0.02537110530321663, 0.0257220352824213, 0.026065860991172782, 0.026401987333542737, 0.02672990000354237, 0.027049169060594888, 0.027359452070745412, 0.027660496792183107, 0.027952143386211877, 0.028234326137557407, 0.028507074670824153, 0.02877051465299624, 0.029024867975083156, 0.029270452409326252, 0.029507680741771097, 0.029737059383449803, 0.029959186466877924, 0.030174749438015225, 0.030384522157248916, 0.03058936152628818, 0.030790203661090837, 0.03098805963403718, 0.031184010811502717, 0.031379203815722886, 0.03157484514237255, 0.031772195467570125, 0.03197256368004185, 0.03217730067592695, 0.03238779295515227, 0.03260545605944097, 0.03283172789283454, 0.033068061966098294, 0.033315920606530075, 0.033576768174522376, 0.03385206432771644, 0.0341432573727656, 0.03445177774357729, 0.034779031643471035, 0.035126394886959955, 0.03549520697487692, 0.035886765434332786, 0.03630232045254118, 0.03674306983089175, 0.03721015428284505, 0.037704653096256494, 0.0382275801776773, 0.03877988049303322, 0.039362426915884534, 0.03997601749126087, 0.04062137311986133, 0.041299135664247186, 0.0420098664755663, 0.04275404533635452, 0.043532069812081735, 0.04434425500139225, 0.04519083367241999, 0.046071956770201386, 0.04698769427802727, 0.04793803641363897, 0.048922895139449536, 0.04994210596449412, 0.05099543001458714, 0.052082556346175465, 0.05320310447865534, 0.054356627119437596, 0.05554261305580943, 0.05676049018765925, 0.05800962867535429, 0.05928934417753788, 0.06059890115426446, 0.06193751621177321, 0.06330436146622477, 0.06469856790495385, 0.06611922872512678, 0.06756540263117958, 0.06903611707400917, 0.07053037141655419, 0.07204714001216918, 0.07358537518398765, 0.07514401009530744, 0.07672196150288221, 0.07831813238686003, 0.07993141445291747, 0.08156069050395874, 0.08320483668046948, 0.08486272457030644, 0.08653322319031533, 0.08821520084365951, 0.08990752685819545, 0.09160907321251252, 0.09331871605746903, 0.0950353371421397, 0.09675782515402016, 0.0984850769841851, 0.10021599892877531, 0.10194950783874737, 0.10368453223026815, 0.10542001336839972, 0.10715490633691757, 0.10888818110712796, 0.11061882361845936, 0.11234583688341211, 0.11406824212910993, 0.11578507998727723, 0.11749541174392272, 0.1191983206593684, 0.12089291336854883, 0.12257832137067409, 0.1242537026164667, 0.1259182432002169, 0.12757115916286552, 0.1292116984112419, 0.13083914275744554, 0.13245281008115986, 0.13405205661649844, 0.13563627936369047, 0.13720491862466744, 0.13875746066028283, 0.1402934404656143, 0.1418124446584412, 0.14331411447468032, 0.14479814886322456, 0.1462643076712987, 0.147712414910129, 0.1491423620894035, 0.15055411160769916, 0.1519477001847795, 0.15332324232037695, 0.15468093376284844, 0.15602105496986168, 0.15734397454207175, 0.15865015260959417, 0.15994014414992835, 0.16121460221492132, 0.16247428104328923, 0.16372003903421223, 0.16495284155659218, 0.16617376356765112, 0.1673839920137458, 0.16858482798554902, 0.16977768859906336, 0.17096410857343783, 0.1721457414760827, 0.17332436060529346, 0.17450185948043348, 0.1756802519097076, 0.17686167160573238, 0.17804837131948753, 0.179242721463771, 0.1804472081981072, 0.18166443094809662, 0.18289709933349088, 0.18414802948088438, 0.18542013969879298, 0.18671644549509564, 0.18804005391932901, 0.18939415721521166, 0.19078202577196157, 0.19220700036654073, 0.1936724836928793, 0.19518193117839516, 0.1967388410927273, 0.1983467439585689, 0.20000919127973935, 0.20172974360721696, 0.20351195796967483, 0.20535937470118754, 0.20727550370504189, 0.20926381019903942, 0.21132769999428408, 0.2134705043660583, 0.21569546458204458, 0.21800571615973557, 0.2204042729313264, 0.22289401100065312, 0.2254776526827222, 0.2281577505220156, 0.23093667149096989, 0.23381658147472395, 0.23679943015234614, 0.23988693638820763, 0.2430805742498398, 0.24638155977055926, 0.24979083857606554, 0.2533090744943477, 0.25693663926719973, 0.2606736034796951, 0.2645197288208201, 0.26847446178421003, 0.27253692891257536, 0.27670593368280594, 0.28097995512102436, 0.2853571482280426, 0.28983534628559965, 0.2944120651027989, 0.2990845092500058, 0.3038495803144507, 0.3087038871979139, 0.31364375846209214, 0.31866525671199264, 0.32376419499169845, 0.32893615515057084, 0.33417650812134514, 0.3394804360347614, 0.3448429560787352, 0.3502589459934461, 0.3557231710775804, 0.3612303125652428, 0.3667749972180788, 0.37235182796298527, 0.3779554153926301, 0.38358040993407294, 0.3892215344801035, 0.3948736172687226, 0.40053162478860765, 0.40619069448251616, 0.4118461670164856, 0.4174936178805423, 0.4231288880863517, 0.4287481137291457, 0.43434775418497246, 0.4399246187203293, 0.44547589129913334, 0.45099915338191143, 0.45649240452408746, 0.46195408059391324, 0.4673830694462849, 0.47277872390588854, 0.47814087193184157, 0.4834698238563022, 0.4887663766107359, 0.49403181487604053, 0.49926790911596874, 0.5044769104770358, 0.5096615425625595, 0.5148249901127381, 0.5199708846472161, 0.5251032871507099, 0.5302266679058434, 0.5353458836003826, 0.5404661518579325, 0.5455930233620884, 0.5507323517634771, 0.5558902615770899, 0.5610731142935907, 0.5662874729426349, 0.5715400653586655, 0.5768377464099522, 0.5821874594596833, 0.5875961973337767, 0.5930709630735264, 0.5986187307523148, 0.6042464066344556, 0.6099607909505663, 0.6157685405581449, 0.621676132747785, 0.6276898304454194, 0.6338156490486023, 0.6400593251207718, 0.6464262871515128, 0.6529216285733468, 0.6595500832066921, 0.6663160032844501, 0.6732233401865504, 0.6802756279927301, 0.6874759699392461, 0.6948270278420822, 0.7023310145260764, 0.7099896892760788, 0.7178043563032104, 0.7257758661967241, 0.7339046203098981, 0.7421905780071539, 0.7506332666793248, 0.7592317944146975, 0.7679848651955563, 0.776890796473321, 0.7859475389601286, 0.7951526984611881, 0.8045035595601654, 0.8139971109594506, 0.8236300722686433, 0.8333989220274497, 0.8432999267440963, 0.8533291707266591, 0.8634825864828227, 0.8737559854632198, 0.8841450889247539, 0.8946455586927795, 0.9052530276051686, 0.9159631294265155, 0.9267715280270405, 0.9376739456285231, 0.9486661899277015, 0.9597441799171965, 0.9709039702338111, 0.9821417738748014, 0.9934539831339304, 1.0048371886205987, 1.0162881962373247, 1.02780404200297, 1.0393820046214701, 1.051019615708134, 1.06271466759805, 1.0744652186735884, 1.086269596160174, 1.0981263963518495, 1.110034482240312, 1.1219929785328286, 1.1340012640566222, 1.1460589615586547, 1.1581659249215397, 1.1703222238276239, 1.1825281259146279, 1.19478407647743, 1.2070906757818634, 1.2194486540673257, 1.2318588443262208, 1.2443221529592776, 1.256839528416812, 1.2694119279471199, 1.2820402825841186, 1.2947254605175393, 1.3074682289998225, 1.3202692149548791, 1.3331288644647055, 1.3460474013204393, 1.3590247848350618, 1.3720606671248816, 1.3851543500770298, 1.3983047422293629, 1.4115103157980058, 1.4247690640959767, 1.438078459593637, 1.4514354128782023, 1.4648362327749918, 1.4782765878974045, 1.4917514698955967, 1.5052551586755631, 1.5187811898602532, 1.5323223247631008, 1.5458705231407583, 1.5594169189869924, 1.5729517996225055, 1.5864645883265243, 1.5999438307448328, 1.6133771852959466, 1.626751417781597, 1.64005240039079, 1.653265115266833, 1.666373662785748, 1.6793612746708972, 1.69221033204363, 1.7049023884828847, 1.7174181981382617, 1.7297377489113657, 1.741840300689238, 1.753704428581821, 1.7653080710828122, 1.7766285830401238, 1.787642793288973, 1.7983270667674647, 1.8086573709016085, 1.818609346014882, 1.8281583794859968, 1.8372796833489413, 1.845948375001074, 1.8541395606584705, 1.8618284211737648, 1.868990299809554, 1.875600791541413, 1.8816358334481467, 1.8870717957334278, 1.891885572913056, 1.8960546746950528, 1.8995573160764794, 1.902372506181106, 1.9044801353653786, 1.9058610601276442, 1.9064971853657307, 1.9063715435423507, 1.9054683703346569, 1.9037731763647716, 1.9012728146312194, 1.8979555432871265, 1.8938110834393567, 1.8888306716732366, 1.8830071070399597, 1.876334792277659, 1.8688097690723844, 1.8604297472013285, 1.8511941274373362, 1.841104018130728, 1.8301622454213515, 1.8183733570701772, 1.8057436199356047, 1.7922810111543028, 1.7779952031200332, 1.7628975423855848, 1.7470010226433608, 1.7303202519682432, 1.712871414532483, 1.6946722270261791, 1.67574189003834, 1.656101034672597, 1.6357716646880474, 1.6147770944698685, 1.5931418831458122, 1.570891765173762, 1.5480535777324809, 1.5246551852519115, 1.500725401422006, 1.4762939090193021, 1.4513911778887854, 1.4260483814157698, 1.4002973118172282, 1.374170294576444, 1.3477001023371584, 1.3209198685651506], \"yaxis\": \"y\"}],                        {\"barmode\": \"overlay\", \"font\": {\"color\": \"black\", \"family\": \"Arial\", \"size\": 12}, \"hovermode\": \"closest\", \"legend\": {\"traceorder\": \"reversed\"}, \"template\": {\"data\": {\"bar\": [{\"error_x\": {\"color\": \"rgb(36,36,36)\"}, \"error_y\": {\"color\": \"rgb(36,36,36)\"}, \"marker\": {\"line\": {\"color\": \"white\", \"width\": 0.5}}, \"type\": \"bar\"}], \"barpolar\": [{\"marker\": {\"line\": {\"color\": \"white\", \"width\": 0.5}}, \"type\": \"barpolar\"}], \"carpet\": [{\"aaxis\": {\"endlinecolor\": \"rgb(36,36,36)\", \"gridcolor\": \"white\", \"linecolor\": \"white\", \"minorgridcolor\": \"white\", \"startlinecolor\": \"rgb(36,36,36)\"}, \"baxis\": {\"endlinecolor\": \"rgb(36,36,36)\", \"gridcolor\": \"white\", \"linecolor\": \"white\", \"minorgridcolor\": \"white\", \"startlinecolor\": \"rgb(36,36,36)\"}, \"type\": \"carpet\"}], \"choropleth\": [{\"colorbar\": {\"outlinewidth\": 1, \"tickcolor\": \"rgb(36,36,36)\", \"ticks\": \"outside\"}, \"type\": \"choropleth\"}], \"contour\": [{\"colorbar\": {\"outlinewidth\": 1, \"tickcolor\": \"rgb(36,36,36)\", \"ticks\": \"outside\"}, \"colorscale\": [[0.0, \"#440154\"], [0.1111111111111111, \"#482878\"], [0.2222222222222222, \"#3e4989\"], [0.3333333333333333, \"#31688e\"], [0.4444444444444444, \"#26828e\"], [0.5555555555555556, \"#1f9e89\"], [0.6666666666666666, \"#35b779\"], [0.7777777777777778, \"#6ece58\"], [0.8888888888888888, \"#b5de2b\"], [1.0, \"#fde725\"]], \"type\": \"contour\"}], \"contourcarpet\": [{\"colorbar\": {\"outlinewidth\": 1, \"tickcolor\": \"rgb(36,36,36)\", \"ticks\": \"outside\"}, \"type\": \"contourcarpet\"}], \"heatmap\": [{\"colorbar\": {\"outlinewidth\": 1, \"tickcolor\": \"rgb(36,36,36)\", \"ticks\": \"outside\"}, \"colorscale\": [[0.0, \"#440154\"], [0.1111111111111111, \"#482878\"], [0.2222222222222222, \"#3e4989\"], [0.3333333333333333, \"#31688e\"], [0.4444444444444444, \"#26828e\"], [0.5555555555555556, \"#1f9e89\"], [0.6666666666666666, \"#35b779\"], [0.7777777777777778, \"#6ece58\"], [0.8888888888888888, \"#b5de2b\"], [1.0, \"#fde725\"]], \"type\": \"heatmap\"}], \"heatmapgl\": [{\"colorbar\": {\"outlinewidth\": 1, \"tickcolor\": \"rgb(36,36,36)\", \"ticks\": \"outside\"}, \"colorscale\": [[0.0, \"#440154\"], [0.1111111111111111, \"#482878\"], [0.2222222222222222, \"#3e4989\"], [0.3333333333333333, \"#31688e\"], [0.4444444444444444, \"#26828e\"], [0.5555555555555556, \"#1f9e89\"], [0.6666666666666666, \"#35b779\"], [0.7777777777777778, \"#6ece58\"], [0.8888888888888888, \"#b5de2b\"], [1.0, \"#fde725\"]], \"type\": \"heatmapgl\"}], \"histogram\": [{\"marker\": {\"line\": {\"color\": \"white\", \"width\": 0.6}}, \"type\": \"histogram\"}], \"histogram2d\": [{\"colorbar\": {\"outlinewidth\": 1, \"tickcolor\": \"rgb(36,36,36)\", \"ticks\": \"outside\"}, \"colorscale\": [[0.0, \"#440154\"], [0.1111111111111111, \"#482878\"], [0.2222222222222222, \"#3e4989\"], [0.3333333333333333, \"#31688e\"], [0.4444444444444444, \"#26828e\"], [0.5555555555555556, \"#1f9e89\"], [0.6666666666666666, \"#35b779\"], [0.7777777777777778, \"#6ece58\"], [0.8888888888888888, \"#b5de2b\"], [1.0, \"#fde725\"]], \"type\": \"histogram2d\"}], \"histogram2dcontour\": [{\"colorbar\": {\"outlinewidth\": 1, \"tickcolor\": \"rgb(36,36,36)\", \"ticks\": \"outside\"}, \"colorscale\": [[0.0, \"#440154\"], [0.1111111111111111, \"#482878\"], [0.2222222222222222, \"#3e4989\"], [0.3333333333333333, \"#31688e\"], [0.4444444444444444, \"#26828e\"], [0.5555555555555556, \"#1f9e89\"], [0.6666666666666666, \"#35b779\"], [0.7777777777777778, \"#6ece58\"], [0.8888888888888888, \"#b5de2b\"], [1.0, \"#fde725\"]], \"type\": \"histogram2dcontour\"}], \"mesh3d\": [{\"colorbar\": {\"outlinewidth\": 1, \"tickcolor\": \"rgb(36,36,36)\", \"ticks\": \"outside\"}, \"type\": \"mesh3d\"}], \"parcoords\": [{\"line\": {\"colorbar\": {\"outlinewidth\": 1, \"tickcolor\": \"rgb(36,36,36)\", \"ticks\": \"outside\"}}, \"type\": \"parcoords\"}], \"pie\": [{\"automargin\": true, \"type\": \"pie\"}], \"scatter\": [{\"marker\": {\"colorbar\": {\"outlinewidth\": 1, \"tickcolor\": \"rgb(36,36,36)\", \"ticks\": \"outside\"}}, \"type\": \"scatter\"}], \"scatter3d\": [{\"line\": {\"colorbar\": {\"outlinewidth\": 1, \"tickcolor\": \"rgb(36,36,36)\", \"ticks\": \"outside\"}}, \"marker\": {\"colorbar\": {\"outlinewidth\": 1, \"tickcolor\": \"rgb(36,36,36)\", \"ticks\": \"outside\"}}, \"type\": \"scatter3d\"}], \"scattercarpet\": [{\"marker\": {\"colorbar\": {\"outlinewidth\": 1, \"tickcolor\": \"rgb(36,36,36)\", \"ticks\": \"outside\"}}, \"type\": \"scattercarpet\"}], \"scattergeo\": [{\"marker\": {\"colorbar\": {\"outlinewidth\": 1, \"tickcolor\": \"rgb(36,36,36)\", \"ticks\": \"outside\"}}, \"type\": \"scattergeo\"}], \"scattergl\": [{\"marker\": {\"colorbar\": {\"outlinewidth\": 1, \"tickcolor\": \"rgb(36,36,36)\", \"ticks\": \"outside\"}}, \"type\": \"scattergl\"}], \"scattermapbox\": [{\"marker\": {\"colorbar\": {\"outlinewidth\": 1, \"tickcolor\": \"rgb(36,36,36)\", \"ticks\": \"outside\"}}, \"type\": \"scattermapbox\"}], \"scatterpolar\": [{\"marker\": {\"colorbar\": {\"outlinewidth\": 1, \"tickcolor\": \"rgb(36,36,36)\", \"ticks\": \"outside\"}}, \"type\": \"scatterpolar\"}], \"scatterpolargl\": [{\"marker\": {\"colorbar\": {\"outlinewidth\": 1, \"tickcolor\": \"rgb(36,36,36)\", \"ticks\": \"outside\"}}, \"type\": \"scatterpolargl\"}], \"scatterternary\": [{\"marker\": {\"colorbar\": {\"outlinewidth\": 1, \"tickcolor\": \"rgb(36,36,36)\", \"ticks\": \"outside\"}}, \"type\": \"scatterternary\"}], \"surface\": [{\"colorbar\": {\"outlinewidth\": 1, \"tickcolor\": \"rgb(36,36,36)\", \"ticks\": \"outside\"}, \"colorscale\": [[0.0, \"#440154\"], [0.1111111111111111, \"#482878\"], [0.2222222222222222, \"#3e4989\"], [0.3333333333333333, \"#31688e\"], [0.4444444444444444, \"#26828e\"], [0.5555555555555556, \"#1f9e89\"], [0.6666666666666666, \"#35b779\"], [0.7777777777777778, \"#6ece58\"], [0.8888888888888888, \"#b5de2b\"], [1.0, \"#fde725\"]], \"type\": \"surface\"}], \"table\": [{\"cells\": {\"fill\": {\"color\": \"rgb(237,237,237)\"}, \"line\": {\"color\": \"white\"}}, \"header\": {\"fill\": {\"color\": \"rgb(217,217,217)\"}, \"line\": {\"color\": \"white\"}}, \"type\": \"table\"}]}, \"layout\": {\"annotationdefaults\": {\"arrowhead\": 0, \"arrowwidth\": 1}, \"autotypenumbers\": \"strict\", \"coloraxis\": {\"colorbar\": {\"outlinewidth\": 1, \"tickcolor\": \"rgb(36,36,36)\", \"ticks\": \"outside\"}}, \"colorscale\": {\"diverging\": [[0.0, \"rgb(103,0,31)\"], [0.1, \"rgb(178,24,43)\"], [0.2, \"rgb(214,96,77)\"], [0.3, \"rgb(244,165,130)\"], [0.4, \"rgb(253,219,199)\"], [0.5, \"rgb(247,247,247)\"], [0.6, \"rgb(209,229,240)\"], [0.7, \"rgb(146,197,222)\"], [0.8, \"rgb(67,147,195)\"], [0.9, \"rgb(33,102,172)\"], [1.0, \"rgb(5,48,97)\"]], \"sequential\": [[0.0, \"#440154\"], [0.1111111111111111, \"#482878\"], [0.2222222222222222, \"#3e4989\"], [0.3333333333333333, \"#31688e\"], [0.4444444444444444, \"#26828e\"], [0.5555555555555556, \"#1f9e89\"], [0.6666666666666666, \"#35b779\"], [0.7777777777777778, \"#6ece58\"], [0.8888888888888888, \"#b5de2b\"], [1.0, \"#fde725\"]], \"sequentialminus\": [[0.0, \"#440154\"], [0.1111111111111111, \"#482878\"], [0.2222222222222222, \"#3e4989\"], [0.3333333333333333, \"#31688e\"], [0.4444444444444444, \"#26828e\"], [0.5555555555555556, \"#1f9e89\"], [0.6666666666666666, \"#35b779\"], [0.7777777777777778, \"#6ece58\"], [0.8888888888888888, \"#b5de2b\"], [1.0, \"#fde725\"]]}, \"colorway\": [\"#1F77B4\", \"#FF7F0E\", \"#2CA02C\", \"#D62728\", \"#9467BD\", \"#8C564B\", \"#E377C2\", \"#7F7F7F\", \"#BCBD22\", \"#17BECF\"], \"font\": {\"color\": \"rgb(36,36,36)\"}, \"geo\": {\"bgcolor\": \"white\", \"lakecolor\": \"white\", \"landcolor\": \"white\", \"showlakes\": true, \"showland\": true, \"subunitcolor\": \"white\"}, \"hoverlabel\": {\"align\": \"left\"}, \"hovermode\": \"closest\", \"mapbox\": {\"style\": \"light\"}, \"paper_bgcolor\": \"white\", \"plot_bgcolor\": \"white\", \"polar\": {\"angularaxis\": {\"gridcolor\": \"rgb(232,232,232)\", \"linecolor\": \"rgb(36,36,36)\", \"showgrid\": false, \"showline\": true, \"ticks\": \"outside\"}, \"bgcolor\": \"white\", \"radialaxis\": {\"gridcolor\": \"rgb(232,232,232)\", \"linecolor\": \"rgb(36,36,36)\", \"showgrid\": false, \"showline\": true, \"ticks\": \"outside\"}}, \"scene\": {\"xaxis\": {\"backgroundcolor\": \"white\", \"gridcolor\": \"rgb(232,232,232)\", \"gridwidth\": 2, \"linecolor\": \"rgb(36,36,36)\", \"showbackground\": true, \"showgrid\": false, \"showline\": true, \"ticks\": \"outside\", \"zeroline\": false, \"zerolinecolor\": \"rgb(36,36,36)\"}, \"yaxis\": {\"backgroundcolor\": \"white\", \"gridcolor\": \"rgb(232,232,232)\", \"gridwidth\": 2, \"linecolor\": \"rgb(36,36,36)\", \"showbackground\": true, \"showgrid\": false, \"showline\": true, \"ticks\": \"outside\", \"zeroline\": false, \"zerolinecolor\": \"rgb(36,36,36)\"}, \"zaxis\": {\"backgroundcolor\": \"white\", \"gridcolor\": \"rgb(232,232,232)\", \"gridwidth\": 2, \"linecolor\": \"rgb(36,36,36)\", \"showbackground\": true, \"showgrid\": false, \"showline\": true, \"ticks\": \"outside\", \"zeroline\": false, \"zerolinecolor\": \"rgb(36,36,36)\"}}, \"shapedefaults\": {\"fillcolor\": \"black\", \"line\": {\"width\": 0}, \"opacity\": 0.3}, \"ternary\": {\"aaxis\": {\"gridcolor\": \"rgb(232,232,232)\", \"linecolor\": \"rgb(36,36,36)\", \"showgrid\": false, \"showline\": true, \"ticks\": \"outside\"}, \"baxis\": {\"gridcolor\": \"rgb(232,232,232)\", \"linecolor\": \"rgb(36,36,36)\", \"showgrid\": false, \"showline\": true, \"ticks\": \"outside\"}, \"bgcolor\": \"white\", \"caxis\": {\"gridcolor\": \"rgb(232,232,232)\", \"linecolor\": \"rgb(36,36,36)\", \"showgrid\": false, \"showline\": true, \"ticks\": \"outside\"}}, \"title\": {\"x\": 0.05}, \"xaxis\": {\"automargin\": true, \"gridcolor\": \"rgb(232,232,232)\", \"linecolor\": \"rgb(36,36,36)\", \"showgrid\": false, \"showline\": true, \"ticks\": \"outside\", \"title\": {\"standoff\": 15}, \"zeroline\": false, \"zerolinecolor\": \"rgb(36,36,36)\"}, \"yaxis\": {\"automargin\": true, \"gridcolor\": \"rgb(232,232,232)\", \"linecolor\": \"rgb(36,36,36)\", \"showgrid\": false, \"showline\": true, \"ticks\": \"outside\", \"title\": {\"standoff\": 15}, \"zeroline\": false, \"zerolinecolor\": \"rgb(36,36,36)\"}}}, \"title\": {\"text\": \"\\u0421omparison of the distribution density in the group Non_fiction and the group\"}, \"xaxis\": {\"anchor\": \"y2\", \"domain\": [0.0, 1.0], \"zeroline\": false}, \"yaxis\": {\"anchor\": \"free\", \"domain\": [0.0, 1], \"position\": 0.0}},                        {\"responsive\": true}                    ).then(function(){\n",
       "                            \n",
       "var gd = document.getElementById('c6824281-52b2-43d1-a2cc-adfb3b57e4f7');\n",
       "var x = new MutationObserver(function (mutations, observer) {{\n",
       "        var display = window.getComputedStyle(gd).display;\n",
       "        if (!display || display === 'none') {{\n",
       "            console.log([gd, 'removed!']);\n",
       "            Plotly.purge(gd);\n",
       "            observer.disconnect();\n",
       "        }}\n",
       "}});\n",
       "\n",
       "// Listen for the removal of the full notebook cells\n",
       "var notebookContainer = gd.closest('#notebook-container');\n",
       "if (notebookContainer) {{\n",
       "    x.observe(notebookContainer, {childList: true});\n",
       "}}\n",
       "\n",
       "// Listen for the clearing of the current output cell\n",
       "var outputEl = gd.closest('.output');\n",
       "if (outputEl) {{\n",
       "    x.observe(outputEl, {childList: true});\n",
       "}}\n",
       "\n",
       "                        })                };                });            </script>        </div>"
      ]
     },
     "metadata": {},
     "output_type": "display_data"
    }
   ],
   "source": [
    "# Create distplot with curve_type set to 'normal'\n",
    "fig_10 = ff.create_distplot([non_fiction, fiction], \n",
    "                         ['Non_fiction', 'Fiction'], \n",
    "                         colors=['salmon', 'gray',],\n",
    "                         bin_size=.1, \n",
    "                         show_rug=False)\n",
    "\n",
    "# Add title\n",
    "fig_10.update_layout(title_text='Сomparison of the distribution density in the group Non_fiction and the group', \n",
    "                     template='simple_white',\n",
    "                     font=dict(family='Arial', size=12, color='black'))\n",
    "fig_10.show()"
   ]
  },
  {
   "cell_type": "markdown",
   "id": "1c7ab536",
   "metadata": {},
   "source": [
    "<div style=\"background: #DCDCDC\">\n",
    "<p style=\"font-family: Arials, sans-serif; font-size: 16px; color: #000000\"><strong>INSIGHT:</strong> As a result of the testing, statistically significant differences were obtained between the compared groups. Based on the results obtained, it can be argued that users evaluate books differently depending on the genre, and based on the median values, readers give preference to works of fiction.</p>\n",
    "</div>"
   ]
  },
  {
   "cell_type": "markdown",
   "id": "d678a9d2",
   "metadata": {},
   "source": [
    "<p id=\"part10\"></p>\n",
    "\n",
    "# <span style=\"font-family: Arials; font-size: 16px; font-style: bold; font-weight: bold; letter-spacing: 3px; color: #FF8C00\">4 FINAL CONCLUSIONS</span>\n",
    "<hr style=\"height: 0.5px; border: 0; background-color: #808080\">\n",
    "\n",
    "<p style=\"font-family: Arials, sans-serif; font-size: 14px; color: rgba(0,0,0,.7)\">In the course of the analysis, it was established which authors receive the highest ratings from readers, which authors have written the most bestsellers, which books receive the most reviews from readers. In addition, it was found that non-fiction literature is becoming more often a bestseller, but users also like fiction more, which is confirmed by the statistically significant results obtained during the testing.</p>"
   ]
  },
  {
   "cell_type": "markdown",
   "id": "5668ff94",
   "metadata": {},
   "source": [
    "<p style=\"font-family: Arials; line-height: 1.5; font-size: 16px; font-weight: bold; letter-spacing: 2px; text-align: center; color: #FF8C00\">THE END \n",
    "of the project</p>\n",
    "    <p style=\"text-align: center\">😊😊😊</p>"
   ]
  }
 ],
 "metadata": {
  "kernelspec": {
   "display_name": "Python 3",
   "language": "python",
   "name": "python3"
  },
  "language_info": {
   "codemirror_mode": {
    "name": "ipython",
    "version": 3
   },
   "file_extension": ".py",
   "mimetype": "text/x-python",
   "name": "python",
   "nbconvert_exporter": "python",
   "pygments_lexer": "ipython3",
   "version": "3.8.8"
  }
 },
 "nbformat": 4,
 "nbformat_minor": 5
}
